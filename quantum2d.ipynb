{
 "cells": [
  {
   "cell_type": "code",
   "execution_count": 1,
   "id": "4f8f6e39-6503-438a-9f3a-1a7ae293f20c",
   "metadata": {},
   "outputs": [
    {
     "name": "stderr",
     "output_type": "stream",
     "text": [
      "2023-10-04 08:38:11.501414: I tensorflow/core/platform/cpu_feature_guard.cc:182] This TensorFlow binary is optimized to use available CPU instructions in performance-critical operations.\n",
      "To enable the following instructions: AVX2 FMA, in other operations, rebuild TensorFlow with the appropriate compiler flags.\n",
      "2023-10-04 08:38:13.266725: W tensorflow/compiler/tf2tensorrt/utils/py_utils.cc:38] TF-TRT Warning: Could not find TensorRT\n"
     ]
    }
   ],
   "source": [
    "from pyalex import (\n",
    "    Works, Authors, Sources,\n",
    "    Institutions, Concepts, Publishers, Funders\n",
    ")\n",
    "import pyalex\n",
    "import pandas as pd\n",
    "import numpy as np\n",
    "pyalex.config.email = \"david@rs21.io\"\n",
    "\n",
    "from flair.embeddings import DocumentPoolEmbeddings\n",
    "from flair.data import Sentence\n",
    "from flair.embeddings import SentenceTransformerDocumentEmbeddings\n",
    "\n",
    "EMBEDDING_MODEL_1 = \"all-mpnet-base-v2\" \n",
    "\n",
    "# this one is also good: all-MiniLM-L6-v2\n",
    "EMBEDDING_MODEL_2 = \"all-MiniLM-L6-v2\"\n",
    "SENT_EMBEDDINGS_1 = SentenceTransformerDocumentEmbeddings(EMBEDDING_MODEL_1)\n",
    "SENT_EMBEDDINGS_2 = SentenceTransformerDocumentEmbeddings(EMBEDDING_MODEL_2)\n",
    "DOC_EMBEDDINGS= DocumentPoolEmbeddings([SENT_EMBEDDINGS_2])\n",
    "\n",
    "import torch\n",
    "from tqdm import tqdm\n",
    "import yake\n",
    "import umap.umap_ as umap\n",
    "from sklearn import metrics\n",
    "import matplotlib.pyplot as plt\n",
    "from sklearn.mixture import GaussianMixture as GMM\n",
    "import altair as alt\n",
    "import math\n",
    "import plotly.express as px\n",
    "import textwrap\n",
    "import streamlit as st"
   ]
  },
  {
   "cell_type": "code",
   "execution_count": 2,
   "id": "33b0f56f-e701-4892-a485-c850bd36f873",
   "metadata": {},
   "outputs": [],
   "source": [
    "import os\n",
    "os.environ[\"OPENAI_API_KEY\"] = st.secrets[\"OPENAI_API_KEY\"]\n"
   ]
  },
  {
   "cell_type": "code",
   "execution_count": 3,
   "id": "022238ce-c3a8-45a0-ae98-5855e56b61ad",
   "metadata": {},
   "outputs": [],
   "source": [
    "search_term = 'quantum computation|quantum computers|quantum sensors|quantum cryptography'\n",
    "quantum_concepts = Concepts().\\\n",
    "search_filter(display_name=search_term).get()"
   ]
  },
  {
   "cell_type": "code",
   "execution_count": 4,
   "id": "6afa8309-d1d2-4bba-9bed-99142e6d5775",
   "metadata": {},
   "outputs": [
    {
     "data": {
      "text/plain": [
       "[('https://openalex.org/C58053490', 'Quantum computer'),\n",
       " ('https://openalex.org/C144901912', 'Quantum cryptography'),\n",
       " ('https://openalex.org/C89143813', 'Quantum sensor'),\n",
       " ('https://openalex.org/C187483380', 'Topological quantum computer'),\n",
       " ('https://openalex.org/C192353077', 'Adiabatic quantum computation'),\n",
       " ('https://openalex.org/C183968085', 'Trapped ion quantum computer'),\n",
       " ('https://openalex.org/C108277079', 'Post-quantum cryptography'),\n",
       " ('https://openalex.org/C19271316', 'One-way quantum computer')]"
      ]
     },
     "execution_count": 4,
     "metadata": {},
     "output_type": "execute_result"
    }
   ],
   "source": [
    "concepts = []\n",
    "for i in range(len(quantum_concepts)):\n",
    "    id_, display_name = quantum_concepts[i]['id'], quantum_concepts[i]['display_name']\n",
    "    concepts.append((id_, display_name))\n",
    "concepts"
   ]
  },
  {
   "cell_type": "code",
   "execution_count": 5,
   "id": "df90bb3a-a5d3-4522-8534-bd70e5ee57fc",
   "metadata": {},
   "outputs": [],
   "source": [
    "def process_works_list(worklist:list):\n",
    "    \"\"\"\n",
    "    transforms the \n",
    "    works list into a dataframe.\n",
    "    \"\"\"\n",
    "    abstracts_dict = {h[\"id\"]:h[\"abstract\"] for h in worklist}\n",
    "    df = pd.DataFrame.from_records(worklist)\n",
    "    del df['abstract_inverted_index']\n",
    "    df['abstract'] = df['id'].map(abstracts_dict)\n",
    "   # df['author_affils'] = df['authorships'].apply(get_authors_and_affils)\n",
    "    return df"
   ]
  },
  {
   "cell_type": "code",
   "execution_count": 7,
   "id": "b8d0885d-43f0-451a-986d-d8a1becce6c5",
   "metadata": {},
   "outputs": [
    {
     "name": "stdout",
     "output_type": "stream",
     "text": [
      "https://openalex.org/C58053490 57804\n",
      "https://openalex.org/C144901912 10687\n",
      "https://openalex.org/C89143813 7810\n",
      "https://openalex.org/C187483380 3295\n",
      "https://openalex.org/C192353077 1997\n",
      "https://openalex.org/C183968085 1175\n",
      "https://openalex.org/C108277079 1252\n",
      "https://openalex.org/C19271316 1531\n"
     ]
    }
   ],
   "source": [
    "for i in range(len(quantum_concepts)):\n",
    "    print(quantum_concepts[i]['id'], quantum_concepts[i]['works_count'])\n"
   ]
  },
  {
   "cell_type": "code",
   "execution_count": 9,
   "id": "a729d007-0f22-4a58-8693-7b95461866d1",
   "metadata": {},
   "outputs": [],
   "source": [
    "def get_concept_frame(concepts_list:list, i:int):\n",
    "    \"\"\"\n",
    "    takes a list of Concepts() results and an index\n",
    "    and forms the pagination object to retrive the \n",
    "    records\n",
    "    \"\"\"\n",
    "    pager = Works().filter(publication_year='>2018',\n",
    "    #concepts={\"id\":f\"{concepts_list[i]['id']}\"}).filter(authorships={\"institutions\":{\"country_code\":\"CN\"}}).\\\n",
    "    #paginate(per_page=200,n_max=None)\n",
    "    concepts={\"id\":f\"{concepts_list[i]['id']}\"}).\\\n",
    "    paginate(per_page=200,n_max=None)\n",
    "    df = pd.DataFrame()\n",
    "    for page in tqdm(pager):\n",
    "        dfpage = process_works_list(page)\n",
    "        df = pd.concat([df, dfpage], ignore_index=True)\n",
    "        df.drop_duplicates(subset='id', keep='first',inplace=True)\n",
    "    return df"
   ]
  },
  {
   "cell_type": "code",
   "execution_count": 11,
   "id": "ff313259-8b3e-44c0-813f-b77db302e914",
   "metadata": {},
   "outputs": [
    {
     "name": "stderr",
     "output_type": "stream",
     "text": [
      "133it [04:14,  1.91s/it]\n",
      "18it [00:36,  2.00s/it]\n",
      "18it [00:41,  2.32s/it]\n",
      "5it [00:08,  1.68s/it]\n",
      "3it [00:05,  1.70s/it]\n",
      "2it [00:03,  1.84s/it]\n",
      "3it [00:06,  2.01s/it]\n",
      "3it [00:04,  1.52s/it]\n"
     ]
    }
   ],
   "source": [
    "frames_list = []\n",
    "for i in range(len(quantum_concepts)):\n",
    "    df = get_concept_frame(quantum_concepts, i)\n",
    "    frames_list.append(df)"
   ]
  },
  {
   "cell_type": "code",
   "execution_count": 12,
   "id": "8bd6d557-cbb8-4b26-b61c-ca3e14fd2a2a",
   "metadata": {},
   "outputs": [
    {
     "name": "stdout",
     "output_type": "stream",
     "text": [
      "(32355, 42)\n"
     ]
    }
   ],
   "source": [
    "dftop = pd.concat(frames_list,\n",
    "                  ignore_index=True)\n",
    "dftop.drop_duplicates(subset='id', keep='first', \n",
    "                      inplace=True)\n",
    "\n",
    "dftop.set_index('id', inplace=True, drop=False)\n",
    "\n",
    "dfall = dftop\n",
    "print(dfall.shape)\n",
    "\n",
    "dfall['content'] = dfall['title'] + \". \" + dfall['abstract']\n",
    "\n",
    "dfrecords = dfall[~dfall['content'].isna()].copy()"
   ]
  },
  {
   "cell_type": "code",
   "execution_count": 13,
   "id": "a6c26528-76e8-4183-9092-b63ea7025246",
   "metadata": {},
   "outputs": [],
   "source": [
    "def get_keywords(text:str, top:int=7, stopwords=None):\n",
    "    \"\"\"\n",
    "    takes a blob of text and \n",
    "    returns the top **top** \n",
    "    keywords as a list\n",
    "    \"\"\"\n",
    "    kw_extractor = yake.KeywordExtractor(top=top, stopwords=stopwords)\n",
    "    keywords = kw_extractor.extract_keywords(text)\n",
    "    return [p[0] for p in keywords]"
   ]
  },
  {
   "cell_type": "code",
   "execution_count": 14,
   "id": "1f426940-3279-4319-a26d-d72fa552d0ee",
   "metadata": {},
   "outputs": [],
   "source": [
    "def get_top_concepts(concept_list:list,score:float=.6):\n",
    "    \"\"\"\n",
    "    takes a list of concept dictionaries \n",
    "    returns the top **top** display_names;\n",
    "    concepts whose score is >= score\n",
    "    \"\"\"\n",
    "    return [c['display_name'] for c in concept_list if c['score'] >= score]\n"
   ]
  },
  {
   "cell_type": "code",
   "execution_count": 15,
   "id": "fa42417b-8e89-48d5-a0d6-787babbe9c19",
   "metadata": {},
   "outputs": [],
   "source": [
    "dfrecords['keywords'] = dfrecords['content'].apply(get_keywords)\n",
    "dfrecords['top_concepts'] = dfrecords['concepts'].apply(get_top_concepts)\n"
   ]
  },
  {
   "cell_type": "code",
   "execution_count": 16,
   "id": "971930e5-d464-49e8-b55e-c1bb36c05ea5",
   "metadata": {},
   "outputs": [],
   "source": [
    "texts = dfrecords['content'].str.lower().values.tolist()\n",
    "#dfrecords.to_csv('jamming.csv')\n"
   ]
  },
  {
   "cell_type": "code",
   "execution_count": 17,
   "id": "a6f5bee5-a93f-43bf-a7d0-9bb5c1d82cc1",
   "metadata": {},
   "outputs": [],
   "source": [
    "def get_content_embeddings(dfrecords:pd.DataFrame) -> pd.DataFrame:\n",
    "    \"\"\"\n",
    "    passes the preprocessed mitigation strings\n",
    "    data through the embedding model to produce the vector\n",
    "    space representation of each pet mitigation.\n",
    "    \"\"\"\n",
    "    sent = Sentence(\"The grass is green.\")\n",
    "    DOC_EMBEDDINGS.embed(sent)\n",
    "    texts = dfrecords[\"content\"].str.lower().values.tolist()\n",
    "    all_descriptions = np.empty((len(texts), len(sent.embedding)))\n",
    "    for i in tqdm(range(len(texts))):\n",
    "        sent = Sentence(texts[i])\n",
    "        DOC_EMBEDDINGS.embed(sent)\n",
    "        all_descriptions[i, :] = sent.embedding.cpu().numpy()\n",
    "        # gc.collect()\n",
    "        torch.cuda.empty_cache()\n",
    "    dfcontentvectors = pd.DataFrame.from_records(all_descriptions, index=dfrecords.index)\n",
    "    return dfcontentvectors"
   ]
  },
  {
   "cell_type": "code",
   "execution_count": 18,
   "id": "c3d7933b-40ed-4cdd-a9c5-531456da080c",
   "metadata": {},
   "outputs": [
    {
     "name": "stderr",
     "output_type": "stream",
     "text": [
      "100%|███████████████████████████████████████████████████████████████████| 28379/28379 [07:06<00:00, 66.60it/s]\n"
     ]
    }
   ],
   "source": [
    "dfcontentvectors = get_content_embeddings(dfrecords)"
   ]
  },
  {
   "cell_type": "code",
   "execution_count": 19,
   "id": "ea17bc7b-950a-49c3-b646-78a7da8ad9df",
   "metadata": {},
   "outputs": [],
   "source": [
    "#umap.UMAP?\n",
    "N_COMPONENTS = 2 # can visualize this way\n",
    "umap_reducer = umap.UMAP(n_components=N_COMPONENTS,\n",
    "                       #  metric='euclidean')\n",
    "                         random_state=1234,\n",
    "                         metric='cosine')  # can experiment with this metric as well as the other \n",
    "# parameters\n",
    "# to see what other literature is in the same information space, we need to keep this umap_reducer \n",
    "# object as well as the gmm model below.\n",
    "\n",
    "# Apply UMAP to the vectorized strings\n",
    "reduced_vectors = umap_reducer.fit_transform(dfcontentvectors.to_numpy())\n",
    "dfreduced = pd.DataFrame.from_records(reduced_vectors, \n",
    "                index=dfcontentvectors.index)\n",
    "dfreduced.columns = ['x','y']"
   ]
  },
  {
   "cell_type": "markdown",
   "id": "588304f9-096a-488b-80b3-635c690051c1",
   "metadata": {},
   "source": [
    "## use hdbscan to cluster"
   ]
  },
  {
   "cell_type": "code",
   "execution_count": 20,
   "id": "45951c34-3be8-4be7-9e8a-9ec96837cf0f",
   "metadata": {},
   "outputs": [
    {
     "name": "stdout",
     "output_type": "stream",
     "text": [
      "huggingface/tokenizers: The current process just got forked, after parallelism has already been used. Disabling parallelism to avoid deadlocks...\n",
      "To disable this warning, you can either:\n",
      "\t- Avoid using `tokenizers` before the fork if possible\n",
      "\t- Explicitly set the environment variable TOKENIZERS_PARALLELISM=(true | false)\n",
      "huggingface/tokenizers: The current process just got forked, after parallelism has already been used. Disabling parallelism to avoid deadlocks...\n",
      "To disable this warning, you can either:\n",
      "\t- Avoid using `tokenizers` before the fork if possible\n",
      "\t- Explicitly set the environment variable TOKENIZERS_PARALLELISM=(true | false)\n",
      "huggingface/tokenizers: The current process just got forked, after parallelism has already been used. Disabling parallelism to avoid deadlocks...\n",
      "To disable this warning, you can either:\n",
      "\t- Avoid using `tokenizers` before the fork if possible\n",
      "\t- Explicitly set the environment variable TOKENIZERS_PARALLELISM=(true | false)\n",
      "huggingface/tokenizers: The current process just got forked, after parallelism has already been used. Disabling parallelism to avoid deadlocks...\n",
      "To disable this warning, you can either:\n",
      "\t- Avoid using `tokenizers` before the fork if possible\n",
      "\t- Explicitly set the environment variable TOKENIZERS_PARALLELISM=(true | false)\n",
      "huggingface/tokenizers: The current process just got forked, after parallelism has already been used. Disabling parallelism to avoid deadlocks...\n",
      "To disable this warning, you can either:\n",
      "\t- Avoid using `tokenizers` before the fork if possible\n",
      "\t- Explicitly set the environment variable TOKENIZERS_PARALLELISM=(true | false)\n"
     ]
    }
   ],
   "source": [
    "import hdbscan\n",
    "\n",
    "hdbscan_args = {'min_cluster_size': 15,\n",
    "                            'metric': 'euclidean',\n",
    "                            'cluster_selection_method': 'eom',\n",
    "                            'cluster_selection_epsilon': 0.1\n",
    "               }\n",
    "\n",
    "cluster = hdbscan.HDBSCAN(**hdbscan_args).fit(dfreduced[['x','y']].to_numpy())\n",
    "\n",
    "dfreduced['cluster'] = cluster.labels_\n",
    "dfreduced['probability'] = cluster.probabilities_\n",
    "\n",
    "dfpapers = dfrecords.merge(dfreduced, left_index=True,\n",
    "                           right_index=True)"
   ]
  },
  {
   "cell_type": "code",
   "execution_count": 21,
   "id": "88340a70-8002-4940-b4ee-39ec1549014a",
   "metadata": {},
   "outputs": [
    {
     "data": {
      "text/html": [
       "<div>\n",
       "<style scoped>\n",
       "    .dataframe tbody tr th:only-of-type {\n",
       "        vertical-align: middle;\n",
       "    }\n",
       "\n",
       "    .dataframe tbody tr th {\n",
       "        vertical-align: top;\n",
       "    }\n",
       "\n",
       "    .dataframe thead th {\n",
       "        text-align: right;\n",
       "    }\n",
       "</style>\n",
       "<table border=\"1\" class=\"dataframe\">\n",
       "  <thead>\n",
       "    <tr style=\"text-align: right;\">\n",
       "      <th></th>\n",
       "      <th>id</th>\n",
       "      <th>doi</th>\n",
       "      <th>title</th>\n",
       "      <th>display_name</th>\n",
       "      <th>publication_year</th>\n",
       "      <th>publication_date</th>\n",
       "      <th>ids</th>\n",
       "      <th>language</th>\n",
       "      <th>primary_location</th>\n",
       "      <th>type</th>\n",
       "      <th>...</th>\n",
       "      <th>fulltext_origin</th>\n",
       "      <th>abstract</th>\n",
       "      <th>is_authors_truncated</th>\n",
       "      <th>content</th>\n",
       "      <th>keywords</th>\n",
       "      <th>top_concepts</th>\n",
       "      <th>x</th>\n",
       "      <th>y</th>\n",
       "      <th>cluster</th>\n",
       "      <th>probability</th>\n",
       "    </tr>\n",
       "  </thead>\n",
       "  <tbody>\n",
       "    <tr>\n",
       "      <th>0</th>\n",
       "      <td>https://openalex.org/W3101479050</td>\n",
       "      <td>https://doi.org/10.1038/s41586-019-1666-5</td>\n",
       "      <td>Quantum supremacy using a programmable superco...</td>\n",
       "      <td>Quantum supremacy using a programmable superco...</td>\n",
       "      <td>2019</td>\n",
       "      <td>2019-10-23</td>\n",
       "      <td>{'openalex': 'https://openalex.org/W3101479050...</td>\n",
       "      <td>en</td>\n",
       "      <td>{'is_oa': True, 'landing_page_url': 'https://d...</td>\n",
       "      <td>article</td>\n",
       "      <td>...</td>\n",
       "      <td>NaN</td>\n",
       "      <td>The promise of quantum computers is that certa...</td>\n",
       "      <td>NaN</td>\n",
       "      <td>Quantum supremacy using a programmable superco...</td>\n",
       "      <td>[programmable superconducting processor, Quant...</td>\n",
       "      <td>[Quantum computer, Qubit, Computer science]</td>\n",
       "      <td>1.172795</td>\n",
       "      <td>6.284317</td>\n",
       "      <td>144</td>\n",
       "      <td>0.738122</td>\n",
       "    </tr>\n",
       "    <tr>\n",
       "      <th>1</th>\n",
       "      <td>https://openalex.org/W2798434869</td>\n",
       "      <td>https://doi.org/10.1038/s41586-019-0980-2</td>\n",
       "      <td>Supervised learning with quantum-enhanced feat...</td>\n",
       "      <td>Supervised learning with quantum-enhanced feat...</td>\n",
       "      <td>2019</td>\n",
       "      <td>2019-03-01</td>\n",
       "      <td>{'openalex': 'https://openalex.org/W2798434869...</td>\n",
       "      <td>en</td>\n",
       "      <td>{'is_oa': False, 'landing_page_url': 'https://...</td>\n",
       "      <td>article</td>\n",
       "      <td>...</td>\n",
       "      <td>ngrams</td>\n",
       "      <td>Machine learning and quantum computing are two...</td>\n",
       "      <td>NaN</td>\n",
       "      <td>Supervised learning with quantum-enhanced feat...</td>\n",
       "      <td>[quantum, quantum state space, feature space, ...</td>\n",
       "      <td>[Quantum machine learning, Quantum computer, C...</td>\n",
       "      <td>5.389243</td>\n",
       "      <td>3.557867</td>\n",
       "      <td>69</td>\n",
       "      <td>1.000000</td>\n",
       "    </tr>\n",
       "    <tr>\n",
       "      <th>2</th>\n",
       "      <td>https://openalex.org/W2950805899</td>\n",
       "      <td>https://doi.org/10.1063/1.5089550</td>\n",
       "      <td>A quantum engineer's guide to superconducting ...</td>\n",
       "      <td>A quantum engineer's guide to superconducting ...</td>\n",
       "      <td>2019</td>\n",
       "      <td>2019-06-01</td>\n",
       "      <td>{'openalex': 'https://openalex.org/W2950805899...</td>\n",
       "      <td>en</td>\n",
       "      <td>{'is_oa': True, 'landing_page_url': 'https://d...</td>\n",
       "      <td>article</td>\n",
       "      <td>...</td>\n",
       "      <td>NaN</td>\n",
       "      <td>The aim of this review is to provide quantum e...</td>\n",
       "      <td>NaN</td>\n",
       "      <td>A quantum engineer's guide to superconducting ...</td>\n",
       "      <td>[quantum engineer guide, quantum, engineer gui...</td>\n",
       "      <td>[Qubit, Quantum computer]</td>\n",
       "      <td>-0.324210</td>\n",
       "      <td>8.389152</td>\n",
       "      <td>97</td>\n",
       "      <td>0.904861</td>\n",
       "    </tr>\n",
       "    <tr>\n",
       "      <th>3</th>\n",
       "      <td>https://openalex.org/W3008629526</td>\n",
       "      <td>https://doi.org/10.1364/aop.361502</td>\n",
       "      <td>Advances in quantum cryptography</td>\n",
       "      <td>Advances in quantum cryptography</td>\n",
       "      <td>2020</td>\n",
       "      <td>2020-12-14</td>\n",
       "      <td>{'openalex': 'https://openalex.org/W3008629526...</td>\n",
       "      <td>en</td>\n",
       "      <td>{'is_oa': True, 'landing_page_url': 'https://d...</td>\n",
       "      <td>article</td>\n",
       "      <td>...</td>\n",
       "      <td>NaN</td>\n",
       "      <td>Quantum cryptography is arguably the fastest g...</td>\n",
       "      <td>NaN</td>\n",
       "      <td>Advances in quantum cryptography. Quantum cryp...</td>\n",
       "      <td>[quantum cryptography, quantum, cryptography, ...</td>\n",
       "      <td>[Quantum key distribution, Quantum cryptograph...</td>\n",
       "      <td>-1.940717</td>\n",
       "      <td>0.491852</td>\n",
       "      <td>52</td>\n",
       "      <td>1.000000</td>\n",
       "    </tr>\n",
       "    <tr>\n",
       "      <th>4</th>\n",
       "      <td>https://openalex.org/W2889126882</td>\n",
       "      <td>https://doi.org/10.1103/revmodphys.92.015003</td>\n",
       "      <td>Quantum computational chemistry</td>\n",
       "      <td>Quantum computational chemistry</td>\n",
       "      <td>2020</td>\n",
       "      <td>2020-03-30</td>\n",
       "      <td>{'openalex': 'https://openalex.org/W2889126882...</td>\n",
       "      <td>en</td>\n",
       "      <td>{'is_oa': True, 'landing_page_url': 'https://d...</td>\n",
       "      <td>article</td>\n",
       "      <td>...</td>\n",
       "      <td>NaN</td>\n",
       "      <td>With small quantum computers becoming a realit...</td>\n",
       "      <td>NaN</td>\n",
       "      <td>Quantum computational chemistry. With small qu...</td>\n",
       "      <td>[Quantum, quantum computers, Quantum chemistry...</td>\n",
       "      <td>[]</td>\n",
       "      <td>4.288908</td>\n",
       "      <td>9.031797</td>\n",
       "      <td>-1</td>\n",
       "      <td>0.000000</td>\n",
       "    </tr>\n",
       "  </tbody>\n",
       "</table>\n",
       "<p>5 rows × 49 columns</p>\n",
       "</div>"
      ],
      "text/plain": [
       "                                 id   \n",
       "0  https://openalex.org/W3101479050  \\\n",
       "1  https://openalex.org/W2798434869   \n",
       "2  https://openalex.org/W2950805899   \n",
       "3  https://openalex.org/W3008629526   \n",
       "4  https://openalex.org/W2889126882   \n",
       "\n",
       "                                            doi   \n",
       "0     https://doi.org/10.1038/s41586-019-1666-5  \\\n",
       "1     https://doi.org/10.1038/s41586-019-0980-2   \n",
       "2             https://doi.org/10.1063/1.5089550   \n",
       "3            https://doi.org/10.1364/aop.361502   \n",
       "4  https://doi.org/10.1103/revmodphys.92.015003   \n",
       "\n",
       "                                               title   \n",
       "0  Quantum supremacy using a programmable superco...  \\\n",
       "1  Supervised learning with quantum-enhanced feat...   \n",
       "2  A quantum engineer's guide to superconducting ...   \n",
       "3                   Advances in quantum cryptography   \n",
       "4                    Quantum computational chemistry   \n",
       "\n",
       "                                        display_name  publication_year   \n",
       "0  Quantum supremacy using a programmable superco...              2019  \\\n",
       "1  Supervised learning with quantum-enhanced feat...              2019   \n",
       "2  A quantum engineer's guide to superconducting ...              2019   \n",
       "3                   Advances in quantum cryptography              2020   \n",
       "4                    Quantum computational chemistry              2020   \n",
       "\n",
       "  publication_date                                                ids   \n",
       "0       2019-10-23  {'openalex': 'https://openalex.org/W3101479050...  \\\n",
       "1       2019-03-01  {'openalex': 'https://openalex.org/W2798434869...   \n",
       "2       2019-06-01  {'openalex': 'https://openalex.org/W2950805899...   \n",
       "3       2020-12-14  {'openalex': 'https://openalex.org/W3008629526...   \n",
       "4       2020-03-30  {'openalex': 'https://openalex.org/W2889126882...   \n",
       "\n",
       "  language                                   primary_location     type  ...   \n",
       "0       en  {'is_oa': True, 'landing_page_url': 'https://d...  article  ...  \\\n",
       "1       en  {'is_oa': False, 'landing_page_url': 'https://...  article  ...   \n",
       "2       en  {'is_oa': True, 'landing_page_url': 'https://d...  article  ...   \n",
       "3       en  {'is_oa': True, 'landing_page_url': 'https://d...  article  ...   \n",
       "4       en  {'is_oa': True, 'landing_page_url': 'https://d...  article  ...   \n",
       "\n",
       "  fulltext_origin                                           abstract   \n",
       "0             NaN  The promise of quantum computers is that certa...  \\\n",
       "1          ngrams  Machine learning and quantum computing are two...   \n",
       "2             NaN  The aim of this review is to provide quantum e...   \n",
       "3             NaN  Quantum cryptography is arguably the fastest g...   \n",
       "4             NaN  With small quantum computers becoming a realit...   \n",
       "\n",
       "  is_authors_truncated                                            content   \n",
       "0                  NaN  Quantum supremacy using a programmable superco...  \\\n",
       "1                  NaN  Supervised learning with quantum-enhanced feat...   \n",
       "2                  NaN  A quantum engineer's guide to superconducting ...   \n",
       "3                  NaN  Advances in quantum cryptography. Quantum cryp...   \n",
       "4                  NaN  Quantum computational chemistry. With small qu...   \n",
       "\n",
       "                                            keywords   \n",
       "0  [programmable superconducting processor, Quant...  \\\n",
       "1  [quantum, quantum state space, feature space, ...   \n",
       "2  [quantum engineer guide, quantum, engineer gui...   \n",
       "3  [quantum cryptography, quantum, cryptography, ...   \n",
       "4  [Quantum, quantum computers, Quantum chemistry...   \n",
       "\n",
       "                                        top_concepts         x         y   \n",
       "0        [Quantum computer, Qubit, Computer science]  1.172795  6.284317  \\\n",
       "1  [Quantum machine learning, Quantum computer, C...  5.389243  3.557867   \n",
       "2                          [Qubit, Quantum computer] -0.324210  8.389152   \n",
       "3  [Quantum key distribution, Quantum cryptograph... -1.940717  0.491852   \n",
       "4                                                 []  4.288908  9.031797   \n",
       "\n",
       "  cluster  probability  \n",
       "0     144     0.738122  \n",
       "1      69     1.000000  \n",
       "2      97     0.904861  \n",
       "3      52     1.000000  \n",
       "4      -1     0.000000  \n",
       "\n",
       "[5 rows x 49 columns]"
      ]
     },
     "execution_count": 21,
     "metadata": {},
     "output_type": "execute_result"
    }
   ],
   "source": [
    "#help(dfpapers.explode)\n",
    "del dfpapers['id']\n",
    "dfstart = dfpapers.reset_index()\n",
    "dfstart.head()"
   ]
  },
  {
   "cell_type": "code",
   "execution_count": 22,
   "id": "66e34f9a-11d5-4dc0-ba5c-9c65717e98ff",
   "metadata": {},
   "outputs": [
    {
     "data": {
      "text/plain": [
       "((128285, 49), (28379, 49))"
      ]
     },
     "execution_count": 22,
     "metadata": {},
     "output_type": "execute_result"
    }
   ],
   "source": [
    "dfbig = dfstart.explode(column='authorships')\n",
    "dfbig.shape, dfstart.shape"
   ]
  },
  {
   "cell_type": "code",
   "execution_count": 23,
   "id": "de0fa040-1171-45ff-954c-615fb5673a46",
   "metadata": {},
   "outputs": [],
   "source": [
    "def add_extra_to_authorships(row: pd.DataFrame):\n",
    "    \"\"\"\n",
    "    row[authorships] is a dictionary;\n",
    "    add in the id key to that dictionary\n",
    "    whose value is row[id]\n",
    "    \"\"\"\n",
    "    complete_dict = row[\"authorships\"]\n",
    "   # assert type(complete_dict) == dict\n",
    "    #print(type(complete_dict))\n",
    "    if type(complete_dict) == dict:\n",
    "        complete_dict[\"id\"] = row[\"id\"]\n",
    "        complete_dict[\"x\"] = row[\"x\"]\n",
    "        complete_dict[\"y\"] = row[\"y\"]\n",
    "        complete_dict[\"cluster\"] = row[\"cluster\"]\n",
    "        complete_dict[\"cluster_score\"] = row[\"probability\"]\n",
    "        complete_dict[\"title\"] = row[\"title\"]\n",
    "        complete_dict[\"abstract\"] = row[\"abstract\"]\n",
    "        complete_dict[\"doi\"] = row[\"doi\"]\n",
    "        complete_dict[\"publication_date\"] = row[\"publication_date\"]\n",
    "        complete_dict[\"publication_year\"] = row[\"publication_year\"]\n",
    "        complete_dict[\"grants\"] = row[\"grants\"]\n",
    "        complete_dict[\"locations\"] = row[\"locations\"]\n",
    "        return complete_dict\n",
    "    else:\n",
    "        return row[\"authorships\"]"
   ]
  },
  {
   "cell_type": "code",
   "execution_count": 24,
   "id": "94533471-386e-4c25-805f-ca6cea011fa9",
   "metadata": {},
   "outputs": [],
   "source": [
    "dfbig['big_authorships'] = dfbig.apply(add_extra_to_authorships, axis=1)\n"
   ]
  },
  {
   "cell_type": "code",
   "execution_count": 25,
   "id": "7cd75964-3241-424c-8a87-70e42574db16",
   "metadata": {},
   "outputs": [],
   "source": [
    "#dfbig['authorships'].tolist()\n",
    "bigvals = dfbig['authorships'].tolist()"
   ]
  },
  {
   "cell_type": "code",
   "execution_count": 26,
   "id": "9673505c-55ec-48b5-a8ec-3ab99e9ef341",
   "metadata": {},
   "outputs": [],
   "source": [
    "dictvals = [c for c in bigvals if type(c) != float]"
   ]
  },
  {
   "cell_type": "code",
   "execution_count": 27,
   "id": "33ef85d6-dea9-422f-bf74-e67ed83dc76c",
   "metadata": {},
   "outputs": [],
   "source": [
    "dftriple = pd.json_normalize(dictvals,\n",
    "                  record_path=['institutions'],\n",
    "                  meta=['id','raw_affiliation_string','author_position', 'doi',\n",
    "                        'title','abstract','publication_date', 'publication_year',\n",
    "                        'grants','locations',\n",
    "                        'is_corrresponding','x','y','cluster','cluster_score',\n",
    "                       ['author','id'], ['author', 'display_name'],\n",
    "                       ['author','orcid']],\n",
    "                  errors='ignore',\n",
    "                  sep='_',\n",
    "                  meta_prefix='paper_',\n",
    "                #  record_prefix='author_'\n",
    "                 )"
   ]
  },
  {
   "cell_type": "code",
   "execution_count": 28,
   "id": "a8dd0c67-9653-4502-a498-d0e4cd003f6b",
   "metadata": {},
   "outputs": [],
   "source": [
    "dftopics = dfcontentvectors.copy()\n",
    "dftopics['cluster'] = dfpapers['cluster']\n",
    "dfmeantopics = dftopics.groupby('cluster').mean().copy()\n",
    "reduced_topics = umap_reducer.transform(dfmeantopics.to_numpy())\n",
    "df_reduced_topics = pd.DataFrame.from_records(reduced_topics, \n",
    "                index=dfmeantopics.index)\n",
    "df_reduced_topics.columns = ['x','y']\n",
    "df_reduced_topics['topic'] = df_reduced_topics.index\n",
    "df_reduced_topics.head()\n",
    "\n",
    "def get_cluster_concepts(topic_num:int, n:int=20):\n",
    "    \"\"\"\n",
    "    takes an integer topic_num corresponding to a \n",
    "    given topic number and\n",
    "    returns the list of top n occuring concepts\n",
    "    from the top_concept field\n",
    "    \"\"\"\n",
    "    top_concepts = dfpapers[dfpapers['cluster'] == topic_num]['top_concepts'].tolist()\n",
    "    flat_concepts = [item for sublist in top_concepts for item in sublist]\n",
    "    concepts_dict = {c:flat_concepts.count(c) for c in flat_concepts}\n",
    "    sorted_concepts = sorted(concepts_dict.items(), key=lambda x:x[1], reverse=True)\n",
    "    return [c[0] for c in sorted_concepts][:n]\n",
    "\n",
    "def get_yake_cluster_phrases(topic_num:int, n:int=20):\n",
    "    \"\"\"\n",
    "    takes in an integer n corresponding\n",
    "    to a given topic number and\n",
    "    returns the list of keyphrases (TopicRank method)\n",
    "    \"\"\"\n",
    "    documents = dfpapers[dfpapers['cluster'] == topic_num]['content'].tolist()\n",
    "    topic_input = \". \".join(documents)\n",
    "    #extractor = pke.unsupervised.TextRank()\n",
    "    kw_extractor = yake.KeywordExtractor(top=n, stopwords=None)\n",
    "    keywords = kw_extractor.extract_keywords(topic_input)\n",
    "    #extractor.load_document(input=topic_input,\n",
    "    #                    language='en',\n",
    "    #                    normalization=None)\n",
    "\n",
    "    #extractor.candidate_selection()\n",
    "\n",
    "    #window = 2\n",
    "    #use_stems = False\n",
    "    #extractor.candidate_weighting(window=window,\n",
    "    #                          use_stems=use_stems)\n",
    "    #extractor.candidate_weighting()\n",
    "    #threshold = 0.8\n",
    "   # keyphrases = extractor.get_n_best(n=20, threshold=threshold)\n",
    "    #keyphrases = extractor.get_n_best(n=n)\n",
    "    return [p[0] for p in keywords]\n",
    "\n",
    "wikiconcepts = df_reduced_topics['topic'].apply(get_cluster_concepts)\n",
    "\n",
    "wikikeywords = df_reduced_topics['topic'].apply(get_yake_cluster_phrases)\n",
    "\n",
    "dfpapers['id'] = dfpapers.index\n",
    "dfinfo = dfpapers[['x','y','id','title','abstract','doi','cluster','grants',\n",
    "                   'locations',\n",
    "                 'publication_date','keywords','top_concepts']].copy()\n",
    "\n",
    "centroids = dfinfo.groupby('cluster')[['x','y']].mean().copy()\n",
    "centroids['concepts'] = wikiconcepts\n",
    "centroids['cluster'] = centroids.index\n",
    "centroids['keywords'] = wikikeywords"
   ]
  },
  {
   "cell_type": "code",
   "execution_count": 29,
   "id": "dd922d1b-a556-4cdc-9c50-76d27bccddc2",
   "metadata": {},
   "outputs": [],
   "source": [
    "def wrap_it(x):\n",
    "    return \"<br>\".join(textwrap.wrap(x, width=40))\n",
    "   # return \"<br>\".join(textwrap.wrap(x.replace(r'\\s+', ' '), width=40))"
   ]
  },
  {
   "cell_type": "code",
   "execution_count": 30,
   "id": "f495dbd2-80bc-44b4-8343-05c1eeab4485",
   "metadata": {},
   "outputs": [],
   "source": [
    "centroids['wrapped_keywords'] = centroids['keywords'].apply(str).apply(wrap_it)\n",
    "centroids['wrapped_concepts'] = centroids['concepts'].apply(str).apply(wrap_it)"
   ]
  },
  {
   "cell_type": "code",
   "execution_count": 31,
   "id": "f325723e-b8a9-4dc8-a2e4-a07247057ca6",
   "metadata": {},
   "outputs": [],
   "source": [
    "centroids.to_pickle('quantumcentroids2d.pkl')"
   ]
  },
  {
   "cell_type": "code",
   "execution_count": 32,
   "id": "2281dbc6-2c9d-49bf-9c23-8527131ab105",
   "metadata": {},
   "outputs": [],
   "source": [
    "dftriple.to_pickle('quantumdftriple2d.pkl')"
   ]
  },
  {
   "cell_type": "code",
   "execution_count": 33,
   "id": "13f924f8-5480-4f73-ab87-03d95ce22608",
   "metadata": {},
   "outputs": [],
   "source": [
    "def get_affils_cluster_sort(dc:pd.DataFrame, cl:int):\n",
    "    \"\"\"\n",
    "    restricts the dataframe dc to cluster value cl\n",
    "    and returns the results grouped by id, ror sorted\n",
    "    by the some of probablity descending\n",
    "    \"\"\"\n",
    "    dg = dc[dc['paper_cluster'] == cl].copy()\n",
    "    print(cl)\n",
    "    dv = dg.groupby(['id','display_name','country_code',\n",
    "                     'type'])['paper_cluster_score'].sum().to_frame()\n",
    "    dv.sort_values('paper_cluster_score', ascending=False, inplace=True)\n",
    "    kw = centroids[centroids.cluster == cl]['keywords'].iloc[0]\n",
    "    return dv, kw\n"
   ]
  },
  {
   "cell_type": "code",
   "execution_count": 35,
   "id": "0324dc9f-91a5-48f1-aae1-d7eb0f4f822e",
   "metadata": {},
   "outputs": [
    {
     "name": "stdout",
     "output_type": "stream",
     "text": [
      "1\n",
      "['Quantum Computer Music', 'Quantum', 'Quantum computing', 'Quantum Computer', 'Computer Music', 'Music', 'quantum computer hardware', 'quantum music generation', 'quantum music', 'Computer', 'quantum algorithms', 'computing', 'algorithmic computer music', 'quantum hardware', 'rule-based music composition', 'quantum computing tools', 'computers', 'Rule-based Algorithmic Music', 'algorithmic rule-based music', 'quantum circuit']\n"
     ]
    },
    {
     "data": {
      "text/html": [
       "<div>\n",
       "<style scoped>\n",
       "    .dataframe tbody tr th:only-of-type {\n",
       "        vertical-align: middle;\n",
       "    }\n",
       "\n",
       "    .dataframe tbody tr th {\n",
       "        vertical-align: top;\n",
       "    }\n",
       "\n",
       "    .dataframe thead th {\n",
       "        text-align: right;\n",
       "    }\n",
       "</style>\n",
       "<table border=\"1\" class=\"dataframe\">\n",
       "  <thead>\n",
       "    <tr style=\"text-align: right;\">\n",
       "      <th></th>\n",
       "      <th></th>\n",
       "      <th></th>\n",
       "      <th></th>\n",
       "      <th>paper_cluster_score</th>\n",
       "    </tr>\n",
       "    <tr>\n",
       "      <th>id</th>\n",
       "      <th>display_name</th>\n",
       "      <th>country_code</th>\n",
       "      <th>type</th>\n",
       "      <th></th>\n",
       "    </tr>\n",
       "  </thead>\n",
       "  <tbody>\n",
       "    <tr>\n",
       "      <th>https://openalex.org/I897542642</th>\n",
       "      <th>University of Plymouth</th>\n",
       "      <th>GB</th>\n",
       "      <th>education</th>\n",
       "      <td>7.121402</td>\n",
       "    </tr>\n",
       "    <tr>\n",
       "      <th>https://openalex.org/I36234482</th>\n",
       "      <th>University of Bristol</th>\n",
       "      <th>GB</th>\n",
       "      <th>education</th>\n",
       "      <td>2.0</td>\n",
       "    </tr>\n",
       "    <tr>\n",
       "      <th>https://openalex.org/I4210161128</th>\n",
       "      <th>Bristol Robotics Laboratory</th>\n",
       "      <th>GB</th>\n",
       "      <th>facility</th>\n",
       "      <td>2.0</td>\n",
       "    </tr>\n",
       "    <tr>\n",
       "      <th>https://openalex.org/I51601045</th>\n",
       "      <th>University of Bath</th>\n",
       "      <th>GB</th>\n",
       "      <th>education</th>\n",
       "      <td>1.0</td>\n",
       "    </tr>\n",
       "  </tbody>\n",
       "</table>\n",
       "</div>"
      ],
      "text/plain": [
       "                                                                                    paper_cluster_score\n",
       "id                               display_name                country_code type                         \n",
       "https://openalex.org/I897542642  University of Plymouth      GB           education            7.121402\n",
       "https://openalex.org/I36234482   University of Bristol       GB           education                 2.0\n",
       "https://openalex.org/I4210161128 Bristol Robotics Laboratory GB           facility                  2.0\n",
       "https://openalex.org/I51601045   University of Bath          GB           education                 1.0"
      ]
     },
     "execution_count": 35,
     "metadata": {},
     "output_type": "execute_result"
    }
   ],
   "source": [
    "dv84, kw84 = get_affils_cluster_sort(dftriple, 1)\n",
    "print(kw84)\n",
    "dv84.head(10)"
   ]
  },
  {
   "cell_type": "code",
   "execution_count": 36,
   "id": "081fe4f7-bf7e-40dd-9eca-4f2ec194357c",
   "metadata": {},
   "outputs": [],
   "source": [
    "dfinfo = dfpapers[['x','y','id','title','abstract', 'doi','cluster','probability',\n",
    "                 'publication_date','grants','locations',\n",
    "                   'keywords','top_concepts']].copy()"
   ]
  },
  {
   "cell_type": "code",
   "execution_count": 37,
   "id": "0f2630ff-97f5-4fc6-9193-ab0b47b2927d",
   "metadata": {},
   "outputs": [],
   "source": [
    "pap_affils_dict = dftriple.groupby('paper_id')['paper_raw_affiliation_string'].\\\n",
    "apply(lambda x: ' | '.join(x.tolist()))\n",
    "\n",
    "#pap_authors_dict = dftriple.groupby('paper_id')['paper_author_display_name'].\\\n",
    "#apply(lambda x: ' | '.join(x.tolist()))"
   ]
  },
  {
   "cell_type": "code",
   "execution_count": 38,
   "id": "4c412c7b-f81a-4c59-b844-181e0b60c1bc",
   "metadata": {},
   "outputs": [],
   "source": [
    "pap_authors_dict = dftriple.groupby('paper_id')['paper_author_display_name'].apply(lambda x: x.values)"
   ]
  },
  {
   "cell_type": "code",
   "execution_count": 39,
   "id": "401c62e0-90e0-4d21-beee-b560c9971d63",
   "metadata": {},
   "outputs": [],
   "source": [
    "dfinfo['affil_list'] = pap_affils_dict\n",
    "dfinfo['author_list'] = pap_authors_dict"
   ]
  },
  {
   "cell_type": "code",
   "execution_count": 40,
   "id": "6e371a80-6725-408f-afce-9a90f7c41b6d",
   "metadata": {},
   "outputs": [],
   "source": [
    "dfinfo['affil_list'] = dftriple.groupby('paper_id')['paper_raw_affiliation_string'].\\\n",
    "apply(lambda x: x.tolist())"
   ]
  },
  {
   "cell_type": "code",
   "execution_count": 41,
   "id": "a9964aea-d85e-4db7-bf22-39e046288004",
   "metadata": {},
   "outputs": [],
   "source": [
    "dfinfo['author_list'] =  dftriple.groupby('paper_id')['paper_author_display_name'].\\\n",
    "apply(lambda x: x.tolist())"
   ]
  },
  {
   "cell_type": "code",
   "execution_count": 42,
   "id": "1cb8544b-2ec3-4b47-9862-d017f2f3edb0",
   "metadata": {},
   "outputs": [],
   "source": [
    "dfinfo['wrapped_affil_list'] = dfinfo['affil_list'].apply(str).apply(wrap_it)\n",
    "dfinfo['wrapped_author_list'] = dfinfo['author_list'].apply(str).apply(wrap_it)"
   ]
  },
  {
   "cell_type": "code",
   "execution_count": 43,
   "id": "65607dd3-6b9f-4315-8f10-ed5256941e1a",
   "metadata": {},
   "outputs": [],
   "source": [
    "dfinfo['wrapped_keywords'] = dfinfo['keywords'].apply(str).apply(wrap_it)\n"
   ]
  },
  {
   "cell_type": "code",
   "execution_count": 44,
   "id": "94e07135-c6b8-4461-bbb6-d21f153b269c",
   "metadata": {},
   "outputs": [],
   "source": [
    "def get_source_name(loc_list):\n",
    "    \"\"\"\n",
    "    grab the first item in the list;\n",
    "    retturn the display name\n",
    "    \"\"\"\n",
    "    try:\n",
    "        primary = loc_list[0]\n",
    "        return primary[\"source\"][\"display_name\"]\n",
    "    except:\n",
    "        return None\n",
    "\n",
    "def get_source_type(loc_list):\n",
    "    \"\"\"\n",
    "    grab the first item in the list;\n",
    "    return the source type\n",
    "    \"\"\"\n",
    "    try:\n",
    "        primary = loc_list[0]\n",
    "        return primary[\"source\"][\"type\"]\n",
    "    except:\n",
    "        return None"
   ]
  },
  {
   "cell_type": "code",
   "execution_count": 45,
   "id": "b93af4d2-8b5c-4198-899f-2db9db1da8f0",
   "metadata": {},
   "outputs": [],
   "source": [
    "dfinfo[\"source\"] = dfinfo[\"locations\"].apply(get_source_name)\n",
    "dfinfo[\"source_type\"] = dfinfo[\"locations\"].apply(get_source_type)"
   ]
  },
  {
   "cell_type": "code",
   "execution_count": 46,
   "id": "6d467c05-a334-42c9-b56e-af3825bfe513",
   "metadata": {},
   "outputs": [],
   "source": [
    "dfinfo.to_pickle('quantumdfinfo2d.pkl')"
   ]
  },
  {
   "cell_type": "code",
   "execution_count": 47,
   "id": "bc77a141-1a45-4eb3-82d8-017ffd1a34f1",
   "metadata": {},
   "outputs": [],
   "source": [
    "def get_funder_names(funder_list):\n",
    "    \"\"\"\n",
    "    funder_list is a list of dictionaries\n",
    "    with three keys; return the list of \n",
    "    unique **funder_display_name**\n",
    "    values\n",
    "    \"\"\"\n",
    "    try:\n",
    "        funder_names = list(set([f['funder_display_name'] for f in funder_list]))\n",
    "        return funder_names    \n",
    "    except:\n",
    "        return []"
   ]
  },
  {
   "cell_type": "code",
   "execution_count": 48,
   "id": "f15496a0-f6ba-402f-ad5c-8eb4bbe4c080",
   "metadata": {},
   "outputs": [],
   "source": [
    "dftriple[\"source\"] = dftriple[\"paper_locations\"].apply(get_source_name)\n",
    "dftriple[\"source_type\"] = dftriple[\"paper_locations\"].apply(get_source_type)\n",
    "dftriple[\"funder_list\"] = dftriple[\"paper_grants\"].apply(get_funder_names)"
   ]
  },
  {
   "cell_type": "code",
   "execution_count": 49,
   "id": "e2fdadf5-824e-4a5b-9c64-01b9c506ae9f",
   "metadata": {},
   "outputs": [],
   "source": [
    "dftriple.to_pickle('quantumdftriple2d.pkl')\n"
   ]
  },
  {
   "cell_type": "code",
   "execution_count": 50,
   "id": "35c57c35-9f92-42a7-9129-d6f54f846016",
   "metadata": {},
   "outputs": [],
   "source": [
    "dfinfo[\"funder_list\"] = dfinfo[\"grants\"].apply(get_funder_names)\n",
    "dfinfo[\"wrapped_funder_list\"] = dfinfo[\"funder_list\"].apply(str).apply(wrap_it)"
   ]
  },
  {
   "cell_type": "code",
   "execution_count": 51,
   "id": "0e96164f-f944-473e-b635-f7a83c1679aa",
   "metadata": {},
   "outputs": [],
   "source": [
    "dfinfo.to_pickle('quantumdfinfo2d.pkl')"
   ]
  },
  {
   "cell_type": "code",
   "execution_count": 52,
   "id": "9b109a50-6314-4699-8ddf-dbed1701aae4",
   "metadata": {},
   "outputs": [],
   "source": [
    "kw_dict = dfinfo['keywords'].to_dict()"
   ]
  },
  {
   "cell_type": "code",
   "execution_count": 53,
   "id": "a3399249-238b-443a-b1f0-057d276cc9d3",
   "metadata": {},
   "outputs": [
    {
     "data": {
      "text/plain": [
       "(list, 1540)"
      ]
     },
     "execution_count": 53,
     "metadata": {},
     "output_type": "execute_result"
    }
   ],
   "source": [
    "sources_list = dftriple['source'].unique().tolist()\n",
    "type(sources_list), len(sources_list)"
   ]
  },
  {
   "cell_type": "code",
   "execution_count": 54,
   "id": "9fe0fae1-e8ee-45b1-8ce9-e5cf58a1e845",
   "metadata": {},
   "outputs": [],
   "source": [
    "def get_source_json(s:str):\n",
    "    \"\"\"\n",
    "    s is an openalex Sources display_name\n",
    "    return that Sources object\n",
    "    \"\"\"\n",
    "    source_json = Sources().search_filter(display_name = s).get()\n",
    "    a = source_json[0]['type']\n",
    "    if \"homepage_url\" in source_json[0] and source_json[0]['homepage_url']:\n",
    "        print(f\"{s} has homepage_url and type {source_json[0]['type']}\")\n",
    "        return source_json[0][\"homepage_url\"]\n",
    "    else:\n",
    "        return None"
   ]
  },
  {
   "cell_type": "code",
   "execution_count": 55,
   "id": "74bab39d-de04-4975-94f3-57a1f3f7709e",
   "metadata": {},
   "outputs": [
    {
     "name": "stdout",
     "output_type": "stream",
     "text": [
      "Nature has homepage_url and type journal\n"
     ]
    },
    {
     "data": {
      "text/plain": [
       "'https://www.nature.com/nature/'"
      ]
     },
     "execution_count": 55,
     "metadata": {},
     "output_type": "execute_result"
    }
   ],
   "source": [
    "sj0 = get_source_json(sources_list[0])\n",
    "sj0"
   ]
  },
  {
   "cell_type": "code",
   "execution_count": 56,
   "id": "061df4ea-deda-462d-ab8d-9e31fe932602",
   "metadata": {},
   "outputs": [],
   "source": [
    "def get_display_page_dict(sl:list):\n",
    "    \"\"\"\n",
    "    sl is a list of Sources display_name values\n",
    "    returns the dictionary mapping\n",
    "    display_names with homepage_url values.\"\"\"\n",
    "    mapping_dict = dict()\n",
    "    for s in tqdm(sl):\n",
    "        try:\n",
    "            mapping_dict[s] = get_source_json(s)\n",
    "        except:\n",
    "            pass\n",
    "    return mapping_dict"
   ]
  },
  {
   "cell_type": "code",
   "execution_count": 57,
   "id": "5bd1c73a-e991-4c4b-b583-45a9f8cb1ad2",
   "metadata": {},
   "outputs": [
    {
     "name": "stderr",
     "output_type": "stream",
     "text": [
      "  0%|                                                                        | 1/1540 [00:00<15:29,  1.66it/s]"
     ]
    },
    {
     "name": "stdout",
     "output_type": "stream",
     "text": [
      "Nature has homepage_url and type journal\n"
     ]
    },
    {
     "name": "stderr",
     "output_type": "stream",
     "text": [
      "  0%|                                                                        | 2/1540 [00:01<13:36,  1.88it/s]"
     ]
    },
    {
     "name": "stdout",
     "output_type": "stream",
     "text": [
      "Applied physics reviews has homepage_url and type journal\n"
     ]
    },
    {
     "name": "stderr",
     "output_type": "stream",
     "text": [
      "  0%|▏                                                                       | 3/1540 [00:01<13:21,  1.92it/s]"
     ]
    },
    {
     "name": "stdout",
     "output_type": "stream",
     "text": [
      "Advances in Optics and Photonics has homepage_url and type journal\n"
     ]
    },
    {
     "name": "stderr",
     "output_type": "stream",
     "text": [
      "  0%|▏                                                                       | 4/1540 [00:02<12:40,  2.02it/s]"
     ]
    },
    {
     "name": "stdout",
     "output_type": "stream",
     "text": [
      "Reviews of Modern Physics has homepage_url and type journal\n"
     ]
    },
    {
     "name": "stderr",
     "output_type": "stream",
     "text": [
      "  0%|▏                                                                       | 5/1540 [00:02<12:19,  2.08it/s]"
     ]
    },
    {
     "name": "stdout",
     "output_type": "stream",
     "text": [
      "Nature Reviews Physics has homepage_url and type journal\n"
     ]
    },
    {
     "name": "stderr",
     "output_type": "stream",
     "text": [
      "  0%|▎                                                                       | 6/1540 [00:03<13:17,  1.92it/s]"
     ]
    },
    {
     "name": "stdout",
     "output_type": "stream",
     "text": [
      "Chemical Reviews has homepage_url and type journal\n"
     ]
    },
    {
     "name": "stderr",
     "output_type": "stream",
     "text": [
      "  0%|▎                                                                       | 7/1540 [00:03<13:02,  1.96it/s]"
     ]
    },
    {
     "name": "stdout",
     "output_type": "stream",
     "text": [
      "Annual Review of Condensed Matter Physics has homepage_url and type journal\n"
     ]
    },
    {
     "name": "stderr",
     "output_type": "stream",
     "text": [
      "  1%|▎                                                                       | 8/1540 [00:04<12:40,  2.01it/s]"
     ]
    },
    {
     "name": "stdout",
     "output_type": "stream",
     "text": [
      "Nature Photonics has homepage_url and type journal\n"
     ]
    },
    {
     "name": "stderr",
     "output_type": "stream",
     "text": [
      "  1%|▍                                                                       | 9/1540 [00:04<12:43,  2.00it/s]"
     ]
    },
    {
     "name": "stdout",
     "output_type": "stream",
     "text": [
      "Journal of Chemical Physics has homepage_url and type journal\n"
     ]
    },
    {
     "name": "stderr",
     "output_type": "stream",
     "text": [
      "  1%|▍                                                                      | 10/1540 [00:05<12:38,  2.02it/s]"
     ]
    },
    {
     "name": "stdout",
     "output_type": "stream",
     "text": [
      "Physical Review Letters has homepage_url and type journal\n"
     ]
    },
    {
     "name": "stderr",
     "output_type": "stream",
     "text": [
      "  1%|▌                                                                      | 11/1540 [00:05<12:41,  2.01it/s]"
     ]
    },
    {
     "name": "stdout",
     "output_type": "stream",
     "text": [
      "Nature Physics has homepage_url and type journal\n"
     ]
    },
    {
     "name": "stderr",
     "output_type": "stream",
     "text": [
      "  1%|▌                                                                      | 12/1540 [00:06<13:12,  1.93it/s]"
     ]
    },
    {
     "name": "stdout",
     "output_type": "stream",
     "text": [
      "Nature Chemistry has homepage_url and type journal\n"
     ]
    },
    {
     "name": "stderr",
     "output_type": "stream",
     "text": [
      "  1%|▌                                                                      | 13/1540 [00:06<13:40,  1.86it/s]"
     ]
    },
    {
     "name": "stdout",
     "output_type": "stream",
     "text": [
      "Physical review has homepage_url and type journal\n"
     ]
    },
    {
     "name": "stderr",
     "output_type": "stream",
     "text": [
      "  1%|▋                                                                      | 14/1540 [00:07<13:12,  1.93it/s]"
     ]
    },
    {
     "name": "stdout",
     "output_type": "stream",
     "text": [
      "Nature Communications has homepage_url and type journal\n"
     ]
    },
    {
     "name": "stderr",
     "output_type": "stream",
     "text": [
      "  1%|▋                                                                      | 15/1540 [00:07<13:09,  1.93it/s]"
     ]
    },
    {
     "name": "stdout",
     "output_type": "stream",
     "text": [
      "Quantum science and technology has homepage_url and type journal\n"
     ]
    },
    {
     "name": "stderr",
     "output_type": "stream",
     "text": [
      "  1%|▋                                                                      | 16/1540 [00:08<12:34,  2.02it/s]"
     ]
    },
    {
     "name": "stdout",
     "output_type": "stream",
     "text": [
      "Applied Physics Express has homepage_url and type journal\n"
     ]
    },
    {
     "name": "stderr",
     "output_type": "stream",
     "text": [
      "  1%|▊                                                                      | 17/1540 [00:08<12:09,  2.09it/s]"
     ]
    },
    {
     "name": "stdout",
     "output_type": "stream",
     "text": [
      "IEEE Transactions on Instrumentation and Measurement has homepage_url and type journal\n"
     ]
    },
    {
     "name": "stderr",
     "output_type": "stream",
     "text": [
      "  1%|▊                                                                      | 18/1540 [00:09<12:10,  2.08it/s]"
     ]
    },
    {
     "name": "stdout",
     "output_type": "stream",
     "text": [
      "Algorithms has homepage_url and type journal\n"
     ]
    },
    {
     "name": "stderr",
     "output_type": "stream",
     "text": [
      "  1%|▉                                                                      | 19/1540 [00:09<12:43,  1.99it/s]"
     ]
    },
    {
     "name": "stdout",
     "output_type": "stream",
     "text": [
      "Physical Review X has homepage_url and type journal\n"
     ]
    },
    {
     "name": "stderr",
     "output_type": "stream",
     "text": [
      "  1%|▉                                                                      | 20/1540 [00:10<12:24,  2.04it/s]"
     ]
    },
    {
     "name": "stdout",
     "output_type": "stream",
     "text": [
      "European Physical Journal D has homepage_url and type journal\n"
     ]
    },
    {
     "name": "stderr",
     "output_type": "stream",
     "text": [
      "  1%|▉                                                                      | 21/1540 [00:10<12:16,  2.06it/s]"
     ]
    },
    {
     "name": "stdout",
     "output_type": "stream",
     "text": [
      "Advanced quantum technologies has homepage_url and type journal\n"
     ]
    },
    {
     "name": "stderr",
     "output_type": "stream",
     "text": [
      "  1%|█                                                                      | 22/1540 [00:11<15:09,  1.67it/s]"
     ]
    },
    {
     "name": "stdout",
     "output_type": "stream",
     "text": [
      "Science has homepage_url and type journal\n"
     ]
    },
    {
     "name": "stderr",
     "output_type": "stream",
     "text": [
      "  1%|█                                                                      | 23/1540 [00:11<14:33,  1.74it/s]"
     ]
    },
    {
     "name": "stdout",
     "output_type": "stream",
     "text": [
      "Journal of Physical Chemistry Letters has homepage_url and type journal\n"
     ]
    },
    {
     "name": "stderr",
     "output_type": "stream",
     "text": [
      "  2%|█                                                                      | 24/1540 [00:12<13:41,  1.85it/s]"
     ]
    },
    {
     "name": "stdout",
     "output_type": "stream",
     "text": [
      "npj Quantum Information has homepage_url and type journal\n"
     ]
    },
    {
     "name": "stderr",
     "output_type": "stream",
     "text": [
      "  2%|█▏                                                                     | 25/1540 [00:12<13:38,  1.85it/s]"
     ]
    },
    {
     "name": "stdout",
     "output_type": "stream",
     "text": [
      "Frontiers in Physics has homepage_url and type journal\n"
     ]
    },
    {
     "name": "stderr",
     "output_type": "stream",
     "text": [
      "  2%|█▏                                                                     | 26/1540 [00:13<12:57,  1.95it/s]"
     ]
    },
    {
     "name": "stdout",
     "output_type": "stream",
     "text": [
      "Journal of the Physical Society of Japan has homepage_url and type journal\n"
     ]
    },
    {
     "name": "stderr",
     "output_type": "stream",
     "text": [
      "  2%|█▏                                                                     | 27/1540 [00:13<13:12,  1.91it/s]"
     ]
    },
    {
     "name": "stdout",
     "output_type": "stream",
     "text": [
      "Journal of the American Chemical Society has homepage_url and type journal\n"
     ]
    },
    {
     "name": "stderr",
     "output_type": "stream",
     "text": [
      "  2%|█▎                                                                     | 28/1540 [00:14<14:47,  1.70it/s]"
     ]
    },
    {
     "name": "stdout",
     "output_type": "stream",
     "text": [
      "Quantum has homepage_url and type journal\n"
     ]
    },
    {
     "name": "stderr",
     "output_type": "stream",
     "text": [
      "  2%|█▎                                                                     | 29/1540 [00:15<14:14,  1.77it/s]"
     ]
    },
    {
     "name": "stdout",
     "output_type": "stream",
     "text": [
      "Physical review research has homepage_url and type journal\n"
     ]
    },
    {
     "name": "stderr",
     "output_type": "stream",
     "text": [
      "  2%|█▍                                                                     | 31/1540 [00:16<13:14,  1.90it/s]"
     ]
    },
    {
     "name": "stdout",
     "output_type": "stream",
     "text": [
      "Reviews in Physics has homepage_url and type journal\n"
     ]
    },
    {
     "name": "stderr",
     "output_type": "stream",
     "text": [
      "  2%|█▍                                                                     | 32/1540 [00:16<12:43,  1.98it/s]"
     ]
    },
    {
     "name": "stdout",
     "output_type": "stream",
     "text": [
      "Reports on Progress in Physics has homepage_url and type journal\n"
     ]
    },
    {
     "name": "stderr",
     "output_type": "stream",
     "text": [
      "  2%|█▌                                                                     | 33/1540 [00:17<12:24,  2.02it/s]"
     ]
    },
    {
     "name": "stdout",
     "output_type": "stream",
     "text": [
      "IEEE Access has homepage_url and type journal\n"
     ]
    },
    {
     "name": "stderr",
     "output_type": "stream",
     "text": [
      "  2%|█▌                                                                     | 34/1540 [00:17<12:17,  2.04it/s]"
     ]
    },
    {
     "name": "stdout",
     "output_type": "stream",
     "text": [
      "IEEE Network has homepage_url and type journal\n"
     ]
    },
    {
     "name": "stderr",
     "output_type": "stream",
     "text": [
      "  2%|█▌                                                                     | 35/1540 [00:18<12:38,  1.98it/s]"
     ]
    },
    {
     "name": "stdout",
     "output_type": "stream",
     "text": [
      "Science Advances has homepage_url and type journal\n"
     ]
    },
    {
     "name": "stderr",
     "output_type": "stream",
     "text": [
      "  2%|█▋                                                                     | 36/1540 [00:18<12:22,  2.03it/s]"
     ]
    },
    {
     "name": "stdout",
     "output_type": "stream",
     "text": [
      "PRX quantum has homepage_url and type journal\n"
     ]
    },
    {
     "name": "stderr",
     "output_type": "stream",
     "text": [
      "  2%|█▋                                                                     | 37/1540 [00:19<12:06,  2.07it/s]"
     ]
    },
    {
     "name": "stdout",
     "output_type": "stream",
     "text": [
      "Nature Reviews Materials has homepage_url and type journal\n"
     ]
    },
    {
     "name": "stderr",
     "output_type": "stream",
     "text": [
      "  2%|█▊                                                                     | 38/1540 [00:19<12:24,  2.02it/s]"
     ]
    },
    {
     "name": "stdout",
     "output_type": "stream",
     "text": [
      "Journal of Physics B has homepage_url and type journal\n"
     ]
    },
    {
     "name": "stderr",
     "output_type": "stream",
     "text": [
      "  3%|█▊                                                                     | 39/1540 [00:20<12:37,  1.98it/s]"
     ]
    },
    {
     "name": "stdout",
     "output_type": "stream",
     "text": [
      "SciPost physics has homepage_url and type journal\n"
     ]
    },
    {
     "name": "stderr",
     "output_type": "stream",
     "text": [
      "  3%|█▊                                                                     | 40/1540 [00:20<12:38,  1.98it/s]"
     ]
    },
    {
     "name": "stdout",
     "output_type": "stream",
     "text": [
      "Internet of Things has homepage_url and type journal\n"
     ]
    },
    {
     "name": "stderr",
     "output_type": "stream",
     "text": [
      "  3%|█▉                                                                     | 41/1540 [00:21<13:38,  1.83it/s]"
     ]
    },
    {
     "name": "stdout",
     "output_type": "stream",
     "text": [
      "New Journal of Physics has homepage_url and type journal\n"
     ]
    },
    {
     "name": "stderr",
     "output_type": "stream",
     "text": [
      "  3%|█▉                                                                     | 42/1540 [00:21<13:24,  1.86it/s]"
     ]
    },
    {
     "name": "stdout",
     "output_type": "stream",
     "text": [
      "Physical review applied has homepage_url and type journal\n"
     ]
    },
    {
     "name": "stderr",
     "output_type": "stream",
     "text": [
      "  3%|█▉                                                                     | 43/1540 [00:22<12:38,  1.97it/s]"
     ]
    },
    {
     "name": "stdout",
     "output_type": "stream",
     "text": [
      "Nature electronics has homepage_url and type journal\n"
     ]
    },
    {
     "name": "stderr",
     "output_type": "stream",
     "text": [
      "  3%|██                                                                     | 44/1540 [00:22<13:36,  1.83it/s]"
     ]
    },
    {
     "name": "stdout",
     "output_type": "stream",
     "text": [
      "Science China Information Sciences has homepage_url and type journal\n"
     ]
    },
    {
     "name": "stderr",
     "output_type": "stream",
     "text": [
      "  3%|██                                                                     | 45/1540 [00:23<13:04,  1.91it/s]"
     ]
    },
    {
     "name": "stdout",
     "output_type": "stream",
     "text": [
      "Scientific Reports has homepage_url and type journal\n"
     ]
    },
    {
     "name": "stderr",
     "output_type": "stream",
     "text": [
      "  3%|██                                                                     | 46/1540 [00:23<12:29,  1.99it/s]"
     ]
    },
    {
     "name": "stdout",
     "output_type": "stream",
     "text": [
      "EPJ Quantum Technology has homepage_url and type journal\n"
     ]
    },
    {
     "name": "stderr",
     "output_type": "stream",
     "text": [
      "  3%|██▏                                                                    | 47/1540 [00:24<12:41,  1.96it/s]"
     ]
    },
    {
     "name": "stdout",
     "output_type": "stream",
     "text": [
      "Nanophotonics has homepage_url and type journal\n"
     ]
    },
    {
     "name": "stderr",
     "output_type": "stream",
     "text": [
      "  3%|██▏                                                                    | 48/1540 [00:24<12:32,  1.98it/s]"
     ]
    },
    {
     "name": "stdout",
     "output_type": "stream",
     "text": [
      "Proceedings of the National Academy of Sciences of the United States of America has homepage_url and type journal\n"
     ]
    },
    {
     "name": "stderr",
     "output_type": "stream",
     "text": [
      "  3%|██▎                                                                    | 49/1540 [00:25<12:16,  2.02it/s]"
     ]
    },
    {
     "name": "stdout",
     "output_type": "stream",
     "text": [
      "AVS quantum science has homepage_url and type journal\n"
     ]
    },
    {
     "name": "stderr",
     "output_type": "stream",
     "text": [
      "  3%|██▎                                                                    | 50/1540 [00:25<12:42,  1.95it/s]"
     ]
    },
    {
     "name": "stdout",
     "output_type": "stream",
     "text": [
      "Quantum Machine Intelligence has homepage_url and type journal\n"
     ]
    },
    {
     "name": "stderr",
     "output_type": "stream",
     "text": [
      "  3%|██▎                                                                    | 51/1540 [00:26<12:20,  2.01it/s]"
     ]
    },
    {
     "name": "stdout",
     "output_type": "stream",
     "text": [
      "IEEE Transactions on Magnetics has homepage_url and type journal\n"
     ]
    },
    {
     "name": "stderr",
     "output_type": "stream",
     "text": [
      "  3%|██▍                                                                    | 52/1540 [00:26<12:18,  2.01it/s]"
     ]
    },
    {
     "name": "stdout",
     "output_type": "stream",
     "text": [
      "Physics Reports has homepage_url and type journal\n"
     ]
    },
    {
     "name": "stderr",
     "output_type": "stream",
     "text": [
      "  3%|██▍                                                                    | 53/1540 [00:27<12:43,  1.95it/s]"
     ]
    },
    {
     "name": "stdout",
     "output_type": "stream",
     "text": [
      "IEEE transactions on quantum engineering has homepage_url and type journal\n"
     ]
    },
    {
     "name": "stderr",
     "output_type": "stream",
     "text": [
      "  4%|██▍                                                                    | 54/1540 [00:27<13:00,  1.90it/s]"
     ]
    },
    {
     "name": "stdout",
     "output_type": "stream",
     "text": [
      "Contemporary Physics has homepage_url and type journal\n"
     ]
    },
    {
     "name": "stderr",
     "output_type": "stream",
     "text": [
      "  4%|██▌                                                                    | 55/1540 [00:28<13:06,  1.89it/s]"
     ]
    },
    {
     "name": "stdout",
     "output_type": "stream",
     "text": [
      "ACM Computing Surveys has homepage_url and type journal\n"
     ]
    },
    {
     "name": "stderr",
     "output_type": "stream",
     "text": [
      "  4%|██▌                                                                    | 56/1540 [00:28<12:15,  2.02it/s]"
     ]
    },
    {
     "name": "stdout",
     "output_type": "stream",
     "text": [
      "Journal of Chemical Theory and Computation has homepage_url and type journal\n"
     ]
    },
    {
     "name": "stderr",
     "output_type": "stream",
     "text": [
      "  4%|██▋                                                                    | 57/1540 [00:29<11:52,  2.08it/s]"
     ]
    },
    {
     "name": "stdout",
     "output_type": "stream",
     "text": [
      "JPhys photonics has homepage_url and type journal\n"
     ]
    },
    {
     "name": "stderr",
     "output_type": "stream",
     "text": [
      "  4%|██▋                                                                    | 58/1540 [00:29<11:44,  2.10it/s]"
     ]
    },
    {
     "name": "stdout",
     "output_type": "stream",
     "text": [
      "IET quantum communication has homepage_url and type journal\n"
     ]
    },
    {
     "name": "stderr",
     "output_type": "stream",
     "text": [
      "  4%|██▋                                                                    | 59/1540 [00:30<11:53,  2.08it/s]"
     ]
    },
    {
     "name": "stdout",
     "output_type": "stream",
     "text": [
      "APL photonics has homepage_url and type journal\n"
     ]
    },
    {
     "name": "stderr",
     "output_type": "stream",
     "text": [
      "  4%|██▊                                                                    | 60/1540 [00:30<12:15,  2.01it/s]"
     ]
    },
    {
     "name": "stdout",
     "output_type": "stream",
     "text": [
      "Nature Nanotechnology has homepage_url and type journal\n"
     ]
    },
    {
     "name": "stderr",
     "output_type": "stream",
     "text": [
      "  4%|██▊                                                                    | 61/1540 [00:31<12:21,  1.99it/s]"
     ]
    },
    {
     "name": "stdout",
     "output_type": "stream",
     "text": [
      "Electronics has homepage_url and type journal\n"
     ]
    },
    {
     "name": "stderr",
     "output_type": "stream",
     "text": [
      "  4%|██▊                                                                    | 62/1540 [00:31<11:46,  2.09it/s]"
     ]
    },
    {
     "name": "stdout",
     "output_type": "stream",
     "text": [
      "Quantum Information Processing has homepage_url and type journal\n"
     ]
    },
    {
     "name": "stderr",
     "output_type": "stream",
     "text": [
      "  4%|██▉                                                                    | 63/1540 [00:32<11:42,  2.10it/s]"
     ]
    },
    {
     "name": "stdout",
     "output_type": "stream",
     "text": [
      "IEEE Internet of Things Journal has homepage_url and type journal\n"
     ]
    },
    {
     "name": "stderr",
     "output_type": "stream",
     "text": [
      "  4%|██▉                                                                    | 64/1540 [00:32<11:57,  2.06it/s]"
     ]
    },
    {
     "name": "stdout",
     "output_type": "stream",
     "text": [
      "Advances in physics: X has homepage_url and type journal\n"
     ]
    },
    {
     "name": "stderr",
     "output_type": "stream",
     "text": [
      "  4%|██▉                                                                    | 65/1540 [00:33<13:17,  1.85it/s]"
     ]
    },
    {
     "name": "stdout",
     "output_type": "stream",
     "text": [
      "Energy has homepage_url and type repository\n"
     ]
    },
    {
     "name": "stderr",
     "output_type": "stream",
     "text": [
      "  4%|███                                                                    | 66/1540 [00:33<12:22,  1.98it/s]"
     ]
    },
    {
     "name": "stdout",
     "output_type": "stream",
     "text": [
      "IEEE Communications Surveys and Tutorials has homepage_url and type journal\n"
     ]
    },
    {
     "name": "stderr",
     "output_type": "stream",
     "text": [
      "  4%|███                                                                    | 67/1540 [00:34<12:17,  2.00it/s]"
     ]
    },
    {
     "name": "stdout",
     "output_type": "stream",
     "text": [
      "Applied Physics Letters has homepage_url and type journal\n"
     ]
    },
    {
     "name": "stderr",
     "output_type": "stream",
     "text": [
      "  4%|███▏                                                                   | 68/1540 [00:34<11:56,  2.06it/s]"
     ]
    },
    {
     "name": "stdout",
     "output_type": "stream",
     "text": [
      "IEEE transactions on emerging topics in computational intelligence has homepage_url and type journal\n"
     ]
    },
    {
     "name": "stderr",
     "output_type": "stream",
     "text": [
      "  4%|███▏                                                                   | 69/1540 [00:35<11:39,  2.10it/s]"
     ]
    },
    {
     "name": "stdout",
     "output_type": "stream",
     "text": [
      "Lecture Notes in Computer Science has homepage_url and type book series\n"
     ]
    },
    {
     "name": "stderr",
     "output_type": "stream",
     "text": [
      "  5%|███▏                                                                   | 70/1540 [00:35<12:37,  1.94it/s]"
     ]
    },
    {
     "name": "stdout",
     "output_type": "stream",
     "text": [
      "JPhys materials has homepage_url and type journal\n"
     ]
    },
    {
     "name": "stderr",
     "output_type": "stream",
     "text": [
      "  5%|███▎                                                                   | 71/1540 [00:36<12:37,  1.94it/s]"
     ]
    },
    {
     "name": "stdout",
     "output_type": "stream",
     "text": [
      "npj computational materials has homepage_url and type journal\n"
     ]
    },
    {
     "name": "stderr",
     "output_type": "stream",
     "text": [
      "  5%|███▎                                                                   | 73/1540 [00:37<12:22,  1.98it/s]"
     ]
    },
    {
     "name": "stdout",
     "output_type": "stream",
     "text": [
      "Science Bulletin has homepage_url and type journal\n"
     ]
    },
    {
     "name": "stderr",
     "output_type": "stream",
     "text": [
      "  5%|███▍                                                                   | 74/1540 [00:37<11:47,  2.07it/s]"
     ]
    },
    {
     "name": "stdout",
     "output_type": "stream",
     "text": [
      "Nature Materials has homepage_url and type journal\n"
     ]
    },
    {
     "name": "stderr",
     "output_type": "stream",
     "text": [
      "  5%|███▍                                                                   | 75/1540 [00:38<11:34,  2.11it/s]"
     ]
    },
    {
     "name": "stdout",
     "output_type": "stream",
     "text": [
      "Optics and Laser Technology has homepage_url and type journal\n"
     ]
    },
    {
     "name": "stderr",
     "output_type": "stream",
     "text": [
      "  5%|███▌                                                                   | 76/1540 [00:38<11:46,  2.07it/s]"
     ]
    },
    {
     "name": "stdout",
     "output_type": "stream",
     "text": [
      "Materials Today Physics has homepage_url and type journal\n"
     ]
    },
    {
     "name": "stderr",
     "output_type": "stream",
     "text": [
      "  5%|███▌                                                                   | 77/1540 [00:39<11:21,  2.15it/s]"
     ]
    },
    {
     "name": "stdout",
     "output_type": "stream",
     "text": [
      "Wiley Interdisciplinary Reviews: Computational Molecular Science has homepage_url and type journal\n"
     ]
    },
    {
     "name": "stderr",
     "output_type": "stream",
     "text": [
      "  5%|███▌                                                                   | 78/1540 [00:39<11:26,  2.13it/s]"
     ]
    },
    {
     "name": "stdout",
     "output_type": "stream",
     "text": [
      "Information Processing and Management has homepage_url and type journal\n"
     ]
    },
    {
     "name": "stderr",
     "output_type": "stream",
     "text": [
      "  5%|███▋                                                                   | 79/1540 [00:40<11:54,  2.04it/s]"
     ]
    },
    {
     "name": "stdout",
     "output_type": "stream",
     "text": [
      "IEEE Transactions on Computer-Aided Design of Integrated Circuits and Systems has homepage_url and type journal\n"
     ]
    },
    {
     "name": "stderr",
     "output_type": "stream",
     "text": [
      "  5%|███▋                                                                   | 80/1540 [00:40<11:30,  2.11it/s]"
     ]
    },
    {
     "name": "stdout",
     "output_type": "stream",
     "text": [
      "Frontiers in ICT has homepage_url and type journal\n"
     ]
    },
    {
     "name": "stderr",
     "output_type": "stream",
     "text": [
      "  5%|███▋                                                                   | 81/1540 [00:41<13:01,  1.87it/s]"
     ]
    },
    {
     "name": "stdout",
     "output_type": "stream",
     "text": [
      "Communications physics has homepage_url and type journal\n"
     ]
    },
    {
     "name": "stderr",
     "output_type": "stream",
     "text": [
      "  5%|███▊                                                                   | 82/1540 [00:41<12:25,  1.96it/s]"
     ]
    },
    {
     "name": "stdout",
     "output_type": "stream",
     "text": [
      "EPL has homepage_url and type journal\n"
     ]
    },
    {
     "name": "stderr",
     "output_type": "stream",
     "text": [
      "  5%|███▊                                                                   | 83/1540 [00:42<12:21,  1.96it/s]"
     ]
    },
    {
     "name": "stdout",
     "output_type": "stream",
     "text": [
      "Optics Express has homepage_url and type journal\n"
     ]
    },
    {
     "name": "stderr",
     "output_type": "stream",
     "text": [
      "  5%|███▊                                                                   | 84/1540 [00:42<11:54,  2.04it/s]"
     ]
    },
    {
     "name": "stdout",
     "output_type": "stream",
     "text": [
      "IACR transactions on cryptographic hardware and embedded systems has homepage_url and type journal\n"
     ]
    },
    {
     "name": "stderr",
     "output_type": "stream",
     "text": [
      "  6%|███▉                                                                   | 85/1540 [00:43<12:09,  2.00it/s]"
     ]
    },
    {
     "name": "stdout",
     "output_type": "stream",
     "text": [
      "Fundamental Research has homepage_url and type journal\n"
     ]
    },
    {
     "name": "stderr",
     "output_type": "stream",
     "text": [
      "  6%|███▉                                                                   | 86/1540 [00:43<12:02,  2.01it/s]"
     ]
    },
    {
     "name": "stdout",
     "output_type": "stream",
     "text": [
      "Natural Computing has homepage_url and type journal\n"
     ]
    },
    {
     "name": "stderr",
     "output_type": "stream",
     "text": [
      "  6%|████                                                                   | 87/1540 [00:44<12:46,  1.89it/s]"
     ]
    },
    {
     "name": "stdout",
     "output_type": "stream",
     "text": [
      "Proceedings of the IEEE has homepage_url and type journal\n"
     ]
    },
    {
     "name": "stderr",
     "output_type": "stream",
     "text": [
      "  6%|████                                                                   | 88/1540 [00:44<12:23,  1.95it/s]"
     ]
    },
    {
     "name": "stdout",
     "output_type": "stream",
     "text": [
      "Nano Letters has homepage_url and type journal\n"
     ]
    },
    {
     "name": "stderr",
     "output_type": "stream",
     "text": [
      "  6%|████▏                                                                  | 91/1540 [00:46<12:12,  1.98it/s]"
     ]
    },
    {
     "name": "stdout",
     "output_type": "stream",
     "text": [
      "Integration has homepage_url and type journal\n"
     ]
    },
    {
     "name": "stderr",
     "output_type": "stream",
     "text": [
      "  6%|████▏                                                                  | 92/1540 [00:46<12:17,  1.96it/s]"
     ]
    },
    {
     "name": "stdout",
     "output_type": "stream",
     "text": [
      "Information Sciences has homepage_url and type journal\n"
     ]
    },
    {
     "name": "stderr",
     "output_type": "stream",
     "text": [
      "  6%|████▎                                                                  | 93/1540 [00:47<11:56,  2.02it/s]"
     ]
    },
    {
     "name": "stdout",
     "output_type": "stream",
     "text": [
      "Philosophical Transactions of the Royal Society A has homepage_url and type journal\n"
     ]
    },
    {
     "name": "stderr",
     "output_type": "stream",
     "text": [
      "  6%|████▎                                                                  | 94/1540 [00:47<11:30,  2.09it/s]"
     ]
    },
    {
     "name": "stdout",
     "output_type": "stream",
     "text": [
      "Applied mathematics and nonlinear sciences has homepage_url and type journal\n"
     ]
    },
    {
     "name": "stderr",
     "output_type": "stream",
     "text": [
      "  6%|████▍                                                                  | 95/1540 [00:48<11:27,  2.10it/s]"
     ]
    },
    {
     "name": "stdout",
     "output_type": "stream",
     "text": [
      "SoftwareX has homepage_url and type journal\n"
     ]
    },
    {
     "name": "stderr",
     "output_type": "stream",
     "text": [
      "  6%|████▍                                                                  | 96/1540 [00:48<11:11,  2.15it/s]"
     ]
    },
    {
     "name": "stdout",
     "output_type": "stream",
     "text": [
      "Computer Physics Communications has homepage_url and type journal\n"
     ]
    },
    {
     "name": "stderr",
     "output_type": "stream",
     "text": [
      "  6%|████▍                                                                  | 97/1540 [00:48<11:39,  2.06it/s]"
     ]
    },
    {
     "name": "stdout",
     "output_type": "stream",
     "text": [
      "Physical Review Materials has homepage_url and type journal\n"
     ]
    },
    {
     "name": "stderr",
     "output_type": "stream",
     "text": [
      "  6%|████▌                                                                  | 98/1540 [00:49<11:31,  2.09it/s]"
     ]
    },
    {
     "name": "stdout",
     "output_type": "stream",
     "text": [
      "Physica A: Statistical Mechanics and its Applications has homepage_url and type journal\n"
     ]
    },
    {
     "name": "stderr",
     "output_type": "stream",
     "text": [
      "  6%|████▌                                                                  | 99/1540 [00:49<11:27,  2.10it/s]"
     ]
    },
    {
     "name": "stdout",
     "output_type": "stream",
     "text": [
      "ACS Nano has homepage_url and type journal\n"
     ]
    },
    {
     "name": "stderr",
     "output_type": "stream",
     "text": [
      "  6%|████▌                                                                 | 100/1540 [00:51<19:50,  1.21it/s]"
     ]
    },
    {
     "name": "stdout",
     "output_type": "stream",
     "text": [
      "Journal of Applied Physics has homepage_url and type journal\n"
     ]
    },
    {
     "name": "stderr",
     "output_type": "stream",
     "text": [
      "  7%|████▌                                                                 | 101/1540 [00:52<18:35,  1.29it/s]"
     ]
    },
    {
     "name": "stdout",
     "output_type": "stream",
     "text": [
      "IEEE Transactions on Intelligent Transportation Systems has homepage_url and type journal\n"
     ]
    },
    {
     "name": "stderr",
     "output_type": "stream",
     "text": [
      "  7%|████▋                                                                 | 102/1540 [00:52<16:52,  1.42it/s]"
     ]
    },
    {
     "name": "stdout",
     "output_type": "stream",
     "text": [
      "Chinese Physics B has homepage_url and type journal\n"
     ]
    },
    {
     "name": "stderr",
     "output_type": "stream",
     "text": [
      "  7%|████▋                                                                 | 103/1540 [00:53<15:09,  1.58it/s]"
     ]
    },
    {
     "name": "stdout",
     "output_type": "stream",
     "text": [
      "Optica has homepage_url and type journal\n"
     ]
    },
    {
     "name": "stderr",
     "output_type": "stream",
     "text": [
      "  7%|████▋                                                                 | 104/1540 [00:53<13:48,  1.73it/s]"
     ]
    },
    {
     "name": "stdout",
     "output_type": "stream",
     "text": [
      "Chemical Society Reviews has homepage_url and type journal\n"
     ]
    },
    {
     "name": "stderr",
     "output_type": "stream",
     "text": [
      "  7%|████▊                                                                 | 105/1540 [00:54<12:57,  1.85it/s]"
     ]
    },
    {
     "name": "stdout",
     "output_type": "stream",
     "text": [
      "IEEE Communications Magazine has homepage_url and type journal\n"
     ]
    },
    {
     "name": "stderr",
     "output_type": "stream",
     "text": [
      "  7%|████▊                                                                 | 107/1540 [00:55<12:01,  1.99it/s]"
     ]
    },
    {
     "name": "stdout",
     "output_type": "stream",
     "text": [
      "Journal of Mathematical Physics has homepage_url and type journal\n"
     ]
    },
    {
     "name": "stderr",
     "output_type": "stream",
     "text": [
      "  7%|████▉                                                                 | 108/1540 [00:55<11:48,  2.02it/s]"
     ]
    },
    {
     "name": "stdout",
     "output_type": "stream",
     "text": [
      "Chemical Science has homepage_url and type journal\n"
     ]
    },
    {
     "name": "stderr",
     "output_type": "stream",
     "text": [
      "  7%|████▉                                                                 | 109/1540 [00:56<12:18,  1.94it/s]"
     ]
    },
    {
     "name": "stdout",
     "output_type": "stream",
     "text": [
      "Research has homepage_url and type repository\n"
     ]
    },
    {
     "name": "stderr",
     "output_type": "stream",
     "text": [
      "  7%|█████                                                                 | 111/1540 [00:57<12:10,  1.95it/s]"
     ]
    },
    {
     "name": "stdout",
     "output_type": "stream",
     "text": [
      "Microprocessors and Microsystems has homepage_url and type journal\n"
     ]
    },
    {
     "name": "stderr",
     "output_type": "stream",
     "text": [
      "  7%|█████                                                                 | 112/1540 [00:57<11:59,  1.98it/s]"
     ]
    },
    {
     "name": "stdout",
     "output_type": "stream",
     "text": [
      "Applied sciences has homepage_url and type journal\n"
     ]
    },
    {
     "name": "stderr",
     "output_type": "stream",
     "text": [
      "  7%|█████▏                                                                | 113/1540 [00:58<11:29,  2.07it/s]"
     ]
    },
    {
     "name": "stdout",
     "output_type": "stream",
     "text": [
      "IEEE journal of microwaves has homepage_url and type journal\n"
     ]
    },
    {
     "name": "stderr",
     "output_type": "stream",
     "text": [
      "  7%|█████▏                                                                | 114/1540 [00:58<11:19,  2.10it/s]"
     ]
    },
    {
     "name": "stdout",
     "output_type": "stream",
     "text": [
      "Accounts of Chemical Research has homepage_url and type journal\n"
     ]
    },
    {
     "name": "stderr",
     "output_type": "stream",
     "text": [
      "  7%|█████▏                                                                | 115/1540 [00:58<11:17,  2.10it/s]"
     ]
    },
    {
     "name": "stdout",
     "output_type": "stream",
     "text": [
      "AAPPS Bulletin has homepage_url and type journal\n"
     ]
    },
    {
     "name": "stderr",
     "output_type": "stream",
     "text": [
      "  8%|█████▎                                                                | 116/1540 [00:59<11:27,  2.07it/s]"
     ]
    },
    {
     "name": "stdout",
     "output_type": "stream",
     "text": [
      "Quantum engineering has homepage_url and type journal\n"
     ]
    },
    {
     "name": "stderr",
     "output_type": "stream",
     "text": [
      "  8%|█████▎                                                                | 117/1540 [00:59<11:21,  2.09it/s]"
     ]
    },
    {
     "name": "stdout",
     "output_type": "stream",
     "text": [
      "Optics and Lasers in Engineering has homepage_url and type journal\n"
     ]
    },
    {
     "name": "stderr",
     "output_type": "stream",
     "text": [
      "  8%|█████▍                                                                | 119/1540 [01:00<11:33,  2.05it/s]"
     ]
    },
    {
     "name": "stdout",
     "output_type": "stream",
     "text": [
      "PLOS ONE has homepage_url and type journal\n"
     ]
    },
    {
     "name": "stderr",
     "output_type": "stream",
     "text": [
      "  8%|█████▍                                                                | 120/1540 [01:01<11:10,  2.12it/s]"
     ]
    },
    {
     "name": "stdout",
     "output_type": "stream",
     "text": [
      "Materials for quantum technology has homepage_url and type journal\n"
     ]
    },
    {
     "name": "stderr",
     "output_type": "stream",
     "text": [
      "  8%|█████▌                                                                | 121/1540 [01:01<11:50,  2.00it/s]"
     ]
    },
    {
     "name": "stdout",
     "output_type": "stream",
     "text": [
      "Nature Methods has homepage_url and type journal\n"
     ]
    },
    {
     "name": "stderr",
     "output_type": "stream",
     "text": [
      "  8%|█████▌                                                                | 122/1540 [01:02<11:36,  2.04it/s]"
     ]
    },
    {
     "name": "stdout",
     "output_type": "stream",
     "text": [
      "Materials Theory has homepage_url and type journal\n"
     ]
    },
    {
     "name": "stderr",
     "output_type": "stream",
     "text": [
      "  8%|█████▌                                                                | 123/1540 [01:02<11:30,  2.05it/s]"
     ]
    },
    {
     "name": "stdout",
     "output_type": "stream",
     "text": [
      "ACM Journal on Emerging Technologies in Computing Systems has homepage_url and type journal\n"
     ]
    },
    {
     "name": "stderr",
     "output_type": "stream",
     "text": [
      "  8%|█████▋                                                                | 124/1540 [01:03<12:11,  1.94it/s]"
     ]
    },
    {
     "name": "stdout",
     "output_type": "stream",
     "text": [
      "Proceedings of the ACM on programming languages has homepage_url and type journal\n"
     ]
    },
    {
     "name": "stderr",
     "output_type": "stream",
     "text": [
      "  8%|█████▋                                                                | 125/1540 [01:03<12:13,  1.93it/s]"
     ]
    },
    {
     "name": "stdout",
     "output_type": "stream",
     "text": [
      "Machine learning: science and technology has homepage_url and type journal\n"
     ]
    },
    {
     "name": "stderr",
     "output_type": "stream",
     "text": [
      "  8%|█████▊                                                                | 127/1540 [01:04<11:37,  2.03it/s]"
     ]
    },
    {
     "name": "stdout",
     "output_type": "stream",
     "text": [
      "Proceedings of the ... AAAI Conference on Artificial Intelligence has homepage_url and type conference\n"
     ]
    },
    {
     "name": "stderr",
     "output_type": "stream",
     "text": [
      "  8%|█████▊                                                                | 129/1540 [01:05<11:41,  2.01it/s]"
     ]
    },
    {
     "name": "stdout",
     "output_type": "stream",
     "text": [
      "Big data mining and analytics has homepage_url and type journal\n"
     ]
    },
    {
     "name": "stderr",
     "output_type": "stream",
     "text": [
      "  8%|█████▉                                                                | 130/1540 [01:06<11:47,  1.99it/s]"
     ]
    },
    {
     "name": "stdout",
     "output_type": "stream",
     "text": [
      "Advanced Materials has homepage_url and type journal\n"
     ]
    },
    {
     "name": "stderr",
     "output_type": "stream",
     "text": [
      "  9%|█████▉                                                                | 131/1540 [01:06<12:01,  1.95it/s]"
     ]
    },
    {
     "name": "stdout",
     "output_type": "stream",
     "text": [
      "IEEE Transactions on Computers has homepage_url and type journal\n"
     ]
    },
    {
     "name": "stderr",
     "output_type": "stream",
     "text": [
      "  9%|██████                                                                | 132/1540 [01:07<11:36,  2.02it/s]"
     ]
    },
    {
     "name": "stdout",
     "output_type": "stream",
     "text": [
      "arXiv (Cornell University) has homepage_url and type repository\n"
     ]
    },
    {
     "name": "stderr",
     "output_type": "stream",
     "text": [
      "  9%|██████                                                                | 133/1540 [01:07<11:55,  1.97it/s]"
     ]
    },
    {
     "name": "stdout",
     "output_type": "stream",
     "text": [
      "Chinese Physics Letters has homepage_url and type journal\n"
     ]
    },
    {
     "name": "stderr",
     "output_type": "stream",
     "text": [
      "  9%|██████                                                                | 134/1540 [01:08<12:38,  1.85it/s]"
     ]
    },
    {
     "name": "stdout",
     "output_type": "stream",
     "text": [
      "Communications of The ACM has homepage_url and type journal\n"
     ]
    },
    {
     "name": "stderr",
     "output_type": "stream",
     "text": [
      "  9%|██████▏                                                               | 135/1540 [01:09<12:01,  1.95it/s]"
     ]
    },
    {
     "name": "stdout",
     "output_type": "stream",
     "text": [
      "Progress of theoretical and experimental physics has homepage_url and type journal\n"
     ]
    },
    {
     "name": "stderr",
     "output_type": "stream",
     "text": [
      "  9%|██████▏                                                               | 136/1540 [01:09<12:21,  1.89it/s]"
     ]
    },
    {
     "name": "stdout",
     "output_type": "stream",
     "text": [
      "Physical Chemistry Chemical Physics has homepage_url and type journal\n"
     ]
    },
    {
     "name": "stderr",
     "output_type": "stream",
     "text": [
      "  9%|██████▏                                                               | 137/1540 [01:10<11:51,  1.97it/s]"
     ]
    },
    {
     "name": "stdout",
     "output_type": "stream",
     "text": [
      "Journal of Physical Chemistry A has homepage_url and type journal\n"
     ]
    },
    {
     "name": "stderr",
     "output_type": "stream",
     "text": [
      "  9%|██████▎                                                               | 138/1540 [01:10<11:25,  2.04it/s]"
     ]
    },
    {
     "name": "stdout",
     "output_type": "stream",
     "text": [
      "Journal of Physics: Condensed Matter has homepage_url and type journal\n"
     ]
    },
    {
     "name": "stderr",
     "output_type": "stream",
     "text": [
      "  9%|██████▎                                                               | 139/1540 [01:11<12:38,  1.85it/s]"
     ]
    },
    {
     "name": "stdout",
     "output_type": "stream",
     "text": [
      "Theoretical Computer Science has homepage_url and type journal\n"
     ]
    },
    {
     "name": "stderr",
     "output_type": "stream",
     "text": [
      "  9%|██████▍                                                               | 141/1540 [01:12<12:12,  1.91it/s]"
     ]
    },
    {
     "name": "stdout",
     "output_type": "stream",
     "text": [
      "IT Professional has homepage_url and type journal\n"
     ]
    },
    {
     "name": "stderr",
     "output_type": "stream",
     "text": [
      "  9%|██████▍                                                               | 142/1540 [01:12<11:48,  1.97it/s]"
     ]
    },
    {
     "name": "stdout",
     "output_type": "stream",
     "text": [
      "European Physical Journal C has homepage_url and type journal\n"
     ]
    },
    {
     "name": "stderr",
     "output_type": "stream",
     "text": [
      "  9%|██████▌                                                               | 143/1540 [01:13<11:41,  1.99it/s]"
     ]
    },
    {
     "name": "stdout",
     "output_type": "stream",
     "text": [
      "Results in Physics has homepage_url and type journal\n"
     ]
    },
    {
     "name": "stderr",
     "output_type": "stream",
     "text": [
      "  9%|██████▌                                                               | 144/1540 [01:13<11:14,  2.07it/s]"
     ]
    },
    {
     "name": "stdout",
     "output_type": "stream",
     "text": [
      "Journal of High Energy Physics has homepage_url and type journal\n"
     ]
    },
    {
     "name": "stderr",
     "output_type": "stream",
     "text": [
      "  9%|██████▋                                                               | 146/1540 [01:14<11:25,  2.03it/s]"
     ]
    },
    {
     "name": "stdout",
     "output_type": "stream",
     "text": [
      "IEEE Journal on Selected Areas in Communications has homepage_url and type journal\n"
     ]
    },
    {
     "name": "stderr",
     "output_type": "stream",
     "text": [
      " 10%|██████▋                                                               | 147/1540 [01:15<11:25,  2.03it/s]"
     ]
    },
    {
     "name": "stdout",
     "output_type": "stream",
     "text": [
      "Journal of Crystal Growth has homepage_url and type journal\n"
     ]
    },
    {
     "name": "stderr",
     "output_type": "stream",
     "text": [
      " 10%|██████▊                                                               | 150/1540 [01:16<10:38,  2.18it/s]"
     ]
    },
    {
     "name": "stdout",
     "output_type": "stream",
     "text": [
      "Advanced Functional Materials has homepage_url and type journal\n"
     ]
    },
    {
     "name": "stderr",
     "output_type": "stream",
     "text": [
      " 10%|██████▊                                                               | 151/1540 [01:17<11:24,  2.03it/s]"
     ]
    },
    {
     "name": "stdout",
     "output_type": "stream",
     "text": [
      "Beilstein Journal of Nanotechnology has homepage_url and type journal\n"
     ]
    },
    {
     "name": "stderr",
     "output_type": "stream",
     "text": [
      " 10%|██████▉                                                               | 152/1540 [01:17<11:01,  2.10it/s]"
     ]
    },
    {
     "name": "stdout",
     "output_type": "stream",
     "text": [
      "IEEE Journal of Selected Topics in Quantum Electronics has homepage_url and type journal\n"
     ]
    },
    {
     "name": "stderr",
     "output_type": "stream",
     "text": [
      " 10%|██████▉                                                               | 153/1540 [01:17<11:04,  2.09it/s]"
     ]
    },
    {
     "name": "stdout",
     "output_type": "stream",
     "text": [
      "ACS central science has homepage_url and type journal\n"
     ]
    },
    {
     "name": "stderr",
     "output_type": "stream",
     "text": [
      " 10%|███████                                                               | 154/1540 [01:18<11:18,  2.04it/s]"
     ]
    },
    {
     "name": "stdout",
     "output_type": "stream",
     "text": [
      "Automatica has homepage_url and type journal\n"
     ]
    },
    {
     "name": "stderr",
     "output_type": "stream",
     "text": [
      " 10%|███████                                                               | 155/1540 [01:18<11:00,  2.10it/s]"
     ]
    },
    {
     "name": "stdout",
     "output_type": "stream",
     "text": [
      "Molecular Physics has homepage_url and type journal\n"
     ]
    },
    {
     "name": "stderr",
     "output_type": "stream",
     "text": [
      " 10%|███████                                                               | 156/1540 [01:19<10:47,  2.14it/s]"
     ]
    },
    {
     "name": "stdout",
     "output_type": "stream",
     "text": [
      "npj quantum materials has homepage_url and type journal\n"
     ]
    },
    {
     "name": "stderr",
     "output_type": "stream",
     "text": [
      " 10%|███████▏                                                              | 157/1540 [01:19<10:50,  2.13it/s]"
     ]
    },
    {
     "name": "stdout",
     "output_type": "stream",
     "text": [
      "Nature Machine Intelligence has homepage_url and type journal\n"
     ]
    },
    {
     "name": "stderr",
     "output_type": "stream",
     "text": [
      " 10%|███████▏                                                              | 158/1540 [01:20<11:18,  2.04it/s]"
     ]
    },
    {
     "name": "stdout",
     "output_type": "stream",
     "text": [
      "Photonics Research has homepage_url and type journal\n"
     ]
    },
    {
     "name": "stderr",
     "output_type": "stream",
     "text": [
      " 10%|███████▏                                                              | 159/1540 [01:20<10:59,  2.09it/s]"
     ]
    },
    {
     "name": "stdout",
     "output_type": "stream",
     "text": [
      "IACR transaction on symmetric cryptology has homepage_url and type journal\n"
     ]
    },
    {
     "name": "stderr",
     "output_type": "stream",
     "text": [
      " 10%|███████▎                                                              | 160/1540 [01:21<11:06,  2.07it/s]"
     ]
    },
    {
     "name": "stdout",
     "output_type": "stream",
     "text": [
      "Journal of Physics G has homepage_url and type journal\n"
     ]
    },
    {
     "name": "stderr",
     "output_type": "stream",
     "text": [
      " 10%|███████▎                                                              | 161/1540 [01:21<11:40,  1.97it/s]"
     ]
    },
    {
     "name": "stdout",
     "output_type": "stream",
     "text": [
      "IEEE Transactions on Parallel and Distributed Systems has homepage_url and type journal\n"
     ]
    },
    {
     "name": "stderr",
     "output_type": "stream",
     "text": [
      " 11%|███████▎                                                              | 162/1540 [01:22<12:08,  1.89it/s]"
     ]
    },
    {
     "name": "stdout",
     "output_type": "stream",
     "text": [
      "Journal of Chemical Information and Modeling has homepage_url and type journal\n"
     ]
    },
    {
     "name": "stderr",
     "output_type": "stream",
     "text": [
      " 11%|███████▍                                                              | 164/1540 [01:23<11:26,  2.01it/s]"
     ]
    },
    {
     "name": "stdout",
     "output_type": "stream",
     "text": [
      "IEEE Microwave Magazine has homepage_url and type journal\n"
     ]
    },
    {
     "name": "stderr",
     "output_type": "stream",
     "text": [
      " 11%|███████▌                                                              | 165/1540 [01:23<11:06,  2.06it/s]"
     ]
    },
    {
     "name": "stdout",
     "output_type": "stream",
     "text": [
      "Optics Letters has homepage_url and type journal\n"
     ]
    },
    {
     "name": "stderr",
     "output_type": "stream",
     "text": [
      " 11%|███████▌                                                              | 166/1540 [01:24<10:48,  2.12it/s]"
     ]
    },
    {
     "name": "stdout",
     "output_type": "stream",
     "text": [
      "IEEE Transactions on Emerging Topics in Computing has homepage_url and type journal\n"
     ]
    },
    {
     "name": "stderr",
     "output_type": "stream",
     "text": [
      " 11%|███████▌                                                              | 167/1540 [01:24<10:43,  2.13it/s]"
     ]
    },
    {
     "name": "stdout",
     "output_type": "stream",
     "text": [
      "Rossijskij tehnologičeskij žurnal has homepage_url and type journal\n"
     ]
    },
    {
     "name": "stderr",
     "output_type": "stream",
     "text": [
      " 11%|███████▋                                                              | 168/1540 [01:25<11:03,  2.07it/s]"
     ]
    },
    {
     "name": "stdout",
     "output_type": "stream",
     "text": [
      "IEEE Transactions on Power Systems has homepage_url and type journal\n"
     ]
    },
    {
     "name": "stderr",
     "output_type": "stream",
     "text": [
      " 11%|███████▋                                                              | 170/1540 [01:26<10:42,  2.13it/s]"
     ]
    },
    {
     "name": "stdout",
     "output_type": "stream",
     "text": [
      "Annalen der Physik has homepage_url and type journal\n"
     ]
    },
    {
     "name": "stderr",
     "output_type": "stream",
     "text": [
      " 11%|███████▊                                                              | 171/1540 [01:26<11:09,  2.04it/s]"
     ]
    },
    {
     "name": "stdout",
     "output_type": "stream",
     "text": [
      "Modern Physics Letters A has homepage_url and type journal\n"
     ]
    },
    {
     "name": "stderr",
     "output_type": "stream",
     "text": [
      " 11%|███████▊                                                              | 172/1540 [01:27<10:41,  2.13it/s]"
     ]
    },
    {
     "name": "stdout",
     "output_type": "stream",
     "text": [
      "bioRxiv (Cold Spring Harbor Laboratory) has homepage_url and type repository\n"
     ]
    },
    {
     "name": "stderr",
     "output_type": "stream",
     "text": [
      " 11%|███████▊                                                              | 173/1540 [01:27<10:29,  2.17it/s]"
     ]
    },
    {
     "name": "stdout",
     "output_type": "stream",
     "text": [
      "IEEE Transactions on Information Theory has homepage_url and type journal\n"
     ]
    },
    {
     "name": "stderr",
     "output_type": "stream",
     "text": [
      " 11%|███████▉                                                              | 174/1540 [01:28<10:25,  2.18it/s]"
     ]
    },
    {
     "name": "stdout",
     "output_type": "stream",
     "text": [
      "Advanced theory and simulations has homepage_url and type journal\n"
     ]
    },
    {
     "name": "stderr",
     "output_type": "stream",
     "text": [
      " 11%|███████▉                                                              | 175/1540 [01:28<10:30,  2.16it/s]"
     ]
    },
    {
     "name": "stdout",
     "output_type": "stream",
     "text": [
      "IEEE transactions on neural networks and learning systems has homepage_url and type journal\n"
     ]
    },
    {
     "name": "stderr",
     "output_type": "stream",
     "text": [
      " 11%|████████                                                              | 176/1540 [01:29<11:13,  2.02it/s]"
     ]
    },
    {
     "name": "stdout",
     "output_type": "stream",
     "text": [
      "Computing and software for big science has homepage_url and type journal\n"
     ]
    },
    {
     "name": "stderr",
     "output_type": "stream",
     "text": [
      " 11%|████████                                                              | 177/1540 [01:29<10:56,  2.07it/s]"
     ]
    },
    {
     "name": "stdout",
     "output_type": "stream",
     "text": [
      "Applied Energy has homepage_url and type journal\n"
     ]
    },
    {
     "name": "stderr",
     "output_type": "stream",
     "text": [
      " 12%|████████                                                              | 178/1540 [01:30<11:18,  2.01it/s]"
     ]
    },
    {
     "name": "stdout",
     "output_type": "stream",
     "text": [
      "Sensors has homepage_url and type journal\n"
     ]
    },
    {
     "name": "stderr",
     "output_type": "stream",
     "text": [
      " 12%|████████▏                                                             | 179/1540 [01:30<11:19,  2.00it/s]"
     ]
    },
    {
     "name": "stdout",
     "output_type": "stream",
     "text": [
      "Physics Letters has homepage_url and type journal\n"
     ]
    },
    {
     "name": "stderr",
     "output_type": "stream",
     "text": [
      " 12%|████████▏                                                             | 180/1540 [01:31<11:21,  2.00it/s]"
     ]
    },
    {
     "name": "stdout",
     "output_type": "stream",
     "text": [
      "Modern Physics Letters B has homepage_url and type journal\n"
     ]
    },
    {
     "name": "stderr",
     "output_type": "stream",
     "text": [
      " 12%|████████▏                                                             | 181/1540 [01:31<11:20,  2.00it/s]"
     ]
    },
    {
     "name": "stdout",
     "output_type": "stream",
     "text": [
      "RSC Advances has homepage_url and type journal\n"
     ]
    },
    {
     "name": "stderr",
     "output_type": "stream",
     "text": [
      " 12%|████████▎                                                             | 182/1540 [01:32<11:58,  1.89it/s]"
     ]
    },
    {
     "name": "stdout",
     "output_type": "stream",
     "text": [
      "Entropy has homepage_url and type journal\n"
     ]
    },
    {
     "name": "stderr",
     "output_type": "stream",
     "text": [
      " 12%|████████▎                                                             | 183/1540 [01:32<11:19,  2.00it/s]"
     ]
    },
    {
     "name": "stdout",
     "output_type": "stream",
     "text": [
      "Physical Review C has homepage_url and type journal\n"
     ]
    },
    {
     "name": "stderr",
     "output_type": "stream",
     "text": [
      " 12%|████████▎                                                             | 184/1540 [01:33<11:03,  2.05it/s]"
     ]
    },
    {
     "name": "stdout",
     "output_type": "stream",
     "text": [
      "Computer Science Review has homepage_url and type journal\n"
     ]
    },
    {
     "name": "stderr",
     "output_type": "stream",
     "text": [
      " 12%|████████▍                                                             | 185/1540 [01:33<11:11,  2.02it/s]"
     ]
    },
    {
     "name": "stdout",
     "output_type": "stream",
     "text": [
      "Annals of Physics has homepage_url and type journal\n"
     ]
    },
    {
     "name": "stderr",
     "output_type": "stream",
     "text": [
      " 12%|████████▍                                                             | 186/1540 [01:34<11:19,  1.99it/s]"
     ]
    },
    {
     "name": "stdout",
     "output_type": "stream",
     "text": [
      "Materials Science and Engineering: R: Reports has homepage_url and type journal\n"
     ]
    },
    {
     "name": "stderr",
     "output_type": "stream",
     "text": [
      " 12%|████████▌                                                             | 187/1540 [01:34<11:42,  1.92it/s]"
     ]
    },
    {
     "name": "stdout",
     "output_type": "stream",
     "text": [
      "Computer Networks has homepage_url and type journal\n"
     ]
    },
    {
     "name": "stderr",
     "output_type": "stream",
     "text": [
      " 12%|████████▌                                                             | 188/1540 [01:35<11:31,  1.96it/s]"
     ]
    },
    {
     "name": "stdout",
     "output_type": "stream",
     "text": [
      "Journal of Physics A has homepage_url and type journal\n"
     ]
    },
    {
     "name": "stderr",
     "output_type": "stream",
     "text": [
      " 12%|████████▌                                                             | 189/1540 [01:35<11:17,  1.99it/s]"
     ]
    },
    {
     "name": "stdout",
     "output_type": "stream",
     "text": [
      "IEEE Transactions on Microwave Theory and Techniques has homepage_url and type journal\n"
     ]
    },
    {
     "name": "stderr",
     "output_type": "stream",
     "text": [
      " 12%|████████▋                                                             | 190/1540 [01:36<11:01,  2.04it/s]"
     ]
    },
    {
     "name": "stdout",
     "output_type": "stream",
     "text": [
      "Journal of physics communications has homepage_url and type journal\n"
     ]
    },
    {
     "name": "stderr",
     "output_type": "stream",
     "text": [
      " 12%|████████▋                                                             | 191/1540 [01:36<11:15,  2.00it/s]"
     ]
    },
    {
     "name": "stdout",
     "output_type": "stream",
     "text": [
      "ACS Photonics has homepage_url and type journal\n"
     ]
    },
    {
     "name": "stderr",
     "output_type": "stream",
     "text": [
      " 12%|████████▋                                                             | 192/1540 [01:37<11:26,  1.96it/s]"
     ]
    },
    {
     "name": "stdout",
     "output_type": "stream",
     "text": [
      "Communications in Mathematical Physics has homepage_url and type journal\n"
     ]
    },
    {
     "name": "stderr",
     "output_type": "stream",
     "text": [
      " 13%|████████▊                                                             | 193/1540 [01:37<11:42,  1.92it/s]"
     ]
    },
    {
     "name": "stdout",
     "output_type": "stream",
     "text": [
      "Low Temperature Physics has homepage_url and type journal\n"
     ]
    },
    {
     "name": "stderr",
     "output_type": "stream",
     "text": [
      " 13%|████████▊                                                             | 194/1540 [01:38<11:07,  2.02it/s]"
     ]
    },
    {
     "name": "stdout",
     "output_type": "stream",
     "text": [
      "Nature Astronomy has homepage_url and type journal\n"
     ]
    },
    {
     "name": "stderr",
     "output_type": "stream",
     "text": [
      " 13%|████████▊                                                             | 195/1540 [01:38<11:05,  2.02it/s]"
     ]
    },
    {
     "name": "stdout",
     "output_type": "stream",
     "text": [
      "Communications chemistry has homepage_url and type journal\n"
     ]
    },
    {
     "name": "stderr",
     "output_type": "stream",
     "text": [
      " 13%|████████▉                                                             | 196/1540 [01:39<11:12,  2.00it/s]"
     ]
    },
    {
     "name": "stdout",
     "output_type": "stream",
     "text": [
      "Reviews in Mathematical Physics has homepage_url and type journal\n"
     ]
    },
    {
     "name": "stderr",
     "output_type": "stream",
     "text": [
      " 13%|████████▉                                                             | 197/1540 [01:39<11:31,  1.94it/s]"
     ]
    },
    {
     "name": "stdout",
     "output_type": "stream",
     "text": [
      "Applied Optics has homepage_url and type journal\n"
     ]
    },
    {
     "name": "stderr",
     "output_type": "stream",
     "text": [
      " 13%|█████████                                                             | 198/1540 [01:40<11:19,  1.98it/s]"
     ]
    },
    {
     "name": "stdout",
     "output_type": "stream",
     "text": [
      "Expert Systems with Applications has homepage_url and type journal\n"
     ]
    },
    {
     "name": "stderr",
     "output_type": "stream",
     "text": [
      " 13%|█████████                                                             | 199/1540 [01:40<11:41,  1.91it/s]"
     ]
    },
    {
     "name": "stdout",
     "output_type": "stream",
     "text": [
      "Wireless Communications and Mobile Computing has homepage_url and type journal\n"
     ]
    },
    {
     "name": "stderr",
     "output_type": "stream",
     "text": [
      " 13%|█████████                                                             | 200/1540 [01:41<12:00,  1.86it/s]"
     ]
    },
    {
     "name": "stdout",
     "output_type": "stream",
     "text": [
      "Cryptography has homepage_url and type journal\n"
     ]
    },
    {
     "name": "stderr",
     "output_type": "stream",
     "text": [
      " 13%|█████████▏                                                            | 201/1540 [01:42<19:20,  1.15it/s]"
     ]
    },
    {
     "name": "stdout",
     "output_type": "stream",
     "text": [
      "Frontiers of Physics in China has homepage_url and type journal\n"
     ]
    },
    {
     "name": "stderr",
     "output_type": "stream",
     "text": [
      " 13%|█████████▏                                                            | 202/1540 [01:43<16:30,  1.35it/s]"
     ]
    },
    {
     "name": "stdout",
     "output_type": "stream",
     "text": [
      "Nuclear Physics B has homepage_url and type journal\n"
     ]
    },
    {
     "name": "stderr",
     "output_type": "stream",
     "text": [
      " 13%|█████████▏                                                            | 203/1540 [01:43<14:52,  1.50it/s]"
     ]
    },
    {
     "name": "stdout",
     "output_type": "stream",
     "text": [
      "Computer Communications has homepage_url and type journal\n"
     ]
    },
    {
     "name": "stderr",
     "output_type": "stream",
     "text": [
      " 13%|█████████▎                                                            | 204/1540 [01:44<13:36,  1.64it/s]"
     ]
    },
    {
     "name": "stdout",
     "output_type": "stream",
     "text": [
      "Communications in computer and information science has homepage_url and type book series\n"
     ]
    },
    {
     "name": "stderr",
     "output_type": "stream",
     "text": [
      " 13%|█████████▎                                                            | 205/1540 [01:44<12:17,  1.81it/s]"
     ]
    },
    {
     "name": "stdout",
     "output_type": "stream",
     "text": [
      "Internet technology letters has homepage_url and type journal\n"
     ]
    },
    {
     "name": "stderr",
     "output_type": "stream",
     "text": [
      " 13%|█████████▍                                                            | 207/1540 [01:45<11:46,  1.89it/s]"
     ]
    },
    {
     "name": "stdout",
     "output_type": "stream",
     "text": [
      "Array has homepage_url and type journal\n"
     ]
    },
    {
     "name": "stderr",
     "output_type": "stream",
     "text": [
      " 14%|█████████▍                                                            | 208/1540 [01:46<11:18,  1.96it/s]"
     ]
    },
    {
     "name": "stdout",
     "output_type": "stream",
     "text": [
      "Neurocomputing has homepage_url and type journal\n"
     ]
    },
    {
     "name": "stderr",
     "output_type": "stream",
     "text": [
      " 14%|█████████▌                                                            | 209/1540 [01:46<11:34,  1.92it/s]"
     ]
    },
    {
     "name": "stdout",
     "output_type": "stream",
     "text": [
      "European Physical Journal Plus has homepage_url and type journal\n"
     ]
    },
    {
     "name": "stderr",
     "output_type": "stream",
     "text": [
      " 14%|█████████▌                                                            | 210/1540 [01:47<11:11,  1.98it/s]"
     ]
    },
    {
     "name": "stdout",
     "output_type": "stream",
     "text": [
      "Physical review accelerators and beams has homepage_url and type journal\n"
     ]
    },
    {
     "name": "stderr",
     "output_type": "stream",
     "text": [
      " 14%|█████████▌                                                            | 211/1540 [01:47<11:29,  1.93it/s]"
     ]
    },
    {
     "name": "stdout",
     "output_type": "stream",
     "text": [
      "Iot has homepage_url and type journal\n"
     ]
    },
    {
     "name": "stderr",
     "output_type": "stream",
     "text": [
      " 14%|█████████▋                                                            | 212/1540 [01:48<11:25,  1.94it/s]"
     ]
    },
    {
     "name": "stdout",
     "output_type": "stream",
     "text": [
      "Communications materials has homepage_url and type journal\n"
     ]
    },
    {
     "name": "stderr",
     "output_type": "stream",
     "text": [
      " 14%|█████████▋                                                            | 213/1540 [01:48<10:55,  2.02it/s]"
     ]
    },
    {
     "name": "stdout",
     "output_type": "stream",
     "text": [
      "Current Opinion in Chemical Engineering has homepage_url and type journal\n"
     ]
    },
    {
     "name": "stderr",
     "output_type": "stream",
     "text": [
      " 14%|█████████▋                                                            | 214/1540 [01:49<10:37,  2.08it/s]"
     ]
    },
    {
     "name": "stdout",
     "output_type": "stream",
     "text": [
      "IEEE Spectrum has homepage_url and type journal\n"
     ]
    },
    {
     "name": "stderr",
     "output_type": "stream",
     "text": [
      " 14%|█████████▊                                                            | 215/1540 [01:49<10:51,  2.03it/s]"
     ]
    },
    {
     "name": "stdout",
     "output_type": "stream",
     "text": [
      "Frontiers in Chemistry has homepage_url and type journal\n"
     ]
    },
    {
     "name": "stderr",
     "output_type": "stream",
     "text": [
      " 14%|█████████▊                                                            | 216/1540 [01:50<10:57,  2.01it/s]"
     ]
    },
    {
     "name": "stdout",
     "output_type": "stream",
     "text": [
      "Mathematical Problems in Engineering has homepage_url and type journal\n"
     ]
    },
    {
     "name": "stderr",
     "output_type": "stream",
     "text": [
      " 14%|█████████▊                                                            | 217/1540 [01:50<10:45,  2.05it/s]"
     ]
    },
    {
     "name": "stdout",
     "output_type": "stream",
     "text": [
      "BMC Medical Informatics and Decision Making has homepage_url and type journal\n"
     ]
    },
    {
     "name": "stderr",
     "output_type": "stream",
     "text": [
      " 14%|█████████▉                                                            | 218/1540 [01:51<10:34,  2.08it/s]"
     ]
    },
    {
     "name": "stdout",
     "output_type": "stream",
     "text": [
      "International Journal of Quantum Chemistry has homepage_url and type journal\n"
     ]
    },
    {
     "name": "stderr",
     "output_type": "stream",
     "text": [
      " 14%|█████████▉                                                            | 219/1540 [01:51<11:04,  1.99it/s]"
     ]
    },
    {
     "name": "stdout",
     "output_type": "stream",
     "text": [
      "Journal of Lightwave Technology has homepage_url and type journal\n"
     ]
    },
    {
     "name": "stderr",
     "output_type": "stream",
     "text": [
      " 14%|██████████                                                            | 220/1540 [01:52<10:40,  2.06it/s]"
     ]
    },
    {
     "name": "stdout",
     "output_type": "stream",
     "text": [
      "Advances in intelligent systems and computing has homepage_url and type book series\n"
     ]
    },
    {
     "name": "stderr",
     "output_type": "stream",
     "text": [
      " 14%|██████████                                                            | 221/1540 [01:52<10:35,  2.07it/s]"
     ]
    },
    {
     "name": "stdout",
     "output_type": "stream",
     "text": [
      "Physics of Plasmas has homepage_url and type journal\n"
     ]
    },
    {
     "name": "stderr",
     "output_type": "stream",
     "text": [
      " 14%|██████████                                                            | 222/1540 [01:53<10:21,  2.12it/s]"
     ]
    },
    {
     "name": "stdout",
     "output_type": "stream",
     "text": [
      "IEEE Transactions on Education has homepage_url and type journal\n"
     ]
    },
    {
     "name": "stderr",
     "output_type": "stream",
     "text": [
      " 15%|██████████▏                                                           | 224/1540 [01:54<10:19,  2.12it/s]"
     ]
    },
    {
     "name": "stdout",
     "output_type": "stream",
     "text": [
      "IEEE Transactions on Nanotechnology has homepage_url and type journal\n"
     ]
    },
    {
     "name": "stderr",
     "output_type": "stream",
     "text": [
      " 15%|██████████▏                                                           | 225/1540 [01:54<10:52,  2.02it/s]"
     ]
    },
    {
     "name": "stdout",
     "output_type": "stream",
     "text": [
      "IEEE Transactions on Applied Superconductivity has homepage_url and type journal\n"
     ]
    },
    {
     "name": "stderr",
     "output_type": "stream",
     "text": [
      " 15%|██████████▎                                                           | 227/1540 [01:55<10:01,  2.18it/s]"
     ]
    },
    {
     "name": "stdout",
     "output_type": "stream",
     "text": [
      "National Science Review has homepage_url and type journal\n"
     ]
    },
    {
     "name": "stderr",
     "output_type": "stream",
     "text": [
      " 15%|██████████▎                                                           | 228/1540 [01:55<09:54,  2.21it/s]"
     ]
    },
    {
     "name": "stdout",
     "output_type": "stream",
     "text": [
      "Journal of Information Security and Applications has homepage_url and type journal\n"
     ]
    },
    {
     "name": "stderr",
     "output_type": "stream",
     "text": [
      " 15%|██████████▍                                                           | 229/1540 [01:56<09:47,  2.23it/s]"
     ]
    },
    {
     "name": "stdout",
     "output_type": "stream",
     "text": [
      "IEEE Journal on Emerging and Selected Topics in Circuits and Systems has homepage_url and type journal\n"
     ]
    },
    {
     "name": "stderr",
     "output_type": "stream",
     "text": [
      " 15%|██████████▍                                                           | 230/1540 [01:56<11:25,  1.91it/s]"
     ]
    },
    {
     "name": "stdout",
     "output_type": "stream",
     "text": [
      "Neural Networks has homepage_url and type journal\n"
     ]
    },
    {
     "name": "stderr",
     "output_type": "stream",
     "text": [
      " 15%|██████████▌                                                           | 231/1540 [01:57<11:08,  1.96it/s]"
     ]
    },
    {
     "name": "stdout",
     "output_type": "stream",
     "text": [
      "SN computer science has homepage_url and type journal\n"
     ]
    },
    {
     "name": "stderr",
     "output_type": "stream",
     "text": [
      " 15%|██████████▌                                                           | 232/1540 [01:58<11:28,  1.90it/s]"
     ]
    },
    {
     "name": "stdout",
     "output_type": "stream",
     "text": [
      "Optical Engineering has homepage_url and type journal\n"
     ]
    },
    {
     "name": "stderr",
     "output_type": "stream",
     "text": [
      " 15%|██████████▌                                                           | 233/1540 [01:58<10:50,  2.01it/s]"
     ]
    },
    {
     "name": "stdout",
     "output_type": "stream",
     "text": [
      "Nature Computational Science has homepage_url and type journal\n"
     ]
    },
    {
     "name": "stderr",
     "output_type": "stream",
     "text": [
      " 15%|██████████▋                                                           | 235/1540 [01:59<10:21,  2.10it/s]"
     ]
    },
    {
     "name": "stdout",
     "output_type": "stream",
     "text": [
      "IEICE Transactions on Information and Systems has homepage_url and type journal\n"
     ]
    },
    {
     "name": "stderr",
     "output_type": "stream",
     "text": [
      " 15%|██████████▋                                                           | 236/1540 [01:59<10:32,  2.06it/s]"
     ]
    },
    {
     "name": "stdout",
     "output_type": "stream",
     "text": [
      "Acta Informatica has homepage_url and type journal\n"
     ]
    },
    {
     "name": "stderr",
     "output_type": "stream",
     "text": [
      " 15%|██████████▊                                                           | 237/1540 [02:00<10:31,  2.06it/s]"
     ]
    },
    {
     "name": "stdout",
     "output_type": "stream",
     "text": [
      "IEEE Communications Letters has homepage_url and type journal\n"
     ]
    },
    {
     "name": "stderr",
     "output_type": "stream",
     "text": [
      " 15%|██████████▊                                                           | 238/1540 [02:00<10:11,  2.13it/s]"
     ]
    },
    {
     "name": "stdout",
     "output_type": "stream",
     "text": [
      "Journal of Computational Physics has homepage_url and type journal\n"
     ]
    },
    {
     "name": "stderr",
     "output_type": "stream",
     "text": [
      " 16%|██████████▊                                                           | 239/1540 [02:01<10:24,  2.08it/s]"
     ]
    },
    {
     "name": "stdout",
     "output_type": "stream",
     "text": [
      "IEEE Micro has homepage_url and type journal\n"
     ]
    },
    {
     "name": "stderr",
     "output_type": "stream",
     "text": [
      " 16%|██████████▉                                                           | 240/1540 [02:01<10:58,  1.97it/s]"
     ]
    },
    {
     "name": "stdout",
     "output_type": "stream",
     "text": [
      "Applied Soft Computing has homepage_url and type journal\n"
     ]
    },
    {
     "name": "stderr",
     "output_type": "stream",
     "text": [
      " 16%|██████████▉                                                           | 241/1540 [02:02<10:38,  2.04it/s]"
     ]
    },
    {
     "name": "stdout",
     "output_type": "stream",
     "text": [
      "Journal of Discrete Mathematical Sciences and Cryptography has homepage_url and type journal\n"
     ]
    },
    {
     "name": "stderr",
     "output_type": "stream",
     "text": [
      " 16%|███████████                                                           | 242/1540 [02:02<10:40,  2.03it/s]"
     ]
    },
    {
     "name": "stdout",
     "output_type": "stream",
     "text": [
      "AIP Advances has homepage_url and type journal\n"
     ]
    },
    {
     "name": "stderr",
     "output_type": "stream",
     "text": [
      " 16%|███████████                                                           | 243/1540 [02:03<10:50,  1.99it/s]"
     ]
    },
    {
     "name": "stdout",
     "output_type": "stream",
     "text": [
      "Chinese Journal of Physics has homepage_url and type journal\n"
     ]
    },
    {
     "name": "stderr",
     "output_type": "stream",
     "text": [
      " 16%|███████████                                                           | 244/1540 [02:03<11:08,  1.94it/s]"
     ]
    },
    {
     "name": "stdout",
     "output_type": "stream",
     "text": [
      "Journal of Cryptographic Engineering has homepage_url and type journal\n"
     ]
    },
    {
     "name": "stderr",
     "output_type": "stream",
     "text": [
      " 16%|███████████▏                                                          | 245/1540 [02:04<10:47,  2.00it/s]"
     ]
    },
    {
     "name": "stdout",
     "output_type": "stream",
     "text": [
      "IEEE Transactions on Engineering Management has homepage_url and type journal\n"
     ]
    },
    {
     "name": "stderr",
     "output_type": "stream",
     "text": [
      " 16%|███████████▏                                                          | 246/1540 [02:04<11:11,  1.93it/s]"
     ]
    },
    {
     "name": "stdout",
     "output_type": "stream",
     "text": [
      "IEEE Photonics Technology Letters has homepage_url and type journal\n"
     ]
    },
    {
     "name": "stderr",
     "output_type": "stream",
     "text": [
      " 16%|███████████▏                                                          | 247/1540 [02:05<10:39,  2.02it/s]"
     ]
    },
    {
     "name": "stdout",
     "output_type": "stream",
     "text": [
      "SN applied sciences has homepage_url and type journal\n"
     ]
    },
    {
     "name": "stderr",
     "output_type": "stream",
     "text": [
      " 16%|███████████▎                                                          | 248/1540 [02:05<10:31,  2.05it/s]"
     ]
    },
    {
     "name": "stdout",
     "output_type": "stream",
     "text": [
      "Cognitive Computation has homepage_url and type journal\n"
     ]
    },
    {
     "name": "stderr",
     "output_type": "stream",
     "text": [
      " 16%|███████████▎                                                          | 249/1540 [02:06<10:27,  2.06it/s]"
     ]
    },
    {
     "name": "stdout",
     "output_type": "stream",
     "text": [
      "Neural Computing and Applications has homepage_url and type journal\n"
     ]
    },
    {
     "name": "stderr",
     "output_type": "stream",
     "text": [
      " 16%|███████████▎                                                          | 250/1540 [02:06<11:39,  1.85it/s]"
     ]
    },
    {
     "name": "stdout",
     "output_type": "stream",
     "text": [
      "Review of Scientific Instruments has homepage_url and type journal\n"
     ]
    },
    {
     "name": "stderr",
     "output_type": "stream",
     "text": [
      " 16%|███████████▍                                                          | 251/1540 [02:07<11:32,  1.86it/s]"
     ]
    },
    {
     "name": "stdout",
     "output_type": "stream",
     "text": [
      "AAPPS bulletin has homepage_url and type journal\n"
     ]
    },
    {
     "name": "stderr",
     "output_type": "stream",
     "text": [
      " 16%|███████████▌                                                          | 253/1540 [02:08<10:41,  2.01it/s]"
     ]
    },
    {
     "name": "stdout",
     "output_type": "stream",
     "text": [
      "Synthese has homepage_url and type journal\n"
     ]
    },
    {
     "name": "stderr",
     "output_type": "stream",
     "text": [
      " 16%|███████████▌                                                          | 254/1540 [02:08<10:48,  1.98it/s]"
     ]
    },
    {
     "name": "stdout",
     "output_type": "stream",
     "text": [
      "Nonlinearity has homepage_url and type journal\n"
     ]
    },
    {
     "name": "stderr",
     "output_type": "stream",
     "text": [
      " 17%|███████████▋                                                          | 256/1540 [02:09<09:56,  2.15it/s]"
     ]
    },
    {
     "name": "stdout",
     "output_type": "stream",
     "text": [
      "Advances in Mathematical Physics has homepage_url and type journal\n"
     ]
    },
    {
     "name": "stderr",
     "output_type": "stream",
     "text": [
      " 17%|███████████▋                                                          | 257/1540 [02:10<10:32,  2.03it/s]"
     ]
    },
    {
     "name": "stdout",
     "output_type": "stream",
     "text": [
      "International Journal of Quantum Information has homepage_url and type journal\n"
     ]
    },
    {
     "name": "stderr",
     "output_type": "stream",
     "text": [
      " 17%|███████████▋                                                          | 258/1540 [02:10<10:55,  1.96it/s]"
     ]
    },
    {
     "name": "stdout",
     "output_type": "stream",
     "text": [
      "Small has homepage_url and type journal\n"
     ]
    },
    {
     "name": "stderr",
     "output_type": "stream",
     "text": [
      " 17%|███████████▊                                                          | 259/1540 [02:11<10:55,  1.95it/s]"
     ]
    },
    {
     "name": "stdout",
     "output_type": "stream",
     "text": [
      "Discrete Optimization has homepage_url and type journal\n"
     ]
    },
    {
     "name": "stderr",
     "output_type": "stream",
     "text": [
      " 17%|███████████▊                                                          | 260/1540 [02:11<11:23,  1.87it/s]"
     ]
    },
    {
     "name": "stdout",
     "output_type": "stream",
     "text": [
      "International Journal of Theoretical Physics has homepage_url and type journal\n"
     ]
    },
    {
     "name": "stderr",
     "output_type": "stream",
     "text": [
      " 17%|███████████▊                                                          | 261/1540 [02:12<11:40,  1.83it/s]"
     ]
    },
    {
     "name": "stdout",
     "output_type": "stream",
     "text": [
      "Journal of physics has homepage_url and type journal\n"
     ]
    },
    {
     "name": "stderr",
     "output_type": "stream",
     "text": [
      " 17%|███████████▉                                                          | 262/1540 [02:13<11:01,  1.93it/s]"
     ]
    },
    {
     "name": "stdout",
     "output_type": "stream",
     "text": [
      "IEEE Internet Computing has homepage_url and type journal\n"
     ]
    },
    {
     "name": "stderr",
     "output_type": "stream",
     "text": [
      " 17%|███████████▉                                                          | 263/1540 [02:13<10:58,  1.94it/s]"
     ]
    },
    {
     "name": "stdout",
     "output_type": "stream",
     "text": [
      "ACS Engineering Au has homepage_url and type journal\n"
     ]
    },
    {
     "name": "stderr",
     "output_type": "stream",
     "text": [
      " 17%|████████████                                                          | 265/1540 [02:14<10:43,  1.98it/s]"
     ]
    },
    {
     "name": "stdout",
     "output_type": "stream",
     "text": [
      "ACM Transactions on Architecture and Code Optimization has homepage_url and type journal\n"
     ]
    },
    {
     "name": "stderr",
     "output_type": "stream",
     "text": [
      " 17%|████████████                                                          | 266/1540 [02:15<10:44,  1.98it/s]"
     ]
    },
    {
     "name": "stdout",
     "output_type": "stream",
     "text": [
      "Universe has homepage_url and type journal\n"
     ]
    },
    {
     "name": "stderr",
     "output_type": "stream",
     "text": [
      " 17%|████████████▏                                                         | 267/1540 [02:15<10:23,  2.04it/s]"
     ]
    },
    {
     "name": "stdout",
     "output_type": "stream",
     "text": [
      "IEEE Magnetics Letters has homepage_url and type journal\n"
     ]
    },
    {
     "name": "stderr",
     "output_type": "stream",
     "text": [
      " 17%|████████████▏                                                         | 268/1540 [02:15<10:16,  2.06it/s]"
     ]
    },
    {
     "name": "stdout",
     "output_type": "stream",
     "text": [
      "IEEE Transactions on Control Systems and Technology has homepage_url and type journal\n"
     ]
    },
    {
     "name": "stderr",
     "output_type": "stream",
     "text": [
      " 17%|████████████▏                                                         | 269/1540 [02:16<10:34,  2.00it/s]"
     ]
    },
    {
     "name": "stdout",
     "output_type": "stream",
     "text": [
      "Formal Aspects of Computing has homepage_url and type journal\n"
     ]
    },
    {
     "name": "stderr",
     "output_type": "stream",
     "text": [
      " 18%|████████████▎                                                         | 270/1540 [02:17<11:14,  1.88it/s]"
     ]
    },
    {
     "name": "stdout",
     "output_type": "stream",
     "text": [
      "American Journal of Physics has homepage_url and type journal\n"
     ]
    },
    {
     "name": "stderr",
     "output_type": "stream",
     "text": [
      " 18%|████████████▎                                                         | 271/1540 [02:17<11:24,  1.85it/s]"
     ]
    },
    {
     "name": "stdout",
     "output_type": "stream",
     "text": [
      "Carbon has homepage_url and type journal\n"
     ]
    },
    {
     "name": "stderr",
     "output_type": "stream",
     "text": [
      " 18%|████████████▎                                                         | 272/1540 [02:18<10:44,  1.97it/s]"
     ]
    },
    {
     "name": "stdout",
     "output_type": "stream",
     "text": [
      "Epj Web of Conferences has homepage_url and type journal\n"
     ]
    },
    {
     "name": "stderr",
     "output_type": "stream",
     "text": [
      " 18%|████████████▍                                                         | 273/1540 [02:18<10:56,  1.93it/s]"
     ]
    },
    {
     "name": "stdout",
     "output_type": "stream",
     "text": [
      "IEEE Transactions on Nanobioscience has homepage_url and type journal\n"
     ]
    },
    {
     "name": "stderr",
     "output_type": "stream",
     "text": [
      " 18%|████████████▍                                                         | 274/1540 [02:19<10:24,  2.03it/s]"
     ]
    },
    {
     "name": "stdout",
     "output_type": "stream",
     "text": [
      "IEEE Journal of Selected Topics in Applied Earth Observations and Remote Sensing has homepage_url and type journal\n"
     ]
    },
    {
     "name": "stderr",
     "output_type": "stream",
     "text": [
      " 18%|████████████▌                                                         | 275/1540 [02:19<10:40,  1.97it/s]"
     ]
    },
    {
     "name": "stdout",
     "output_type": "stream",
     "text": [
      "Mrs Bulletin has homepage_url and type journal\n"
     ]
    },
    {
     "name": "stderr",
     "output_type": "stream",
     "text": [
      " 18%|████████████▌                                                         | 276/1540 [02:20<10:49,  1.95it/s]"
     ]
    },
    {
     "name": "stdout",
     "output_type": "stream",
     "text": [
      "Software Quality Journal has homepage_url and type journal\n"
     ]
    },
    {
     "name": "stderr",
     "output_type": "stream",
     "text": [
      " 18%|████████████▌                                                         | 277/1540 [02:20<10:29,  2.01it/s]"
     ]
    },
    {
     "name": "stdout",
     "output_type": "stream",
     "text": [
      "IEEE Electron Device Letters has homepage_url and type journal\n"
     ]
    },
    {
     "name": "stderr",
     "output_type": "stream",
     "text": [
      " 18%|████████████▋                                                         | 279/1540 [02:21<09:55,  2.12it/s]"
     ]
    },
    {
     "name": "stdout",
     "output_type": "stream",
     "text": [
      "Interface Focus has homepage_url and type journal\n"
     ]
    },
    {
     "name": "stderr",
     "output_type": "stream",
     "text": [
      " 18%|████████████▊                                                         | 281/1540 [02:22<10:50,  1.94it/s]"
     ]
    },
    {
     "name": "stdout",
     "output_type": "stream",
     "text": [
      "IEEE Computer Architecture Letters has homepage_url and type journal\n"
     ]
    },
    {
     "name": "stderr",
     "output_type": "stream",
     "text": [
      " 18%|████████████▊                                                         | 282/1540 [02:23<11:02,  1.90it/s]"
     ]
    },
    {
     "name": "stdout",
     "output_type": "stream",
     "text": [
      "Procedia Computer Science has homepage_url and type journal\n"
     ]
    },
    {
     "name": "stderr",
     "output_type": "stream",
     "text": [
      " 18%|████████████▊                                                         | 283/1540 [02:23<10:34,  1.98it/s]"
     ]
    },
    {
     "name": "stdout",
     "output_type": "stream",
     "text": [
      "Frontiers in photonics has homepage_url and type journal\n"
     ]
    },
    {
     "name": "stderr",
     "output_type": "stream",
     "text": [
      " 18%|████████████▉                                                         | 284/1540 [02:24<10:05,  2.07it/s]"
     ]
    },
    {
     "name": "stdout",
     "output_type": "stream",
     "text": [
      "Functional Diamond has homepage_url and type journal\n"
     ]
    },
    {
     "name": "stderr",
     "output_type": "stream",
     "text": [
      " 19%|████████████▉                                                         | 285/1540 [02:24<09:58,  2.10it/s]"
     ]
    },
    {
     "name": "stdout",
     "output_type": "stream",
     "text": [
      "Journal of the Royal Society Interface has homepage_url and type journal\n"
     ]
    },
    {
     "name": "stderr",
     "output_type": "stream",
     "text": [
      " 19%|█████████████                                                         | 286/1540 [02:24<09:44,  2.15it/s]"
     ]
    },
    {
     "name": "stdout",
     "output_type": "stream",
     "text": [
      "Journal of Network and Computer Applications has homepage_url and type journal\n"
     ]
    },
    {
     "name": "stderr",
     "output_type": "stream",
     "text": [
      " 19%|█████████████                                                         | 287/1540 [02:25<09:58,  2.09it/s]"
     ]
    },
    {
     "name": "stdout",
     "output_type": "stream",
     "text": [
      "Angewandte Chemie has homepage_url and type journal\n"
     ]
    },
    {
     "name": "stderr",
     "output_type": "stream",
     "text": [
      " 19%|█████████████                                                         | 288/1540 [02:25<10:02,  2.08it/s]"
     ]
    },
    {
     "name": "stdout",
     "output_type": "stream",
     "text": [
      "Batteries has homepage_url and type journal\n"
     ]
    },
    {
     "name": "stderr",
     "output_type": "stream",
     "text": [
      " 19%|█████████████▏                                                        | 289/1540 [02:26<11:42,  1.78it/s]"
     ]
    },
    {
     "name": "stdout",
     "output_type": "stream",
     "text": [
      "Chemical Communications has homepage_url and type journal\n"
     ]
    },
    {
     "name": "stderr",
     "output_type": "stream",
     "text": [
      " 19%|█████████████▎                                                        | 292/1540 [02:28<10:38,  1.95it/s]"
     ]
    },
    {
     "name": "stdout",
     "output_type": "stream",
     "text": [
      "Iete Journal of Research has homepage_url and type journal\n"
     ]
    },
    {
     "name": "stderr",
     "output_type": "stream",
     "text": [
      " 19%|█████████████▎                                                        | 293/1540 [02:28<10:31,  1.98it/s]"
     ]
    },
    {
     "name": "stdout",
     "output_type": "stream",
     "text": [
      "Applied Physics B has homepage_url and type journal\n"
     ]
    },
    {
     "name": "stderr",
     "output_type": "stream",
     "text": [
      " 19%|█████████████▎                                                        | 294/1540 [02:29<10:28,  1.98it/s]"
     ]
    },
    {
     "name": "stdout",
     "output_type": "stream",
     "text": [
      "Mathematical and Computer Modelling of Dynamical Systems has homepage_url and type journal\n"
     ]
    },
    {
     "name": "stderr",
     "output_type": "stream",
     "text": [
      " 19%|█████████████▍                                                        | 295/1540 [02:29<10:01,  2.07it/s]"
     ]
    },
    {
     "name": "stdout",
     "output_type": "stream",
     "text": [
      "Optics Communications has homepage_url and type journal\n"
     ]
    },
    {
     "name": "stderr",
     "output_type": "stream",
     "text": [
      " 19%|█████████████▍                                                        | 296/1540 [02:30<09:54,  2.09it/s]"
     ]
    },
    {
     "name": "stdout",
     "output_type": "stream",
     "text": [
      "Journal of Computational and Applied Mathematics has homepage_url and type journal\n"
     ]
    },
    {
     "name": "stderr",
     "output_type": "stream",
     "text": [
      " 19%|█████████████▌                                                        | 297/1540 [02:30<10:39,  1.94it/s]"
     ]
    },
    {
     "name": "stdout",
     "output_type": "stream",
     "text": [
      "IEEE Electrification Magazine has homepage_url and type journal\n"
     ]
    },
    {
     "name": "stderr",
     "output_type": "stream",
     "text": [
      " 19%|█████████████▌                                                        | 299/1540 [02:31<11:50,  1.75it/s]"
     ]
    },
    {
     "name": "stdout",
     "output_type": "stream",
     "text": [
      "Chemistry: A European Journal has homepage_url and type journal\n"
     ]
    },
    {
     "name": "stderr",
     "output_type": "stream",
     "text": [
      " 20%|█████████████▋                                                        | 301/1540 [02:32<10:47,  1.91it/s]"
     ]
    },
    {
     "name": "stdout",
     "output_type": "stream",
     "text": [
      "IEEE Solid-State Circuits Magazine has homepage_url and type journal\n"
     ]
    },
    {
     "name": "stderr",
     "output_type": "stream",
     "text": [
      " 20%|█████████████▊                                                        | 303/1540 [02:33<10:25,  1.98it/s]"
     ]
    },
    {
     "name": "stdout",
     "output_type": "stream",
     "text": [
      "Magnetochemistry has homepage_url and type journal\n"
     ]
    },
    {
     "name": "stderr",
     "output_type": "stream",
     "text": [
      " 20%|█████████████▊                                                        | 304/1540 [02:34<10:03,  2.05it/s]"
     ]
    },
    {
     "name": "stdout",
     "output_type": "stream",
     "text": [
      "Energies has homepage_url and type journal\n"
     ]
    },
    {
     "name": "stderr",
     "output_type": "stream",
     "text": [
      " 20%|█████████████▊                                                        | 305/1540 [02:34<10:46,  1.91it/s]"
     ]
    },
    {
     "name": "stdout",
     "output_type": "stream",
     "text": [
      "Materials has homepage_url and type journal\n"
     ]
    },
    {
     "name": "stderr",
     "output_type": "stream",
     "text": [
      " 20%|█████████████▉                                                        | 306/1540 [02:35<10:38,  1.93it/s]"
     ]
    },
    {
     "name": "stdout",
     "output_type": "stream",
     "text": [
      "Journal of Parallel and Distributed Computing has homepage_url and type journal\n"
     ]
    },
    {
     "name": "stderr",
     "output_type": "stream",
     "text": [
      " 20%|█████████████▉                                                        | 307/1540 [02:35<10:28,  1.96it/s]"
     ]
    },
    {
     "name": "stdout",
     "output_type": "stream",
     "text": [
      "Journal of Automated Reasoning has homepage_url and type journal\n"
     ]
    },
    {
     "name": "stderr",
     "output_type": "stream",
     "text": [
      " 20%|██████████████                                                        | 308/1540 [02:36<10:34,  1.94it/s]"
     ]
    },
    {
     "name": "stdout",
     "output_type": "stream",
     "text": [
      "IEEE Embedded Systems Letters has homepage_url and type journal\n"
     ]
    },
    {
     "name": "stderr",
     "output_type": "stream",
     "text": [
      " 20%|██████████████                                                        | 309/1540 [02:37<11:14,  1.82it/s]"
     ]
    },
    {
     "name": "stdout",
     "output_type": "stream",
     "text": [
      "International Journal of Electronics has homepage_url and type journal\n"
     ]
    },
    {
     "name": "stderr",
     "output_type": "stream",
     "text": [
      " 20%|██████████████▏                                                       | 311/1540 [02:37<10:22,  1.97it/s]"
     ]
    },
    {
     "name": "stdout",
     "output_type": "stream",
     "text": [
      "Journal of Magnetism and Magnetic Materials has homepage_url and type journal\n"
     ]
    },
    {
     "name": "stderr",
     "output_type": "stream",
     "text": [
      " 20%|██████████████▏                                                       | 313/1540 [02:38<10:14,  2.00it/s]"
     ]
    },
    {
     "name": "stdout",
     "output_type": "stream",
     "text": [
      "Physics Letters B has homepage_url and type journal\n"
     ]
    },
    {
     "name": "stderr",
     "output_type": "stream",
     "text": [
      " 20%|██████████████▎                                                       | 315/1540 [02:39<10:18,  1.98it/s]"
     ]
    },
    {
     "name": "stdout",
     "output_type": "stream",
     "text": [
      "ACM Transactions on Parallel Computing has homepage_url and type journal\n"
     ]
    },
    {
     "name": "stderr",
     "output_type": "stream",
     "text": [
      " 21%|██████████████▌                                                       | 320/1540 [02:42<11:10,  1.82it/s]"
     ]
    },
    {
     "name": "stdout",
     "output_type": "stream",
     "text": [
      "HAL (Le Centre pour la Communication Scientifique Directe) has homepage_url and type repository\n"
     ]
    },
    {
     "name": "stderr",
     "output_type": "stream",
     "text": [
      " 21%|██████████████▌                                                       | 321/1540 [02:43<10:54,  1.86it/s]"
     ]
    },
    {
     "name": "stdout",
     "output_type": "stream",
     "text": [
      "International Journal of Information Security has homepage_url and type journal\n"
     ]
    },
    {
     "name": "stderr",
     "output_type": "stream",
     "text": [
      " 21%|██████████████▋                                                       | 322/1540 [02:43<10:20,  1.96it/s]"
     ]
    },
    {
     "name": "stdout",
     "output_type": "stream",
     "text": [
      "Acta Astronautica has homepage_url and type journal\n"
     ]
    },
    {
     "name": "stderr",
     "output_type": "stream",
     "text": [
      " 21%|██████████████▋                                                       | 323/1540 [02:44<10:09,  2.00it/s]"
     ]
    },
    {
     "name": "stdout",
     "output_type": "stream",
     "text": [
      "Photonics has homepage_url and type journal\n"
     ]
    },
    {
     "name": "stderr",
     "output_type": "stream",
     "text": [
      " 21%|██████████████▋                                                       | 324/1540 [02:44<09:46,  2.07it/s]"
     ]
    },
    {
     "name": "stdout",
     "output_type": "stream",
     "text": [
      "IEEE Aerospace and Electronic Systems Magazine has homepage_url and type journal\n"
     ]
    },
    {
     "name": "stderr",
     "output_type": "stream",
     "text": [
      " 21%|██████████████▊                                                       | 325/1540 [02:45<09:35,  2.11it/s]"
     ]
    },
    {
     "name": "stdout",
     "output_type": "stream",
     "text": [
      "IFAC-PapersOnLine has homepage_url and type journal\n"
     ]
    },
    {
     "name": "stderr",
     "output_type": "stream",
     "text": [
      " 21%|██████████████▊                                                       | 326/1540 [02:45<10:32,  1.92it/s]"
     ]
    },
    {
     "name": "stdout",
     "output_type": "stream",
     "text": [
      "Mathematics has homepage_url and type journal\n"
     ]
    },
    {
     "name": "stderr",
     "output_type": "stream",
     "text": [
      " 21%|██████████████▊                                                       | 327/1540 [02:46<10:03,  2.01it/s]"
     ]
    },
    {
     "name": "stdout",
     "output_type": "stream",
     "text": [
      "ACM Journal of Experimental Algorithms has homepage_url and type journal\n"
     ]
    },
    {
     "name": "stderr",
     "output_type": "stream",
     "text": [
      " 21%|██████████████▉                                                       | 329/1540 [02:47<10:38,  1.90it/s]"
     ]
    },
    {
     "name": "stdout",
     "output_type": "stream",
     "text": [
      "Physica Status Solidi B-basic Solid State Physics has homepage_url and type journal\n"
     ]
    },
    {
     "name": "stderr",
     "output_type": "stream",
     "text": [
      " 21%|███████████████                                                       | 330/1540 [02:47<10:08,  1.99it/s]"
     ]
    },
    {
     "name": "stdout",
     "output_type": "stream",
     "text": [
      "Physica Status Solidi A-applications and Materials Science has homepage_url and type journal\n"
     ]
    },
    {
     "name": "stderr",
     "output_type": "stream",
     "text": [
      " 21%|███████████████                                                       | 331/1540 [02:48<09:46,  2.06it/s]"
     ]
    },
    {
     "name": "stdout",
     "output_type": "stream",
     "text": [
      "APL Materials has homepage_url and type journal\n"
     ]
    },
    {
     "name": "stderr",
     "output_type": "stream",
     "text": [
      " 22%|███████████████▏                                                      | 334/1540 [02:49<09:15,  2.17it/s]"
     ]
    },
    {
     "name": "stdout",
     "output_type": "stream",
     "text": [
      "Lecture notes in networks and systems has homepage_url and type book series\n"
     ]
    },
    {
     "name": "stderr",
     "output_type": "stream",
     "text": [
      " 22%|███████████████▏                                                      | 335/1540 [02:49<09:33,  2.10it/s]"
     ]
    },
    {
     "name": "stdout",
     "output_type": "stream",
     "text": [
      "IEEE Transactions on Smart Grid has homepage_url and type journal\n"
     ]
    },
    {
     "name": "stderr",
     "output_type": "stream",
     "text": [
      " 22%|███████████████▎                                                      | 336/1540 [02:50<09:19,  2.15it/s]"
     ]
    },
    {
     "name": "stdout",
     "output_type": "stream",
     "text": [
      "Journal of Functional Analysis has homepage_url and type journal\n"
     ]
    },
    {
     "name": "stderr",
     "output_type": "stream",
     "text": [
      " 22%|███████████████▎                                                      | 337/1540 [02:50<09:40,  2.07it/s]"
     ]
    },
    {
     "name": "stdout",
     "output_type": "stream",
     "text": [
      "Nuclear Physics A has homepage_url and type journal\n"
     ]
    },
    {
     "name": "stderr",
     "output_type": "stream",
     "text": [
      " 22%|███████████████▎                                                      | 338/1540 [02:51<09:58,  2.01it/s]"
     ]
    },
    {
     "name": "stdout",
     "output_type": "stream",
     "text": [
      "Research Square (Research Square) has homepage_url and type repository\n"
     ]
    },
    {
     "name": "stderr",
     "output_type": "stream",
     "text": [
      " 22%|███████████████▍                                                      | 339/1540 [02:52<10:45,  1.86it/s]"
     ]
    },
    {
     "name": "stdout",
     "output_type": "stream",
     "text": [
      "Japanese Journal of Applied Physics has homepage_url and type journal\n"
     ]
    },
    {
     "name": "stderr",
     "output_type": "stream",
     "text": [
      " 22%|███████████████▍                                                      | 340/1540 [02:52<10:29,  1.90it/s]"
     ]
    },
    {
     "name": "stdout",
     "output_type": "stream",
     "text": [
      "IEEE/CAA Journal of Automatica Sinica has homepage_url and type journal\n"
     ]
    },
    {
     "name": "stderr",
     "output_type": "stream",
     "text": [
      " 22%|███████████████▌                                                      | 341/1540 [02:53<10:32,  1.89it/s]"
     ]
    },
    {
     "name": "stdout",
     "output_type": "stream",
     "text": [
      "Journal of Artificial Intelligence Research has homepage_url and type journal\n"
     ]
    },
    {
     "name": "stderr",
     "output_type": "stream",
     "text": [
      " 22%|███████████████▌                                                      | 342/1540 [02:53<10:11,  1.96it/s]"
     ]
    },
    {
     "name": "stdout",
     "output_type": "stream",
     "text": [
      "IET collaborative intelligent manufacturing has homepage_url and type journal\n"
     ]
    },
    {
     "name": "stderr",
     "output_type": "stream",
     "text": [
      " 22%|███████████████▌                                                      | 343/1540 [02:54<09:51,  2.03it/s]"
     ]
    },
    {
     "name": "stdout",
     "output_type": "stream",
     "text": [
      "IEEE Sensors Journal has homepage_url and type journal\n"
     ]
    },
    {
     "name": "stderr",
     "output_type": "stream",
     "text": [
      " 22%|███████████████▋                                                      | 344/1540 [02:54<09:29,  2.10it/s]"
     ]
    },
    {
     "name": "stdout",
     "output_type": "stream",
     "text": [
      "Iet Optoelectronics has homepage_url and type journal\n"
     ]
    },
    {
     "name": "stderr",
     "output_type": "stream",
     "text": [
      " 23%|███████████████▊                                                      | 348/1540 [02:56<09:27,  2.10it/s]"
     ]
    },
    {
     "name": "stdout",
     "output_type": "stream",
     "text": [
      "Petroleum Science has homepage_url and type journal\n"
     ]
    },
    {
     "name": "stderr",
     "output_type": "stream",
     "text": [
      " 23%|███████████████▉                                                      | 350/1540 [02:57<09:44,  2.04it/s]"
     ]
    },
    {
     "name": "stdout",
     "output_type": "stream",
     "text": [
      "IEEE open journal of nanotechnology has homepage_url and type journal\n"
     ]
    },
    {
     "name": "stderr",
     "output_type": "stream",
     "text": [
      " 23%|███████████████▉                                                      | 351/1540 [02:57<09:20,  2.12it/s]"
     ]
    },
    {
     "name": "stdout",
     "output_type": "stream",
     "text": [
      "IEEE Transactions on Information Forensics and Security has homepage_url and type journal\n"
     ]
    },
    {
     "name": "stderr",
     "output_type": "stream",
     "text": [
      " 23%|████████████████                                                      | 352/1540 [02:58<09:31,  2.08it/s]"
     ]
    },
    {
     "name": "stdout",
     "output_type": "stream",
     "text": [
      "Superconductor Science and Technology has homepage_url and type journal\n"
     ]
    },
    {
     "name": "stderr",
     "output_type": "stream",
     "text": [
      " 23%|████████████████                                                      | 353/1540 [02:58<09:41,  2.04it/s]"
     ]
    },
    {
     "name": "stdout",
     "output_type": "stream",
     "text": [
      "Condensed matter has homepage_url and type journal\n"
     ]
    },
    {
     "name": "stderr",
     "output_type": "stream",
     "text": [
      " 23%|████████████████                                                      | 354/1540 [02:59<09:36,  2.06it/s]"
     ]
    },
    {
     "name": "stdout",
     "output_type": "stream",
     "text": [
      "Unmanned Systems has homepage_url and type journal\n"
     ]
    },
    {
     "name": "stderr",
     "output_type": "stream",
     "text": [
      " 23%|████████████████▏                                                     | 356/1540 [03:00<09:15,  2.13it/s]"
     ]
    },
    {
     "name": "stdout",
     "output_type": "stream",
     "text": [
      "Artificial intelligence advances has homepage_url and type journal\n"
     ]
    },
    {
     "name": "stderr",
     "output_type": "stream",
     "text": [
      " 23%|████████████████▏                                                     | 357/1540 [03:00<09:21,  2.11it/s]"
     ]
    },
    {
     "name": "stdout",
     "output_type": "stream",
     "text": [
      "Semiconductor Science and Technology has homepage_url and type journal\n"
     ]
    },
    {
     "name": "stderr",
     "output_type": "stream",
     "text": [
      " 23%|████████████████▎                                                     | 358/1540 [03:01<09:17,  2.12it/s]"
     ]
    },
    {
     "name": "stdout",
     "output_type": "stream",
     "text": [
      "Synthesis Lectures on Computer Architecture has homepage_url and type journal\n"
     ]
    },
    {
     "name": "stderr",
     "output_type": "stream",
     "text": [
      " 23%|████████████████▎                                                     | 359/1540 [03:01<09:34,  2.06it/s]"
     ]
    },
    {
     "name": "stdout",
     "output_type": "stream",
     "text": [
      "Pramana has homepage_url and type journal\n"
     ]
    },
    {
     "name": "stderr",
     "output_type": "stream",
     "text": [
      " 23%|████████████████▎                                                     | 360/1540 [03:02<09:20,  2.11it/s]"
     ]
    },
    {
     "name": "stdout",
     "output_type": "stream",
     "text": [
      "Numerical Linear Algebra With Applications has homepage_url and type journal\n"
     ]
    },
    {
     "name": "stderr",
     "output_type": "stream",
     "text": [
      " 23%|████████████████▍                                                     | 361/1540 [03:02<09:27,  2.08it/s]"
     ]
    },
    {
     "name": "stdout",
     "output_type": "stream",
     "text": [
      "Micromachines has homepage_url and type journal\n"
     ]
    },
    {
     "name": "stderr",
     "output_type": "stream",
     "text": [
      " 24%|████████████████▍                                                     | 362/1540 [03:03<09:13,  2.13it/s]"
     ]
    },
    {
     "name": "stdout",
     "output_type": "stream",
     "text": [
      "IEEE Transactions on Communications has homepage_url and type journal\n"
     ]
    },
    {
     "name": "stderr",
     "output_type": "stream",
     "text": [
      " 24%|████████████████▌                                                     | 363/1540 [03:03<09:04,  2.16it/s]"
     ]
    },
    {
     "name": "stdout",
     "output_type": "stream",
     "text": [
      "Swarm and Evolutionary Computation has homepage_url and type journal\n"
     ]
    },
    {
     "name": "stderr",
     "output_type": "stream",
     "text": [
      " 24%|████████████████▋                                                     | 366/1540 [03:05<09:32,  2.05it/s]"
     ]
    },
    {
     "name": "stdout",
     "output_type": "stream",
     "text": [
      "Brazilian Journal of Physics has homepage_url and type journal\n"
     ]
    },
    {
     "name": "stderr",
     "output_type": "stream",
     "text": [
      " 24%|████████████████▋                                                     | 367/1540 [03:05<10:03,  1.94it/s]"
     ]
    },
    {
     "name": "stdout",
     "output_type": "stream",
     "text": [
      "IEICE Transactions on Electronics has homepage_url and type journal\n"
     ]
    },
    {
     "name": "stderr",
     "output_type": "stream",
     "text": [
      " 24%|████████████████▋                                                     | 368/1540 [03:06<10:09,  1.92it/s]"
     ]
    },
    {
     "name": "stdout",
     "output_type": "stream",
     "text": [
      "Solid-state Electronics has homepage_url and type journal\n"
     ]
    },
    {
     "name": "stderr",
     "output_type": "stream",
     "text": [
      " 24%|████████████████▊                                                     | 369/1540 [03:06<10:37,  1.84it/s]"
     ]
    },
    {
     "name": "stdout",
     "output_type": "stream",
     "text": [
      "Radiation Effects and Defects in Solids has homepage_url and type journal\n"
     ]
    },
    {
     "name": "stderr",
     "output_type": "stream",
     "text": [
      " 24%|████████████████▊                                                     | 370/1540 [03:07<10:09,  1.92it/s]"
     ]
    },
    {
     "name": "stdout",
     "output_type": "stream",
     "text": [
      "Superlattices and Microstructures has homepage_url and type journal\n"
     ]
    },
    {
     "name": "stderr",
     "output_type": "stream",
     "text": [
      " 24%|████████████████▊                                                     | 371/1540 [03:07<09:44,  2.00it/s]"
     ]
    },
    {
     "name": "stdout",
     "output_type": "stream",
     "text": [
      "Advances in Mechanical Engineering has homepage_url and type journal\n"
     ]
    },
    {
     "name": "stderr",
     "output_type": "stream",
     "text": [
      " 24%|████████████████▉                                                     | 372/1540 [03:08<09:40,  2.01it/s]"
     ]
    },
    {
     "name": "stdout",
     "output_type": "stream",
     "text": [
      "Combustion Theory and Modelling has homepage_url and type journal\n"
     ]
    },
    {
     "name": "stderr",
     "output_type": "stream",
     "text": [
      " 24%|████████████████▉                                                     | 373/1540 [03:08<09:23,  2.07it/s]"
     ]
    },
    {
     "name": "stdout",
     "output_type": "stream",
     "text": [
      "International Nano Letters has homepage_url and type journal\n"
     ]
    },
    {
     "name": "stderr",
     "output_type": "stream",
     "text": [
      " 24%|█████████████████                                                     | 375/1540 [03:09<09:39,  2.01it/s]"
     ]
    },
    {
     "name": "stdout",
     "output_type": "stream",
     "text": [
      "Security Studies has homepage_url and type journal\n"
     ]
    },
    {
     "name": "stderr",
     "output_type": "stream",
     "text": [
      " 24%|█████████████████                                                     | 376/1540 [03:10<09:18,  2.09it/s]"
     ]
    },
    {
     "name": "stdout",
     "output_type": "stream",
     "text": [
      "Laser Physics Letters has homepage_url and type journal\n"
     ]
    },
    {
     "name": "stderr",
     "output_type": "stream",
     "text": [
      " 25%|█████████████████▏                                                    | 378/1540 [03:11<09:21,  2.07it/s]"
     ]
    },
    {
     "name": "stdout",
     "output_type": "stream",
     "text": [
      "Optik has homepage_url and type journal\n"
     ]
    },
    {
     "name": "stderr",
     "output_type": "stream",
     "text": [
      " 25%|█████████████████▎                                                    | 380/1540 [03:11<09:24,  2.05it/s]"
     ]
    },
    {
     "name": "stdout",
     "output_type": "stream",
     "text": [
      "IEEE Journal of the Electron Devices Society has homepage_url and type journal\n"
     ]
    },
    {
     "name": "stderr",
     "output_type": "stream",
     "text": [
      " 25%|█████████████████▎                                                    | 382/1540 [03:12<09:03,  2.13it/s]"
     ]
    },
    {
     "name": "stdout",
     "output_type": "stream",
     "text": [
      "ACM Transactions on Design Automation of Electronic Systems has homepage_url and type journal\n"
     ]
    },
    {
     "name": "stderr",
     "output_type": "stream",
     "text": [
      " 25%|█████████████████▍                                                    | 383/1540 [03:13<08:55,  2.16it/s]"
     ]
    },
    {
     "name": "stdout",
     "output_type": "stream",
     "text": [
      "Sustainable Computing: Informatics and Systems has homepage_url and type journal\n"
     ]
    },
    {
     "name": "stderr",
     "output_type": "stream",
     "text": [
      " 25%|█████████████████▌                                                    | 385/1540 [03:14<08:39,  2.22it/s]"
     ]
    },
    {
     "name": "stdout",
     "output_type": "stream",
     "text": [
      "Foundations of Physics has homepage_url and type journal\n"
     ]
    },
    {
     "name": "stderr",
     "output_type": "stream",
     "text": [
      " 25%|█████████████████▌                                                    | 386/1540 [03:14<08:39,  2.22it/s]"
     ]
    },
    {
     "name": "stdout",
     "output_type": "stream",
     "text": [
      "Natural computing series has homepage_url and type book series\n"
     ]
    },
    {
     "name": "stderr",
     "output_type": "stream",
     "text": [
      " 25%|█████████████████▌                                                    | 387/1540 [03:15<09:14,  2.08it/s]"
     ]
    },
    {
     "name": "stdout",
     "output_type": "stream",
     "text": [
      "Journal of Statistical Physics has homepage_url and type journal\n"
     ]
    },
    {
     "name": "stderr",
     "output_type": "stream",
     "text": [
      " 25%|█████████████████▋                                                    | 388/1540 [03:15<09:05,  2.11it/s]"
     ]
    },
    {
     "name": "stdout",
     "output_type": "stream",
     "text": [
      "Symmetry has homepage_url and type journal\n"
     ]
    },
    {
     "name": "stderr",
     "output_type": "stream",
     "text": [
      " 25%|█████████████████▋                                                    | 389/1540 [03:16<08:53,  2.16it/s]"
     ]
    },
    {
     "name": "stdout",
     "output_type": "stream",
     "text": [
      "Nano express has homepage_url and type journal\n"
     ]
    },
    {
     "name": "stderr",
     "output_type": "stream",
     "text": [
      " 25%|█████████████████▋                                                    | 390/1540 [03:16<09:37,  1.99it/s]"
     ]
    },
    {
     "name": "stdout",
     "output_type": "stream",
     "text": [
      "European Physical Journal-special Topics has homepage_url and type journal\n"
     ]
    },
    {
     "name": "stderr",
     "output_type": "stream",
     "text": [
      " 25%|█████████████████▊                                                    | 391/1540 [03:17<10:16,  1.86it/s]"
     ]
    },
    {
     "name": "stdout",
     "output_type": "stream",
     "text": [
      "IEEE Transactions on Aerospace and Electronic Systems has homepage_url and type journal\n"
     ]
    },
    {
     "name": "stderr",
     "output_type": "stream",
     "text": [
      " 26%|█████████████████▊                                                    | 393/1540 [03:18<09:18,  2.05it/s]"
     ]
    },
    {
     "name": "stdout",
     "output_type": "stream",
     "text": [
      "Scientific Data has homepage_url and type journal\n"
     ]
    },
    {
     "name": "stderr",
     "output_type": "stream",
     "text": [
      " 26%|█████████████████▉                                                    | 394/1540 [03:18<09:21,  2.04it/s]"
     ]
    },
    {
     "name": "stdout",
     "output_type": "stream",
     "text": [
      "Biosystems has homepage_url and type journal\n"
     ]
    },
    {
     "name": "stderr",
     "output_type": "stream",
     "text": [
      " 26%|█████████████████▉                                                    | 395/1540 [03:19<09:31,  2.00it/s]"
     ]
    },
    {
     "name": "stdout",
     "output_type": "stream",
     "text": [
      "Open Engineering has homepage_url and type journal\n"
     ]
    },
    {
     "name": "stderr",
     "output_type": "stream",
     "text": [
      " 26%|██████████████████                                                    | 397/1540 [03:20<09:00,  2.11it/s]"
     ]
    },
    {
     "name": "stdout",
     "output_type": "stream",
     "text": [
      "Knowledge Based Systems has homepage_url and type journal\n"
     ]
    },
    {
     "name": "stderr",
     "output_type": "stream",
     "text": [
      " 26%|██████████████████                                                    | 398/1540 [03:20<09:00,  2.11it/s]"
     ]
    },
    {
     "name": "stdout",
     "output_type": "stream",
     "text": [
      "Nanoscale has homepage_url and type journal\n"
     ]
    },
    {
     "name": "stderr",
     "output_type": "stream",
     "text": [
      " 26%|██████████████████▏                                                   | 399/1540 [03:20<08:38,  2.20it/s]"
     ]
    },
    {
     "name": "stdout",
     "output_type": "stream",
     "text": [
      "Aiche Journal has homepage_url and type journal\n"
     ]
    },
    {
     "name": "stderr",
     "output_type": "stream",
     "text": [
      " 26%|██████████████████▏                                                   | 401/1540 [03:22<09:14,  2.05it/s]"
     ]
    },
    {
     "name": "stdout",
     "output_type": "stream",
     "text": [
      "Annual Reviews in Control has homepage_url and type journal\n"
     ]
    },
    {
     "name": "stderr",
     "output_type": "stream",
     "text": [
      " 26%|██████████████████▎                                                   | 402/1540 [03:22<09:18,  2.04it/s]"
     ]
    },
    {
     "name": "stdout",
     "output_type": "stream",
     "text": [
      "BMC Bioinformatics has homepage_url and type journal\n"
     ]
    },
    {
     "name": "stderr",
     "output_type": "stream",
     "text": [
      " 26%|██████████████████▎                                                   | 403/1540 [03:23<09:29,  2.00it/s]"
     ]
    },
    {
     "name": "stdout",
     "output_type": "stream",
     "text": [
      "Chip has homepage_url and type journal\n"
     ]
    },
    {
     "name": "stderr",
     "output_type": "stream",
     "text": [
      " 26%|██████████████████▌                                                   | 407/1540 [03:24<08:34,  2.20it/s]"
     ]
    },
    {
     "name": "stdout",
     "output_type": "stream",
     "text": [
      "Cancers has homepage_url and type journal\n"
     ]
    },
    {
     "name": "stderr",
     "output_type": "stream",
     "text": [
      " 26%|██████████████████▌                                                   | 408/1540 [03:25<08:45,  2.15it/s]"
     ]
    },
    {
     "name": "stdout",
     "output_type": "stream",
     "text": [
      "Quantum reports has homepage_url and type journal\n"
     ]
    },
    {
     "name": "stderr",
     "output_type": "stream",
     "text": [
      " 27%|██████████████████▌                                                   | 409/1540 [03:25<09:12,  2.05it/s]"
     ]
    },
    {
     "name": "stdout",
     "output_type": "stream",
     "text": [
      "Linear Algebra and its Applications has homepage_url and type journal\n"
     ]
    },
    {
     "name": "stderr",
     "output_type": "stream",
     "text": [
      " 27%|██████████████████▋                                                   | 410/1540 [03:26<09:07,  2.06it/s]"
     ]
    },
    {
     "name": "stdout",
     "output_type": "stream",
     "text": [
      "Communications in Nonlinear Science and Numerical Simulation has homepage_url and type journal\n"
     ]
    },
    {
     "name": "stderr",
     "output_type": "stream",
     "text": [
      " 27%|██████████████████▋                                                   | 411/1540 [03:26<10:05,  1.86it/s]"
     ]
    },
    {
     "name": "stdout",
     "output_type": "stream",
     "text": [
      "Solid-State Electronics has homepage_url and type journal\n"
     ]
    },
    {
     "name": "stderr",
     "output_type": "stream",
     "text": [
      " 27%|██████████████████▋                                                   | 412/1540 [03:27<09:42,  1.94it/s]"
     ]
    },
    {
     "name": "stdout",
     "output_type": "stream",
     "text": [
      "SpringerBriefs in computer science has homepage_url and type book series\n"
     ]
    },
    {
     "name": "stderr",
     "output_type": "stream",
     "text": [
      " 27%|██████████████████▊                                                   | 413/1540 [03:28<09:54,  1.90it/s]"
     ]
    },
    {
     "name": "stdout",
     "output_type": "stream",
     "text": [
      "Computer-aided chemical engineering has homepage_url and type book series\n"
     ]
    },
    {
     "name": "stderr",
     "output_type": "stream",
     "text": [
      " 27%|██████████████████▊                                                   | 414/1540 [03:28<09:50,  1.91it/s]"
     ]
    },
    {
     "name": "stdout",
     "output_type": "stream",
     "text": [
      "Lecture notes in electrical engineering has homepage_url and type book series\n"
     ]
    },
    {
     "name": "stderr",
     "output_type": "stream",
     "text": [
      " 27%|██████████████████▊                                                   | 415/1540 [03:28<09:19,  2.01it/s]"
     ]
    },
    {
     "name": "stdout",
     "output_type": "stream",
     "text": [
      "Cryptographic Hardware and Embedded Systems has homepage_url and type journal\n"
     ]
    },
    {
     "name": "stderr",
     "output_type": "stream",
     "text": [
      " 27%|███████████████████                                                   | 418/1540 [03:30<09:23,  1.99it/s]"
     ]
    },
    {
     "name": "stdout",
     "output_type": "stream",
     "text": [
      "Fractal and fractional has homepage_url and type journal\n"
     ]
    },
    {
     "name": "stderr",
     "output_type": "stream",
     "text": [
      " 27%|███████████████████                                                   | 419/1540 [03:30<09:26,  1.98it/s]"
     ]
    },
    {
     "name": "stdout",
     "output_type": "stream",
     "text": [
      "Chimia has homepage_url and type journal\n"
     ]
    },
    {
     "name": "stderr",
     "output_type": "stream",
     "text": [
      " 27%|███████████████████▏                                                  | 422/1540 [03:32<09:14,  2.02it/s]"
     ]
    },
    {
     "name": "stdout",
     "output_type": "stream",
     "text": [
      "medRxiv (Cold Spring Harbor Laboratory) has homepage_url and type repository\n"
     ]
    },
    {
     "name": "stderr",
     "output_type": "stream",
     "text": [
      " 28%|███████████████████▎                                                  | 424/1540 [03:33<08:58,  2.07it/s]"
     ]
    },
    {
     "name": "stdout",
     "output_type": "stream",
     "text": [
      "Iet Computers and Digital Techniques has homepage_url and type journal\n"
     ]
    },
    {
     "name": "stderr",
     "output_type": "stream",
     "text": [
      " 28%|███████████████████▎                                                  | 425/1540 [03:33<08:52,  2.09it/s]"
     ]
    },
    {
     "name": "stdout",
     "output_type": "stream",
     "text": [
      "Electronic proceedings in theoretical computer science has homepage_url and type journal\n"
     ]
    },
    {
     "name": "stderr",
     "output_type": "stream",
     "text": [
      " 28%|███████████████████▎                                                  | 426/1540 [03:34<09:03,  2.05it/s]"
     ]
    },
    {
     "name": "stdout",
     "output_type": "stream",
     "text": [
      "Soft Computing has homepage_url and type journal\n"
     ]
    },
    {
     "name": "stderr",
     "output_type": "stream",
     "text": [
      " 28%|███████████████████▍                                                  | 427/1540 [03:34<08:53,  2.08it/s]"
     ]
    },
    {
     "name": "stdout",
     "output_type": "stream",
     "text": [
      "Security and Communication Networks has homepage_url and type journal\n"
     ]
    },
    {
     "name": "stderr",
     "output_type": "stream",
     "text": [
      " 28%|███████████████████▍                                                  | 428/1540 [03:35<08:48,  2.10it/s]"
     ]
    },
    {
     "name": "stdout",
     "output_type": "stream",
     "text": [
      "Symposium on Theoretical Aspects of Computer Science has homepage_url and type conference\n"
     ]
    },
    {
     "name": "stderr",
     "output_type": "stream",
     "text": [
      " 28%|███████████████████▌                                                  | 429/1540 [03:35<09:01,  2.05it/s]"
     ]
    },
    {
     "name": "stdout",
     "output_type": "stream",
     "text": [
      "Journal of Global Optimization has homepage_url and type journal\n"
     ]
    },
    {
     "name": "stderr",
     "output_type": "stream",
     "text": [
      " 28%|███████████████████▌                                                  | 430/1540 [03:36<09:11,  2.01it/s]"
     ]
    },
    {
     "name": "stdout",
     "output_type": "stream",
     "text": [
      "Journal of Mathematical Cryptology has homepage_url and type journal\n"
     ]
    },
    {
     "name": "stderr",
     "output_type": "stream",
     "text": [
      " 28%|███████████████████▌                                                  | 431/1540 [03:36<09:38,  1.92it/s]"
     ]
    },
    {
     "name": "stdout",
     "output_type": "stream",
     "text": [
      "Journal of the ACM has homepage_url and type journal\n"
     ]
    },
    {
     "name": "stderr",
     "output_type": "stream",
     "text": [
      " 28%|███████████████████▋                                                  | 432/1540 [03:37<10:14,  1.80it/s]"
     ]
    },
    {
     "name": "stdout",
     "output_type": "stream",
     "text": [
      "Chemical Physics has homepage_url and type journal\n"
     ]
    },
    {
     "name": "stderr",
     "output_type": "stream",
     "text": [
      " 28%|███████████████████▋                                                  | 433/1540 [03:38<11:40,  1.58it/s]"
     ]
    },
    {
     "name": "stdout",
     "output_type": "stream",
     "text": [
      "Chemistry Letters has homepage_url and type journal\n"
     ]
    },
    {
     "name": "stderr",
     "output_type": "stream",
     "text": [
      " 28%|███████████████████▋                                                  | 434/1540 [03:39<11:48,  1.56it/s]"
     ]
    },
    {
     "name": "stdout",
     "output_type": "stream",
     "text": [
      "ACS applied electronic materials has homepage_url and type journal\n"
     ]
    },
    {
     "name": "stderr",
     "output_type": "stream",
     "text": [
      " 28%|███████████████████▊                                                  | 435/1540 [03:39<10:59,  1.68it/s]"
     ]
    },
    {
     "name": "stdout",
     "output_type": "stream",
     "text": [
      "Frontiers in Applied Mathematics and Statistics has homepage_url and type journal\n"
     ]
    },
    {
     "name": "stderr",
     "output_type": "stream",
     "text": [
      " 28%|███████████████████▊                                                  | 437/1540 [03:40<11:48,  1.56it/s]"
     ]
    },
    {
     "name": "stdout",
     "output_type": "stream",
     "text": [
      "Journal of Physical Chemistry C has homepage_url and type journal\n"
     ]
    },
    {
     "name": "stderr",
     "output_type": "stream",
     "text": [
      " 28%|███████████████████▉                                                  | 438/1540 [03:41<13:15,  1.39it/s]"
     ]
    },
    {
     "name": "stdout",
     "output_type": "stream",
     "text": [
      "Computing and informatics has homepage_url and type journal\n"
     ]
    },
    {
     "name": "stderr",
     "output_type": "stream",
     "text": [
      " 29%|████████████████████                                                  | 440/1540 [03:42<11:40,  1.57it/s]"
     ]
    },
    {
     "name": "stdout",
     "output_type": "stream",
     "text": [
      "Journal of King Saud University - Computer and Information Sciences has homepage_url and type journal\n"
     ]
    },
    {
     "name": "stderr",
     "output_type": "stream",
     "text": [
      " 29%|████████████████████                                                  | 441/1540 [03:43<10:58,  1.67it/s]"
     ]
    },
    {
     "name": "stdout",
     "output_type": "stream",
     "text": [
      "Manufacturing Letters has homepage_url and type journal\n"
     ]
    },
    {
     "name": "stderr",
     "output_type": "stream",
     "text": [
      " 29%|████████████████████                                                  | 442/1540 [03:44<11:17,  1.62it/s]"
     ]
    },
    {
     "name": "stdout",
     "output_type": "stream",
     "text": [
      "PLOS Computational Biology has homepage_url and type journal\n"
     ]
    },
    {
     "name": "stderr",
     "output_type": "stream",
     "text": [
      " 29%|████████████████████▏                                                 | 443/1540 [03:44<10:56,  1.67it/s]"
     ]
    },
    {
     "name": "stdout",
     "output_type": "stream",
     "text": [
      "Technovation has homepage_url and type journal\n"
     ]
    },
    {
     "name": "stderr",
     "output_type": "stream",
     "text": [
      " 29%|████████████████████▏                                                 | 444/1540 [03:45<10:40,  1.71it/s]"
     ]
    },
    {
     "name": "stdout",
     "output_type": "stream",
     "text": [
      "Acta Physica Polonica A has homepage_url and type journal\n"
     ]
    },
    {
     "name": "stderr",
     "output_type": "stream",
     "text": [
      " 29%|████████████████████▏                                                 | 445/1540 [03:45<10:27,  1.74it/s]"
     ]
    },
    {
     "name": "stdout",
     "output_type": "stream",
     "text": [
      "Cognitive Robotics has homepage_url and type journal\n"
     ]
    },
    {
     "name": "stderr",
     "output_type": "stream",
     "text": [
      " 29%|████████████████████▎                                                 | 446/1540 [03:46<09:45,  1.87it/s]"
     ]
    },
    {
     "name": "stdout",
     "output_type": "stream",
     "text": [
      "Electronic Markets has homepage_url and type journal\n"
     ]
    },
    {
     "name": "stderr",
     "output_type": "stream",
     "text": [
      " 29%|████████████████████▎                                                 | 447/1540 [03:46<09:31,  1.91it/s]"
     ]
    },
    {
     "name": "stdout",
     "output_type": "stream",
     "text": [
      "Journal of the Franklin Institute has homepage_url and type journal\n"
     ]
    },
    {
     "name": "stderr",
     "output_type": "stream",
     "text": [
      " 29%|████████████████████▍                                                 | 449/1540 [03:47<10:00,  1.82it/s]"
     ]
    },
    {
     "name": "stdout",
     "output_type": "stream",
     "text": [
      "Lab on a Chip has homepage_url and type journal\n"
     ]
    },
    {
     "name": "stderr",
     "output_type": "stream",
     "text": [
      " 29%|████████████████████▍                                                 | 450/1540 [03:48<10:01,  1.81it/s]"
     ]
    },
    {
     "name": "stdout",
     "output_type": "stream",
     "text": [
      "Energy Reports has homepage_url and type journal\n"
     ]
    },
    {
     "name": "stderr",
     "output_type": "stream",
     "text": [
      " 29%|████████████████████▌                                                 | 451/1540 [03:48<10:01,  1.81it/s]"
     ]
    },
    {
     "name": "stdout",
     "output_type": "stream",
     "text": [
      "Human Heredity has homepage_url and type journal\n"
     ]
    },
    {
     "name": "stderr",
     "output_type": "stream",
     "text": [
      " 29%|████████████████████▌                                                 | 452/1540 [03:49<09:56,  1.82it/s]"
     ]
    },
    {
     "name": "stdout",
     "output_type": "stream",
     "text": [
      "International Journal of Numerical Modelling-electronic Networks Devices and Fields has homepage_url and type journal\n"
     ]
    },
    {
     "name": "stderr",
     "output_type": "stream",
     "text": [
      " 29%|████████████████████▌                                                 | 453/1540 [03:49<09:40,  1.87it/s]"
     ]
    },
    {
     "name": "stdout",
     "output_type": "stream",
     "text": [
      "Engineering Optimization has homepage_url and type journal\n"
     ]
    },
    {
     "name": "stderr",
     "output_type": "stream",
     "text": [
      " 29%|████████████████████▋                                                 | 454/1540 [03:50<09:16,  1.95it/s]"
     ]
    },
    {
     "name": "stdout",
     "output_type": "stream",
     "text": [
      "Computer Graphics Forum has homepage_url and type journal\n"
     ]
    },
    {
     "name": "stderr",
     "output_type": "stream",
     "text": [
      " 30%|████████████████████▋                                                 | 455/1540 [03:51<10:23,  1.74it/s]"
     ]
    },
    {
     "name": "stdout",
     "output_type": "stream",
     "text": [
      "Chinese Journal of Chemistry has homepage_url and type journal\n"
     ]
    },
    {
     "name": "stderr",
     "output_type": "stream",
     "text": [
      " 30%|████████████████████▋                                                 | 456/1540 [03:51<09:34,  1.89it/s]"
     ]
    },
    {
     "name": "stdout",
     "output_type": "stream",
     "text": [
      "Turkish journal of physics has homepage_url and type journal\n"
     ]
    },
    {
     "name": "stderr",
     "output_type": "stream",
     "text": [
      " 30%|████████████████████▊                                                 | 457/1540 [03:52<10:06,  1.79it/s]"
     ]
    },
    {
     "name": "stdout",
     "output_type": "stream",
     "text": [
      "Computing in Science and Engineering has homepage_url and type journal\n"
     ]
    },
    {
     "name": "stderr",
     "output_type": "stream",
     "text": [
      " 30%|████████████████████▊                                                 | 458/1540 [03:52<09:51,  1.83it/s]"
     ]
    },
    {
     "name": "stdout",
     "output_type": "stream",
     "text": [
      "Constraints - An International Journal has homepage_url and type journal\n"
     ]
    },
    {
     "name": "stderr",
     "output_type": "stream",
     "text": [
      " 30%|████████████████████▉                                                 | 460/1540 [03:53<09:15,  1.95it/s]"
     ]
    },
    {
     "name": "stdout",
     "output_type": "stream",
     "text": [
      "Journal of Plasma Physics has homepage_url and type journal\n"
     ]
    },
    {
     "name": "stderr",
     "output_type": "stream",
     "text": [
      " 30%|████████████████████▉                                                 | 461/1540 [03:54<09:14,  1.95it/s]"
     ]
    },
    {
     "name": "stdout",
     "output_type": "stream",
     "text": [
      "Physica Scripta has homepage_url and type journal\n"
     ]
    },
    {
     "name": "stderr",
     "output_type": "stream",
     "text": [
      " 30%|█████████████████████                                                 | 462/1540 [03:54<08:45,  2.05it/s]"
     ]
    },
    {
     "name": "stdout",
     "output_type": "stream",
     "text": [
      "Software Impacts has homepage_url and type journal\n"
     ]
    },
    {
     "name": "stderr",
     "output_type": "stream",
     "text": [
      " 30%|█████████████████████                                                 | 463/1540 [03:55<08:43,  2.06it/s]"
     ]
    },
    {
     "name": "stdout",
     "output_type": "stream",
     "text": [
      "Condensed Matter Physics has homepage_url and type journal\n"
     ]
    },
    {
     "name": "stderr",
     "output_type": "stream",
     "text": [
      " 30%|█████████████████████                                                 | 464/1540 [03:55<09:00,  1.99it/s]"
     ]
    },
    {
     "name": "stdout",
     "output_type": "stream",
     "text": [
      "Eurasip Journal on Wireless Communications and Networking has homepage_url and type journal\n"
     ]
    },
    {
     "name": "stderr",
     "output_type": "stream",
     "text": [
      " 30%|█████████████████████▏                                                | 465/1540 [03:56<09:37,  1.86it/s]"
     ]
    },
    {
     "name": "stdout",
     "output_type": "stream",
     "text": [
      "Human-Intelligent Systems Integration has homepage_url and type journal\n"
     ]
    },
    {
     "name": "stderr",
     "output_type": "stream",
     "text": [
      " 30%|█████████████████████▏                                                | 466/1540 [03:56<09:43,  1.84it/s]"
     ]
    },
    {
     "name": "stdout",
     "output_type": "stream",
     "text": [
      "International Journal of Automation and Computing has homepage_url and type journal\n"
     ]
    },
    {
     "name": "stderr",
     "output_type": "stream",
     "text": [
      " 30%|█████████████████████▎                                                | 468/1540 [03:57<08:57,  1.99it/s]"
     ]
    },
    {
     "name": "stdout",
     "output_type": "stream",
     "text": [
      "Neuromorphic computing and engineering has homepage_url and type journal\n"
     ]
    },
    {
     "name": "stderr",
     "output_type": "stream",
     "text": [
      " 31%|█████████████████████▎                                                | 470/1540 [03:58<08:35,  2.08it/s]"
     ]
    },
    {
     "name": "stdout",
     "output_type": "stream",
     "text": [
      "Information Processing Letters has homepage_url and type journal\n"
     ]
    },
    {
     "name": "stderr",
     "output_type": "stream",
     "text": [
      " 31%|█████████████████████▍                                                | 472/1540 [03:59<08:38,  2.06it/s]"
     ]
    },
    {
     "name": "stdout",
     "output_type": "stream",
     "text": [
      "Fuel has homepage_url and type journal\n"
     ]
    },
    {
     "name": "stderr",
     "output_type": "stream",
     "text": [
      " 31%|█████████████████████▌                                                | 473/1540 [04:00<10:20,  1.72it/s]"
     ]
    },
    {
     "name": "stdout",
     "output_type": "stream",
     "text": [
      "Nanoethics has homepage_url and type journal\n"
     ]
    },
    {
     "name": "stderr",
     "output_type": "stream",
     "text": [
      " 31%|█████████████████████▌                                                | 474/1540 [04:00<09:32,  1.86it/s]"
     ]
    },
    {
     "name": "stdout",
     "output_type": "stream",
     "text": [
      "SciPost physics core has homepage_url and type journal\n"
     ]
    },
    {
     "name": "stderr",
     "output_type": "stream",
     "text": [
      " 31%|█████████████████████▋                                                | 476/1540 [04:01<09:34,  1.85it/s]"
     ]
    },
    {
     "name": "stdout",
     "output_type": "stream",
     "text": [
      "IEEE ACM Transactions on Networking has homepage_url and type journal\n"
     ]
    },
    {
     "name": "stderr",
     "output_type": "stream",
     "text": [
      " 31%|█████████████████████▋                                                | 477/1540 [04:02<09:02,  1.96it/s]"
     ]
    },
    {
     "name": "stdout",
     "output_type": "stream",
     "text": [
      "Journal of Physics D has homepage_url and type journal\n"
     ]
    },
    {
     "name": "stderr",
     "output_type": "stream",
     "text": [
      " 31%|█████████████████████▋                                                | 478/1540 [04:02<08:59,  1.97it/s]"
     ]
    },
    {
     "name": "stdout",
     "output_type": "stream",
     "text": [
      "Mendel ... has homepage_url and type journal\n"
     ]
    },
    {
     "name": "stderr",
     "output_type": "stream",
     "text": [
      " 31%|█████████████████████▊                                                | 479/1540 [04:03<08:38,  2.05it/s]"
     ]
    },
    {
     "name": "stdout",
     "output_type": "stream",
     "text": [
      "Spine surgery and related research has homepage_url and type journal\n"
     ]
    },
    {
     "name": "stderr",
     "output_type": "stream",
     "text": [
      " 31%|█████████████████████▊                                                | 480/1540 [04:03<08:57,  1.97it/s]"
     ]
    },
    {
     "name": "stdout",
     "output_type": "stream",
     "text": [
      "The Journal of Supercomputing has homepage_url and type journal\n"
     ]
    },
    {
     "name": "stderr",
     "output_type": "stream",
     "text": [
      " 31%|█████████████████████▊                                                | 481/1540 [04:04<08:53,  1.98it/s]"
     ]
    },
    {
     "name": "stdout",
     "output_type": "stream",
     "text": [
      "Frontiers of Optoelectronics has homepage_url and type journal\n"
     ]
    },
    {
     "name": "stderr",
     "output_type": "stream",
     "text": [
      " 31%|█████████████████████▉                                                | 482/1540 [04:04<08:58,  1.96it/s]"
     ]
    },
    {
     "name": "stdout",
     "output_type": "stream",
     "text": [
      "Journal of Systems and Software has homepage_url and type journal\n"
     ]
    },
    {
     "name": "stderr",
     "output_type": "stream",
     "text": [
      " 31%|█████████████████████▉                                                | 483/1540 [04:05<08:53,  1.98it/s]"
     ]
    },
    {
     "name": "stdout",
     "output_type": "stream",
     "text": [
      "IEEE Transactions on Industry Applications has homepage_url and type journal\n"
     ]
    },
    {
     "name": "stderr",
     "output_type": "stream",
     "text": [
      " 32%|██████████████████████                                                | 486/1540 [04:06<08:51,  1.98it/s]"
     ]
    },
    {
     "name": "stdout",
     "output_type": "stream",
     "text": [
      "IEEE open journal of the Communications Society has homepage_url and type journal\n"
     ]
    },
    {
     "name": "stderr",
     "output_type": "stream",
     "text": [
      " 32%|██████████████████████▏                                               | 487/1540 [04:07<09:12,  1.91it/s]"
     ]
    },
    {
     "name": "stdout",
     "output_type": "stream",
     "text": [
      "Advanced photonics has homepage_url and type journal\n"
     ]
    },
    {
     "name": "stderr",
     "output_type": "stream",
     "text": [
      " 32%|██████████████████████▏                                               | 488/1540 [04:07<09:06,  1.92it/s]"
     ]
    },
    {
     "name": "stdout",
     "output_type": "stream",
     "text": [
      "IEEE Transactions on Pattern Analysis and Machine Intelligence has homepage_url and type journal\n"
     ]
    },
    {
     "name": "stderr",
     "output_type": "stream",
     "text": [
      " 32%|██████████████████████▎                                               | 490/1540 [04:08<08:25,  2.08it/s]"
     ]
    },
    {
     "name": "stdout",
     "output_type": "stream",
     "text": [
      "IEEE Transactions on Knowledge and Data Engineering has homepage_url and type journal\n"
     ]
    },
    {
     "name": "stderr",
     "output_type": "stream",
     "text": [
      " 32%|██████████████████████▎                                               | 492/1540 [04:09<08:52,  1.97it/s]"
     ]
    },
    {
     "name": "stdout",
     "output_type": "stream",
     "text": [
      "Open Computer Science has homepage_url and type journal\n"
     ]
    },
    {
     "name": "stderr",
     "output_type": "stream",
     "text": [
      " 32%|██████████████████████▍                                               | 493/1540 [04:10<08:55,  1.95it/s]"
     ]
    },
    {
     "name": "stdout",
     "output_type": "stream",
     "text": [
      "European Journal of Physics has homepage_url and type journal\n"
     ]
    },
    {
     "name": "stderr",
     "output_type": "stream",
     "text": [
      " 32%|██████████████████████▍                                               | 494/1540 [04:10<08:38,  2.02it/s]"
     ]
    },
    {
     "name": "stdout",
     "output_type": "stream",
     "text": [
      "Nanoscale advances has homepage_url and type journal\n"
     ]
    },
    {
     "name": "stderr",
     "output_type": "stream",
     "text": [
      " 32%|██████████████████████▌                                               | 495/1540 [04:11<09:05,  1.92it/s]"
     ]
    },
    {
     "name": "stdout",
     "output_type": "stream",
     "text": [
      "Journal of Algebraic Combinatorics has homepage_url and type journal\n"
     ]
    },
    {
     "name": "stderr",
     "output_type": "stream",
     "text": [
      " 32%|██████████████████████▌                                               | 497/1540 [04:12<09:01,  1.93it/s]"
     ]
    },
    {
     "name": "stdout",
     "output_type": "stream",
     "text": [
      "Neurophotonics has homepage_url and type journal\n"
     ]
    },
    {
     "name": "stderr",
     "output_type": "stream",
     "text": [
      " 32%|██████████████████████▋                                               | 498/1540 [04:13<09:03,  1.92it/s]"
     ]
    },
    {
     "name": "stdout",
     "output_type": "stream",
     "text": [
      "Cyber-physical systems has homepage_url and type journal\n"
     ]
    },
    {
     "name": "stderr",
     "output_type": "stream",
     "text": [
      " 32%|██████████████████████▋                                               | 499/1540 [04:13<08:49,  1.97it/s]"
     ]
    },
    {
     "name": "stdout",
     "output_type": "stream",
     "text": [
      "Computational Optimization and Applications has homepage_url and type journal\n"
     ]
    },
    {
     "name": "stderr",
     "output_type": "stream",
     "text": [
      " 33%|██████████████████████▊                                               | 501/1540 [04:14<08:44,  1.98it/s]"
     ]
    },
    {
     "name": "stdout",
     "output_type": "stream",
     "text": [
      "Cybernetics and Information Technologies has homepage_url and type journal\n"
     ]
    },
    {
     "name": "stderr",
     "output_type": "stream",
     "text": [
      " 33%|██████████████████████▊                                               | 502/1540 [04:14<08:30,  2.03it/s]"
     ]
    },
    {
     "name": "stdout",
     "output_type": "stream",
     "text": [
      "Communications in Theoretical Physics has homepage_url and type journal\n"
     ]
    },
    {
     "name": "stderr",
     "output_type": "stream",
     "text": [
      " 33%|███████████████████████                                               | 507/1540 [04:17<08:35,  2.00it/s]"
     ]
    },
    {
     "name": "stdout",
     "output_type": "stream",
     "text": [
      "Technologies (Basel) has homepage_url and type journal\n"
     ]
    },
    {
     "name": "stderr",
     "output_type": "stream",
     "text": [
      " 33%|███████████████████████                                               | 508/1540 [04:17<08:48,  1.95it/s]"
     ]
    },
    {
     "name": "stdout",
     "output_type": "stream",
     "text": [
      "Materials Today: Proceedings has homepage_url and type journal\n"
     ]
    },
    {
     "name": "stderr",
     "output_type": "stream",
     "text": [
      " 33%|███████████████████████▏                                              | 510/1540 [04:18<08:37,  1.99it/s]"
     ]
    },
    {
     "name": "stdout",
     "output_type": "stream",
     "text": [
      "Technology in Society has homepage_url and type journal\n"
     ]
    },
    {
     "name": "stderr",
     "output_type": "stream",
     "text": [
      " 33%|███████████████████████▎                                              | 512/1540 [04:19<07:58,  2.15it/s]"
     ]
    },
    {
     "name": "stdout",
     "output_type": "stream",
     "text": [
      "International Journal of Wireless and Mobile Computing has homepage_url and type journal\n"
     ]
    },
    {
     "name": "stderr",
     "output_type": "stream",
     "text": [
      " 33%|███████████████████████▎                                              | 513/1540 [04:20<07:52,  2.17it/s]"
     ]
    },
    {
     "name": "stdout",
     "output_type": "stream",
     "text": [
      "IEEE sensors letters has homepage_url and type journal\n"
     ]
    },
    {
     "name": "stderr",
     "output_type": "stream",
     "text": [
      " 33%|███████████████████████▎                                              | 514/1540 [04:20<08:19,  2.06it/s]"
     ]
    },
    {
     "name": "stdout",
     "output_type": "stream",
     "text": [
      "IEEE Transactions on Antennas and Propagation has homepage_url and type journal\n"
     ]
    },
    {
     "name": "stderr",
     "output_type": "stream",
     "text": [
      " 34%|███████████████████████▍                                              | 517/1540 [04:22<08:32,  2.00it/s]"
     ]
    },
    {
     "name": "stdout",
     "output_type": "stream",
     "text": [
      "Etri Journal has homepage_url and type journal\n"
     ]
    },
    {
     "name": "stderr",
     "output_type": "stream",
     "text": [
      " 34%|███████████████████████▋                                              | 521/1540 [04:24<08:14,  2.06it/s]"
     ]
    },
    {
     "name": "stdout",
     "output_type": "stream",
     "text": [
      "SciPost physics lecture notes has homepage_url and type journal\n"
     ]
    },
    {
     "name": "stderr",
     "output_type": "stream",
     "text": [
      " 34%|███████████████████████▋                                              | 522/1540 [04:24<08:12,  2.07it/s]"
     ]
    },
    {
     "name": "stdout",
     "output_type": "stream",
     "text": [
      "Briefings in Bioinformatics has homepage_url and type journal\n"
     ]
    },
    {
     "name": "stderr",
     "output_type": "stream",
     "text": [
      " 34%|███████████████████████▊                                              | 523/1540 [04:25<07:59,  2.12it/s]"
     ]
    },
    {
     "name": "stdout",
     "output_type": "stream",
     "text": [
      "Physics of Fluids has homepage_url and type journal\n"
     ]
    },
    {
     "name": "stderr",
     "output_type": "stream",
     "text": [
      " 34%|███████████████████████▊                                              | 524/1540 [04:25<08:15,  2.05it/s]"
     ]
    },
    {
     "name": "stdout",
     "output_type": "stream",
     "text": [
      "Bioinformatics has homepage_url and type journal\n"
     ]
    },
    {
     "name": "stderr",
     "output_type": "stream",
     "text": [
      " 34%|███████████████████████▊                                              | 525/1540 [04:26<08:14,  2.05it/s]"
     ]
    },
    {
     "name": "stdout",
     "output_type": "stream",
     "text": [
      "Progress in Nuclear Magnetic Resonance Spectroscopy has homepage_url and type journal\n"
     ]
    },
    {
     "name": "stderr",
     "output_type": "stream",
     "text": [
      " 34%|███████████████████████▉                                              | 526/1540 [04:26<08:35,  1.97it/s]"
     ]
    },
    {
     "name": "stdout",
     "output_type": "stream",
     "text": [
      "European Journal of Operational Research has homepage_url and type journal\n"
     ]
    },
    {
     "name": "stderr",
     "output_type": "stream",
     "text": [
      " 34%|███████████████████████▉                                              | 527/1540 [04:27<08:17,  2.04it/s]"
     ]
    },
    {
     "name": "stdout",
     "output_type": "stream",
     "text": [
      "Peking mathematical journal has homepage_url and type journal\n"
     ]
    },
    {
     "name": "stderr",
     "output_type": "stream",
     "text": [
      " 34%|████████████████████████                                              | 528/1540 [04:27<08:07,  2.08it/s]"
     ]
    },
    {
     "name": "stdout",
     "output_type": "stream",
     "text": [
      "Iet Information Security has homepage_url and type journal\n"
     ]
    },
    {
     "name": "stderr",
     "output_type": "stream",
     "text": [
      " 34%|████████████████████████                                              | 529/1540 [04:28<07:58,  2.11it/s]"
     ]
    },
    {
     "name": "stdout",
     "output_type": "stream",
     "text": [
      "OSA continuum has homepage_url and type journal\n"
     ]
    },
    {
     "name": "stderr",
     "output_type": "stream",
     "text": [
      " 35%|████████████████████████▏                                             | 532/1540 [04:29<07:41,  2.19it/s]"
     ]
    },
    {
     "name": "stdout",
     "output_type": "stream",
     "text": [
      "International Journal of Modern Physics B has homepage_url and type journal\n"
     ]
    },
    {
     "name": "stderr",
     "output_type": "stream",
     "text": [
      " 35%|████████████████████████▏                                             | 533/1540 [04:30<08:00,  2.09it/s]"
     ]
    },
    {
     "name": "stdout",
     "output_type": "stream",
     "text": [
      "Micro and Nanosystems has homepage_url and type journal\n"
     ]
    },
    {
     "name": "stderr",
     "output_type": "stream",
     "text": [
      " 35%|████████████████████████▎                                             | 535/1540 [04:30<08:00,  2.09it/s]"
     ]
    },
    {
     "name": "stdout",
     "output_type": "stream",
     "text": [
      "International Journal of Reconfigurable Computing has homepage_url and type journal\n"
     ]
    },
    {
     "name": "stderr",
     "output_type": "stream",
     "text": [
      " 35%|████████████████████████▎                                             | 536/1540 [04:31<07:53,  2.12it/s]"
     ]
    },
    {
     "name": "stdout",
     "output_type": "stream",
     "text": [
      "Journal of Electronic Science and Technology has homepage_url and type journal\n"
     ]
    },
    {
     "name": "stderr",
     "output_type": "stream",
     "text": [
      " 35%|████████████████████████▍                                             | 537/1540 [04:32<08:44,  1.91it/s]"
     ]
    },
    {
     "name": "stdout",
     "output_type": "stream",
     "text": [
      "Journal of Computational Science has homepage_url and type journal\n"
     ]
    },
    {
     "name": "stderr",
     "output_type": "stream",
     "text": [
      " 35%|████████████████████████▍                                             | 538/1540 [04:32<08:58,  1.86it/s]"
     ]
    },
    {
     "name": "stdout",
     "output_type": "stream",
     "text": [
      "IEEE Wireless Communications has homepage_url and type journal\n"
     ]
    },
    {
     "name": "stderr",
     "output_type": "stream",
     "text": [
      " 35%|████████████████████████▌                                             | 539/1540 [04:33<08:41,  1.92it/s]"
     ]
    },
    {
     "name": "stdout",
     "output_type": "stream",
     "text": [
      "Multimedia Tools and Applications has homepage_url and type journal\n"
     ]
    },
    {
     "name": "stderr",
     "output_type": "stream",
     "text": [
      " 35%|████████████████████████▌                                             | 540/1540 [04:33<08:33,  1.95it/s]"
     ]
    },
    {
     "name": "stdout",
     "output_type": "stream",
     "text": [
      "Statistical Science has homepage_url and type journal\n"
     ]
    },
    {
     "name": "stderr",
     "output_type": "stream",
     "text": [
      " 35%|████████████████████████▌                                             | 541/1540 [04:34<08:17,  2.01it/s]"
     ]
    },
    {
     "name": "stdout",
     "output_type": "stream",
     "text": [
      "IOP SciNotes has homepage_url and type journal\n"
     ]
    },
    {
     "name": "stderr",
     "output_type": "stream",
     "text": [
      " 35%|████████████████████████▋                                             | 542/1540 [04:34<08:14,  2.02it/s]"
     ]
    },
    {
     "name": "stdout",
     "output_type": "stream",
     "text": [
      "Thermal Science has homepage_url and type journal\n"
     ]
    },
    {
     "name": "stderr",
     "output_type": "stream",
     "text": [
      " 35%|████████████████████████▋                                             | 543/1540 [04:35<08:23,  1.98it/s]"
     ]
    },
    {
     "name": "stdout",
     "output_type": "stream",
     "text": [
      "Chinese Physics has homepage_url and type journal\n"
     ]
    },
    {
     "name": "stderr",
     "output_type": "stream",
     "text": [
      " 35%|████████████████████████▋                                             | 544/1540 [04:35<08:12,  2.02it/s]"
     ]
    },
    {
     "name": "stdout",
     "output_type": "stream",
     "text": [
      "Classical and Quantum Gravity has homepage_url and type journal\n"
     ]
    },
    {
     "name": "stderr",
     "output_type": "stream",
     "text": [
      " 35%|████████████████████████▊                                             | 546/1540 [04:36<08:01,  2.06it/s]"
     ]
    },
    {
     "name": "stdout",
     "output_type": "stream",
     "text": [
      "Microelectronics Journal has homepage_url and type journal\n"
     ]
    },
    {
     "name": "stderr",
     "output_type": "stream",
     "text": [
      " 36%|████████████████████████▉                                             | 548/1540 [04:37<08:12,  2.01it/s]"
     ]
    },
    {
     "name": "stdout",
     "output_type": "stream",
     "text": [
      "Journal of Low Power Electronics and Applications has homepage_url and type journal\n"
     ]
    },
    {
     "name": "stderr",
     "output_type": "stream",
     "text": [
      " 36%|████████████████████████▉                                             | 549/1540 [04:38<08:08,  2.03it/s]"
     ]
    },
    {
     "name": "stdout",
     "output_type": "stream",
     "text": [
      "Frontiers in Physiology has homepage_url and type journal\n"
     ]
    },
    {
     "name": "stderr",
     "output_type": "stream",
     "text": [
      " 36%|█████████████████████████                                             | 550/1540 [04:38<07:52,  2.10it/s]"
     ]
    },
    {
     "name": "stdout",
     "output_type": "stream",
     "text": [
      "International journal of networking and computing has homepage_url and type journal\n"
     ]
    },
    {
     "name": "stderr",
     "output_type": "stream",
     "text": [
      " 36%|█████████████████████████                                             | 551/1540 [04:38<07:58,  2.07it/s]"
     ]
    },
    {
     "name": "stdout",
     "output_type": "stream",
     "text": [
      "IEEE Engineering Management Review has homepage_url and type journal\n"
     ]
    },
    {
     "name": "stderr",
     "output_type": "stream",
     "text": [
      " 36%|█████████████████████████                                             | 552/1540 [04:39<08:01,  2.05it/s]"
     ]
    },
    {
     "name": "stdout",
     "output_type": "stream",
     "text": [
      "Engineering international has homepage_url and type journal\n"
     ]
    },
    {
     "name": "stderr",
     "output_type": "stream",
     "text": [
      " 36%|█████████████████████████▏                                            | 554/1540 [04:40<07:52,  2.09it/s]"
     ]
    },
    {
     "name": "stdout",
     "output_type": "stream",
     "text": [
      "Optical and Quantum Electronics has homepage_url and type journal\n"
     ]
    },
    {
     "name": "stderr",
     "output_type": "stream",
     "text": [
      " 36%|█████████████████████████▏                                            | 555/1540 [04:40<07:57,  2.06it/s]"
     ]
    },
    {
     "name": "stdout",
     "output_type": "stream",
     "text": [
      "Science of Computer Programming has homepage_url and type journal\n"
     ]
    },
    {
     "name": "stderr",
     "output_type": "stream",
     "text": [
      " 36%|█████████████████████████▎                                            | 556/1540 [04:41<07:59,  2.05it/s]"
     ]
    },
    {
     "name": "stdout",
     "output_type": "stream",
     "text": [
      "IEEE Transactions on Automatic Control has homepage_url and type journal\n"
     ]
    },
    {
     "name": "stderr",
     "output_type": "stream",
     "text": [
      " 36%|█████████████████████████▎                                            | 557/1540 [04:41<08:23,  1.95it/s]"
     ]
    },
    {
     "name": "stdout",
     "output_type": "stream",
     "text": [
      "IEEE Transactions on Services Computing has homepage_url and type journal\n"
     ]
    },
    {
     "name": "stderr",
     "output_type": "stream",
     "text": [
      " 36%|█████████████████████████▎                                            | 558/1540 [04:42<08:07,  2.02it/s]"
     ]
    },
    {
     "name": "stdout",
     "output_type": "stream",
     "text": [
      "IEEE Photonics Journal has homepage_url and type journal\n"
     ]
    },
    {
     "name": "stderr",
     "output_type": "stream",
     "text": [
      " 36%|█████████████████████████▍                                            | 559/1540 [04:42<08:13,  1.99it/s]"
     ]
    },
    {
     "name": "stdout",
     "output_type": "stream",
     "text": [
      "Nanomaterials has homepage_url and type journal\n"
     ]
    },
    {
     "name": "stderr",
     "output_type": "stream",
     "text": [
      " 36%|█████████████████████████▌                                            | 561/1540 [04:43<07:53,  2.07it/s]"
     ]
    },
    {
     "name": "stdout",
     "output_type": "stream",
     "text": [
      "Future Generation Computer Systems has homepage_url and type journal\n"
     ]
    },
    {
     "name": "stderr",
     "output_type": "stream",
     "text": [
      " 36%|█████████████████████████▌                                            | 562/1540 [04:44<08:42,  1.87it/s]"
     ]
    },
    {
     "name": "stdout",
     "output_type": "stream",
     "text": [
      "Journal of software has homepage_url and type journal\n"
     ]
    },
    {
     "name": "stderr",
     "output_type": "stream",
     "text": [
      " 37%|█████████████████████████▋                                            | 566/1540 [04:46<07:47,  2.08it/s]"
     ]
    },
    {
     "name": "stdout",
     "output_type": "stream",
     "text": [
      "CCF Transactions on High Performance Computing has homepage_url and type journal\n"
     ]
    },
    {
     "name": "stderr",
     "output_type": "stream",
     "text": [
      " 37%|█████████████████████████▊                                            | 567/1540 [04:46<08:06,  2.00it/s]"
     ]
    },
    {
     "name": "stdout",
     "output_type": "stream",
     "text": [
      "Advanced Optical Materials has homepage_url and type journal\n"
     ]
    },
    {
     "name": "stderr",
     "output_type": "stream",
     "text": [
      " 37%|█████████████████████████▊                                            | 568/1540 [04:47<07:48,  2.08it/s]"
     ]
    },
    {
     "name": "stdout",
     "output_type": "stream",
     "text": [
      "Annual review of statistics and its application has homepage_url and type journal\n"
     ]
    },
    {
     "name": "stderr",
     "output_type": "stream",
     "text": [
      " 37%|█████████████████████████▊                                            | 569/1540 [04:47<07:33,  2.14it/s]"
     ]
    },
    {
     "name": "stdout",
     "output_type": "stream",
     "text": [
      "Fortschritte der Physik has homepage_url and type journal\n"
     ]
    },
    {
     "name": "stderr",
     "output_type": "stream",
     "text": [
      " 37%|█████████████████████████▉                                            | 570/1540 [04:48<07:51,  2.06it/s]"
     ]
    },
    {
     "name": "stdout",
     "output_type": "stream",
     "text": [
      "International Journal of Remote Sensing has homepage_url and type journal\n"
     ]
    },
    {
     "name": "stderr",
     "output_type": "stream",
     "text": [
      " 37%|█████████████████████████▉                                            | 571/1540 [04:48<07:38,  2.11it/s]"
     ]
    },
    {
     "name": "stdout",
     "output_type": "stream",
     "text": [
      "IEEE communications standards magazine has homepage_url and type journal\n"
     ]
    },
    {
     "name": "stderr",
     "output_type": "stream",
     "text": [
      " 37%|██████████████████████████                                            | 574/1540 [04:50<07:38,  2.11it/s]"
     ]
    },
    {
     "name": "stdout",
     "output_type": "stream",
     "text": [
      "Journal of Industrial Information Integration has homepage_url and type journal\n"
     ]
    },
    {
     "name": "stderr",
     "output_type": "stream",
     "text": [
      " 37%|██████████████████████████▏                                           | 577/1540 [04:51<07:54,  2.03it/s]"
     ]
    },
    {
     "name": "stdout",
     "output_type": "stream",
     "text": [
      "Journal of Statistical Mechanics: Theory and Experiment has homepage_url and type journal\n"
     ]
    },
    {
     "name": "stderr",
     "output_type": "stream",
     "text": [
      " 38%|██████████████████████████▎                                           | 578/1540 [04:52<07:48,  2.05it/s]"
     ]
    },
    {
     "name": "stdout",
     "output_type": "stream",
     "text": [
      "Production Engineering has homepage_url and type journal\n"
     ]
    },
    {
     "name": "stderr",
     "output_type": "stream",
     "text": [
      " 38%|██████████████████████████▍                                           | 582/1540 [04:54<07:41,  2.07it/s]"
     ]
    },
    {
     "name": "stdout",
     "output_type": "stream",
     "text": [
      "IEEE open journal of vehicular technology has homepage_url and type journal\n"
     ]
    },
    {
     "name": "stderr",
     "output_type": "stream",
     "text": [
      " 38%|██████████████████████████▌                                           | 584/1540 [04:55<07:37,  2.09it/s]"
     ]
    },
    {
     "name": "stdout",
     "output_type": "stream",
     "text": [
      "Frontiers in Mechanical Engineering has homepage_url and type journal\n"
     ]
    },
    {
     "name": "stderr",
     "output_type": "stream",
     "text": [
      " 38%|██████████████████████████▌                                           | 585/1540 [04:55<07:38,  2.08it/s]"
     ]
    },
    {
     "name": "stdout",
     "output_type": "stream",
     "text": [
      "Optical Materials Express has homepage_url and type journal\n"
     ]
    },
    {
     "name": "stderr",
     "output_type": "stream",
     "text": [
      " 38%|██████████████████████████▋                                           | 586/1540 [04:55<07:37,  2.09it/s]"
     ]
    },
    {
     "name": "stdout",
     "output_type": "stream",
     "text": [
      "Materials Today Advances has homepage_url and type journal\n"
     ]
    },
    {
     "name": "stderr",
     "output_type": "stream",
     "text": [
      " 38%|██████████████████████████▋                                           | 588/1540 [04:57<08:03,  1.97it/s]"
     ]
    },
    {
     "name": "stdout",
     "output_type": "stream",
     "text": [
      "Leonardo has homepage_url and type journal\n"
     ]
    },
    {
     "name": "stderr",
     "output_type": "stream",
     "text": [
      " 38%|██████████████████████████▊                                           | 589/1540 [04:57<07:43,  2.05it/s]"
     ]
    },
    {
     "name": "stdout",
     "output_type": "stream",
     "text": [
      "Axioms has homepage_url and type journal\n"
     ]
    },
    {
     "name": "stderr",
     "output_type": "stream",
     "text": [
      " 38%|██████████████████████████▊                                           | 590/1540 [04:57<07:48,  2.03it/s]"
     ]
    },
    {
     "name": "stdout",
     "output_type": "stream",
     "text": [
      "Physica E: Low-dimensional Systems and Nanostructures has homepage_url and type journal\n"
     ]
    },
    {
     "name": "stderr",
     "output_type": "stream",
     "text": [
      " 38%|██████████████████████████▊                                           | 591/1540 [04:58<08:01,  1.97it/s]"
     ]
    },
    {
     "name": "stdout",
     "output_type": "stream",
     "text": [
      "Engineering review has homepage_url and type journal\n"
     ]
    },
    {
     "name": "stderr",
     "output_type": "stream",
     "text": [
      " 38%|██████████████████████████▉                                           | 592/1540 [04:58<07:40,  2.06it/s]"
     ]
    },
    {
     "name": "stdout",
     "output_type": "stream",
     "text": [
      "Kybernetes has homepage_url and type journal\n"
     ]
    },
    {
     "name": "stderr",
     "output_type": "stream",
     "text": [
      " 39%|██████████████████████████▉                                           | 593/1540 [04:59<07:38,  2.06it/s]"
     ]
    },
    {
     "name": "stdout",
     "output_type": "stream",
     "text": [
      "Journal of optical communications has homepage_url and type journal\n"
     ]
    },
    {
     "name": "stderr",
     "output_type": "stream",
     "text": [
      " 39%|███████████████████████████                                           | 594/1540 [04:59<07:29,  2.11it/s]"
     ]
    },
    {
     "name": "stdout",
     "output_type": "stream",
     "text": [
      "International Journal of High Performance Computing and Networking has homepage_url and type journal\n"
     ]
    },
    {
     "name": "stderr",
     "output_type": "stream",
     "text": [
      " 39%|███████████████████████████                                           | 595/1540 [05:00<07:33,  2.08it/s]"
     ]
    },
    {
     "name": "stdout",
     "output_type": "stream",
     "text": [
      "Journal of Semiconductors has homepage_url and type journal\n"
     ]
    },
    {
     "name": "stderr",
     "output_type": "stream",
     "text": [
      " 39%|███████████████████████████                                           | 596/1540 [05:00<07:29,  2.10it/s]"
     ]
    },
    {
     "name": "stdout",
     "output_type": "stream",
     "text": [
      "Bulletin of the American Mathematical Society has homepage_url and type journal\n"
     ]
    },
    {
     "name": "stderr",
     "output_type": "stream",
     "text": [
      " 39%|███████████████████████████▏                                          | 597/1540 [05:01<07:18,  2.15it/s]"
     ]
    },
    {
     "name": "stdout",
     "output_type": "stream",
     "text": [
      "Nonlinear systems and complexity has homepage_url and type book series\n"
     ]
    },
    {
     "name": "stderr",
     "output_type": "stream",
     "text": [
      " 39%|███████████████████████████▏                                          | 598/1540 [05:01<07:48,  2.01it/s]"
     ]
    },
    {
     "name": "stdout",
     "output_type": "stream",
     "text": [
      "Electronic Journal of Combinatorics has homepage_url and type journal\n"
     ]
    },
    {
     "name": "stderr",
     "output_type": "stream",
     "text": [
      " 39%|███████████████████████████▎                                          | 600/1540 [05:02<07:42,  2.03it/s]"
     ]
    },
    {
     "name": "stdout",
     "output_type": "stream",
     "text": [
      "Discrete and Continuous Models and Applied Computational Science has homepage_url and type journal\n"
     ]
    },
    {
     "name": "stderr",
     "output_type": "stream",
     "text": [
      " 39%|███████████████████████████▎                                          | 601/1540 [05:03<07:27,  2.10it/s]"
     ]
    },
    {
     "name": "stdout",
     "output_type": "stream",
     "text": [
      "Facta universitatis. Series electronics and energetics has homepage_url and type journal\n"
     ]
    },
    {
     "name": "stderr",
     "output_type": "stream",
     "text": [
      " 39%|███████████████████████████▎                                          | 602/1540 [05:03<07:22,  2.12it/s]"
     ]
    },
    {
     "name": "stdout",
     "output_type": "stream",
     "text": [
      "Complexity has homepage_url and type journal\n"
     ]
    },
    {
     "name": "stderr",
     "output_type": "stream",
     "text": [
      " 39%|███████████████████████████▍                                          | 603/1540 [05:04<07:22,  2.12it/s]"
     ]
    },
    {
     "name": "stdout",
     "output_type": "stream",
     "text": [
      "Journal of Nanophotonics has homepage_url and type journal\n"
     ]
    },
    {
     "name": "stderr",
     "output_type": "stream",
     "text": [
      " 39%|███████████████████████████▍                                          | 604/1540 [05:04<07:42,  2.02it/s]"
     ]
    },
    {
     "name": "stdout",
     "output_type": "stream",
     "text": [
      "Chinese Optics Letters has homepage_url and type journal\n"
     ]
    },
    {
     "name": "stderr",
     "output_type": "stream",
     "text": [
      " 39%|███████████████████████████▌                                          | 605/1540 [05:05<07:29,  2.08it/s]"
     ]
    },
    {
     "name": "stdout",
     "output_type": "stream",
     "text": [
      "Lecture Notes in Physics has homepage_url and type book series\n"
     ]
    },
    {
     "name": "stderr",
     "output_type": "stream",
     "text": [
      " 39%|███████████████████████████▌                                          | 606/1540 [05:05<07:21,  2.11it/s]"
     ]
    },
    {
     "name": "stdout",
     "output_type": "stream",
     "text": [
      "Kìbernetika ta komp'ûternì tehnologìï has homepage_url and type journal\n"
     ]
    },
    {
     "name": "stderr",
     "output_type": "stream",
     "text": [
      " 39%|███████████████████████████▌                                          | 607/1540 [05:06<07:40,  2.02it/s]"
     ]
    },
    {
     "name": "stdout",
     "output_type": "stream",
     "text": [
      "Network Security has homepage_url and type journal\n"
     ]
    },
    {
     "name": "stderr",
     "output_type": "stream",
     "text": [
      " 39%|███████████████████████████▋                                          | 608/1540 [05:06<08:03,  1.93it/s]"
     ]
    },
    {
     "name": "stdout",
     "output_type": "stream",
     "text": [
      "Open Physics has homepage_url and type journal\n"
     ]
    },
    {
     "name": "stderr",
     "output_type": "stream",
     "text": [
      " 40%|███████████████████████████▋                                          | 610/1540 [05:07<07:55,  1.96it/s]"
     ]
    },
    {
     "name": "stdout",
     "output_type": "stream",
     "text": [
      "The European Physical Journal A has homepage_url and type journal\n"
     ]
    },
    {
     "name": "stderr",
     "output_type": "stream",
     "text": [
      " 40%|███████████████████████████▊                                          | 611/1540 [05:08<08:23,  1.84it/s]"
     ]
    },
    {
     "name": "stdout",
     "output_type": "stream",
     "text": [
      "IEEE Software has homepage_url and type journal\n"
     ]
    },
    {
     "name": "stderr",
     "output_type": "stream",
     "text": [
      " 40%|███████████████████████████▉                                          | 614/1540 [05:09<07:36,  2.03it/s]"
     ]
    },
    {
     "name": "stdout",
     "output_type": "stream",
     "text": [
      "Logic Journal of the IGPL has homepage_url and type journal\n"
     ]
    },
    {
     "name": "stderr",
     "output_type": "stream",
     "text": [
      " 40%|███████████████████████████▉                                          | 615/1540 [05:10<07:37,  2.02it/s]"
     ]
    },
    {
     "name": "stdout",
     "output_type": "stream",
     "text": [
      "International Journal of Satellite Communications and Networking has homepage_url and type journal\n"
     ]
    },
    {
     "name": "stderr",
     "output_type": "stream",
     "text": [
      " 40%|████████████████████████████                                          | 617/1540 [05:11<07:27,  2.06it/s]"
     ]
    },
    {
     "name": "stdout",
     "output_type": "stream",
     "text": [
      "Social Science Research Network has homepage_url and type repository\n"
     ]
    },
    {
     "name": "stderr",
     "output_type": "stream",
     "text": [
      " 40%|████████████████████████████                                          | 618/1540 [05:11<08:02,  1.91it/s]"
     ]
    },
    {
     "name": "stdout",
     "output_type": "stream",
     "text": [
      "The Astrophysical Journal has homepage_url and type journal\n"
     ]
    },
    {
     "name": "stderr",
     "output_type": "stream",
     "text": [
      " 40%|████████████████████████████▏                                         | 619/1540 [05:12<07:53,  1.94it/s]"
     ]
    },
    {
     "name": "stdout",
     "output_type": "stream",
     "text": [
      "Electronics Letters has homepage_url and type journal\n"
     ]
    },
    {
     "name": "stderr",
     "output_type": "stream",
     "text": [
      " 40%|████████████████████████████▎                                         | 622/1540 [05:13<07:55,  1.93it/s]"
     ]
    },
    {
     "name": "stdout",
     "output_type": "stream",
     "text": [
      "Photoniques has homepage_url and type journal\n"
     ]
    },
    {
     "name": "stderr",
     "output_type": "stream",
     "text": [
      " 41%|████████████████████████████▎                                         | 624/1540 [05:14<07:58,  1.92it/s]"
     ]
    },
    {
     "name": "stdout",
     "output_type": "stream",
     "text": [
      "Journal of Mathematical Psychology has homepage_url and type journal\n"
     ]
    },
    {
     "name": "stderr",
     "output_type": "stream",
     "text": [
      " 41%|████████████████████████████▍                                         | 625/1540 [05:15<07:52,  1.94it/s]"
     ]
    },
    {
     "name": "stdout",
     "output_type": "stream",
     "text": [
      "Frontiers in Astronomy and Space Sciences has homepage_url and type journal\n"
     ]
    },
    {
     "name": "stderr",
     "output_type": "stream",
     "text": [
      " 41%|████████████████████████████▍                                         | 626/1540 [05:16<08:14,  1.85it/s]"
     ]
    },
    {
     "name": "stdout",
     "output_type": "stream",
     "text": [
      "Concurrency and Computation: Practice and Experience has homepage_url and type journal\n"
     ]
    },
    {
     "name": "stderr",
     "output_type": "stream",
     "text": [
      " 41%|████████████████████████████▌                                         | 627/1540 [05:16<08:07,  1.87it/s]"
     ]
    },
    {
     "name": "stdout",
     "output_type": "stream",
     "text": [
      "IEEE Transactions on Geoscience and Remote Sensing has homepage_url and type journal\n"
     ]
    },
    {
     "name": "stderr",
     "output_type": "stream",
     "text": [
      " 41%|████████████████████████████▌                                         | 628/1540 [05:17<08:08,  1.87it/s]"
     ]
    },
    {
     "name": "stdout",
     "output_type": "stream",
     "text": [
      "iScience has homepage_url and type journal\n"
     ]
    },
    {
     "name": "stderr",
     "output_type": "stream",
     "text": [
      " 41%|████████████████████████████▌                                         | 629/1540 [05:17<07:39,  1.98it/s]"
     ]
    },
    {
     "name": "stdout",
     "output_type": "stream",
     "text": [
      "Reports on Mathematical Physics has homepage_url and type journal\n"
     ]
    },
    {
     "name": "stderr",
     "output_type": "stream",
     "text": [
      " 41%|████████████████████████████▋                                         | 630/1540 [05:18<07:42,  1.97it/s]"
     ]
    },
    {
     "name": "stdout",
     "output_type": "stream",
     "text": [
      "Performance Evaluation has homepage_url and type journal\n"
     ]
    },
    {
     "name": "stderr",
     "output_type": "stream",
     "text": [
      " 41%|████████████████████████████▋                                         | 631/1540 [05:18<08:09,  1.86it/s]"
     ]
    },
    {
     "name": "stdout",
     "output_type": "stream",
     "text": [
      "Journal of intelligent systems has homepage_url and type journal\n"
     ]
    },
    {
     "name": "stderr",
     "output_type": "stream",
     "text": [
      " 41%|████████████████████████████▋                                         | 632/1540 [05:19<09:02,  1.67it/s]"
     ]
    },
    {
     "name": "stdout",
     "output_type": "stream",
     "text": [
      "Physics has homepage_url and type journal\n"
     ]
    },
    {
     "name": "stderr",
     "output_type": "stream",
     "text": [
      " 41%|████████████████████████████▊                                         | 633/1540 [05:19<08:13,  1.84it/s]"
     ]
    },
    {
     "name": "stdout",
     "output_type": "stream",
     "text": [
      "International Journal of Distributed Sensor Networks has homepage_url and type journal\n"
     ]
    },
    {
     "name": "stderr",
     "output_type": "stream",
     "text": [
      " 41%|████████████████████████████▊                                         | 635/1540 [05:20<07:30,  2.01it/s]"
     ]
    },
    {
     "name": "stdout",
     "output_type": "stream",
     "text": [
      "Journal of Intelligent and Fuzzy Systems has homepage_url and type journal\n"
     ]
    },
    {
     "name": "stderr",
     "output_type": "stream",
     "text": [
      " 41%|█████████████████████████████                                         | 639/1540 [05:22<07:34,  1.98it/s]"
     ]
    },
    {
     "name": "stdout",
     "output_type": "stream",
     "text": [
      "Modelling and Simulation in Engineering has homepage_url and type journal\n"
     ]
    },
    {
     "name": "stderr",
     "output_type": "stream",
     "text": [
      " 42%|█████████████████████████████▏                                        | 641/1540 [05:23<07:10,  2.09it/s]"
     ]
    },
    {
     "name": "stdout",
     "output_type": "stream",
     "text": [
      "Studies in big data has homepage_url and type book series\n"
     ]
    },
    {
     "name": "stderr",
     "output_type": "stream",
     "text": [
      " 42%|█████████████████████████████▎                                        | 644/1540 [05:25<07:13,  2.07it/s]"
     ]
    },
    {
     "name": "stdout",
     "output_type": "stream",
     "text": [
      "Annals of Operations Research has homepage_url and type journal\n"
     ]
    },
    {
     "name": "stderr",
     "output_type": "stream",
     "text": [
      " 42%|█████████████████████████████▎                                        | 645/1540 [05:25<07:12,  2.07it/s]"
     ]
    },
    {
     "name": "stdout",
     "output_type": "stream",
     "text": [
      "Advanced intelligent systems has homepage_url and type journal\n"
     ]
    },
    {
     "name": "stderr",
     "output_type": "stream",
     "text": [
      " 42%|█████████████████████████████▍                                        | 648/1540 [05:27<07:30,  1.98it/s]"
     ]
    },
    {
     "name": "stdout",
     "output_type": "stream",
     "text": [
      "Information Fusion has homepage_url and type journal\n"
     ]
    },
    {
     "name": "stderr",
     "output_type": "stream",
     "text": [
      " 42%|█████████████████████████████▋                                        | 652/1540 [05:29<07:22,  2.01it/s]"
     ]
    },
    {
     "name": "stdout",
     "output_type": "stream",
     "text": [
      "Future Internet has homepage_url and type journal\n"
     ]
    },
    {
     "name": "stderr",
     "output_type": "stream",
     "text": [
      " 42%|█████████████████████████████▋                                        | 653/1540 [05:29<07:28,  1.98it/s]"
     ]
    },
    {
     "name": "stdout",
     "output_type": "stream",
     "text": [
      "Buildings has homepage_url and type journal\n"
     ]
    },
    {
     "name": "stderr",
     "output_type": "stream",
     "text": [
      " 42%|█████████████████████████████▋                                        | 654/1540 [05:30<07:22,  2.00it/s]"
     ]
    },
    {
     "name": "stdout",
     "output_type": "stream",
     "text": [
      "IEEE Transactions on Nuclear Science has homepage_url and type journal\n"
     ]
    },
    {
     "name": "stderr",
     "output_type": "stream",
     "text": [
      " 43%|█████████████████████████████▊                                        | 655/1540 [05:30<07:13,  2.04it/s]"
     ]
    },
    {
     "name": "stdout",
     "output_type": "stream",
     "text": [
      "Journal of Geometry and Physics has homepage_url and type journal\n"
     ]
    },
    {
     "name": "stderr",
     "output_type": "stream",
     "text": [
      " 43%|█████████████████████████████▊                                        | 656/1540 [05:31<07:16,  2.02it/s]"
     ]
    },
    {
     "name": "stdout",
     "output_type": "stream",
     "text": [
      "PhotonicsViews has homepage_url and type journal\n"
     ]
    },
    {
     "name": "stderr",
     "output_type": "stream",
     "text": [
      " 43%|█████████████████████████████▊                                        | 657/1540 [05:31<07:46,  1.89it/s]"
     ]
    },
    {
     "name": "stdout",
     "output_type": "stream",
     "text": [
      "ICT Express has homepage_url and type journal\n"
     ]
    },
    {
     "name": "stderr",
     "output_type": "stream",
     "text": [
      " 43%|█████████████████████████████▉                                        | 659/1540 [05:32<07:37,  1.92it/s]"
     ]
    },
    {
     "name": "stdout",
     "output_type": "stream",
     "text": [
      "Current Bioinformatics has homepage_url and type journal\n"
     ]
    },
    {
     "name": "stderr",
     "output_type": "stream",
     "text": [
      " 43%|██████████████████████████████                                        | 660/1540 [05:33<07:25,  1.98it/s]"
     ]
    },
    {
     "name": "stdout",
     "output_type": "stream",
     "text": [
      "Revista Brasileira de Ensino de Física has homepage_url and type journal\n"
     ]
    },
    {
     "name": "stderr",
     "output_type": "stream",
     "text": [
      " 43%|██████████████████████████████                                        | 661/1540 [05:33<07:25,  1.97it/s]"
     ]
    },
    {
     "name": "stdout",
     "output_type": "stream",
     "text": [
      "Journal of Russian Laser Research has homepage_url and type journal\n"
     ]
    },
    {
     "name": "stderr",
     "output_type": "stream",
     "text": [
      " 43%|██████████████████████████████▏                                       | 664/1540 [05:35<06:56,  2.10it/s]"
     ]
    },
    {
     "name": "stdout",
     "output_type": "stream",
     "text": [
      "Journal of New Music Research has homepage_url and type journal\n"
     ]
    },
    {
     "name": "stderr",
     "output_type": "stream",
     "text": [
      " 43%|██████████████████████████████▏                                       | 665/1540 [05:35<06:48,  2.14it/s]"
     ]
    },
    {
     "name": "stdout",
     "output_type": "stream",
     "text": [
      "Journal of Computational Electronics has homepage_url and type journal\n"
     ]
    },
    {
     "name": "stderr",
     "output_type": "stream",
     "text": [
      " 43%|██████████████████████████████▎                                       | 668/1540 [05:37<07:20,  1.98it/s]"
     ]
    },
    {
     "name": "stdout",
     "output_type": "stream",
     "text": [
      "Communications in Contemporary Mathematics has homepage_url and type journal\n"
     ]
    },
    {
     "name": "stderr",
     "output_type": "stream",
     "text": [
      " 44%|██████████████████████████████▍                                       | 670/1540 [05:38<06:59,  2.07it/s]"
     ]
    },
    {
     "name": "stdout",
     "output_type": "stream",
     "text": [
      "Nanotechnology has homepage_url and type journal\n"
     ]
    },
    {
     "name": "stderr",
     "output_type": "stream",
     "text": [
      " 44%|██████████████████████████████▋                                       | 675/1540 [05:40<06:31,  2.21it/s]"
     ]
    },
    {
     "name": "stdout",
     "output_type": "stream",
     "text": [
      "Algebra Universalis has homepage_url and type journal\n"
     ]
    },
    {
     "name": "stderr",
     "output_type": "stream",
     "text": [
      " 44%|██████████████████████████████▊                                       | 679/1540 [05:42<06:54,  2.08it/s]"
     ]
    },
    {
     "name": "stdout",
     "output_type": "stream",
     "text": [
      "Discrete Applied Mathematics has homepage_url and type journal\n"
     ]
    },
    {
     "name": "stderr",
     "output_type": "stream",
     "text": [
      " 44%|██████████████████████████████▉                                       | 680/1540 [05:42<06:59,  2.05it/s]"
     ]
    },
    {
     "name": "stdout",
     "output_type": "stream",
     "text": [
      "Results in Control and Optimization has homepage_url and type journal\n"
     ]
    },
    {
     "name": "stderr",
     "output_type": "stream",
     "text": [
      " 44%|██████████████████████████████▉                                       | 681/1540 [05:43<07:04,  2.02it/s]"
     ]
    },
    {
     "name": "stdout",
     "output_type": "stream",
     "text": [
      "Artificial Intelligence Review has homepage_url and type journal\n"
     ]
    },
    {
     "name": "stderr",
     "output_type": "stream",
     "text": [
      " 44%|███████████████████████████████                                       | 682/1540 [05:43<06:47,  2.10it/s]"
     ]
    },
    {
     "name": "stdout",
     "output_type": "stream",
     "text": [
      "Computational Materials Science has homepage_url and type journal\n"
     ]
    },
    {
     "name": "stderr",
     "output_type": "stream",
     "text": [
      " 44%|███████████████████████████████                                       | 684/1540 [05:44<06:33,  2.17it/s]"
     ]
    },
    {
     "name": "stdout",
     "output_type": "stream",
     "text": [
      "Atoms has homepage_url and type journal\n"
     ]
    },
    {
     "name": "stderr",
     "output_type": "stream",
     "text": [
      " 44%|███████████████████████████████▏                                      | 685/1540 [05:45<06:41,  2.13it/s]"
     ]
    },
    {
     "name": "stdout",
     "output_type": "stream",
     "text": [
      "Chinese Journal of Electronics has homepage_url and type journal\n"
     ]
    },
    {
     "name": "stderr",
     "output_type": "stream",
     "text": [
      " 45%|███████████████████████████████▎                                      | 688/1540 [05:46<06:58,  2.04it/s]"
     ]
    },
    {
     "name": "stdout",
     "output_type": "stream",
     "text": [
      "Canadian Journal of Physics has homepage_url and type journal\n"
     ]
    },
    {
     "name": "stderr",
     "output_type": "stream",
     "text": [
      " 45%|███████████████████████████████▎                                      | 689/1540 [05:47<07:47,  1.82it/s]"
     ]
    },
    {
     "name": "stdout",
     "output_type": "stream",
     "text": [
      "ACS omega has homepage_url and type journal\n"
     ]
    },
    {
     "name": "stderr",
     "output_type": "stream",
     "text": [
      " 45%|███████████████████████████████▍                                      | 691/1540 [05:48<07:25,  1.90it/s]"
     ]
    },
    {
     "name": "stdout",
     "output_type": "stream",
     "text": [
      "Optimization and Engineering has homepage_url and type journal\n"
     ]
    },
    {
     "name": "stderr",
     "output_type": "stream",
     "text": [
      " 45%|███████████████████████████████▍                                      | 692/1540 [05:48<07:20,  1.92it/s]"
     ]
    },
    {
     "name": "stdout",
     "output_type": "stream",
     "text": [
      "Cybersecurity has homepage_url and type journal\n"
     ]
    },
    {
     "name": "stderr",
     "output_type": "stream",
     "text": [
      " 45%|███████████████████████████████▌                                      | 694/1540 [05:49<07:36,  1.85it/s]"
     ]
    },
    {
     "name": "stdout",
     "output_type": "stream",
     "text": [
      "Communications on Pure and Applied Mathematics has homepage_url and type journal\n"
     ]
    },
    {
     "name": "stderr",
     "output_type": "stream",
     "text": [
      " 45%|███████████████████████████████▋                                      | 697/1540 [05:51<07:22,  1.90it/s]"
     ]
    },
    {
     "name": "stdout",
     "output_type": "stream",
     "text": [
      "IEEE Transactions on Fuzzy Systems has homepage_url and type journal\n"
     ]
    },
    {
     "name": "stderr",
     "output_type": "stream",
     "text": [
      " 45%|███████████████████████████████▋                                      | 698/1540 [05:51<07:33,  1.86it/s]"
     ]
    },
    {
     "name": "stdout",
     "output_type": "stream",
     "text": [
      "Applied Magnetic Resonance has homepage_url and type journal\n"
     ]
    },
    {
     "name": "stderr",
     "output_type": "stream",
     "text": [
      " 45%|███████████████████████████████▊                                      | 699/1540 [05:52<07:14,  1.93it/s]"
     ]
    },
    {
     "name": "stdout",
     "output_type": "stream",
     "text": [
      "Bombay Technologist has homepage_url and type journal\n"
     ]
    },
    {
     "name": "stderr",
     "output_type": "stream",
     "text": [
      " 46%|███████████████████████████████▉                                      | 702/1540 [05:53<06:50,  2.04it/s]"
     ]
    },
    {
     "name": "stdout",
     "output_type": "stream",
     "text": [
      "Software - Practice and Experience has homepage_url and type journal\n"
     ]
    },
    {
     "name": "stderr",
     "output_type": "stream",
     "text": [
      " 46%|████████████████████████████████                                      | 706/1540 [05:55<06:27,  2.15it/s]"
     ]
    },
    {
     "name": "stdout",
     "output_type": "stream",
     "text": [
      "Mathematical Programming Computation has homepage_url and type journal\n"
     ]
    },
    {
     "name": "stderr",
     "output_type": "stream",
     "text": [
      " 46%|████████████████████████████████▏                                     | 707/1540 [05:56<06:54,  2.01it/s]"
     ]
    },
    {
     "name": "stdout",
     "output_type": "stream",
     "text": [
      "Wuhan University Journal of Natural Sciences has homepage_url and type journal\n"
     ]
    },
    {
     "name": "stderr",
     "output_type": "stream",
     "text": [
      " 46%|████████████████████████████████▍                                     | 713/1540 [05:59<06:45,  2.04it/s]"
     ]
    },
    {
     "name": "stdout",
     "output_type": "stream",
     "text": [
      "Harvard Data Science Review has homepage_url and type journal\n"
     ]
    },
    {
     "name": "stderr",
     "output_type": "stream",
     "text": [
      " 46%|████████████████████████████████▌                                     | 715/1540 [06:00<06:22,  2.16it/s]"
     ]
    },
    {
     "name": "stdout",
     "output_type": "stream",
     "text": [
      "The Physics Teacher has homepage_url and type journal\n"
     ]
    },
    {
     "name": "stderr",
     "output_type": "stream",
     "text": [
      " 47%|████████████████████████████████▌                                     | 717/1540 [06:01<06:16,  2.18it/s]"
     ]
    },
    {
     "name": "stdout",
     "output_type": "stream",
     "text": [
      "ACM Transactions on Computational Logic has homepage_url and type journal\n"
     ]
    },
    {
     "name": "stderr",
     "output_type": "stream",
     "text": [
      " 47%|████████████████████████████████▋                                     | 719/1540 [06:02<07:05,  1.93it/s]"
     ]
    },
    {
     "name": "stdout",
     "output_type": "stream",
     "text": [
      "Informatica has homepage_url and type journal\n"
     ]
    },
    {
     "name": "stderr",
     "output_type": "stream",
     "text": [
      " 47%|████████████████████████████████▊                                     | 721/1540 [06:03<06:39,  2.05it/s]"
     ]
    },
    {
     "name": "stdout",
     "output_type": "stream",
     "text": [
      "Computational Intelligence and Neuroscience has homepage_url and type journal\n"
     ]
    },
    {
     "name": "stderr",
     "output_type": "stream",
     "text": [
      " 47%|████████████████████████████████▉                                     | 724/1540 [06:04<06:30,  2.09it/s]"
     ]
    },
    {
     "name": "stdout",
     "output_type": "stream",
     "text": [
      "International Journal of Operational Research has homepage_url and type journal\n"
     ]
    },
    {
     "name": "stderr",
     "output_type": "stream",
     "text": [
      " 47%|█████████████████████████████████                                     | 726/1540 [06:05<06:28,  2.10it/s]"
     ]
    },
    {
     "name": "stdout",
     "output_type": "stream",
     "text": [
      "International Journal of Communication Systems has homepage_url and type journal\n"
     ]
    },
    {
     "name": "stderr",
     "output_type": "stream",
     "text": [
      " 47%|█████████████████████████████████▏                                    | 729/1540 [06:06<06:34,  2.05it/s]"
     ]
    },
    {
     "name": "stdout",
     "output_type": "stream",
     "text": [
      "Current Applied Physics has homepage_url and type journal\n"
     ]
    },
    {
     "name": "stderr",
     "output_type": "stream",
     "text": [
      " 48%|█████████████████████████████████▋                                    | 741/1540 [06:12<06:45,  1.97it/s]"
     ]
    },
    {
     "name": "stdout",
     "output_type": "stream",
     "text": [
      "Journal of the Indian Institute of Sciences has homepage_url and type journal\n"
     ]
    },
    {
     "name": "stderr",
     "output_type": "stream",
     "text": [
      " 48%|█████████████████████████████████▊                                    | 743/1540 [06:13<06:38,  2.00it/s]"
     ]
    },
    {
     "name": "stdout",
     "output_type": "stream",
     "text": [
      "IEEE internet of things magazine has homepage_url and type journal\n"
     ]
    },
    {
     "name": "stderr",
     "output_type": "stream",
     "text": [
      " 48%|█████████████████████████████████▊                                    | 745/1540 [06:14<06:27,  2.05it/s]"
     ]
    },
    {
     "name": "stdout",
     "output_type": "stream",
     "text": [
      "Modelling and Simulation in Materials Science and Engineering has homepage_url and type journal\n"
     ]
    },
    {
     "name": "stderr",
     "output_type": "stream",
     "text": [
      " 49%|█████████████████████████████████▉                                    | 747/1540 [06:15<06:10,  2.14it/s]"
     ]
    },
    {
     "name": "stdout",
     "output_type": "stream",
     "text": [
      "Evolutionary Intelligence has homepage_url and type journal\n"
     ]
    },
    {
     "name": "stderr",
     "output_type": "stream",
     "text": [
      " 49%|██████████████████████████████████                                    | 748/1540 [06:16<06:10,  2.14it/s]"
     ]
    },
    {
     "name": "stdout",
     "output_type": "stream",
     "text": [
      "Advances in Engineering Software has homepage_url and type journal\n"
     ]
    },
    {
     "name": "stderr",
     "output_type": "stream",
     "text": [
      " 49%|██████████████████████████████████                                    | 749/1540 [06:16<07:13,  1.82it/s]"
     ]
    },
    {
     "name": "stdout",
     "output_type": "stream",
     "text": [
      "Remote Sensing has homepage_url and type journal\n"
     ]
    },
    {
     "name": "stderr",
     "output_type": "stream",
     "text": [
      " 49%|██████████████████████████████████▍                                   | 757/1540 [06:21<07:15,  1.80it/s]"
     ]
    },
    {
     "name": "stdout",
     "output_type": "stream",
     "text": [
      "Sustainability has homepage_url and type journal\n"
     ]
    },
    {
     "name": "stderr",
     "output_type": "stream",
     "text": [
      " 49%|██████████████████████████████████▌                                   | 759/1540 [06:22<07:28,  1.74it/s]"
     ]
    },
    {
     "name": "stdout",
     "output_type": "stream",
     "text": [
      "Journal of Physics and Chemistry of Solids has homepage_url and type journal\n"
     ]
    },
    {
     "name": "stderr",
     "output_type": "stream",
     "text": [
      " 49%|██████████████████████████████████▌                                   | 760/1540 [06:22<06:59,  1.86it/s]"
     ]
    },
    {
     "name": "stdout",
     "output_type": "stream",
     "text": [
      "AIAA Journal has homepage_url and type journal\n"
     ]
    },
    {
     "name": "stderr",
     "output_type": "stream",
     "text": [
      " 49%|██████████████████████████████████▌                                   | 761/1540 [06:23<06:47,  1.91it/s]"
     ]
    },
    {
     "name": "stdout",
     "output_type": "stream",
     "text": [
      "Patterns has homepage_url and type journal\n"
     ]
    },
    {
     "name": "stderr",
     "output_type": "stream",
     "text": [
      " 49%|██████████████████████████████████▋                                   | 762/1540 [06:23<06:47,  1.91it/s]"
     ]
    },
    {
     "name": "stdout",
     "output_type": "stream",
     "text": [
      "ChemBioChem has homepage_url and type journal\n"
     ]
    },
    {
     "name": "stderr",
     "output_type": "stream",
     "text": [
      " 50%|██████████████████████████████████▋                                   | 764/1540 [06:24<06:41,  1.93it/s]"
     ]
    },
    {
     "name": "stdout",
     "output_type": "stream",
     "text": [
      "Journal of Biological Physics has homepage_url and type journal\n"
     ]
    },
    {
     "name": "stderr",
     "output_type": "stream",
     "text": [
      " 50%|██████████████████████████████████▊                                   | 766/1540 [06:25<06:11,  2.08it/s]"
     ]
    },
    {
     "name": "stdout",
     "output_type": "stream",
     "text": [
      "International Journal of High Performance Computing Applications has homepage_url and type journal\n"
     ]
    },
    {
     "name": "stderr",
     "output_type": "stream",
     "text": [
      " 50%|██████████████████████████████████▊                                   | 767/1540 [06:26<06:03,  2.12it/s]"
     ]
    },
    {
     "name": "stdout",
     "output_type": "stream",
     "text": [
      "Laser Physics has homepage_url and type journal\n"
     ]
    },
    {
     "name": "stderr",
     "output_type": "stream",
     "text": [
      " 50%|██████████████████████████████████▉                                   | 768/1540 [06:26<06:12,  2.07it/s]"
     ]
    },
    {
     "name": "stdout",
     "output_type": "stream",
     "text": [
      "Ceas Space Journal has homepage_url and type journal\n"
     ]
    },
    {
     "name": "stderr",
     "output_type": "stream",
     "text": [
      " 50%|██████████████████████████████████▉                                   | 769/1540 [06:27<07:19,  1.76it/s]"
     ]
    },
    {
     "name": "stdout",
     "output_type": "stream",
     "text": [
      "International Journal of Control has homepage_url and type journal\n"
     ]
    },
    {
     "name": "stderr",
     "output_type": "stream",
     "text": [
      " 50%|███████████████████████████████████                                   | 770/1540 [06:27<07:14,  1.77it/s]"
     ]
    },
    {
     "name": "stdout",
     "output_type": "stream",
     "text": [
      "Journal of the Optical Society of America has homepage_url and type journal\n"
     ]
    },
    {
     "name": "stderr",
     "output_type": "stream",
     "text": [
      " 50%|███████████████████████████████████                                   | 771/1540 [06:28<07:04,  1.81it/s]"
     ]
    },
    {
     "name": "stdout",
     "output_type": "stream",
     "text": [
      "Chinese Journal of Chemical Physics has homepage_url and type journal\n"
     ]
    },
    {
     "name": "stderr",
     "output_type": "stream",
     "text": [
      " 50%|███████████████████████████████████▏                                  | 774/1540 [06:29<06:29,  1.97it/s]"
     ]
    },
    {
     "name": "stdout",
     "output_type": "stream",
     "text": [
      "Springer proceedings in physics has homepage_url and type book series\n"
     ]
    },
    {
     "name": "stderr",
     "output_type": "stream",
     "text": [
      " 50%|███████████████████████████████████▏                                  | 775/1540 [06:30<06:57,  1.83it/s]"
     ]
    },
    {
     "name": "stdout",
     "output_type": "stream",
     "text": [
      "IEEE Transactions on Control of Network Systems has homepage_url and type journal\n"
     ]
    },
    {
     "name": "stderr",
     "output_type": "stream",
     "text": [
      " 51%|███████████████████████████████████▎                                  | 778/1540 [06:32<06:38,  1.91it/s]"
     ]
    },
    {
     "name": "stdout",
     "output_type": "stream",
     "text": [
      "Sigspatial Special has homepage_url and type journal\n"
     ]
    },
    {
     "name": "stderr",
     "output_type": "stream",
     "text": [
      " 51%|███████████████████████████████████▍                                  | 779/1540 [06:32<06:25,  1.97it/s]"
     ]
    },
    {
     "name": "stdout",
     "output_type": "stream",
     "text": [
      "IEEE letters of the Computer Society has homepage_url and type journal\n"
     ]
    },
    {
     "name": "stderr",
     "output_type": "stream",
     "text": [
      " 51%|███████████████████████████████████▌                                  | 781/1540 [06:33<06:13,  2.03it/s]"
     ]
    },
    {
     "name": "stdout",
     "output_type": "stream",
     "text": [
      "Lecture notes on data engineering and communications technologies has homepage_url and type book series\n"
     ]
    },
    {
     "name": "stderr",
     "output_type": "stream",
     "text": [
      " 51%|███████████████████████████████████▌                                  | 782/1540 [06:33<06:09,  2.05it/s]"
     ]
    },
    {
     "name": "stdout",
     "output_type": "stream",
     "text": [
      "TELKOMNIKA Telecommunication Computing Electronics and Control has homepage_url and type journal\n"
     ]
    },
    {
     "name": "stderr",
     "output_type": "stream",
     "text": [
      " 51%|███████████████████████████████████▋                                  | 785/1540 [06:35<06:07,  2.05it/s]"
     ]
    },
    {
     "name": "stdout",
     "output_type": "stream",
     "text": [
      "Journal of Computational and Theoretical Nanoscience has homepage_url and type journal\n"
     ]
    },
    {
     "name": "stderr",
     "output_type": "stream",
     "text": [
      " 51%|███████████████████████████████████▋                                  | 786/1540 [06:35<05:53,  2.13it/s]"
     ]
    },
    {
     "name": "stdout",
     "output_type": "stream",
     "text": [
      "Studies in computational intelligence has homepage_url and type book series\n"
     ]
    },
    {
     "name": "stderr",
     "output_type": "stream",
     "text": [
      " 51%|███████████████████████████████████▉                                  | 790/1540 [06:37<05:49,  2.14it/s]"
     ]
    },
    {
     "name": "stdout",
     "output_type": "stream",
     "text": [
      "JPSJ news and comments has homepage_url and type journal\n"
     ]
    },
    {
     "name": "stderr",
     "output_type": "stream",
     "text": [
      " 51%|███████████████████████████████████▉                                  | 791/1540 [06:38<05:39,  2.21it/s]"
     ]
    },
    {
     "name": "stdout",
     "output_type": "stream",
     "text": [
      "Journal of Computational and Graphical Statistics has homepage_url and type journal\n"
     ]
    },
    {
     "name": "stderr",
     "output_type": "stream",
     "text": [
      " 51%|████████████████████████████████████                                  | 792/1540 [06:38<05:54,  2.11it/s]"
     ]
    },
    {
     "name": "stdout",
     "output_type": "stream",
     "text": [
      "International Journal of Geometric Methods in Modern Physics has homepage_url and type journal\n"
     ]
    },
    {
     "name": "stderr",
     "output_type": "stream",
     "text": [
      " 51%|████████████████████████████████████                                  | 793/1540 [06:39<05:51,  2.13it/s]"
     ]
    },
    {
     "name": "stdout",
     "output_type": "stream",
     "text": [
      "Journal of Electronic Materials has homepage_url and type journal\n"
     ]
    },
    {
     "name": "stderr",
     "output_type": "stream",
     "text": [
      " 52%|████████████████████████████████████▏                                 | 795/1540 [06:40<05:42,  2.18it/s]"
     ]
    },
    {
     "name": "stdout",
     "output_type": "stream",
     "text": [
      "ACM Transactions on Computation Theory has homepage_url and type journal\n"
     ]
    },
    {
     "name": "stderr",
     "output_type": "stream",
     "text": [
      " 52%|████████████████████████████████████▏                                 | 796/1540 [06:40<05:55,  2.09it/s]"
     ]
    },
    {
     "name": "stdout",
     "output_type": "stream",
     "text": [
      "Mathematical Structures in Computer Science has homepage_url and type journal\n"
     ]
    },
    {
     "name": "stderr",
     "output_type": "stream",
     "text": [
      " 52%|████████████████████████████████████▎                                 | 799/1540 [06:42<06:29,  1.90it/s]"
     ]
    },
    {
     "name": "stdout",
     "output_type": "stream",
     "text": [
      "Proceedings of the Steklov Institute of Mathematics has homepage_url and type journal\n"
     ]
    },
    {
     "name": "stderr",
     "output_type": "stream",
     "text": [
      " 52%|████████████████████████████████████▎                                 | 800/1540 [06:42<06:20,  1.95it/s]"
     ]
    },
    {
     "name": "stdout",
     "output_type": "stream",
     "text": [
      "Physics Open has homepage_url and type journal\n"
     ]
    },
    {
     "name": "stderr",
     "output_type": "stream",
     "text": [
      " 52%|████████████████████████████████████▍                                 | 802/1540 [06:43<06:05,  2.02it/s]"
     ]
    },
    {
     "name": "stdout",
     "output_type": "stream",
     "text": [
      "Journal of quantum computing has homepage_url and type journal\n"
     ]
    },
    {
     "name": "stderr",
     "output_type": "stream",
     "text": [
      " 52%|████████████████████████████████████▌                                 | 803/1540 [06:44<05:48,  2.11it/s]"
     ]
    },
    {
     "name": "stdout",
     "output_type": "stream",
     "text": [
      "Parallel Processing Letters has homepage_url and type journal\n"
     ]
    },
    {
     "name": "stderr",
     "output_type": "stream",
     "text": [
      " 52%|████████████████████████████████████▋                                 | 806/1540 [06:45<05:41,  2.15it/s]"
     ]
    },
    {
     "name": "stdout",
     "output_type": "stream",
     "text": [
      "Journal of Differential Equations has homepage_url and type journal\n"
     ]
    },
    {
     "name": "stderr",
     "output_type": "stream",
     "text": [
      " 52%|████████████████████████████████████▋                                 | 807/1540 [06:45<05:40,  2.15it/s]"
     ]
    },
    {
     "name": "stdout",
     "output_type": "stream",
     "text": [
      "Annales Henri Poincaré has homepage_url and type journal\n"
     ]
    },
    {
     "name": "stderr",
     "output_type": "stream",
     "text": [
      " 52%|████████████████████████████████████▋                                 | 808/1540 [06:46<05:41,  2.14it/s]"
     ]
    },
    {
     "name": "stdout",
     "output_type": "stream",
     "text": [
      "International Journal of Bio-inspired Computation has homepage_url and type journal\n"
     ]
    },
    {
     "name": "stderr",
     "output_type": "stream",
     "text": [
      " 53%|████████████████████████████████████▊                                 | 809/1540 [06:46<06:02,  2.02it/s]"
     ]
    },
    {
     "name": "stdout",
     "output_type": "stream",
     "text": [
      "Discrete Mathematics and Applications has homepage_url and type journal\n"
     ]
    },
    {
     "name": "stderr",
     "output_type": "stream",
     "text": [
      " 53%|████████████████████████████████████▊                                 | 810/1540 [06:47<06:18,  1.93it/s]"
     ]
    },
    {
     "name": "stdout",
     "output_type": "stream",
     "text": [
      "Informs Journal on Computing has homepage_url and type journal\n"
     ]
    },
    {
     "name": "stderr",
     "output_type": "stream",
     "text": [
      " 53%|████████████████████████████████████▉                                 | 813/1540 [06:48<05:59,  2.02it/s]"
     ]
    },
    {
     "name": "stdout",
     "output_type": "stream",
     "text": [
      "IEEE transactions on sustainable computing has homepage_url and type journal\n"
     ]
    },
    {
     "name": "stderr",
     "output_type": "stream",
     "text": [
      " 53%|█████████████████████████████████████                                 | 814/1540 [06:49<06:00,  2.01it/s]"
     ]
    },
    {
     "name": "stdout",
     "output_type": "stream",
     "text": [
      "Advances in Mathematics of Communications has homepage_url and type journal\n"
     ]
    },
    {
     "name": "stderr",
     "output_type": "stream",
     "text": [
      " 53%|█████████████████████████████████████                                 | 816/1540 [06:50<05:39,  2.13it/s]"
     ]
    },
    {
     "name": "stdout",
     "output_type": "stream",
     "text": [
      "Current Opinion in Electrochemistry has homepage_url and type journal\n"
     ]
    },
    {
     "name": "stderr",
     "output_type": "stream",
     "text": [
      " 53%|█████████████████████████████████████▏                                | 817/1540 [06:50<05:39,  2.13it/s]"
     ]
    },
    {
     "name": "stdout",
     "output_type": "stream",
     "text": [
      "IEICE communications express has homepage_url and type journal\n"
     ]
    },
    {
     "name": "stderr",
     "output_type": "stream",
     "text": [
      " 53%|█████████████████████████████████████▏                                | 818/1540 [06:51<05:46,  2.08it/s]"
     ]
    },
    {
     "name": "stdout",
     "output_type": "stream",
     "text": [
      "Quanta has homepage_url and type journal\n"
     ]
    },
    {
     "name": "stderr",
     "output_type": "stream",
     "text": [
      " 53%|█████████████████████████████████████▎                                | 820/1540 [06:52<05:51,  2.05it/s]"
     ]
    },
    {
     "name": "stdout",
     "output_type": "stream",
     "text": [
      "Information Technology and Control has homepage_url and type journal\n"
     ]
    },
    {
     "name": "stderr",
     "output_type": "stream",
     "text": [
      " 53%|█████████████████████████████████████▎                                | 821/1540 [06:52<05:51,  2.04it/s]"
     ]
    },
    {
     "name": "stdout",
     "output_type": "stream",
     "text": [
      "Mathematica Slovaca has homepage_url and type journal\n"
     ]
    },
    {
     "name": "stderr",
     "output_type": "stream",
     "text": [
      " 53%|█████████████████████████████████████▍                                | 823/1540 [06:53<05:42,  2.09it/s]"
     ]
    },
    {
     "name": "stdout",
     "output_type": "stream",
     "text": [
      "Applied and Computational Mechanics has homepage_url and type book series\n"
     ]
    },
    {
     "name": "stderr",
     "output_type": "stream",
     "text": [
      " 54%|█████████████████████████████████████▍                                | 824/1540 [06:54<05:39,  2.11it/s]"
     ]
    },
    {
     "name": "stdout",
     "output_type": "stream",
     "text": [
      "Physica B: Condensed Matter has homepage_url and type journal\n"
     ]
    },
    {
     "name": "stderr",
     "output_type": "stream",
     "text": [
      " 54%|█████████████████████████████████████▌                                | 826/1540 [06:55<05:35,  2.13it/s]"
     ]
    },
    {
     "name": "stdout",
     "output_type": "stream",
     "text": [
      "Journal of Computer Virology and Hacking Techniques has homepage_url and type journal\n"
     ]
    },
    {
     "name": "stderr",
     "output_type": "stream",
     "text": [
      " 54%|█████████████████████████████████████▌                                | 827/1540 [06:55<05:52,  2.02it/s]"
     ]
    },
    {
     "name": "stdout",
     "output_type": "stream",
     "text": [
      "International Journal of Emerging Technologies in Learning (ijet) has homepage_url and type journal\n"
     ]
    },
    {
     "name": "stderr",
     "output_type": "stream",
     "text": [
      " 54%|█████████████████████████████████████▋                                | 829/1540 [06:56<05:50,  2.03it/s]"
     ]
    },
    {
     "name": "stdout",
     "output_type": "stream",
     "text": [
      "Scientific Programming has homepage_url and type journal\n"
     ]
    },
    {
     "name": "stderr",
     "output_type": "stream",
     "text": [
      " 54%|█████████████████████████████████████▊                                | 833/1540 [06:58<05:30,  2.14it/s]"
     ]
    },
    {
     "name": "stdout",
     "output_type": "stream",
     "text": [
      "IEEE Transactions on Software Engineering has homepage_url and type journal\n"
     ]
    },
    {
     "name": "stderr",
     "output_type": "stream",
     "text": [
      " 54%|██████████████████████████████████████                                | 836/1540 [06:59<05:20,  2.20it/s]"
     ]
    },
    {
     "name": "stdout",
     "output_type": "stream",
     "text": [
      "Data in Brief has homepage_url and type journal\n"
     ]
    },
    {
     "name": "stderr",
     "output_type": "stream",
     "text": [
      " 54%|██████████████████████████████████████                                | 838/1540 [07:00<05:33,  2.10it/s]"
     ]
    },
    {
     "name": "stdout",
     "output_type": "stream",
     "text": [
      "Journal of Complex Networks has homepage_url and type journal\n"
     ]
    },
    {
     "name": "stderr",
     "output_type": "stream",
     "text": [
      " 54%|██████████████████████████████████████▏                               | 839/1540 [07:01<05:26,  2.14it/s]"
     ]
    },
    {
     "name": "stdout",
     "output_type": "stream",
     "text": [
      "MethodsX has homepage_url and type journal\n"
     ]
    },
    {
     "name": "stderr",
     "output_type": "stream",
     "text": [
      " 55%|██████████████████████████████████████▏                               | 840/1540 [07:01<06:00,  1.94it/s]"
     ]
    },
    {
     "name": "stdout",
     "output_type": "stream",
     "text": [
      "Risks has homepage_url and type journal\n"
     ]
    },
    {
     "name": "stderr",
     "output_type": "stream",
     "text": [
      " 55%|██████████████████████████████████████▎                               | 843/1540 [07:03<05:34,  2.08it/s]"
     ]
    },
    {
     "name": "stdout",
     "output_type": "stream",
     "text": [
      "Computer Applications in Engineering Education has homepage_url and type journal\n"
     ]
    },
    {
     "name": "stderr",
     "output_type": "stream",
     "text": [
      " 55%|██████████████████████████████████████▍                               | 845/1540 [07:04<05:21,  2.16it/s]"
     ]
    },
    {
     "name": "stdout",
     "output_type": "stream",
     "text": [
      "Journal of Information and Optimization Sciences has homepage_url and type journal\n"
     ]
    },
    {
     "name": "stderr",
     "output_type": "stream",
     "text": [
      " 55%|██████████████████████████████████████▍                               | 846/1540 [07:04<05:27,  2.12it/s]"
     ]
    },
    {
     "name": "stdout",
     "output_type": "stream",
     "text": [
      "Physics Education has homepage_url and type journal\n"
     ]
    },
    {
     "name": "stderr",
     "output_type": "stream",
     "text": [
      " 55%|██████████████████████████████████████▌                               | 849/1540 [07:06<05:18,  2.17it/s]"
     ]
    },
    {
     "name": "stdout",
     "output_type": "stream",
     "text": [
      "Iskusstvennye obŝestva has homepage_url and type journal\n"
     ]
    },
    {
     "name": "stderr",
     "output_type": "stream",
     "text": [
      " 55%|██████████████████████████████████████▊                               | 853/1540 [07:08<05:47,  1.98it/s]"
     ]
    },
    {
     "name": "stdout",
     "output_type": "stream",
     "text": [
      "Molecules has homepage_url and type journal\n"
     ]
    },
    {
     "name": "stderr",
     "output_type": "stream",
     "text": [
      " 56%|██████████████████████████████████████▊                               | 855/1540 [07:09<05:47,  1.97it/s]"
     ]
    },
    {
     "name": "stdout",
     "output_type": "stream",
     "text": [
      "ACM Transactions on Internet Technology has homepage_url and type journal\n"
     ]
    },
    {
     "name": "stderr",
     "output_type": "stream",
     "text": [
      " 56%|███████████████████████████████████████                               | 859/1540 [07:11<05:25,  2.09it/s]"
     ]
    },
    {
     "name": "stdout",
     "output_type": "stream",
     "text": [
      "Computers in Biology and Medicine has homepage_url and type journal\n"
     ]
    },
    {
     "name": "stderr",
     "output_type": "stream",
     "text": [
      " 56%|███████████████████████████████████████▏                              | 862/1540 [07:12<05:42,  1.98it/s]"
     ]
    },
    {
     "name": "stdout",
     "output_type": "stream",
     "text": [
      "Archives of Computational Methods in Engineering has homepage_url and type journal\n"
     ]
    },
    {
     "name": "stderr",
     "output_type": "stream",
     "text": [
      " 56%|███████████████████████████████████████▎                              | 864/1540 [07:13<05:58,  1.89it/s]"
     ]
    },
    {
     "name": "stdout",
     "output_type": "stream",
     "text": [
      "Journal of Electronic Imaging has homepage_url and type journal\n"
     ]
    },
    {
     "name": "stderr",
     "output_type": "stream",
     "text": [
      " 56%|███████████████████████████████████████▎                              | 865/1540 [07:14<05:38,  1.99it/s]"
     ]
    },
    {
     "name": "stdout",
     "output_type": "stream",
     "text": [
      "IEEE journal on multiscale and multiphysics computational techniques has homepage_url and type journal\n"
     ]
    },
    {
     "name": "stderr",
     "output_type": "stream",
     "text": [
      " 56%|███████████████████████████████████████▎                              | 866/1540 [07:14<05:40,  1.98it/s]"
     ]
    },
    {
     "name": "stdout",
     "output_type": "stream",
     "text": [
      "IEEE Signal Processing Letters has homepage_url and type journal\n"
     ]
    },
    {
     "name": "stderr",
     "output_type": "stream",
     "text": [
      " 56%|███████████████████████████████████████▌                              | 870/1540 [07:16<05:50,  1.91it/s]"
     ]
    },
    {
     "name": "stdout",
     "output_type": "stream",
     "text": [
      "International Journal of Information and Communication Technology has homepage_url and type journal\n"
     ]
    },
    {
     "name": "stderr",
     "output_type": "stream",
     "text": [
      " 57%|███████████████████████████████████████▋                              | 872/1540 [07:17<05:45,  1.93it/s]"
     ]
    },
    {
     "name": "stdout",
     "output_type": "stream",
     "text": [
      "International Journal of Sensor Networks has homepage_url and type journal\n"
     ]
    },
    {
     "name": "stderr",
     "output_type": "stream",
     "text": [
      " 57%|███████████████████████████████████████▋                              | 874/1540 [07:18<05:37,  1.98it/s]"
     ]
    },
    {
     "name": "stdout",
     "output_type": "stream",
     "text": [
      "ChemPhysChem has homepage_url and type journal\n"
     ]
    },
    {
     "name": "stderr",
     "output_type": "stream",
     "text": [
      " 57%|███████████████████████████████████████▊                              | 875/1540 [07:19<05:27,  2.03it/s]"
     ]
    },
    {
     "name": "stdout",
     "output_type": "stream",
     "text": [
      "Wave Motion has homepage_url and type journal\n"
     ]
    },
    {
     "name": "stderr",
     "output_type": "stream",
     "text": [
      " 57%|███████████████████████████████████████▊                              | 876/1540 [07:19<05:28,  2.02it/s]"
     ]
    },
    {
     "name": "stdout",
     "output_type": "stream",
     "text": [
      "EPJ Techniques and Instrumentation has homepage_url and type journal\n"
     ]
    },
    {
     "name": "stderr",
     "output_type": "stream",
     "text": [
      " 57%|███████████████████████████████████████▊                              | 877/1540 [07:20<05:15,  2.10it/s]"
     ]
    },
    {
     "name": "stdout",
     "output_type": "stream",
     "text": [
      "Elektronika Ir Elektrotechnika has homepage_url and type journal\n"
     ]
    },
    {
     "name": "stderr",
     "output_type": "stream",
     "text": [
      " 57%|███████████████████████████████████████▉                              | 879/1540 [07:21<05:08,  2.14it/s]"
     ]
    },
    {
     "name": "stdout",
     "output_type": "stream",
     "text": [
      "Journal of Computational Chemistry has homepage_url and type journal\n"
     ]
    },
    {
     "name": "stderr",
     "output_type": "stream",
     "text": [
      " 58%|████████████████████████████████████████▎                             | 887/1540 [07:25<05:17,  2.06it/s]"
     ]
    },
    {
     "name": "stdout",
     "output_type": "stream",
     "text": [
      "Zenodo (CERN European Organization for Nuclear Research) has homepage_url and type repository\n"
     ]
    },
    {
     "name": "stderr",
     "output_type": "stream",
     "text": [
      " 58%|████████████████████████████████████████▎                             | 888/1540 [07:25<05:15,  2.07it/s]"
     ]
    },
    {
     "name": "stdout",
     "output_type": "stream",
     "text": [
      "Cryogenics has homepage_url and type journal\n"
     ]
    },
    {
     "name": "stderr",
     "output_type": "stream",
     "text": [
      " 58%|████████████████████████████████████████▌                             | 892/1540 [07:27<05:27,  1.98it/s]"
     ]
    },
    {
     "name": "stdout",
     "output_type": "stream",
     "text": [
      "IEEE Geoscience and Remote Sensing Letters has homepage_url and type journal\n"
     ]
    },
    {
     "name": "stderr",
     "output_type": "stream",
     "text": [
      " 58%|████████████████████████████████████████▌                             | 893/1540 [07:28<05:23,  2.00it/s]"
     ]
    },
    {
     "name": "stdout",
     "output_type": "stream",
     "text": [
      "Ubiquity has homepage_url and type journal\n"
     ]
    },
    {
     "name": "stderr",
     "output_type": "stream",
     "text": [
      " 58%|████████████████████████████████████████▋                             | 895/1540 [07:29<05:21,  2.00it/s]"
     ]
    },
    {
     "name": "stdout",
     "output_type": "stream",
     "text": [
      "Operations Research has homepage_url and type journal\n"
     ]
    },
    {
     "name": "stderr",
     "output_type": "stream",
     "text": [
      " 58%|████████████████████████████████████████▋                             | 896/1540 [07:29<05:37,  1.91it/s]"
     ]
    },
    {
     "name": "stdout",
     "output_type": "stream",
     "text": [
      "Information has homepage_url and type repository\n"
     ]
    },
    {
     "name": "stderr",
     "output_type": "stream",
     "text": [
      " 58%|████████████████████████████████████████▊                             | 897/1540 [07:30<05:22,  1.99it/s]"
     ]
    },
    {
     "name": "stdout",
     "output_type": "stream",
     "text": [
      "Performance evaluation review has homepage_url and type journal\n"
     ]
    },
    {
     "name": "stderr",
     "output_type": "stream",
     "text": [
      " 59%|████████████████████████████████████████▉                             | 901/1540 [07:32<05:26,  1.96it/s]"
     ]
    },
    {
     "name": "stdout",
     "output_type": "stream",
     "text": [
      "Isij International has homepage_url and type journal\n"
     ]
    },
    {
     "name": "stderr",
     "output_type": "stream",
     "text": [
      " 59%|█████████████████████████████████████████                             | 902/1540 [07:32<05:16,  2.02it/s]"
     ]
    },
    {
     "name": "stdout",
     "output_type": "stream",
     "text": [
      "Optics continuum has homepage_url and type journal\n"
     ]
    },
    {
     "name": "stderr",
     "output_type": "stream",
     "text": [
      " 59%|█████████████████████████████████████████                             | 903/1540 [07:32<05:10,  2.05it/s]"
     ]
    },
    {
     "name": "stdout",
     "output_type": "stream",
     "text": [
      "Journal of mobile multimedia has homepage_url and type journal\n"
     ]
    },
    {
     "name": "stderr",
     "output_type": "stream",
     "text": [
      " 59%|█████████████████████████████████████████▏                            | 905/1540 [07:33<04:56,  2.14it/s]"
     ]
    },
    {
     "name": "stdout",
     "output_type": "stream",
     "text": [
      "Journal of Optical Communications and Networking has homepage_url and type journal\n"
     ]
    },
    {
     "name": "stderr",
     "output_type": "stream",
     "text": [
      " 59%|█████████████████████████████████████████▏                            | 906/1540 [07:34<04:53,  2.16it/s]"
     ]
    },
    {
     "name": "stdout",
     "output_type": "stream",
     "text": [
      "Granular computing has homepage_url and type journal\n"
     ]
    },
    {
     "name": "stderr",
     "output_type": "stream",
     "text": [
      " 59%|█████████████████████████████████████████▎                            | 909/1540 [07:35<05:02,  2.09it/s]"
     ]
    },
    {
     "name": "stdout",
     "output_type": "stream",
     "text": [
      "Biomolecules has homepage_url and type journal\n"
     ]
    },
    {
     "name": "stderr",
     "output_type": "stream",
     "text": [
      " 59%|█████████████████████████████████████████▎                            | 910/1540 [07:36<05:09,  2.04it/s]"
     ]
    },
    {
     "name": "stdout",
     "output_type": "stream",
     "text": [
      "Emerging science journal has homepage_url and type journal\n"
     ]
    },
    {
     "name": "stderr",
     "output_type": "stream",
     "text": [
      " 59%|█████████████████████████████████████████▍                            | 912/1540 [07:37<05:36,  1.87it/s]"
     ]
    },
    {
     "name": "stdout",
     "output_type": "stream",
     "text": [
      "Computers has homepage_url and type journal\n"
     ]
    },
    {
     "name": "stderr",
     "output_type": "stream",
     "text": [
      " 59%|█████████████████████████████████████████▌                            | 913/1540 [07:37<05:22,  1.94it/s]"
     ]
    },
    {
     "name": "stdout",
     "output_type": "stream",
     "text": [
      "Data-centric engineering has homepage_url and type journal\n"
     ]
    },
    {
     "name": "stderr",
     "output_type": "stream",
     "text": [
      " 59%|█████████████████████████████████████████▌                            | 914/1540 [07:38<05:40,  1.84it/s]"
     ]
    },
    {
     "name": "stdout",
     "output_type": "stream",
     "text": [
      "Management Science has homepage_url and type journal\n"
     ]
    },
    {
     "name": "stderr",
     "output_type": "stream",
     "text": [
      " 59%|█████████████████████████████████████████▋                            | 916/1540 [07:39<05:26,  1.91it/s]"
     ]
    },
    {
     "name": "stdout",
     "output_type": "stream",
     "text": [
      "Matter has homepage_url and type journal\n"
     ]
    },
    {
     "name": "stderr",
     "output_type": "stream",
     "text": [
      " 60%|█████████████████████████████████████████▉                            | 923/1540 [07:42<04:46,  2.15it/s]"
     ]
    },
    {
     "name": "stdout",
     "output_type": "stream",
     "text": [
      "Topics in Applied Physics has homepage_url and type book series\n"
     ]
    },
    {
     "name": "stderr",
     "output_type": "stream",
     "text": [
      " 60%|██████████████████████████████████████████▎                           | 930/1540 [07:45<04:38,  2.19it/s]"
     ]
    },
    {
     "name": "stdout",
     "output_type": "stream",
     "text": [
      "IEEE Transactions on Visualization and Computer Graphics has homepage_url and type journal\n"
     ]
    },
    {
     "name": "stderr",
     "output_type": "stream",
     "text": [
      " 60%|██████████████████████████████████████████▎                           | 931/1540 [07:46<04:37,  2.20it/s]"
     ]
    },
    {
     "name": "stdout",
     "output_type": "stream",
     "text": [
      "Robotics and Autonomous Systems has homepage_url and type journal\n"
     ]
    },
    {
     "name": "stderr",
     "output_type": "stream",
     "text": [
      " 61%|██████████████████████████████████████████▋                           | 938/1540 [07:49<04:38,  2.16it/s]"
     ]
    },
    {
     "name": "stdout",
     "output_type": "stream",
     "text": [
      "Journal of Modern Optics has homepage_url and type journal\n"
     ]
    },
    {
     "name": "stderr",
     "output_type": "stream",
     "text": [
      " 61%|██████████████████████████████████████████▊                           | 941/1540 [07:51<04:34,  2.19it/s]"
     ]
    },
    {
     "name": "stdout",
     "output_type": "stream",
     "text": [
      "Lecture Notes in Electrical Engineering has homepage_url and type book series\n"
     ]
    },
    {
     "name": "stderr",
     "output_type": "stream",
     "text": [
      " 61%|██████████████████████████████████████████▊                           | 942/1540 [07:51<04:28,  2.23it/s]"
     ]
    },
    {
     "name": "stdout",
     "output_type": "stream",
     "text": [
      "IEEE Transactions on Very Large Scale Integration Systems has homepage_url and type journal\n"
     ]
    },
    {
     "name": "stderr",
     "output_type": "stream",
     "text": [
      " 61%|██████████████████████████████████████████▊                           | 943/1540 [07:51<04:43,  2.11it/s]"
     ]
    },
    {
     "name": "stdout",
     "output_type": "stream",
     "text": [
      "Journal of Nonlinear Science has homepage_url and type journal\n"
     ]
    },
    {
     "name": "stderr",
     "output_type": "stream",
     "text": [
      " 61%|██████████████████████████████████████████▉                           | 944/1540 [07:52<04:37,  2.14it/s]"
     ]
    },
    {
     "name": "stdout",
     "output_type": "stream",
     "text": [
      "IEEE MultiMedia has homepage_url and type journal\n"
     ]
    },
    {
     "name": "stderr",
     "output_type": "stream",
     "text": [
      " 61%|██████████████████████████████████████████▉                           | 945/1540 [07:52<04:43,  2.10it/s]"
     ]
    },
    {
     "name": "stdout",
     "output_type": "stream",
     "text": [
      "Parallel Computing has homepage_url and type journal\n"
     ]
    },
    {
     "name": "stderr",
     "output_type": "stream",
     "text": [
      " 61%|███████████████████████████████████████████                           | 946/1540 [07:53<04:55,  2.01it/s]"
     ]
    },
    {
     "name": "stdout",
     "output_type": "stream",
     "text": [
      "Materials Today has homepage_url and type journal\n"
     ]
    },
    {
     "name": "stderr",
     "output_type": "stream",
     "text": [
      " 61%|███████████████████████████████████████████                           | 947/1540 [07:54<05:02,  1.96it/s]"
     ]
    },
    {
     "name": "stdout",
     "output_type": "stream",
     "text": [
      "La Rivista Del Nuovo Cimento has homepage_url and type journal\n"
     ]
    },
    {
     "name": "stderr",
     "output_type": "stream",
     "text": [
      " 62%|███████████████████████████████████████████                           | 948/1540 [07:54<04:56,  2.00it/s]"
     ]
    },
    {
     "name": "stdout",
     "output_type": "stream",
     "text": [
      "IEEE Transactions on Network and Service Management has homepage_url and type journal\n"
     ]
    },
    {
     "name": "stderr",
     "output_type": "stream",
     "text": [
      " 62%|███████████████████████████████████████████▏                          | 949/1540 [07:54<04:48,  2.05it/s]"
     ]
    },
    {
     "name": "stdout",
     "output_type": "stream",
     "text": [
      "Journal of the Korean Physical Society has homepage_url and type journal\n"
     ]
    },
    {
     "name": "stderr",
     "output_type": "stream",
     "text": [
      " 62%|███████████████████████████████████████████▏                          | 950/1540 [07:55<04:52,  2.02it/s]"
     ]
    },
    {
     "name": "stdout",
     "output_type": "stream",
     "text": [
      "Materials Science And Engineering: B has homepage_url and type journal\n"
     ]
    },
    {
     "name": "stderr",
     "output_type": "stream",
     "text": [
      " 62%|███████████████████████████████████████████▏                          | 951/1540 [07:55<04:42,  2.08it/s]"
     ]
    },
    {
     "name": "stdout",
     "output_type": "stream",
     "text": [
      "New Journal of Chemistry has homepage_url and type journal\n"
     ]
    },
    {
     "name": "stderr",
     "output_type": "stream",
     "text": [
      " 62%|███████████████████████████████████████████▎                          | 953/1540 [07:57<05:08,  1.91it/s]"
     ]
    },
    {
     "name": "stdout",
     "output_type": "stream",
     "text": [
      "Molecular Biotechnology has homepage_url and type journal\n"
     ]
    },
    {
     "name": "stderr",
     "output_type": "stream",
     "text": [
      " 62%|███████████████████████████████████████████▎                          | 954/1540 [07:57<04:53,  2.00it/s]"
     ]
    },
    {
     "name": "stdout",
     "output_type": "stream",
     "text": [
      "Compositionality has homepage_url and type journal\n"
     ]
    },
    {
     "name": "stderr",
     "output_type": "stream",
     "text": [
      " 62%|███████████████████████████████████████████▍                          | 955/1540 [07:57<04:43,  2.06it/s]"
     ]
    },
    {
     "name": "stdout",
     "output_type": "stream",
     "text": [
      "Frontiers in Immunology has homepage_url and type journal\n"
     ]
    },
    {
     "name": "stderr",
     "output_type": "stream",
     "text": [
      " 62%|███████████████████████████████████████████▍                          | 956/1540 [07:58<04:41,  2.08it/s]"
     ]
    },
    {
     "name": "stdout",
     "output_type": "stream",
     "text": [
      "Molecular Therapy - Nucleic Acids has homepage_url and type journal\n"
     ]
    },
    {
     "name": "stderr",
     "output_type": "stream",
     "text": [
      " 62%|███████████████████████████████████████████▌                          | 957/1540 [07:58<04:34,  2.13it/s]"
     ]
    },
    {
     "name": "stdout",
     "output_type": "stream",
     "text": [
      "Nano-Structures and Nano-Objects has homepage_url and type journal\n"
     ]
    },
    {
     "name": "stderr",
     "output_type": "stream",
     "text": [
      " 62%|███████████████████████████████████████████▌                          | 958/1540 [07:59<04:29,  2.16it/s]"
     ]
    },
    {
     "name": "stdout",
     "output_type": "stream",
     "text": [
      "Proceedings of the VLDB Endowment has homepage_url and type journal\n"
     ]
    },
    {
     "name": "stderr",
     "output_type": "stream",
     "text": [
      " 62%|███████████████████████████████████████████▌                          | 959/1540 [07:59<04:23,  2.20it/s]"
     ]
    },
    {
     "name": "stdout",
     "output_type": "stream",
     "text": [
      "ACM Transactions on Programming Languages and Systems has homepage_url and type journal\n"
     ]
    },
    {
     "name": "stderr",
     "output_type": "stream",
     "text": [
      " 62%|███████████████████████████████████████████▋                          | 960/1540 [08:00<04:40,  2.07it/s]"
     ]
    },
    {
     "name": "stdout",
     "output_type": "stream",
     "text": [
      "Crystals has homepage_url and type journal\n"
     ]
    },
    {
     "name": "stderr",
     "output_type": "stream",
     "text": [
      " 62%|███████████████████████████████████████████▋                          | 961/1540 [08:00<04:36,  2.10it/s]"
     ]
    },
    {
     "name": "stdout",
     "output_type": "stream",
     "text": [
      "Nature Reviews Chemistry has homepage_url and type journal\n"
     ]
    },
    {
     "name": "stderr",
     "output_type": "stream",
     "text": [
      " 62%|███████████████████████████████████████████▋                          | 962/1540 [08:01<04:30,  2.14it/s]"
     ]
    },
    {
     "name": "stdout",
     "output_type": "stream",
     "text": [
      "Current Opinion in Biotechnology has homepage_url and type journal\n"
     ]
    },
    {
     "name": "stderr",
     "output_type": "stream",
     "text": [
      " 63%|███████████████████████████████████████████▊                          | 965/1540 [08:02<04:31,  2.12it/s]"
     ]
    },
    {
     "name": "stdout",
     "output_type": "stream",
     "text": [
      "Journal of Algebra and Its Applications has homepage_url and type journal\n"
     ]
    },
    {
     "name": "stderr",
     "output_type": "stream",
     "text": [
      " 63%|███████████████████████████████████████████▉                          | 967/1540 [08:03<04:54,  1.95it/s]"
     ]
    },
    {
     "name": "stdout",
     "output_type": "stream",
     "text": [
      "Proceedings has homepage_url and type journal\n"
     ]
    },
    {
     "name": "stderr",
     "output_type": "stream",
     "text": [
      " 63%|████████████████████████████████████████████                          | 969/1540 [08:04<04:33,  2.09it/s]"
     ]
    },
    {
     "name": "stdout",
     "output_type": "stream",
     "text": [
      "Neuroquantology has homepage_url and type journal\n"
     ]
    },
    {
     "name": "stderr",
     "output_type": "stream",
     "text": [
      " 63%|████████████████████████████████████████████▏                         | 972/1540 [08:06<04:43,  2.00it/s]"
     ]
    },
    {
     "name": "stdout",
     "output_type": "stream",
     "text": [
      "Springer theses has homepage_url and type book series\n"
     ]
    },
    {
     "name": "stderr",
     "output_type": "stream",
     "text": [
      " 63%|████████████████████████████████████████████▏                         | 973/1540 [08:06<04:40,  2.02it/s]"
     ]
    },
    {
     "name": "stdout",
     "output_type": "stream",
     "text": [
      "Doklady Akademii Nauk has homepage_url and type journal\n"
     ]
    },
    {
     "name": "stderr",
     "output_type": "stream",
     "text": [
      " 63%|████████████████████████████████████████████▎                         | 974/1540 [08:07<04:53,  1.93it/s]"
     ]
    },
    {
     "name": "stdout",
     "output_type": "stream",
     "text": [
      "Научный вестник МГТУ ГА has homepage_url and type journal\n"
     ]
    },
    {
     "name": "stderr",
     "output_type": "stream",
     "text": [
      " 63%|████████████████████████████████████████████▎                         | 975/1540 [08:07<04:47,  1.97it/s]"
     ]
    },
    {
     "name": "stdout",
     "output_type": "stream",
     "text": [
      "ISC has homepage_url and type journal\n"
     ]
    },
    {
     "name": "stderr",
     "output_type": "stream",
     "text": [
      " 63%|████████████████████████████████████████████▍                         | 977/1540 [08:08<04:45,  1.97it/s]"
     ]
    },
    {
     "name": "stdout",
     "output_type": "stream",
     "text": [
      "International Journal of Intelligent Information and Database Systems has homepage_url and type journal\n"
     ]
    },
    {
     "name": "stderr",
     "output_type": "stream",
     "text": [
      " 64%|████████████████████████████████████████████▌                         | 980/1540 [08:09<04:16,  2.18it/s]"
     ]
    },
    {
     "name": "stdout",
     "output_type": "stream",
     "text": [
      "Leonardo Music Journal has homepage_url and type journal\n"
     ]
    },
    {
     "name": "stderr",
     "output_type": "stream",
     "text": [
      " 64%|████████████████████████████████████████████▋                         | 983/1540 [08:11<04:26,  2.09it/s]"
     ]
    },
    {
     "name": "stdout",
     "output_type": "stream",
     "text": [
      "Advanced Materials Letters has homepage_url and type journal\n"
     ]
    },
    {
     "name": "stderr",
     "output_type": "stream",
     "text": [
      " 64%|████████████████████████████████████████████▋                         | 984/1540 [08:11<04:38,  1.99it/s]"
     ]
    },
    {
     "name": "stdout",
     "output_type": "stream",
     "text": [
      "Physical Review B has homepage_url and type journal\n"
     ]
    },
    {
     "name": "stderr",
     "output_type": "stream",
     "text": [
      " 64%|████████████████████████████████████████████▊                         | 985/1540 [08:12<04:27,  2.07it/s]"
     ]
    },
    {
     "name": "stdout",
     "output_type": "stream",
     "text": [
      "Ukrainian Journal of Physics has homepage_url and type journal\n"
     ]
    },
    {
     "name": "stderr",
     "output_type": "stream",
     "text": [
      " 64%|████████████████████████████████████████████▊                         | 986/1540 [08:12<04:20,  2.13it/s]"
     ]
    },
    {
     "name": "stdout",
     "output_type": "stream",
     "text": [
      "Quantum Studies: Mathematics And Foundations has homepage_url and type journal\n"
     ]
    },
    {
     "name": "stderr",
     "output_type": "stream",
     "text": [
      " 65%|█████████████████████████████████████████████▏                        | 994/1540 [08:16<04:26,  2.05it/s]"
     ]
    },
    {
     "name": "stdout",
     "output_type": "stream",
     "text": [
      "International Journal of Engineering and Computer Science has homepage_url and type journal\n"
     ]
    },
    {
     "name": "stderr",
     "output_type": "stream",
     "text": [
      " 65%|█████████████████████████████████████████████▎                        | 997/1540 [08:18<04:38,  1.95it/s]"
     ]
    },
    {
     "name": "stdout",
     "output_type": "stream",
     "text": [
      "Lobachevskii Journal of Mathematics has homepage_url and type journal\n"
     ]
    },
    {
     "name": "stderr",
     "output_type": "stream",
     "text": [
      " 65%|████████████████████████████████████████████▊                        | 1000/1540 [08:19<04:37,  1.94it/s]"
     ]
    },
    {
     "name": "stdout",
     "output_type": "stream",
     "text": [
      "Operations Research Letters has homepage_url and type journal\n"
     ]
    },
    {
     "name": "stderr",
     "output_type": "stream",
     "text": [
      " 65%|████████████████████████████████████████████▊                        | 1001/1540 [08:20<04:33,  1.97it/s]"
     ]
    },
    {
     "name": "stdout",
     "output_type": "stream",
     "text": [
      "Iraqi journal of science has homepage_url and type journal\n"
     ]
    },
    {
     "name": "stderr",
     "output_type": "stream",
     "text": [
      " 65%|████████████████████████████████████████████▉                        | 1002/1540 [08:20<04:22,  2.05it/s]"
     ]
    },
    {
     "name": "stdout",
     "output_type": "stream",
     "text": [
      "Europan journal of science and technology has homepage_url and type journal\n"
     ]
    },
    {
     "name": "stderr",
     "output_type": "stream",
     "text": [
      " 65%|████████████████████████████████████████████▉                        | 1004/1540 [08:21<04:15,  2.10it/s]"
     ]
    },
    {
     "name": "stdout",
     "output_type": "stream",
     "text": [
      "International Journal of High Speed Electronics and Systems has homepage_url and type journal\n"
     ]
    },
    {
     "name": "stderr",
     "output_type": "stream",
     "text": [
      " 65%|█████████████████████████████████████████████                        | 1005/1540 [08:22<04:28,  1.99it/s]"
     ]
    },
    {
     "name": "stdout",
     "output_type": "stream",
     "text": [
      "Authorea has homepage_url and type repository\n"
     ]
    },
    {
     "name": "stderr",
     "output_type": "stream",
     "text": [
      " 66%|█████████████████████████████████████████████▎                       | 1010/1540 [08:24<04:12,  2.10it/s]"
     ]
    },
    {
     "name": "stdout",
     "output_type": "stream",
     "text": [
      "International Journal of Advanced Intelligence Paradigms has homepage_url and type journal\n"
     ]
    },
    {
     "name": "stderr",
     "output_type": "stream",
     "text": [
      " 66%|█████████████████████████████████████████████▎                       | 1012/1540 [08:25<04:11,  2.10it/s]"
     ]
    },
    {
     "name": "stdout",
     "output_type": "stream",
     "text": [
      "International Journal of Innovation and Applied Studies has homepage_url and type journal\n"
     ]
    },
    {
     "name": "stderr",
     "output_type": "stream",
     "text": [
      " 66%|█████████████████████████████████████████████▍                       | 1013/1540 [08:25<04:19,  2.03it/s]"
     ]
    },
    {
     "name": "stdout",
     "output_type": "stream",
     "text": [
      "Recent Patents on Engineering has homepage_url and type journal\n"
     ]
    },
    {
     "name": "stderr",
     "output_type": "stream",
     "text": [
      " 66%|█████████████████████████████████████████████▍                       | 1014/1540 [08:26<04:13,  2.07it/s]"
     ]
    },
    {
     "name": "stdout",
     "output_type": "stream",
     "text": [
      "Operator theory has homepage_url and type journal\n"
     ]
    },
    {
     "name": "stderr",
     "output_type": "stream",
     "text": [
      " 66%|█████████████████████████████████████████████▋                       | 1020/1540 [08:29<04:43,  1.83it/s]"
     ]
    },
    {
     "name": "stdout",
     "output_type": "stream",
     "text": [
      "Advances in Mathematics has homepage_url and type journal\n"
     ]
    },
    {
     "name": "stderr",
     "output_type": "stream",
     "text": [
      " 66%|█████████████████████████████████████████████▋                       | 1021/1540 [08:30<04:29,  1.92it/s]"
     ]
    },
    {
     "name": "stdout",
     "output_type": "stream",
     "text": [
      "Fundamenta Informaticae has homepage_url and type journal\n"
     ]
    },
    {
     "name": "stderr",
     "output_type": "stream",
     "text": [
      " 66%|█████████████████████████████████████████████▊                       | 1023/1540 [08:30<04:12,  2.05it/s]"
     ]
    },
    {
     "name": "stdout",
     "output_type": "stream",
     "text": [
      "Advanced Optical Technologies has homepage_url and type journal\n"
     ]
    },
    {
     "name": "stderr",
     "output_type": "stream",
     "text": [
      " 67%|██████████████████████████████████████████████                       | 1027/1540 [08:33<04:24,  1.94it/s]"
     ]
    },
    {
     "name": "stdout",
     "output_type": "stream",
     "text": [
      "Optics and Spectroscopy has homepage_url and type journal\n"
     ]
    },
    {
     "name": "stderr",
     "output_type": "stream",
     "text": [
      " 67%|██████████████████████████████████████████████                       | 1029/1540 [08:33<04:08,  2.06it/s]"
     ]
    },
    {
     "name": "stdout",
     "output_type": "stream",
     "text": [
      "IEEE Latin America Transactions has homepage_url and type journal\n"
     ]
    },
    {
     "name": "stderr",
     "output_type": "stream",
     "text": [
      " 67%|██████████████████████████████████████████████▏                      | 1030/1540 [08:34<03:59,  2.13it/s]"
     ]
    },
    {
     "name": "stdout",
     "output_type": "stream",
     "text": [
      "Serbian Journal of Electrical Engineering has homepage_url and type journal\n"
     ]
    },
    {
     "name": "stderr",
     "output_type": "stream",
     "text": [
      " 67%|██████████████████████████████████████████████▏                      | 1031/1540 [08:34<03:55,  2.16it/s]"
     ]
    },
    {
     "name": "stdout",
     "output_type": "stream",
     "text": [
      "Sistemi obrobki ìnformacìï has homepage_url and type journal\n"
     ]
    },
    {
     "name": "stderr",
     "output_type": "stream",
     "text": [
      " 67%|██████████████████████████████████████████████▏                      | 1032/1540 [08:35<03:52,  2.18it/s]"
     ]
    },
    {
     "name": "stdout",
     "output_type": "stream",
     "text": [
      "Modern approaches on material science has homepage_url and type journal\n"
     ]
    },
    {
     "name": "stderr",
     "output_type": "stream",
     "text": [
      " 67%|██████████████████████████████████████████████▎                      | 1033/1540 [08:35<03:52,  2.18it/s]"
     ]
    },
    {
     "name": "stdout",
     "output_type": "stream",
     "text": [
      "Journal of vacuum science and technology has homepage_url and type journal\n"
     ]
    },
    {
     "name": "stderr",
     "output_type": "stream",
     "text": [
      " 67%|██████████████████████████████████████████████▎                      | 1034/1540 [08:36<03:48,  2.22it/s]"
     ]
    },
    {
     "name": "stdout",
     "output_type": "stream",
     "text": [
      "Heliyon has homepage_url and type journal\n"
     ]
    },
    {
     "name": "stderr",
     "output_type": "stream",
     "text": [
      " 67%|██████████████████████████████████████████████▎                      | 1035/1540 [08:36<04:00,  2.10it/s]"
     ]
    },
    {
     "name": "stdout",
     "output_type": "stream",
     "text": [
      "Philosophical Problems in Science has homepage_url and type journal\n"
     ]
    },
    {
     "name": "stderr",
     "output_type": "stream",
     "text": [
      " 67%|██████████████████████████████████████████████▍                      | 1036/1540 [08:37<04:00,  2.10it/s]"
     ]
    },
    {
     "name": "stdout",
     "output_type": "stream",
     "text": [
      "E3S web of conferences has homepage_url and type journal\n"
     ]
    },
    {
     "name": "stderr",
     "output_type": "stream",
     "text": [
      " 67%|██████████████████████████████████████████████▌                      | 1039/1540 [08:38<03:59,  2.09it/s]"
     ]
    },
    {
     "name": "stdout",
     "output_type": "stream",
     "text": [
      "Springer series in materials science has homepage_url and type book series\n"
     ]
    },
    {
     "name": "stderr",
     "output_type": "stream",
     "text": [
      " 68%|██████████████████████████████████████████████▋                      | 1042/1540 [08:40<03:55,  2.12it/s]"
     ]
    },
    {
     "name": "stdout",
     "output_type": "stream",
     "text": [
      "Supercomputing frontiers and innovations has homepage_url and type journal\n"
     ]
    },
    {
     "name": "stderr",
     "output_type": "stream",
     "text": [
      " 68%|██████████████████████████████████████████████▊                      | 1045/1540 [08:41<03:44,  2.21it/s]"
     ]
    },
    {
     "name": "stdout",
     "output_type": "stream",
     "text": [
      "Special Matrices has homepage_url and type journal\n"
     ]
    },
    {
     "name": "stderr",
     "output_type": "stream",
     "text": [
      " 68%|██████████████████████████████████████████████▉                      | 1047/1540 [08:42<03:50,  2.14it/s]"
     ]
    },
    {
     "name": "stdout",
     "output_type": "stream",
     "text": [
      "Cogent engineering has homepage_url and type journal\n"
     ]
    },
    {
     "name": "stderr",
     "output_type": "stream",
     "text": [
      " 68%|███████████████████████████████████████████████                      | 1049/1540 [08:43<03:48,  2.15it/s]"
     ]
    },
    {
     "name": "stdout",
     "output_type": "stream",
     "text": [
      "IMF Working Papers has homepage_url and type repository\n"
     ]
    },
    {
     "name": "stderr",
     "output_type": "stream",
     "text": [
      " 68%|███████████████████████████████████████████████▏                     | 1053/1540 [08:45<03:48,  2.13it/s]"
     ]
    },
    {
     "name": "stdout",
     "output_type": "stream",
     "text": [
      "Inteligencia artificial has homepage_url and type journal\n"
     ]
    },
    {
     "name": "stderr",
     "output_type": "stream",
     "text": [
      " 68%|███████████████████████████████████████████████▏                     | 1054/1540 [08:45<03:59,  2.03it/s]"
     ]
    },
    {
     "name": "stdout",
     "output_type": "stream",
     "text": [
      "Discrete Mathematics has homepage_url and type journal\n"
     ]
    },
    {
     "name": "stderr",
     "output_type": "stream",
     "text": [
      " 69%|███████████████████████████████████████████████▎                     | 1056/1540 [08:46<04:04,  1.98it/s]"
     ]
    },
    {
     "name": "stdout",
     "output_type": "stream",
     "text": [
      "Lecture notes in business information processing has homepage_url and type book series\n"
     ]
    },
    {
     "name": "stderr",
     "output_type": "stream",
     "text": [
      " 69%|███████████████████████████████████████████████▎                     | 1057/1540 [08:47<04:00,  2.01it/s]"
     ]
    },
    {
     "name": "stdout",
     "output_type": "stream",
     "text": [
      "Artificial intelligence evolution has homepage_url and type journal\n"
     ]
    },
    {
     "name": "stderr",
     "output_type": "stream",
     "text": [
      " 69%|███████████████████████████████████████████████▍                     | 1060/1540 [08:48<03:47,  2.11it/s]"
     ]
    },
    {
     "name": "stdout",
     "output_type": "stream",
     "text": [
      "International Journal of Cognitive Informatics and Natural Intelligence has homepage_url and type journal\n"
     ]
    },
    {
     "name": "stderr",
     "output_type": "stream",
     "text": [
      " 69%|███████████████████████████████████████████████▊                     | 1066/1540 [08:51<04:06,  1.92it/s]"
     ]
    },
    {
     "name": "stdout",
     "output_type": "stream",
     "text": [
      "Computer Optics has homepage_url and type journal\n"
     ]
    },
    {
     "name": "stderr",
     "output_type": "stream",
     "text": [
      " 69%|███████████████████████████████████████████████▊                     | 1067/1540 [08:52<04:24,  1.79it/s]"
     ]
    },
    {
     "name": "stdout",
     "output_type": "stream",
     "text": [
      "Dyna-colombia has homepage_url and type journal\n"
     ]
    },
    {
     "name": "stderr",
     "output_type": "stream",
     "text": [
      " 70%|████████████████████████████████████████████████                     | 1073/1540 [08:54<03:31,  2.21it/s]"
     ]
    },
    {
     "name": "stdout",
     "output_type": "stream",
     "text": [
      "Digitale Welt has homepage_url and type journal\n"
     ]
    },
    {
     "name": "stderr",
     "output_type": "stream",
     "text": [
      " 70%|████████████████████████████████████████████████                     | 1074/1540 [08:55<03:36,  2.16it/s]"
     ]
    },
    {
     "name": "stdout",
     "output_type": "stream",
     "text": [
      "Journal of computer science research has homepage_url and type journal\n"
     ]
    },
    {
     "name": "stderr",
     "output_type": "stream",
     "text": [
      " 70%|████████████████████████████████████████████████▏                    | 1075/1540 [08:55<03:31,  2.20it/s]"
     ]
    },
    {
     "name": "stdout",
     "output_type": "stream",
     "text": [
      "Review of Symbolic Logic has homepage_url and type journal\n"
     ]
    },
    {
     "name": "stderr",
     "output_type": "stream",
     "text": [
      " 70%|████████████████████████████████████████████████▍                    | 1082/1540 [08:59<03:42,  2.06it/s]"
     ]
    },
    {
     "name": "stdout",
     "output_type": "stream",
     "text": [
      "Computational and mathematical methods has homepage_url and type journal\n"
     ]
    },
    {
     "name": "stderr",
     "output_type": "stream",
     "text": [
      " 70%|████████████████████████████████████████████████▌                    | 1083/1540 [08:59<03:47,  2.01it/s]"
     ]
    },
    {
     "name": "stdout",
     "output_type": "stream",
     "text": [
      "Blockchain: Research and Applications has homepage_url and type journal\n"
     ]
    },
    {
     "name": "stderr",
     "output_type": "stream",
     "text": [
      " 71%|████████████████████████████████████████████████▋                    | 1086/1540 [09:01<03:31,  2.15it/s]"
     ]
    },
    {
     "name": "stdout",
     "output_type": "stream",
     "text": [
      "International Journal of Enterprise Information Systems has homepage_url and type journal\n"
     ]
    },
    {
     "name": "stderr",
     "output_type": "stream",
     "text": [
      " 71%|████████████████████████████████████████████████▊                    | 1090/1540 [09:03<03:40,  2.04it/s]"
     ]
    },
    {
     "name": "stdout",
     "output_type": "stream",
     "text": [
      "Optics has homepage_url and type journal\n"
     ]
    },
    {
     "name": "stderr",
     "output_type": "stream",
     "text": [
      " 71%|█████████████████████████████████████████████████                    | 1094/1540 [09:05<03:34,  2.08it/s]"
     ]
    },
    {
     "name": "stdout",
     "output_type": "stream",
     "text": [
      "MATTER: International Journal of Science and Technology has homepage_url and type journal\n"
     ]
    },
    {
     "name": "stderr",
     "output_type": "stream",
     "text": [
      " 72%|█████████████████████████████████████████████████▌                   | 1106/1540 [09:10<03:23,  2.13it/s]"
     ]
    },
    {
     "name": "stdout",
     "output_type": "stream",
     "text": [
      "Žurnal Srednevolžskogo matematičeskogo obŝestva has homepage_url and type journal\n"
     ]
    },
    {
     "name": "stderr",
     "output_type": "stream",
     "text": [
      " 72%|█████████████████████████████████████████████████▋                   | 1109/1540 [09:12<03:31,  2.04it/s]"
     ]
    },
    {
     "name": "stdout",
     "output_type": "stream",
     "text": [
      "Physics World has homepage_url and type journal\n"
     ]
    },
    {
     "name": "stderr",
     "output_type": "stream",
     "text": [
      " 72%|█████████████████████████████████████████████████▊                   | 1111/1540 [09:12<03:19,  2.15it/s]"
     ]
    },
    {
     "name": "stdout",
     "output_type": "stream",
     "text": [
      "Frontiers in computer science has homepage_url and type journal\n"
     ]
    },
    {
     "name": "stderr",
     "output_type": "stream",
     "text": [
      " 72%|█████████████████████████████████████████████████▉                   | 1114/1540 [09:14<03:13,  2.20it/s]"
     ]
    },
    {
     "name": "stdout",
     "output_type": "stream",
     "text": [
      "Problemy Techniki Uzbrojenia i Radiolokacji has homepage_url and type journal\n"
     ]
    },
    {
     "name": "stderr",
     "output_type": "stream",
     "text": [
      " 72%|██████████████████████████████████████████████████                   | 1116/1540 [09:15<03:25,  2.07it/s]"
     ]
    },
    {
     "name": "stdout",
     "output_type": "stream",
     "text": [
      "Journal of Computer Science and Technology has homepage_url and type journal\n"
     ]
    },
    {
     "name": "stderr",
     "output_type": "stream",
     "text": [
      " 73%|██████████████████████████████████████████████████▍                  | 1125/1540 [09:19<03:15,  2.12it/s]"
     ]
    },
    {
     "name": "stdout",
     "output_type": "stream",
     "text": [
      "IEEE Antennas and Propagation Magazine has homepage_url and type journal\n"
     ]
    },
    {
     "name": "stderr",
     "output_type": "stream",
     "text": [
      " 73%|██████████████████████████████████████████████████▍                  | 1126/1540 [09:20<03:23,  2.04it/s]"
     ]
    },
    {
     "name": "stdout",
     "output_type": "stream",
     "text": [
      "Neural Computation has homepage_url and type journal\n"
     ]
    },
    {
     "name": "stderr",
     "output_type": "stream",
     "text": [
      " 73%|██████████████████████████████████████████████████▋                  | 1130/1540 [09:22<03:16,  2.08it/s]"
     ]
    },
    {
     "name": "stdout",
     "output_type": "stream",
     "text": [
      "Authorea (Authorea) has homepage_url and type repository\n"
     ]
    },
    {
     "name": "stderr",
     "output_type": "stream",
     "text": [
      " 73%|██████████████████████████████████████████████████▋                  | 1131/1540 [09:22<03:14,  2.10it/s]"
     ]
    },
    {
     "name": "stdout",
     "output_type": "stream",
     "text": [
      "Acta Materialia has homepage_url and type journal\n"
     ]
    },
    {
     "name": "stderr",
     "output_type": "stream",
     "text": [
      " 74%|██████████████████████████████████████████████████▊                  | 1133/1540 [09:23<03:09,  2.15it/s]"
     ]
    },
    {
     "name": "stdout",
     "output_type": "stream",
     "text": [
      "Forensic Science International: Digital Investigation has homepage_url and type journal\n"
     ]
    },
    {
     "name": "stderr",
     "output_type": "stream",
     "text": [
      " 74%|██████████████████████████████████████████████████▊                  | 1134/1540 [09:23<03:06,  2.17it/s]"
     ]
    },
    {
     "name": "stdout",
     "output_type": "stream",
     "text": [
      "OSTI OAI (U.S. Department of Energy Office of Scientific and Technical Information) has homepage_url and type repository\n"
     ]
    },
    {
     "name": "stderr",
     "output_type": "stream",
     "text": [
      " 74%|██████████████████████████████████████████████████▉                  | 1136/1540 [09:24<03:05,  2.17it/s]"
     ]
    },
    {
     "name": "stdout",
     "output_type": "stream",
     "text": [
      "Advances in Condensed Matter Physics has homepage_url and type journal\n"
     ]
    },
    {
     "name": "stderr",
     "output_type": "stream",
     "text": [
      " 74%|██████████████████████████████████████████████████▉                  | 1137/1540 [09:25<03:22,  1.99it/s]"
     ]
    },
    {
     "name": "stdout",
     "output_type": "stream",
     "text": [
      "J has homepage_url and type journal\n"
     ]
    },
    {
     "name": "stderr",
     "output_type": "stream",
     "text": [
      " 74%|██████████████████████████████████████████████████▉                  | 1138/1540 [09:25<03:20,  2.01it/s]"
     ]
    },
    {
     "name": "stdout",
     "output_type": "stream",
     "text": [
      "Journal of Instrumentation has homepage_url and type journal\n"
     ]
    },
    {
     "name": "stderr",
     "output_type": "stream",
     "text": [
      " 74%|███████████████████████████████████████████████████                  | 1140/1540 [09:26<03:31,  1.89it/s]"
     ]
    },
    {
     "name": "stdout",
     "output_type": "stream",
     "text": [
      "Sakarya University Journal of Science has homepage_url and type journal\n"
     ]
    },
    {
     "name": "stderr",
     "output_type": "stream",
     "text": [
      " 74%|███████████████████████████████████████████████████▏                 | 1142/1540 [09:27<03:15,  2.03it/s]"
     ]
    },
    {
     "name": "stdout",
     "output_type": "stream",
     "text": [
      "Journal of Student Research has homepage_url and type journal\n"
     ]
    },
    {
     "name": "stderr",
     "output_type": "stream",
     "text": [
      " 74%|███████████████████████████████████████████████████▏                 | 1143/1540 [09:28<03:15,  2.03it/s]"
     ]
    },
    {
     "name": "stdout",
     "output_type": "stream",
     "text": [
      "Nephrology Dialysis Transplantation has homepage_url and type journal\n"
     ]
    },
    {
     "name": "stderr",
     "output_type": "stream",
     "text": [
      " 75%|███████████████████████████████████████████████████▍                 | 1149/1540 [09:31<03:29,  1.87it/s]"
     ]
    },
    {
     "name": "stdout",
     "output_type": "stream",
     "text": [
      "Journal of Advances in Physics has homepage_url and type journal\n"
     ]
    },
    {
     "name": "stderr",
     "output_type": "stream",
     "text": [
      " 75%|███████████████████████████████████████████████████▌                 | 1151/1540 [09:32<03:35,  1.80it/s]"
     ]
    },
    {
     "name": "stdout",
     "output_type": "stream",
     "text": [
      "Kuwait Journal of Science has homepage_url and type journal\n"
     ]
    },
    {
     "name": "stderr",
     "output_type": "stream",
     "text": [
      " 76%|████████████████████████████████████████████████████▏                | 1165/1540 [09:40<03:57,  1.58it/s]"
     ]
    },
    {
     "name": "stdout",
     "output_type": "stream",
     "text": [
      "Acta IMEKO has homepage_url and type journal\n"
     ]
    },
    {
     "name": "stderr",
     "output_type": "stream",
     "text": [
      " 76%|████████████████████████████████████████████████████▌                | 1174/1540 [09:44<02:53,  2.11it/s]"
     ]
    },
    {
     "name": "stdout",
     "output_type": "stream",
     "text": [
      "IEEE Systems Journal has homepage_url and type journal\n"
     ]
    },
    {
     "name": "stderr",
     "output_type": "stream",
     "text": [
      " 76%|████████████████████████████████████████████████████▋                | 1176/1540 [09:45<03:04,  1.97it/s]"
     ]
    },
    {
     "name": "stdout",
     "output_type": "stream",
     "text": [
      "Sučasnì ìnformacìjnì sistemi has homepage_url and type journal\n"
     ]
    },
    {
     "name": "stderr",
     "output_type": "stream",
     "text": [
      " 77%|████████████████████████████████████████████████████▊                | 1180/1540 [09:47<03:15,  1.84it/s]"
     ]
    },
    {
     "name": "stdout",
     "output_type": "stream",
     "text": [
      "Journal of Web Engineering has homepage_url and type journal\n"
     ]
    },
    {
     "name": "stderr",
     "output_type": "stream",
     "text": [
      " 77%|████████████████████████████████████████████████████▉                | 1181/1540 [09:48<03:08,  1.90it/s]"
     ]
    },
    {
     "name": "stdout",
     "output_type": "stream",
     "text": [
      "Erkenntnis has homepage_url and type journal\n"
     ]
    },
    {
     "name": "stderr",
     "output_type": "stream",
     "text": [
      " 77%|████████████████████████████████████████████████████▉                | 1182/1540 [09:48<03:00,  1.98it/s]"
     ]
    },
    {
     "name": "stdout",
     "output_type": "stream",
     "text": [
      "Fluctuation and Noise Letters has homepage_url and type journal\n"
     ]
    },
    {
     "name": "stderr",
     "output_type": "stream",
     "text": [
      " 77%|█████████████████████████████████████████████████████▎               | 1189/1540 [09:52<02:51,  2.05it/s]"
     ]
    },
    {
     "name": "stdout",
     "output_type": "stream",
     "text": [
      "IEEE Transactions on Industrial Informatics has homepage_url and type journal\n"
     ]
    },
    {
     "name": "stderr",
     "output_type": "stream",
     "text": [
      " 77%|█████████████████████████████████████████████████████▍               | 1192/1540 [09:53<02:44,  2.12it/s]"
     ]
    },
    {
     "name": "stdout",
     "output_type": "stream",
     "text": [
      "Letters in Mathematical Physics has homepage_url and type journal\n"
     ]
    },
    {
     "name": "stderr",
     "output_type": "stream",
     "text": [
      " 77%|█████████████████████████████████████████████████████▍               | 1193/1540 [09:54<03:03,  1.89it/s]"
     ]
    },
    {
     "name": "stdout",
     "output_type": "stream",
     "text": [
      "Chinese Journal of Engineering Science has homepage_url and type journal\n"
     ]
    },
    {
     "name": "stderr",
     "output_type": "stream",
     "text": [
      " 78%|█████████████████████████████████████████████████████▋               | 1198/1540 [09:56<02:35,  2.19it/s]"
     ]
    },
    {
     "name": "stdout",
     "output_type": "stream",
     "text": [
      "Journal of the Acoustical Society of America has homepage_url and type journal\n"
     ]
    },
    {
     "name": "stderr",
     "output_type": "stream",
     "text": [
      " 78%|█████████████████████████████████████████████████████▊               | 1200/1540 [09:57<02:38,  2.15it/s]"
     ]
    },
    {
     "name": "stdout",
     "output_type": "stream",
     "text": [
      "Annali Dell'universita' Di Ferrara has homepage_url and type journal\n"
     ]
    },
    {
     "name": "stderr",
     "output_type": "stream",
     "text": [
      " 78%|█████████████████████████████████████████████████████▊               | 1201/1540 [09:57<02:45,  2.05it/s]"
     ]
    },
    {
     "name": "stdout",
     "output_type": "stream",
     "text": [
      "ECTI Transactions on Computer and Information Technology has homepage_url and type journal\n"
     ]
    },
    {
     "name": "stderr",
     "output_type": "stream",
     "text": [
      " 78%|█████████████████████████████████████████████████████▉               | 1204/1540 [09:59<02:48,  1.99it/s]"
     ]
    },
    {
     "name": "stdout",
     "output_type": "stream",
     "text": [
      "Philosophies has homepage_url and type journal\n"
     ]
    },
    {
     "name": "stderr",
     "output_type": "stream",
     "text": [
      " 79%|██████████████████████████████████████████████████████▏              | 1209/1540 [10:01<02:48,  1.97it/s]"
     ]
    },
    {
     "name": "stdout",
     "output_type": "stream",
     "text": [
      "Digital Communications and Networks has homepage_url and type journal\n"
     ]
    },
    {
     "name": "stderr",
     "output_type": "stream",
     "text": [
      " 79%|██████████████████████████████████████████████████████▎              | 1213/1540 [10:03<02:33,  2.13it/s]"
     ]
    },
    {
     "name": "stdout",
     "output_type": "stream",
     "text": [
      "Measurement Science and Technology has homepage_url and type journal\n"
     ]
    },
    {
     "name": "stderr",
     "output_type": "stream",
     "text": [
      " 79%|██████████████████████████████████████████████████████▌              | 1217/1540 [10:05<02:35,  2.08it/s]"
     ]
    },
    {
     "name": "stdout",
     "output_type": "stream",
     "text": [
      "Computational Urban Science has homepage_url and type journal\n"
     ]
    },
    {
     "name": "stderr",
     "output_type": "stream",
     "text": [
      " 79%|██████████████████████████████████████████████████████▌              | 1219/1540 [10:06<02:35,  2.06it/s]"
     ]
    },
    {
     "name": "stdout",
     "output_type": "stream",
     "text": [
      "International Journal of Computational Methods has homepage_url and type journal\n"
     ]
    },
    {
     "name": "stderr",
     "output_type": "stream",
     "text": [
      " 79%|██████████████████████████████████████████████████████▊              | 1223/1540 [10:08<02:34,  2.05it/s]"
     ]
    },
    {
     "name": "stdout",
     "output_type": "stream",
     "text": [
      "ACM Transactions on Reconfigurable Technology and Systems has homepage_url and type journal\n"
     ]
    },
    {
     "name": "stderr",
     "output_type": "stream",
     "text": [
      " 81%|███████████████████████████████████████████████████████▌             | 1240/1540 [10:16<02:46,  1.81it/s]"
     ]
    },
    {
     "name": "stdout",
     "output_type": "stream",
     "text": [
      "International journal of applied science has homepage_url and type journal\n"
     ]
    },
    {
     "name": "stderr",
     "output_type": "stream",
     "text": [
      " 81%|███████████████████████████████████████████████████████▉             | 1248/1540 [10:20<02:20,  2.07it/s]"
     ]
    },
    {
     "name": "stdout",
     "output_type": "stream",
     "text": [
      "IEEE Transactions on Electron Devices has homepage_url and type journal\n"
     ]
    },
    {
     "name": "stderr",
     "output_type": "stream",
     "text": [
      " 81%|████████████████████████████████████████████████████████             | 1250/1540 [10:21<02:31,  1.91it/s]"
     ]
    },
    {
     "name": "stdout",
     "output_type": "stream",
     "text": [
      "Journal of The Chinese Chemical Society has homepage_url and type journal\n"
     ]
    },
    {
     "name": "stderr",
     "output_type": "stream",
     "text": [
      " 81%|████████████████████████████████████████████████████████▏            | 1253/1540 [10:23<02:19,  2.05it/s]"
     ]
    },
    {
     "name": "stdout",
     "output_type": "stream",
     "text": [
      "Blockchain in healthcare today has homepage_url and type journal\n"
     ]
    },
    {
     "name": "stderr",
     "output_type": "stream",
     "text": [
      " 81%|████████████████████████████████████████████████████████▏            | 1254/1540 [10:23<02:18,  2.07it/s]"
     ]
    },
    {
     "name": "stdout",
     "output_type": "stream",
     "text": [
      "Bulletin of the American Meteorological Society has homepage_url and type journal\n"
     ]
    },
    {
     "name": "stderr",
     "output_type": "stream",
     "text": [
      " 82%|████████████████████████████████████████████████████████▎            | 1257/1540 [10:25<02:34,  1.83it/s]"
     ]
    },
    {
     "name": "stdout",
     "output_type": "stream",
     "text": [
      "C has homepage_url and type journal\n"
     ]
    },
    {
     "name": "stderr",
     "output_type": "stream",
     "text": [
      " 82%|████████████████████████████████████████████████████████▍            | 1259/1540 [10:26<02:16,  2.06it/s]"
     ]
    },
    {
     "name": "stdout",
     "output_type": "stream",
     "text": [
      "Pervasive and Mobile Computing has homepage_url and type journal\n"
     ]
    },
    {
     "name": "stderr",
     "output_type": "stream",
     "text": [
      " 82%|████████████████████████████████████████████████████████▍            | 1260/1540 [10:26<02:21,  1.99it/s]"
     ]
    },
    {
     "name": "stdout",
     "output_type": "stream",
     "text": [
      "Annual Review of Physical Chemistry has homepage_url and type journal\n"
     ]
    },
    {
     "name": "stderr",
     "output_type": "stream",
     "text": [
      " 82%|████████████████████████████████████████████████████████▍            | 1261/1540 [10:27<02:16,  2.05it/s]"
     ]
    },
    {
     "name": "stdout",
     "output_type": "stream",
     "text": [
      "Jurnal RESTI (Rekayasa Sistem dan Teknologi Informasi) has homepage_url and type journal\n"
     ]
    },
    {
     "name": "stderr",
     "output_type": "stream",
     "text": [
      " 82%|████████████████████████████████████████████████████████▌            | 1262/1540 [10:27<02:17,  2.02it/s]"
     ]
    },
    {
     "name": "stdout",
     "output_type": "stream",
     "text": [
      "International Journal of Information and Computer Security has homepage_url and type journal\n"
     ]
    },
    {
     "name": "stderr",
     "output_type": "stream",
     "text": [
      " 82%|████████████████████████████████████████████████████████▌            | 1263/1540 [10:28<02:13,  2.08it/s]"
     ]
    },
    {
     "name": "stdout",
     "output_type": "stream",
     "text": [
      "IEEE transactions on artificial intelligence has homepage_url and type journal\n"
     ]
    },
    {
     "name": "stderr",
     "output_type": "stream",
     "text": [
      " 82%|████████████████████████████████████████████████████████▋            | 1264/1540 [10:28<02:13,  2.06it/s]"
     ]
    },
    {
     "name": "stdout",
     "output_type": "stream",
     "text": [
      "International Journal of Circuit Theory and Applications has homepage_url and type journal\n"
     ]
    },
    {
     "name": "stderr",
     "output_type": "stream",
     "text": [
      " 82%|████████████████████████████████████████████████████████▋            | 1265/1540 [10:29<02:11,  2.09it/s]"
     ]
    },
    {
     "name": "stdout",
     "output_type": "stream",
     "text": [
      "Asian Journal of Research and Reviews in Physics has homepage_url and type journal\n"
     ]
    },
    {
     "name": "stderr",
     "output_type": "stream",
     "text": [
      " 82%|████████████████████████████████████████████████████████▋            | 1266/1540 [10:29<02:11,  2.09it/s]"
     ]
    },
    {
     "name": "stdout",
     "output_type": "stream",
     "text": [
      "Particles has homepage_url and type journal\n"
     ]
    },
    {
     "name": "stderr",
     "output_type": "stream",
     "text": [
      " 82%|████████████████████████████████████████████████████████▊            | 1269/1540 [10:31<02:06,  2.14it/s]"
     ]
    },
    {
     "name": "stdout",
     "output_type": "stream",
     "text": [
      "IEEE Transactions on Signal Processing has homepage_url and type journal\n"
     ]
    },
    {
     "name": "stderr",
     "output_type": "stream",
     "text": [
      " 83%|████████████████████████████████████████████████████████▉            | 1271/1540 [10:32<02:15,  1.99it/s]"
     ]
    },
    {
     "name": "stdout",
     "output_type": "stream",
     "text": [
      "IEEE Transactions on Cloud Computing has homepage_url and type journal\n"
     ]
    },
    {
     "name": "stderr",
     "output_type": "stream",
     "text": [
      " 83%|████████████████████████████████████████████████████████▉            | 1272/1540 [10:32<02:12,  2.02it/s]"
     ]
    },
    {
     "name": "stdout",
     "output_type": "stream",
     "text": [
      "Bezopasnostʹ informacionnyh tehnologij has homepage_url and type journal\n"
     ]
    },
    {
     "name": "stderr",
     "output_type": "stream",
     "text": [
      " 83%|█████████████████████████████████████████████████████████            | 1273/1540 [10:33<02:10,  2.05it/s]"
     ]
    },
    {
     "name": "stdout",
     "output_type": "stream",
     "text": [
      "Engineering Applications of Artificial Intelligence has homepage_url and type journal\n"
     ]
    },
    {
     "name": "stderr",
     "output_type": "stream",
     "text": [
      " 83%|█████████████████████████████████████████████████████████            | 1274/1540 [10:33<02:14,  1.97it/s]"
     ]
    },
    {
     "name": "stdout",
     "output_type": "stream",
     "text": [
      "International journal of computer and technology has homepage_url and type journal\n"
     ]
    },
    {
     "name": "stderr",
     "output_type": "stream",
     "text": [
      " 83%|█████████████████████████████████████████████████████████▏           | 1275/1540 [10:34<02:13,  1.98it/s]"
     ]
    },
    {
     "name": "stdout",
     "output_type": "stream",
     "text": [
      "Filomat has homepage_url and type journal\n"
     ]
    },
    {
     "name": "stderr",
     "output_type": "stream",
     "text": [
      " 83%|█████████████████████████████████████████████████████████▏           | 1276/1540 [10:34<02:10,  2.03it/s]"
     ]
    },
    {
     "name": "stdout",
     "output_type": "stream",
     "text": [
      "International journal of hybrid intelligence has homepage_url and type journal\n"
     ]
    },
    {
     "name": "stderr",
     "output_type": "stream",
     "text": [
      " 83%|█████████████████████████████████████████████████████████▏           | 1277/1540 [10:34<02:03,  2.12it/s]"
     ]
    },
    {
     "name": "stdout",
     "output_type": "stream",
     "text": [
      "EMBnet.journal has homepage_url and type journal\n"
     ]
    },
    {
     "name": "stderr",
     "output_type": "stream",
     "text": [
      " 83%|█████████████████████████████████████████████████████████▎           | 1278/1540 [10:35<02:02,  2.14it/s]"
     ]
    },
    {
     "name": "stdout",
     "output_type": "stream",
     "text": [
      "ACM Transactions on Software Engineering and Methodology has homepage_url and type journal\n"
     ]
    },
    {
     "name": "stderr",
     "output_type": "stream",
     "text": [
      " 83%|█████████████████████████████████████████████████████████▎           | 1279/1540 [10:35<02:04,  2.10it/s]"
     ]
    },
    {
     "name": "stdout",
     "output_type": "stream",
     "text": [
      "The Computer Journal has homepage_url and type journal\n"
     ]
    },
    {
     "name": "stderr",
     "output_type": "stream",
     "text": [
      " 83%|█████████████████████████████████████████████████████████▎           | 1280/1540 [10:36<02:05,  2.08it/s]"
     ]
    },
    {
     "name": "stdout",
     "output_type": "stream",
     "text": [
      "Inorganics (Basel) has homepage_url and type journal\n"
     ]
    },
    {
     "name": "stderr",
     "output_type": "stream",
     "text": [
      " 83%|█████████████████████████████████████████████████████████▍           | 1281/1540 [10:36<02:09,  2.01it/s]"
     ]
    },
    {
     "name": "stdout",
     "output_type": "stream",
     "text": [
      "SmartMat has homepage_url and type journal\n"
     ]
    },
    {
     "name": "stderr",
     "output_type": "stream",
     "text": [
      " 83%|█████████████████████████████████████████████████████████▍           | 1282/1540 [10:37<02:06,  2.05it/s]"
     ]
    },
    {
     "name": "stdout",
     "output_type": "stream",
     "text": [
      "Rairo-operations Research has homepage_url and type journal\n"
     ]
    },
    {
     "name": "stderr",
     "output_type": "stream",
     "text": [
      " 83%|█████████████████████████████████████████████████████████▍           | 1283/1540 [10:37<02:10,  1.96it/s]"
     ]
    },
    {
     "name": "stdout",
     "output_type": "stream",
     "text": [
      "Diagnostics has homepage_url and type journal\n"
     ]
    },
    {
     "name": "stderr",
     "output_type": "stream",
     "text": [
      " 83%|█████████████████████████████████████████████████████████▌           | 1284/1540 [10:38<02:05,  2.05it/s]"
     ]
    },
    {
     "name": "stdout",
     "output_type": "stream",
     "text": [
      "Baghdad Science Journal has homepage_url and type journal\n"
     ]
    },
    {
     "name": "stderr",
     "output_type": "stream",
     "text": [
      " 83%|█████████████████████████████████████████████████████████▌           | 1285/1540 [10:38<02:05,  2.03it/s]"
     ]
    },
    {
     "name": "stdout",
     "output_type": "stream",
     "text": [
      "IISE transactions has homepage_url and type journal\n"
     ]
    },
    {
     "name": "stderr",
     "output_type": "stream",
     "text": [
      " 84%|█████████████████████████████████████████████████████████▌           | 1286/1540 [10:39<02:00,  2.10it/s]"
     ]
    },
    {
     "name": "stdout",
     "output_type": "stream",
     "text": [
      "JACS Au has homepage_url and type journal\n"
     ]
    },
    {
     "name": "stderr",
     "output_type": "stream",
     "text": [
      " 84%|█████████████████████████████████████████████████████████▋           | 1287/1540 [10:39<01:58,  2.13it/s]"
     ]
    },
    {
     "name": "stdout",
     "output_type": "stream",
     "text": [
      "IEEE Consumer Electronics Magazine has homepage_url and type journal\n"
     ]
    },
    {
     "name": "stderr",
     "output_type": "stream",
     "text": [
      " 84%|█████████████████████████████████████████████████████████▊           | 1291/1540 [10:41<02:03,  2.01it/s]"
     ]
    },
    {
     "name": "stdout",
     "output_type": "stream",
     "text": [
      "Perspectivas has homepage_url and type journal\n"
     ]
    },
    {
     "name": "stderr",
     "output_type": "stream",
     "text": [
      " 84%|█████████████████████████████████████████████████████████▉           | 1293/1540 [10:42<01:58,  2.08it/s]"
     ]
    },
    {
     "name": "stdout",
     "output_type": "stream",
     "text": [
      "Mobile Information Systems has homepage_url and type journal\n"
     ]
    },
    {
     "name": "stderr",
     "output_type": "stream",
     "text": [
      " 84%|██████████████████████████████████████████████████████████           | 1295/1540 [10:43<01:52,  2.18it/s]"
     ]
    },
    {
     "name": "stdout",
     "output_type": "stream",
     "text": [
      "Pattern Recognition Letters has homepage_url and type journal\n"
     ]
    },
    {
     "name": "stderr",
     "output_type": "stream",
     "text": [
      " 84%|██████████████████████████████████████████████████████████           | 1296/1540 [10:43<01:50,  2.22it/s]"
     ]
    },
    {
     "name": "stdout",
     "output_type": "stream",
     "text": [
      "Trends in Ecology and Evolution has homepage_url and type journal\n"
     ]
    },
    {
     "name": "stderr",
     "output_type": "stream",
     "text": [
      " 84%|██████████████████████████████████████████████████████████▏          | 1299/1540 [10:45<01:55,  2.09it/s]"
     ]
    },
    {
     "name": "stdout",
     "output_type": "stream",
     "text": [
      "Journal of Photonics for Energy has homepage_url and type journal\n"
     ]
    },
    {
     "name": "stderr",
     "output_type": "stream",
     "text": [
      " 84%|██████████████████████████████████████████████████████████▎          | 1301/1540 [10:46<01:53,  2.10it/s]"
     ]
    },
    {
     "name": "stdout",
     "output_type": "stream",
     "text": [
      "Designs has homepage_url and type journal\n"
     ]
    },
    {
     "name": "stderr",
     "output_type": "stream",
     "text": [
      " 85%|██████████████████████████████████████████████████████████▍          | 1304/1540 [10:47<01:55,  2.05it/s]"
     ]
    },
    {
     "name": "stdout",
     "output_type": "stream",
     "text": [
      "Journal of Optimization Theory and Applications has homepage_url and type journal\n"
     ]
    },
    {
     "name": "stderr",
     "output_type": "stream",
     "text": [
      " 85%|██████████████████████████████████████████████████████████▍          | 1305/1540 [10:48<01:50,  2.12it/s]"
     ]
    },
    {
     "name": "stdout",
     "output_type": "stream",
     "text": [
      "Networks and Heterogeneous Media has homepage_url and type journal\n"
     ]
    },
    {
     "name": "stderr",
     "output_type": "stream",
     "text": [
      " 85%|██████████████████████████████████████████████████████████▌          | 1306/1540 [10:48<01:49,  2.14it/s]"
     ]
    },
    {
     "name": "stdout",
     "output_type": "stream",
     "text": [
      "Measurement: Sensors has homepage_url and type journal\n"
     ]
    },
    {
     "name": "stderr",
     "output_type": "stream",
     "text": [
      " 85%|██████████████████████████████████████████████████████████▌          | 1307/1540 [10:49<01:56,  2.00it/s]"
     ]
    },
    {
     "name": "stdout",
     "output_type": "stream",
     "text": [
      "Journal of Engineering Design has homepage_url and type journal\n"
     ]
    },
    {
     "name": "stderr",
     "output_type": "stream",
     "text": [
      " 85%|██████████████████████████████████████████████████████████▋          | 1311/1540 [10:51<01:50,  2.08it/s]"
     ]
    },
    {
     "name": "stdout",
     "output_type": "stream",
     "text": [
      "International Journal of Intelligent Systems has homepage_url and type journal\n"
     ]
    },
    {
     "name": "stderr",
     "output_type": "stream",
     "text": [
      " 85%|██████████████████████████████████████████████████████████▊          | 1313/1540 [10:52<01:54,  1.99it/s]"
     ]
    },
    {
     "name": "stdout",
     "output_type": "stream",
     "text": [
      "Inventions has homepage_url and type journal\n"
     ]
    },
    {
     "name": "stderr",
     "output_type": "stream",
     "text": [
      " 85%|██████████████████████████████████████████████████████████▊          | 1314/1540 [10:52<01:56,  1.94it/s]"
     ]
    },
    {
     "name": "stdout",
     "output_type": "stream",
     "text": [
      "Journal of Management Science and Engineering has homepage_url and type journal\n"
     ]
    },
    {
     "name": "stderr",
     "output_type": "stream",
     "text": [
      " 85%|██████████████████████████████████████████████████████████▉          | 1316/1540 [10:53<01:54,  1.96it/s]"
     ]
    },
    {
     "name": "stdout",
     "output_type": "stream",
     "text": [
      "Malaysian Journal of Fundamental and Applied Sciences has homepage_url and type journal\n"
     ]
    },
    {
     "name": "stderr",
     "output_type": "stream",
     "text": [
      " 86%|███████████████████████████████████████████████████████████          | 1319/1540 [10:55<01:44,  2.12it/s]"
     ]
    },
    {
     "name": "stdout",
     "output_type": "stream",
     "text": [
      "Journal of Economic Dynamics and Control has homepage_url and type journal\n"
     ]
    },
    {
     "name": "stderr",
     "output_type": "stream",
     "text": [
      " 86%|███████████████████████████████████████████████████████████▏         | 1320/1540 [10:55<01:42,  2.15it/s]"
     ]
    },
    {
     "name": "stdout",
     "output_type": "stream",
     "text": [
      "ISSS journal of micro and smart systems has homepage_url and type journal\n"
     ]
    },
    {
     "name": "stderr",
     "output_type": "stream",
     "text": [
      " 86%|███████████████████████████████████████████████████████████▏         | 1321/1540 [10:56<01:40,  2.18it/s]"
     ]
    },
    {
     "name": "stdout",
     "output_type": "stream",
     "text": [
      "Journal of Combinatorial Optimization has homepage_url and type journal\n"
     ]
    },
    {
     "name": "stderr",
     "output_type": "stream",
     "text": [
      " 86%|███████████████████████████████████████████████████████████▏         | 1322/1540 [10:56<01:45,  2.06it/s]"
     ]
    },
    {
     "name": "stdout",
     "output_type": "stream",
     "text": [
      "Asian Journal of Research in Computer Science has homepage_url and type journal\n"
     ]
    },
    {
     "name": "stderr",
     "output_type": "stream",
     "text": [
      " 86%|███████████████████████████████████████████████████████████▎         | 1323/1540 [10:57<01:43,  2.10it/s]"
     ]
    },
    {
     "name": "stdout",
     "output_type": "stream",
     "text": [
      "Nano Communication Networks has homepage_url and type journal\n"
     ]
    },
    {
     "name": "stderr",
     "output_type": "stream",
     "text": [
      " 86%|███████████████████████████████████████████████████████████▎         | 1324/1540 [10:57<01:45,  2.04it/s]"
     ]
    },
    {
     "name": "stdout",
     "output_type": "stream",
     "text": [
      "Izvestiâ vysših učebnyh zavedenij has homepage_url and type journal\n"
     ]
    },
    {
     "name": "stderr",
     "output_type": "stream",
     "text": [
      " 86%|███████████████████████████████████████████████████████████▎         | 1325/1540 [10:58<01:47,  2.00it/s]"
     ]
    },
    {
     "name": "stdout",
     "output_type": "stream",
     "text": [
      "Expert Systems has homepage_url and type journal\n"
     ]
    },
    {
     "name": "stderr",
     "output_type": "stream",
     "text": [
      " 86%|███████████████████████████████████████████████████████████▍         | 1326/1540 [10:58<01:44,  2.04it/s]"
     ]
    },
    {
     "name": "stdout",
     "output_type": "stream",
     "text": [
      "Results in Applied Mathematics has homepage_url and type journal\n"
     ]
    },
    {
     "name": "stderr",
     "output_type": "stream",
     "text": [
      " 86%|███████████████████████████████████████████████████████████▍         | 1327/1540 [10:59<01:41,  2.11it/s]"
     ]
    },
    {
     "name": "stdout",
     "output_type": "stream",
     "text": [
      "IEEE Journal on Exploratory Solid-State Computational Devices and Circuits has homepage_url and type journal\n"
     ]
    },
    {
     "name": "stderr",
     "output_type": "stream",
     "text": [
      " 86%|███████████████████████████████████████████████████████████▌         | 1328/1540 [10:59<01:46,  2.00it/s]"
     ]
    },
    {
     "name": "stdout",
     "output_type": "stream",
     "text": [
      "Cities has homepage_url and type journal\n"
     ]
    },
    {
     "name": "stderr",
     "output_type": "stream",
     "text": [
      " 86%|███████████████████████████████████████████████████████████▌         | 1329/1540 [11:00<01:43,  2.05it/s]"
     ]
    },
    {
     "name": "stdout",
     "output_type": "stream",
     "text": [
      "Journal of digital science has homepage_url and type journal\n"
     ]
    },
    {
     "name": "stderr",
     "output_type": "stream",
     "text": [
      " 86%|███████████████████████████████████████████████████████████▌         | 1330/1540 [11:00<01:43,  2.03it/s]"
     ]
    },
    {
     "name": "stdout",
     "output_type": "stream",
     "text": [
      "Physics Today has homepage_url and type journal\n"
     ]
    },
    {
     "name": "stderr",
     "output_type": "stream",
     "text": [
      " 86%|███████████████████████████████████████████████████████████▋         | 1331/1540 [11:01<01:40,  2.08it/s]"
     ]
    },
    {
     "name": "stdout",
     "output_type": "stream",
     "text": [
      "Electric Power Systems Research has homepage_url and type journal\n"
     ]
    },
    {
     "name": "stderr",
     "output_type": "stream",
     "text": [
      " 86%|███████████████████████████████████████████████████████████▋         | 1332/1540 [11:01<01:43,  2.01it/s]"
     ]
    },
    {
     "name": "stdout",
     "output_type": "stream",
     "text": [
      "IEEE Journal of Biomedical and Health Informatics has homepage_url and type journal\n"
     ]
    },
    {
     "name": "stderr",
     "output_type": "stream",
     "text": [
      " 87%|███████████████████████████████████████████████████████████▊         | 1334/1540 [11:02<01:44,  1.96it/s]"
     ]
    },
    {
     "name": "stdout",
     "output_type": "stream",
     "text": [
      "Journal of Cosmology and Astroparticle Physics has homepage_url and type journal\n"
     ]
    },
    {
     "name": "stderr",
     "output_type": "stream",
     "text": [
      " 87%|███████████████████████████████████████████████████████████▊         | 1335/1540 [11:03<01:43,  1.98it/s]"
     ]
    },
    {
     "name": "stdout",
     "output_type": "stream",
     "text": [
      "Eastern-European Journal of Enterprise Technologies has homepage_url and type journal\n"
     ]
    },
    {
     "name": "stderr",
     "output_type": "stream",
     "text": [
      " 87%|███████████████████████████████████████████████████████████▊         | 1336/1540 [11:03<01:39,  2.04it/s]"
     ]
    },
    {
     "name": "stdout",
     "output_type": "stream",
     "text": [
      "Computational methods in applied sciences has homepage_url and type book series\n"
     ]
    },
    {
     "name": "stderr",
     "output_type": "stream",
     "text": [
      " 87%|███████████████████████████████████████████████████████████▉         | 1337/1540 [11:04<01:36,  2.11it/s]"
     ]
    },
    {
     "name": "stdout",
     "output_type": "stream",
     "text": [
      "Signal Processing: Image Communication has homepage_url and type journal\n"
     ]
    },
    {
     "name": "stderr",
     "output_type": "stream",
     "text": [
      " 87%|███████████████████████████████████████████████████████████▉         | 1338/1540 [11:04<01:34,  2.14it/s]"
     ]
    },
    {
     "name": "stdout",
     "output_type": "stream",
     "text": [
      "Journal of applied science and technology trends has homepage_url and type journal\n"
     ]
    },
    {
     "name": "stderr",
     "output_type": "stream",
     "text": [
      " 87%|████████████████████████████████████████████████████████████         | 1341/1540 [11:05<01:30,  2.19it/s]"
     ]
    },
    {
     "name": "stdout",
     "output_type": "stream",
     "text": [
      "International Journal of Computer Mathematics: Computer Systems Theory has homepage_url and type journal\n"
     ]
    },
    {
     "name": "stderr",
     "output_type": "stream",
     "text": [
      " 87%|████████████████████████████████████████████████████████████▏        | 1343/1540 [11:06<01:35,  2.06it/s]"
     ]
    },
    {
     "name": "stdout",
     "output_type": "stream",
     "text": [
      "Electronic structure has homepage_url and type journal\n"
     ]
    },
    {
     "name": "stderr",
     "output_type": "stream",
     "text": [
      " 87%|████████████████████████████████████████████████████████████▏        | 1344/1540 [11:07<01:32,  2.13it/s]"
     ]
    },
    {
     "name": "stdout",
     "output_type": "stream",
     "text": [
      "Journal of Physical Chemistry B has homepage_url and type journal\n"
     ]
    },
    {
     "name": "stderr",
     "output_type": "stream",
     "text": [
      " 87%|████████████████████████████████████████████████████████████▎        | 1345/1540 [11:07<01:29,  2.17it/s]"
     ]
    },
    {
     "name": "stdout",
     "output_type": "stream",
     "text": [
      "Journal of Computing and Information Science in Engineering has homepage_url and type journal\n"
     ]
    },
    {
     "name": "stderr",
     "output_type": "stream",
     "text": [
      " 87%|████████████████████████████████████████████████████████████▎        | 1346/1540 [11:08<01:29,  2.17it/s]"
     ]
    },
    {
     "name": "stdout",
     "output_type": "stream",
     "text": [
      "ACS materials letters has homepage_url and type journal\n"
     ]
    },
    {
     "name": "stderr",
     "output_type": "stream",
     "text": [
      " 87%|████████████████████████████████████████████████████████████▎        | 1347/1540 [11:08<01:28,  2.19it/s]"
     ]
    },
    {
     "name": "stdout",
     "output_type": "stream",
     "text": [
      "IEEE Transactions on Evolutionary Computation has homepage_url and type journal\n"
     ]
    },
    {
     "name": "stderr",
     "output_type": "stream",
     "text": [
      " 88%|████████████████████████████████████████████████████████████▍        | 1349/1540 [11:09<01:25,  2.22it/s]"
     ]
    },
    {
     "name": "stdout",
     "output_type": "stream",
     "text": [
      "Materials research express has homepage_url and type journal\n"
     ]
    },
    {
     "name": "stderr",
     "output_type": "stream",
     "text": [
      " 88%|████████████████████████████████████████████████████████████▍        | 1350/1540 [11:09<01:25,  2.22it/s]"
     ]
    },
    {
     "name": "stdout",
     "output_type": "stream",
     "text": [
      "Nano futures has homepage_url and type journal\n"
     ]
    },
    {
     "name": "stderr",
     "output_type": "stream",
     "text": [
      " 88%|████████████████████████████████████████████████████████████▌        | 1351/1540 [11:10<01:29,  2.11it/s]"
     ]
    },
    {
     "name": "stdout",
     "output_type": "stream",
     "text": [
      "Journal of Digital Imaging has homepage_url and type journal\n"
     ]
    },
    {
     "name": "stderr",
     "output_type": "stream",
     "text": [
      " 88%|████████████████████████████████████████████████████████████▌        | 1353/1540 [11:14<03:23,  1.09s/it]"
     ]
    },
    {
     "name": "stdout",
     "output_type": "stream",
     "text": [
      "European Journal of Pure and Applied Mathematics has homepage_url and type journal\n"
     ]
    },
    {
     "name": "stderr",
     "output_type": "stream",
     "text": [
      " 88%|████████████████████████████████████████████████████████████▋        | 1355/1540 [11:15<02:23,  1.29it/s]"
     ]
    },
    {
     "name": "stdout",
     "output_type": "stream",
     "text": [
      "Вестник Самарского государственного технического университета has homepage_url and type journal\n"
     ]
    },
    {
     "name": "stderr",
     "output_type": "stream",
     "text": [
      " 88%|████████████████████████████████████████████████████████████▊        | 1356/1540 [11:15<02:07,  1.44it/s]"
     ]
    },
    {
     "name": "stdout",
     "output_type": "stream",
     "text": [
      "Chemistry of Materials has homepage_url and type journal\n"
     ]
    },
    {
     "name": "stderr",
     "output_type": "stream",
     "text": [
      " 88%|████████████████████████████████████████████████████████████▉        | 1359/1540 [11:17<01:39,  1.81it/s]"
     ]
    },
    {
     "name": "stdout",
     "output_type": "stream",
     "text": [
      "SIAM Journal on Computing has homepage_url and type journal\n"
     ]
    },
    {
     "name": "stderr",
     "output_type": "stream",
     "text": [
      " 88%|████████████████████████████████████████████████████████████▉        | 1360/1540 [11:17<01:35,  1.88it/s]"
     ]
    },
    {
     "name": "stdout",
     "output_type": "stream",
     "text": [
      "IEEE open journal of circuits and systems has homepage_url and type journal\n"
     ]
    },
    {
     "name": "stderr",
     "output_type": "stream",
     "text": [
      " 88%|████████████████████████████████████████████████████████████▉        | 1361/1540 [11:18<01:33,  1.91it/s]"
     ]
    },
    {
     "name": "stdout",
     "output_type": "stream",
     "text": [
      "Applied Stochastic Models in Business and Industry has homepage_url and type journal\n"
     ]
    },
    {
     "name": "stderr",
     "output_type": "stream",
     "text": [
      " 89%|█████████████████████████████████████████████████████████████        | 1363/1540 [11:19<01:33,  1.90it/s]"
     ]
    },
    {
     "name": "stdout",
     "output_type": "stream",
     "text": [
      "Applied Mechanics and Materials has homepage_url and type journal\n"
     ]
    },
    {
     "name": "stderr",
     "output_type": "stream",
     "text": [
      " 89%|█████████████████████████████████████████████████████████████        | 1364/1540 [11:19<01:31,  1.92it/s]"
     ]
    },
    {
     "name": "stdout",
     "output_type": "stream",
     "text": [
      "Bioinformatics advances has homepage_url and type journal\n"
     ]
    },
    {
     "name": "stderr",
     "output_type": "stream",
     "text": [
      " 89%|█████████████████████████████████████████████████████████████▏       | 1366/1540 [11:20<01:28,  1.97it/s]"
     ]
    },
    {
     "name": "stdout",
     "output_type": "stream",
     "text": [
      "Theoretical and mathematical physics has homepage_url and type journal\n"
     ]
    },
    {
     "name": "stderr",
     "output_type": "stream",
     "text": [
      " 89%|█████████████████████████████████████████████████████████████▏       | 1367/1540 [11:21<01:25,  2.02it/s]"
     ]
    },
    {
     "name": "stdout",
     "output_type": "stream",
     "text": [
      "IEEE Transactions on Sustainable Energy has homepage_url and type journal\n"
     ]
    },
    {
     "name": "stderr",
     "output_type": "stream",
     "text": [
      " 89%|█████████████████████████████████████████████████████████████▍       | 1371/1540 [11:23<01:21,  2.06it/s]"
     ]
    },
    {
     "name": "stdout",
     "output_type": "stream",
     "text": [
      "Journal of undergraduate reports in physics has homepage_url and type journal\n"
     ]
    },
    {
     "name": "stderr",
     "output_type": "stream",
     "text": [
      " 89%|█████████████████████████████████████████████████████████████▍       | 1372/1540 [11:23<01:24,  1.98it/s]"
     ]
    },
    {
     "name": "stdout",
     "output_type": "stream",
     "text": [
      "Algorithmica has homepage_url and type journal\n"
     ]
    },
    {
     "name": "stderr",
     "output_type": "stream",
     "text": [
      " 89%|█████████████████████████████████████████████████████████████▌       | 1375/1540 [11:25<01:17,  2.13it/s]"
     ]
    },
    {
     "name": "stdout",
     "output_type": "stream",
     "text": [
      "Journal of scientific agriculture has homepage_url and type journal\n"
     ]
    },
    {
     "name": "stderr",
     "output_type": "stream",
     "text": [
      " 89%|█████████████████████████████████████████████████████████████▋       | 1376/1540 [11:25<01:16,  2.16it/s]"
     ]
    },
    {
     "name": "stdout",
     "output_type": "stream",
     "text": [
      "IEEE Transactions on Dependable and Secure Computing has homepage_url and type journal\n"
     ]
    },
    {
     "name": "stderr",
     "output_type": "stream",
     "text": [
      " 89%|█████████████████████████████████████████████████████████████▋       | 1377/1540 [11:25<01:16,  2.12it/s]"
     ]
    },
    {
     "name": "stdout",
     "output_type": "stream",
     "text": [
      "Computational Biology and Chemistry has homepage_url and type journal\n"
     ]
    },
    {
     "name": "stderr",
     "output_type": "stream",
     "text": [
      " 89%|█████████████████████████████████████████████████████████████▋       | 1378/1540 [11:26<01:16,  2.12it/s]"
     ]
    },
    {
     "name": "stdout",
     "output_type": "stream",
     "text": [
      "Methods in molecular biology has homepage_url and type book series\n"
     ]
    },
    {
     "name": "stderr",
     "output_type": "stream",
     "text": [
      " 90%|█████████████████████████████████████████████████████████████▊       | 1380/1540 [11:27<01:15,  2.13it/s]"
     ]
    },
    {
     "name": "stdout",
     "output_type": "stream",
     "text": [
      "BMC Medical Imaging has homepage_url and type journal\n"
     ]
    },
    {
     "name": "stderr",
     "output_type": "stream",
     "text": [
      " 90%|█████████████████████████████████████████████████████████████▉       | 1381/1540 [11:27<01:21,  1.95it/s]"
     ]
    },
    {
     "name": "stdout",
     "output_type": "stream",
     "text": [
      "Dynamics has homepage_url and type journal\n"
     ]
    },
    {
     "name": "stderr",
     "output_type": "stream",
     "text": [
      " 90%|█████████████████████████████████████████████████████████████▉       | 1382/1540 [11:28<01:18,  2.02it/s]"
     ]
    },
    {
     "name": "stdout",
     "output_type": "stream",
     "text": [
      "Physics Essays has homepage_url and type journal\n"
     ]
    },
    {
     "name": "stderr",
     "output_type": "stream",
     "text": [
      " 90%|██████████████████████████████████████████████████████████████       | 1384/1540 [11:29<01:18,  1.99it/s]"
     ]
    },
    {
     "name": "stdout",
     "output_type": "stream",
     "text": [
      "International Journal on Recent and Innovation Trends in Computing and Communication has homepage_url and type journal\n"
     ]
    },
    {
     "name": "stderr",
     "output_type": "stream",
     "text": [
      " 90%|██████████████████████████████████████████████████████████████       | 1385/1540 [11:29<01:16,  2.03it/s]"
     ]
    },
    {
     "name": "stdout",
     "output_type": "stream",
     "text": [
      "Frontiers in Marine Science has homepage_url and type journal\n"
     ]
    },
    {
     "name": "stderr",
     "output_type": "stream",
     "text": [
      " 90%|██████████████████████████████████████████████████████████████▏      | 1388/1540 [11:31<01:18,  1.93it/s]"
     ]
    },
    {
     "name": "stdout",
     "output_type": "stream",
     "text": [
      "Diamond and Related Materials has homepage_url and type journal\n"
     ]
    },
    {
     "name": "stderr",
     "output_type": "stream",
     "text": [
      " 90%|██████████████████████████████████████████████████████████████▏      | 1389/1540 [11:32<01:14,  2.03it/s]"
     ]
    },
    {
     "name": "stdout",
     "output_type": "stream",
     "text": [
      "Peer-to-peer Networking and Applications has homepage_url and type journal\n"
     ]
    },
    {
     "name": "stderr",
     "output_type": "stream",
     "text": [
      " 90%|██████████████████████████████████████████████████████████████▎      | 1390/1540 [11:32<01:13,  2.05it/s]"
     ]
    },
    {
     "name": "stdout",
     "output_type": "stream",
     "text": [
      "Journal of Optics has homepage_url and type journal\n"
     ]
    },
    {
     "name": "stderr",
     "output_type": "stream",
     "text": [
      " 90%|██████████████████████████████████████████████████████████████▎      | 1391/1540 [11:32<01:12,  2.06it/s]"
     ]
    },
    {
     "name": "stdout",
     "output_type": "stream",
     "text": [
      "Navigation: journal of the Institute of Navigation has homepage_url and type journal\n"
     ]
    },
    {
     "name": "stderr",
     "output_type": "stream",
     "text": [
      " 90%|██████████████████████████████████████████████████████████████▎      | 1392/1540 [11:33<01:12,  2.05it/s]"
     ]
    },
    {
     "name": "stdout",
     "output_type": "stream",
     "text": [
      "Physics-Uspekhi has homepage_url and type journal\n"
     ]
    },
    {
     "name": "stderr",
     "output_type": "stream",
     "text": [
      " 90%|██████████████████████████████████████████████████████████████▍      | 1393/1540 [11:34<01:17,  1.90it/s]"
     ]
    },
    {
     "name": "stdout",
     "output_type": "stream",
     "text": [
      "Quantum Electronics has homepage_url and type journal\n"
     ]
    },
    {
     "name": "stderr",
     "output_type": "stream",
     "text": [
      " 91%|██████████████████████████████████████████████████████████████▌      | 1395/1540 [11:35<01:11,  2.04it/s]"
     ]
    },
    {
     "name": "stdout",
     "output_type": "stream",
     "text": [
      "ACM transactions on privacy and security has homepage_url and type journal\n"
     ]
    },
    {
     "name": "stderr",
     "output_type": "stream",
     "text": [
      " 91%|██████████████████████████████████████████████████████████████▋      | 1399/1540 [11:37<01:12,  1.94it/s]"
     ]
    },
    {
     "name": "stdout",
     "output_type": "stream",
     "text": [
      "Cryptography and Communications has homepage_url and type journal\n"
     ]
    },
    {
     "name": "stderr",
     "output_type": "stream",
     "text": [
      " 91%|██████████████████████████████████████████████████████████████▋      | 1400/1540 [11:37<01:09,  2.00it/s]"
     ]
    },
    {
     "name": "stdout",
     "output_type": "stream",
     "text": [
      "Optical Fiber Technology has homepage_url and type journal\n"
     ]
    },
    {
     "name": "stderr",
     "output_type": "stream",
     "text": [
      " 91%|██████████████████████████████████████████████████████████████▊      | 1401/1540 [11:37<01:06,  2.10it/s]"
     ]
    },
    {
     "name": "stdout",
     "output_type": "stream",
     "text": [
      "Journal of Systems Architecture has homepage_url and type journal\n"
     ]
    },
    {
     "name": "stderr",
     "output_type": "stream",
     "text": [
      " 91%|██████████████████████████████████████████████████████████████▊      | 1402/1540 [11:38<01:10,  1.96it/s]"
     ]
    },
    {
     "name": "stdout",
     "output_type": "stream",
     "text": [
      "Cybernetics and Systems has homepage_url and type journal\n"
     ]
    },
    {
     "name": "stderr",
     "output_type": "stream",
     "text": [
      " 91%|██████████████████████████████████████████████████████████████▊      | 1403/1540 [11:39<01:15,  1.81it/s]"
     ]
    },
    {
     "name": "stdout",
     "output_type": "stream",
     "text": [
      "Journal of Number Theory has homepage_url and type journal\n"
     ]
    },
    {
     "name": "stderr",
     "output_type": "stream",
     "text": [
      " 91%|██████████████████████████████████████████████████████████████▉      | 1404/1540 [11:39<01:13,  1.84it/s]"
     ]
    },
    {
     "name": "stdout",
     "output_type": "stream",
     "text": [
      "Sistemnyj Analiz i Prikladnaâ Informatika has homepage_url and type journal\n"
     ]
    },
    {
     "name": "stderr",
     "output_type": "stream",
     "text": [
      " 91%|██████████████████████████████████████████████████████████████▉      | 1406/1540 [11:40<01:12,  1.86it/s]"
     ]
    },
    {
     "name": "stdout",
     "output_type": "stream",
     "text": [
      "Mathematical Biosciences and Engineering has homepage_url and type journal\n"
     ]
    },
    {
     "name": "stderr",
     "output_type": "stream",
     "text": [
      " 91%|███████████████████████████████████████████████████████████████      | 1407/1540 [11:41<01:12,  1.83it/s]"
     ]
    },
    {
     "name": "stdout",
     "output_type": "stream",
     "text": [
      "International Journal of Foundations of Computer Science has homepage_url and type journal\n"
     ]
    },
    {
     "name": "stderr",
     "output_type": "stream",
     "text": [
      " 91%|███████████████████████████████████████████████████████████████      | 1408/1540 [11:41<01:12,  1.83it/s]"
     ]
    },
    {
     "name": "stdout",
     "output_type": "stream",
     "text": [
      "International journal of distributed artificial intelligence has homepage_url and type journal\n"
     ]
    },
    {
     "name": "stderr",
     "output_type": "stream",
     "text": [
      " 91%|███████████████████████████████████████████████████████████████▏     | 1409/1540 [11:42<01:07,  1.93it/s]"
     ]
    },
    {
     "name": "stdout",
     "output_type": "stream",
     "text": [
      "International Journal of Computational Science and Engineering has homepage_url and type journal\n"
     ]
    },
    {
     "name": "stderr",
     "output_type": "stream",
     "text": [
      " 92%|███████████████████████████████████████████████████████████████▏     | 1410/1540 [11:42<01:10,  1.85it/s]"
     ]
    },
    {
     "name": "stdout",
     "output_type": "stream",
     "text": [
      "Mathematical Methods in The Applied Sciences has homepage_url and type journal\n"
     ]
    },
    {
     "name": "stderr",
     "output_type": "stream",
     "text": [
      " 92%|███████████████████████████████████████████████████████████████▎     | 1412/1540 [11:43<01:07,  1.91it/s]"
     ]
    },
    {
     "name": "stdout",
     "output_type": "stream",
     "text": [
      "Scientific African has homepage_url and type journal\n"
     ]
    },
    {
     "name": "stderr",
     "output_type": "stream",
     "text": [
      " 92%|███████████████████████████████████████████████████████████████▎     | 1414/1540 [11:44<01:04,  1.96it/s]"
     ]
    },
    {
     "name": "stdout",
     "output_type": "stream",
     "text": [
      "Transactions on Emerging Telecommunications Technologies has homepage_url and type journal\n"
     ]
    },
    {
     "name": "stderr",
     "output_type": "stream",
     "text": [
      " 92%|███████████████████████████████████████████████████████████████▍     | 1417/1540 [11:46<00:59,  2.06it/s]"
     ]
    },
    {
     "name": "stdout",
     "output_type": "stream",
     "text": [
      "Journal of Sensors has homepage_url and type journal\n"
     ]
    },
    {
     "name": "stderr",
     "output_type": "stream",
     "text": [
      " 92%|███████████████████████████████████████████████████████████████▌     | 1419/1540 [11:47<00:58,  2.08it/s]"
     ]
    },
    {
     "name": "stdout",
     "output_type": "stream",
     "text": [
      "Journal of Optical Technology has homepage_url and type journal\n"
     ]
    },
    {
     "name": "stderr",
     "output_type": "stream",
     "text": [
      " 92%|███████████████████████████████████████████████████████████████▋     | 1422/1540 [11:48<01:00,  1.96it/s]"
     ]
    },
    {
     "name": "stdout",
     "output_type": "stream",
     "text": [
      "Advances in Space Research has homepage_url and type journal\n"
     ]
    },
    {
     "name": "stderr",
     "output_type": "stream",
     "text": [
      " 92%|███████████████████████████████████████████████████████████████▊     | 1423/1540 [11:49<00:57,  2.02it/s]"
     ]
    },
    {
     "name": "stdout",
     "output_type": "stream",
     "text": [
      "PRIMUS has homepage_url and type journal\n"
     ]
    },
    {
     "name": "stderr",
     "output_type": "stream",
     "text": [
      " 92%|███████████████████████████████████████████████████████████████▊     | 1424/1540 [11:49<00:57,  2.03it/s]"
     ]
    },
    {
     "name": "stdout",
     "output_type": "stream",
     "text": [
      "Journal of Communication and Information Systems has homepage_url and type journal\n"
     ]
    },
    {
     "name": "stderr",
     "output_type": "stream",
     "text": [
      " 93%|███████████████████████████████████████████████████████████████▉     | 1428/1540 [11:51<00:52,  2.14it/s]"
     ]
    },
    {
     "name": "stdout",
     "output_type": "stream",
     "text": [
      "SPringer series in optical sciences has homepage_url and type book series\n"
     ]
    },
    {
     "name": "stderr",
     "output_type": "stream",
     "text": [
      " 93%|████████████████████████████████████████████████████████████████     | 1429/1540 [11:52<00:52,  2.10it/s]"
     ]
    },
    {
     "name": "stdout",
     "output_type": "stream",
     "text": [
      "International Journal of Nonlinear Analysis and Applications has homepage_url and type journal\n"
     ]
    },
    {
     "name": "stderr",
     "output_type": "stream",
     "text": [
      " 93%|████████████████████████████████████████████████████████████████▏    | 1432/1540 [11:53<00:57,  1.87it/s]"
     ]
    },
    {
     "name": "stdout",
     "output_type": "stream",
     "text": [
      "Naukoêmnì tehnologìï has homepage_url and type journal\n"
     ]
    },
    {
     "name": "stderr",
     "output_type": "stream",
     "text": [
      " 93%|████████████████████████████████████████████████████████████████▎    | 1434/1540 [11:54<00:52,  2.01it/s]"
     ]
    },
    {
     "name": "stdout",
     "output_type": "stream",
     "text": [
      "Journal of the European Optical Society: Rapid Publications has homepage_url and type journal\n"
     ]
    },
    {
     "name": "stderr",
     "output_type": "stream",
     "text": [
      " 93%|████████████████████████████████████████████████████████████████▍    | 1438/1540 [11:56<00:51,  1.97it/s]"
     ]
    },
    {
     "name": "stdout",
     "output_type": "stream",
     "text": [
      "Nonlinear phenomena in complex systems has homepage_url and type journal\n"
     ]
    },
    {
     "name": "stderr",
     "output_type": "stream",
     "text": [
      " 94%|████████████████████████████████████████████████████████████████▋    | 1443/1540 [11:59<00:48,  1.99it/s]"
     ]
    },
    {
     "name": "stdout",
     "output_type": "stream",
     "text": [
      "Naučnye i tehničeskie biblioteki has homepage_url and type journal\n"
     ]
    },
    {
     "name": "stderr",
     "output_type": "stream",
     "text": [
      " 94%|████████████████████████████████████████████████████████████████▋    | 1445/1540 [12:00<00:45,  2.09it/s]"
     ]
    },
    {
     "name": "stdout",
     "output_type": "stream",
     "text": [
      "Scientific journal of Astana IT University has homepage_url and type journal\n"
     ]
    },
    {
     "name": "stderr",
     "output_type": "stream",
     "text": [
      " 94%|████████████████████████████████████████████████████████████████▊    | 1446/1540 [12:00<00:47,  1.96it/s]"
     ]
    },
    {
     "name": "stdout",
     "output_type": "stream",
     "text": [
      "Journal of Scientific Research has homepage_url and type journal\n"
     ]
    },
    {
     "name": "stderr",
     "output_type": "stream",
     "text": [
      " 94%|█████████████████████████████████████████████████████████████████    | 1452/1540 [12:03<00:41,  2.10it/s]"
     ]
    },
    {
     "name": "stdout",
     "output_type": "stream",
     "text": [
      "Journal of cyber security and mobility has homepage_url and type journal\n"
     ]
    },
    {
     "name": "stderr",
     "output_type": "stream",
     "text": [
      " 94%|█████████████████████████████████████████████████████████████████▏   | 1454/1540 [12:04<00:42,  2.04it/s]"
     ]
    },
    {
     "name": "stdout",
     "output_type": "stream",
     "text": [
      "International Journal of Ad Hoc and Ubiquitous Computing has homepage_url and type journal\n"
     ]
    },
    {
     "name": "stderr",
     "output_type": "stream",
     "text": [
      " 95%|█████████████████████████████████████████████████████████████████▎   | 1457/1540 [12:05<00:39,  2.11it/s]"
     ]
    },
    {
     "name": "stdout",
     "output_type": "stream",
     "text": [
      "Physical Science International Journal has homepage_url and type journal\n"
     ]
    },
    {
     "name": "stderr",
     "output_type": "stream",
     "text": [
      " 95%|█████████████████████████████████████████████████████████████████▎   | 1458/1540 [12:06<00:38,  2.14it/s]"
     ]
    },
    {
     "name": "stdout",
     "output_type": "stream",
     "text": [
      "Journal of Information Security and Cryptography has homepage_url and type journal\n"
     ]
    },
    {
     "name": "stderr",
     "output_type": "stream",
     "text": [
      " 95%|█████████████████████████████████████████████████████████████████▌   | 1462/1540 [12:08<00:35,  2.17it/s]"
     ]
    },
    {
     "name": "stdout",
     "output_type": "stream",
     "text": [
      "International Journal of Information Systems and Social Change has homepage_url and type journal\n"
     ]
    },
    {
     "name": "stderr",
     "output_type": "stream",
     "text": [
      " 95%|█████████████████████████████████████████████████████████████████▌   | 1463/1540 [12:08<00:40,  1.92it/s]"
     ]
    },
    {
     "name": "stdout",
     "output_type": "stream",
     "text": [
      "Wireless Networks has homepage_url and type journal\n"
     ]
    },
    {
     "name": "stderr",
     "output_type": "stream",
     "text": [
      " 95%|█████████████████████████████████████████████████████████████████▌   | 1464/1540 [12:09<00:37,  2.00it/s]"
     ]
    },
    {
     "name": "stdout",
     "output_type": "stream",
     "text": [
      "Matematičeskie voprosy kriptografii has homepage_url and type journal\n"
     ]
    },
    {
     "name": "stderr",
     "output_type": "stream",
     "text": [
      " 95%|█████████████████████████████████████████████████████████████████▋   | 1466/1540 [12:10<00:34,  2.12it/s]"
     ]
    },
    {
     "name": "stdout",
     "output_type": "stream",
     "text": [
      "Metrologia has homepage_url and type journal\n"
     ]
    },
    {
     "name": "stderr",
     "output_type": "stream",
     "text": [
      " 95%|█████████████████████████████████████████████████████████████████▋   | 1467/1540 [12:10<00:34,  2.11it/s]"
     ]
    },
    {
     "name": "stdout",
     "output_type": "stream",
     "text": [
      "Analytica Chimica Acta has homepage_url and type journal\n"
     ]
    },
    {
     "name": "stderr",
     "output_type": "stream",
     "text": [
      " 95%|█████████████████████████████████████████████████████████████████▊   | 1468/1540 [12:11<00:33,  2.13it/s]"
     ]
    },
    {
     "name": "stdout",
     "output_type": "stream",
     "text": [
      "Living reviews in relativity has homepage_url and type journal\n"
     ]
    },
    {
     "name": "stderr",
     "output_type": "stream",
     "text": [
      " 95%|█████████████████████████████████████████████████████████████████▊   | 1469/1540 [12:11<00:34,  2.03it/s]"
     ]
    },
    {
     "name": "stdout",
     "output_type": "stream",
     "text": [
      "ACS applied nano materials has homepage_url and type journal\n"
     ]
    },
    {
     "name": "stderr",
     "output_type": "stream",
     "text": [
      " 95%|█████████████████████████████████████████████████████████████████▊   | 1470/1540 [12:12<00:38,  1.83it/s]"
     ]
    },
    {
     "name": "stdout",
     "output_type": "stream",
     "text": [
      "Advanced Science has homepage_url and type journal\n"
     ]
    },
    {
     "name": "stderr",
     "output_type": "stream",
     "text": [
      " 96%|█████████████████████████████████████████████████████████████████▉   | 1471/1540 [12:12<00:37,  1.83it/s]"
     ]
    },
    {
     "name": "stdout",
     "output_type": "stream",
     "text": [
      "Sensors and Actuators B: Chemical has homepage_url and type journal\n"
     ]
    },
    {
     "name": "stderr",
     "output_type": "stream",
     "text": [
      " 96%|█████████████████████████████████████████████████████████████████▉   | 1472/1540 [12:13<00:37,  1.83it/s]"
     ]
    },
    {
     "name": "stdout",
     "output_type": "stream",
     "text": [
      "Journal of Research of the National Institute of Standards and Technology has homepage_url and type journal\n"
     ]
    },
    {
     "name": "stderr",
     "output_type": "stream",
     "text": [
      " 96%|██████████████████████████████████████████████████████████████████   | 1474/1540 [12:14<00:39,  1.67it/s]"
     ]
    },
    {
     "name": "stdout",
     "output_type": "stream",
     "text": [
      "npj 2D materials and applications has homepage_url and type journal\n"
     ]
    },
    {
     "name": "stderr",
     "output_type": "stream",
     "text": [
      " 96%|██████████████████████████████████████████████████████████████████   | 1475/1540 [12:15<00:38,  1.71it/s]"
     ]
    },
    {
     "name": "stdout",
     "output_type": "stream",
     "text": [
      "Sensors and Actuators A-physical has homepage_url and type journal\n"
     ]
    },
    {
     "name": "stderr",
     "output_type": "stream",
     "text": [
      " 96%|██████████████████████████████████████████████████████████████████▏  | 1478/1540 [12:17<00:35,  1.75it/s]"
     ]
    },
    {
     "name": "stdout",
     "output_type": "stream",
     "text": [
      "Advanced electronic materials has homepage_url and type journal\n"
     ]
    },
    {
     "name": "stderr",
     "output_type": "stream",
     "text": [
      " 96%|██████████████████████████████████████████████████████████████████▎  | 1479/1540 [12:17<00:34,  1.76it/s]"
     ]
    },
    {
     "name": "stdout",
     "output_type": "stream",
     "text": [
      "Advanced photonics research has homepage_url and type journal\n"
     ]
    },
    {
     "name": "stderr",
     "output_type": "stream",
     "text": [
      " 96%|██████████████████████████████████████████████████████████████████▎  | 1480/1540 [12:18<00:33,  1.80it/s]"
     ]
    },
    {
     "name": "stdout",
     "output_type": "stream",
     "text": [
      "Progress in Quantum Electronics has homepage_url and type journal\n"
     ]
    },
    {
     "name": "stderr",
     "output_type": "stream",
     "text": [
      " 96%|██████████████████████████████████████████████████████████████████▎  | 1481/1540 [12:18<00:34,  1.71it/s]"
     ]
    },
    {
     "name": "stdout",
     "output_type": "stream",
     "text": [
      "ACS Sensors has homepage_url and type journal\n"
     ]
    },
    {
     "name": "stderr",
     "output_type": "stream",
     "text": [
      " 96%|██████████████████████████████████████████████████████████████████▍  | 1483/1540 [12:19<00:31,  1.80it/s]"
     ]
    },
    {
     "name": "stdout",
     "output_type": "stream",
     "text": [
      "Journal of Low Temperature Physics has homepage_url and type journal\n"
     ]
    },
    {
     "name": "stderr",
     "output_type": "stream",
     "text": [
      " 96%|██████████████████████████████████████████████████████████████████▍  | 1484/1540 [12:20<00:31,  1.80it/s]"
     ]
    },
    {
     "name": "stdout",
     "output_type": "stream",
     "text": [
      "Current materials science has homepage_url and type journal\n"
     ]
    },
    {
     "name": "stderr",
     "output_type": "stream",
     "text": [
      " 97%|██████████████████████████████████████████████████████████████████▋  | 1487/1540 [12:22<00:31,  1.68it/s]"
     ]
    },
    {
     "name": "stdout",
     "output_type": "stream",
     "text": [
      "The Journal of Engineering has homepage_url and type journal\n"
     ]
    },
    {
     "name": "stderr",
     "output_type": "stream",
     "text": [
      " 97%|██████████████████████████████████████████████████████████████████▋  | 1489/1540 [12:23<00:29,  1.71it/s]"
     ]
    },
    {
     "name": "stdout",
     "output_type": "stream",
     "text": [
      "International Journal of Modern Physics D has homepage_url and type journal\n"
     ]
    },
    {
     "name": "stderr",
     "output_type": "stream",
     "text": [
      " 97%|██████████████████████████████████████████████████████████████████▊  | 1490/1540 [12:24<00:32,  1.54it/s]"
     ]
    },
    {
     "name": "stdout",
     "output_type": "stream",
     "text": [
      "Biophysics and physicobiology has homepage_url and type journal\n"
     ]
    },
    {
     "name": "stderr",
     "output_type": "stream",
     "text": [
      " 97%|██████████████████████████████████████████████████████████████████▉  | 1494/1540 [12:26<00:26,  1.75it/s]"
     ]
    },
    {
     "name": "stdout",
     "output_type": "stream",
     "text": [
      "Springer series in solid-state sciences has homepage_url and type book series\n"
     ]
    },
    {
     "name": "stderr",
     "output_type": "stream",
     "text": [
      " 97%|██████████████████████████████████████████████████████████████████▉  | 1495/1540 [12:27<00:25,  1.77it/s]"
     ]
    },
    {
     "name": "stdout",
     "output_type": "stream",
     "text": [
      "Eskişehir teknik üniversitesi bilim ve teknoloji dergisi b- teorik bilimler has homepage_url and type journal\n"
     ]
    },
    {
     "name": "stderr",
     "output_type": "stream",
     "text": [
      " 97%|███████████████████████████████████████████████████████████████████  | 1497/1540 [12:28<00:23,  1.80it/s]"
     ]
    },
    {
     "name": "stdout",
     "output_type": "stream",
     "text": [
      "Revista Mexicana De Fisica E has homepage_url and type journal\n"
     ]
    },
    {
     "name": "stderr",
     "output_type": "stream",
     "text": [
      " 97%|███████████████████████████████████████████████████████████████████▏ | 1499/1540 [12:29<00:24,  1.67it/s]"
     ]
    },
    {
     "name": "stdout",
     "output_type": "stream",
     "text": [
      "Faraday Discussions has homepage_url and type journal\n"
     ]
    },
    {
     "name": "stderr",
     "output_type": "stream",
     "text": [
      " 97%|███████████████████████████████████████████████████████████████████▏ | 1500/1540 [12:29<00:23,  1.71it/s]"
     ]
    },
    {
     "name": "stdout",
     "output_type": "stream",
     "text": [
      "Materials Today Communications has homepage_url and type journal\n"
     ]
    },
    {
     "name": "stderr",
     "output_type": "stream",
     "text": [
      " 98%|███████████████████████████████████████████████████████████████████▍ | 1504/1540 [12:32<00:20,  1.74it/s]"
     ]
    },
    {
     "name": "stdout",
     "output_type": "stream",
     "text": [
      "Annual Review of Nuclear and Particle Science has homepage_url and type journal\n"
     ]
    },
    {
     "name": "stderr",
     "output_type": "stream",
     "text": [
      " 98%|███████████████████████████████████████████████████████████████████▍ | 1505/1540 [12:32<00:20,  1.74it/s]"
     ]
    },
    {
     "name": "stdout",
     "output_type": "stream",
     "text": [
      "Membranes has homepage_url and type journal\n"
     ]
    },
    {
     "name": "stderr",
     "output_type": "stream",
     "text": [
      " 98%|███████████████████████████████████████████████████████████████████▌ | 1507/1540 [12:34<00:22,  1.49it/s]"
     ]
    },
    {
     "name": "stdout",
     "output_type": "stream",
     "text": [
      "Micro has homepage_url and type journal\n"
     ]
    },
    {
     "name": "stderr",
     "output_type": "stream",
     "text": [
      " 98%|███████████████████████████████████████████████████████████████████▋ | 1510/1540 [12:36<00:18,  1.62it/s]"
     ]
    },
    {
     "name": "stdout",
     "output_type": "stream",
     "text": [
      "Surveys in Geophysics has homepage_url and type journal\n"
     ]
    },
    {
     "name": "stderr",
     "output_type": "stream",
     "text": [
      " 98%|███████████████████████████████████████████████████████████████████▋ | 1511/1540 [12:36<00:17,  1.62it/s]"
     ]
    },
    {
     "name": "stdout",
     "output_type": "stream",
     "text": [
      "Indian Journal of Physics has homepage_url and type journal\n"
     ]
    },
    {
     "name": "stderr",
     "output_type": "stream",
     "text": [
      " 98%|███████████████████████████████████████████████████████████████████▋ | 1512/1540 [12:37<00:16,  1.66it/s]"
     ]
    },
    {
     "name": "stdout",
     "output_type": "stream",
     "text": [
      "Mathematische Annalen has homepage_url and type journal\n"
     ]
    },
    {
     "name": "stderr",
     "output_type": "stream",
     "text": [
      " 98%|███████████████████████████████████████████████████████████████████▊ | 1513/1540 [12:37<00:15,  1.70it/s]"
     ]
    },
    {
     "name": "stdout",
     "output_type": "stream",
     "text": [
      "International Journal of Modern Physics has homepage_url and type journal\n"
     ]
    },
    {
     "name": "stderr",
     "output_type": "stream",
     "text": [
      " 98%|███████████████████████████████████████████████████████████████████▉ | 1516/1540 [12:39<00:14,  1.62it/s]"
     ]
    },
    {
     "name": "stdout",
     "output_type": "stream",
     "text": [
      "Advances in High Energy Physics has homepage_url and type journal\n"
     ]
    },
    {
     "name": "stderr",
     "output_type": "stream",
     "text": [
      " 99%|███████████████████████████████████████████████████████████████████▉ | 1517/1540 [12:40<00:13,  1.67it/s]"
     ]
    },
    {
     "name": "stdout",
     "output_type": "stream",
     "text": [
      "Quarterly Journal of Mathematics has homepage_url and type journal\n"
     ]
    },
    {
     "name": "stderr",
     "output_type": "stream",
     "text": [
      " 99%|████████████████████████████████████████████████████████████████████ | 1519/1540 [12:41<00:12,  1.72it/s]"
     ]
    },
    {
     "name": "stdout",
     "output_type": "stream",
     "text": [
      "Teachers College Record has homepage_url and type journal\n"
     ]
    },
    {
     "name": "stderr",
     "output_type": "stream",
     "text": [
      " 99%|████████████████████████████████████████████████████████████████████ | 1520/1540 [12:41<00:11,  1.72it/s]"
     ]
    },
    {
     "name": "stdout",
     "output_type": "stream",
     "text": [
      "Süleyman demirel üniversitesi fen-edebiyat fakültesi fen dergisi has homepage_url and type journal\n"
     ]
    },
    {
     "name": "stderr",
     "output_type": "stream",
     "text": [
      " 99%|████████████████████████████████████████████████████████████████████▏| 1521/1540 [12:42<00:11,  1.68it/s]"
     ]
    },
    {
     "name": "stdout",
     "output_type": "stream",
     "text": [
      "RePEc: Research Papers in Economics has homepage_url and type repository\n"
     ]
    },
    {
     "name": "stderr",
     "output_type": "stream",
     "text": [
      " 99%|████████████████████████████████████████████████████████████████████▏| 1522/1540 [12:43<00:10,  1.70it/s]"
     ]
    },
    {
     "name": "stdout",
     "output_type": "stream",
     "text": [
      "IFIP advances in information and communication technology has homepage_url and type book series\n"
     ]
    },
    {
     "name": "stderr",
     "output_type": "stream",
     "text": [
      " 99%|████████████████████████████████████████████████████████████████████▎| 1525/1540 [12:44<00:08,  1.76it/s]"
     ]
    },
    {
     "name": "stdout",
     "output_type": "stream",
     "text": [
      "Informatsionno-upravliaiushchie sistemy has homepage_url and type journal\n"
     ]
    },
    {
     "name": "stderr",
     "output_type": "stream",
     "text": [
      " 99%|████████████████████████████████████████████████████████████████████▍| 1528/1540 [12:46<00:06,  1.79it/s]"
     ]
    },
    {
     "name": "stdout",
     "output_type": "stream",
     "text": [
      "Applied Computing and Informatics has homepage_url and type journal\n"
     ]
    },
    {
     "name": "stderr",
     "output_type": "stream",
     "text": [
      "100%|████████████████████████████████████████████████████████████████████▊| 1536/1540 [12:51<00:02,  1.71it/s]"
     ]
    },
    {
     "name": "stdout",
     "output_type": "stream",
     "text": [
      "Barekeng has homepage_url and type journal\n"
     ]
    },
    {
     "name": "stderr",
     "output_type": "stream",
     "text": [
      "100%|████████████████████████████████████████████████████████████████████▊| 1537/1540 [12:51<00:01,  1.81it/s]"
     ]
    },
    {
     "name": "stdout",
     "output_type": "stream",
     "text": [
      "Theoretical and applied cybersecurity has homepage_url and type journal\n"
     ]
    },
    {
     "name": "stderr",
     "output_type": "stream",
     "text": [
      "100%|█████████████████████████████████████████████████████████████████████| 1540/1540 [12:53<00:00,  1.99it/s]\n"
     ]
    }
   ],
   "source": [
    "source_page_dict = get_display_page_dict(sources_list)"
   ]
  },
  {
   "cell_type": "code",
   "execution_count": 58,
   "id": "63eecd39-3e93-4e69-a444-c26c8b40dbab",
   "metadata": {},
   "outputs": [],
   "source": [
    "import pickle\n",
    "\n",
    "with open(\"source_page_dict.pkl\", \"wb\") as f:\n",
    "    pickle.dump(source_page_dict, f)"
   ]
  },
  {
   "cell_type": "code",
   "execution_count": 59,
   "id": "93388ff1-7bfb-4386-8686-2eafa81fdc8e",
   "metadata": {},
   "outputs": [],
   "source": [
    "with open(\"source_page_dict.pkl\", \"rb\") as f:\n",
    "    source_dict = pickle.load(f)"
   ]
  },
  {
   "cell_type": "code",
   "execution_count": 60,
   "id": "622d7e68-46af-4544-9431-bf856097a92f",
   "metadata": {},
   "outputs": [],
   "source": [
    "def get_journals_cluster_sort(dc:pd.DataFrame, cl:int):\n",
    "    \"\"\"\n",
    "    restricts the dataframe dc to cluster value cl\n",
    "    and returns the results grouped by source (where\n",
    "    source_type == 'journal') sorted\n",
    "    by the some of probablity descending\n",
    "    \"\"\"\n",
    "    dg = dc[dc['paper_cluster'] == cl].copy()\n",
    "    print(cl)\n",
    "    dv = dg[dg['source_type'] == 'journal'].groupby(['source'])['paper_cluster_score'].sum().to_frame()\n",
    "    dv.sort_values('paper_cluster_score', ascending=False, inplace=True)\n",
    "    dv['journal'] = dv.index\n",
    "    dv['hompage_url'] = dv['journal'].map(source_dict)\n",
    "    kw = centroids[centroids.cluster == cl]['keywords'].iloc[0]\n",
    "    return dv, kw"
   ]
  },
  {
   "cell_type": "code",
   "execution_count": 61,
   "id": "bc1f7194-14c5-4059-95d6-b8ab11cf9fe4",
   "metadata": {},
   "outputs": [
    {
     "name": "stdout",
     "output_type": "stream",
     "text": [
      "2\n"
     ]
    },
    {
     "data": {
      "text/html": [
       "<div>\n",
       "<style scoped>\n",
       "    .dataframe tbody tr th:only-of-type {\n",
       "        vertical-align: middle;\n",
       "    }\n",
       "\n",
       "    .dataframe tbody tr th {\n",
       "        vertical-align: top;\n",
       "    }\n",
       "\n",
       "    .dataframe thead th {\n",
       "        text-align: right;\n",
       "    }\n",
       "</style>\n",
       "<table border=\"1\" class=\"dataframe\">\n",
       "  <thead>\n",
       "    <tr style=\"text-align: right;\">\n",
       "      <th></th>\n",
       "      <th>paper_cluster_score</th>\n",
       "      <th>journal</th>\n",
       "      <th>hompage_url</th>\n",
       "    </tr>\n",
       "    <tr>\n",
       "      <th>source</th>\n",
       "      <th></th>\n",
       "      <th></th>\n",
       "      <th></th>\n",
       "    </tr>\n",
       "  </thead>\n",
       "  <tbody>\n",
       "    <tr>\n",
       "      <th>Epj Web of Conferences</th>\n",
       "      <td>15.0</td>\n",
       "      <td>Epj Web of Conferences</td>\n",
       "      <td>http://www.epj-conferences.org/</td>\n",
       "    </tr>\n",
       "    <tr>\n",
       "      <th>Quantum Machine Intelligence</th>\n",
       "      <td>8.0</td>\n",
       "      <td>Quantum Machine Intelligence</td>\n",
       "      <td>https://www.springer.com/journal/42484</td>\n",
       "    </tr>\n",
       "    <tr>\n",
       "      <th>Philosophical Transactions of the Royal Society A</th>\n",
       "      <td>1.0</td>\n",
       "      <td>Philosophical Transactions of the Royal Society A</td>\n",
       "      <td>http://rsta.royalsocietypublishing.org/</td>\n",
       "    </tr>\n",
       "    <tr>\n",
       "      <th>npj Quantum Information</th>\n",
       "      <td>0.142071</td>\n",
       "      <td>npj Quantum Information</td>\n",
       "      <td>https://www.nature.com/npjqi/</td>\n",
       "    </tr>\n",
       "    <tr>\n",
       "      <th>Chinese Journal of Physics</th>\n",
       "      <td>0.023273</td>\n",
       "      <td>Chinese Journal of Physics</td>\n",
       "      <td>https://www.sciencedirect.com/journal/chinese-...</td>\n",
       "    </tr>\n",
       "  </tbody>\n",
       "</table>\n",
       "</div>"
      ],
      "text/plain": [
       "                                                  paper_cluster_score   \n",
       "source                                                                  \n",
       "Epj Web of Conferences                                           15.0  \\\n",
       "Quantum Machine Intelligence                                      8.0   \n",
       "Philosophical Transactions of the Royal Society A                 1.0   \n",
       "npj Quantum Information                                      0.142071   \n",
       "Chinese Journal of Physics                                   0.023273   \n",
       "\n",
       "                                                                                             journal   \n",
       "source                                                                                                 \n",
       "Epj Web of Conferences                                                        Epj Web of Conferences  \\\n",
       "Quantum Machine Intelligence                                            Quantum Machine Intelligence   \n",
       "Philosophical Transactions of the Royal Society A  Philosophical Transactions of the Royal Society A   \n",
       "npj Quantum Information                                                      npj Quantum Information   \n",
       "Chinese Journal of Physics                                                Chinese Journal of Physics   \n",
       "\n",
       "                                                                                         hompage_url  \n",
       "source                                                                                                \n",
       "Epj Web of Conferences                                               http://www.epj-conferences.org/  \n",
       "Quantum Machine Intelligence                                  https://www.springer.com/journal/42484  \n",
       "Philosophical Transactions of the Royal Society A            http://rsta.royalsocietypublishing.org/  \n",
       "npj Quantum Information                                                https://www.nature.com/npjqi/  \n",
       "Chinese Journal of Physics                         https://www.sciencedirect.com/journal/chinese-...  "
      ]
     },
     "execution_count": 61,
     "metadata": {},
     "output_type": "execute_result"
    }
   ],
   "source": [
    "dv, kw = get_journals_cluster_sort(dftriple, 2)\n",
    "dv.head()"
   ]
  },
  {
   "cell_type": "code",
   "execution_count": 62,
   "id": "69c05504-e8d1-4de6-a833-f6cb94d54606",
   "metadata": {},
   "outputs": [
    {
     "name": "stderr",
     "output_type": "stream",
     "text": [
      "100%|█████████████████████████████████████████████████████████████████████| 4406/4406 [35:51<00:00,  2.05it/s]\n"
     ]
    }
   ],
   "source": [
    "affils_list = dftriple['display_name'].unique().tolist()\n",
    "type(affils_list), len(affils_list)\n",
    "\n",
    "affil_json = Institutions().filter(display_name = affils_list[1]).get()\n",
    "\n",
    "def get_affil_json(s:str):\n",
    "    \"\"\"\n",
    "    s is an openalex Sources display_name\n",
    "    return that Sources object\n",
    "    \"\"\"\n",
    "    affil_json = Institutions().search_filter(display_name = s).get()\n",
    "    #a = source_json[0]['type']\n",
    "    if \"geo\" in affil_json[0]:\n",
    "       # print(f\"{s} has homepage_url and type {source_json[0]['type']}\")\n",
    "        return affil_json[0][\"geo\"][\"latitude\"], affil_json[0][\"geo\"][\"longitude\"]\n",
    "    else:\n",
    "        return None, None\n",
    "    \n",
    "def get_display_geo_dict(sl:list):\n",
    "    \"\"\"\n",
    "    sl is a list of Institution display_name values\n",
    "    returns the dictionary mapping\n",
    "    display_names with (latitude, longitude) values.\"\"\"\n",
    "    mapping_dict = dict()\n",
    "    for s in tqdm(sl):\n",
    "        try:\n",
    "            mapping_dict[s] = get_affil_json(s)\n",
    "        except:\n",
    "            pass\n",
    "    return mapping_dict\n",
    "\n",
    "affil_geo_dict = get_display_geo_dict(affils_list)\n",
    "\n",
    "\n",
    "import pickle\n",
    "\n",
    "with open(\"affil_geo_dict.pkl\", \"wb\") as f:\n",
    "    pickle.dump(affil_geo_dict, f)"
   ]
  },
  {
   "cell_type": "code",
   "execution_count": 64,
   "id": "cf8e455a-a49d-4791-a1cb-0774c43baadf",
   "metadata": {},
   "outputs": [
    {
     "name": "stdout",
     "output_type": "stream",
     "text": [
      "{'id': 'https://openalex.org/C58053490', 'wikidata': 'https://www.wikidata.org/wiki/Q176555', 'display_name': 'Quantum computer', 'relevance_score': 37370.277, 'level': 3, 'description': 'theoretical computation device relying on quantum mechanics', 'works_count': 57804, 'cited_by_count': 1108452, 'summary_stats': {'2yr_mean_citedness': 2.956148535174473, 'h_index': 405, 'i10_index': 13238}, 'ids': {'openalex': 'https://openalex.org/C58053490', 'wikidata': 'https://www.wikidata.org/wiki/Q176555', 'mag': '58053490', 'wikipedia': 'https://en.wikipedia.org/wiki/Quantum%20computing'}, 'image_url': 'https://upload.wikimedia.org/wikipedia/commons/6/60/IBM_Q_system_%28Fraunhofer_2%29.jpg', 'image_thumbnail_url': 'https://upload.wikimedia.org/wikipedia/commons/thumb/6/60/IBM_Q_system_%28Fraunhofer_2%29.jpg/100px-IBM_Q_system_%28Fraunhofer_2%29.jpg', 'international': {'display_name': {'ar': 'حاسوب كمومي', 'ast': 'Computación cuántica', 'az': 'Kvant kompüteri', 'be-tarask': 'квантавы кампутар', 'bg': 'Квантов компютър', 'bn': 'কোয়ান্টাম পরিগণনা', 'bs': 'Kvantni računar', 'ca': 'ordinador quàntic', 'cs': 'kvantový počítač', 'da': 'kvantecomputer', 'de': 'Quantencomputer', 'el': 'Κβαντικός υπολογιστής', 'en': 'quantum computer', 'eo': 'kvantuma komputilo', 'es': 'computadora cuántica', 'et': 'kvantarvuti', 'eu': 'Konputagailu kuantiko', 'fa': 'رایانه کوانتومی', 'fi': 'kvanttitietokone', 'fr': 'calculateur quantique', 'fy': 'Kwantumkompjûter', 'ga': 'Ríomhaire candamach', 'gl': 'Computación cuántica', 'gsw': 'Quantencomputer', 'he': 'מחשב קוונטי', 'hi': 'क्वाण्टम कम्प्यूटर', 'hr': 'Kvantno računalo', 'hu': 'Kvantumszámítógép', 'hy': 'Քվանտային համակարգիչ', 'id': 'komputer kuantum', 'is': 'Skammtatölvur', 'it': 'computer quantistico', 'ja': '量子コンピュータ', 'ka': 'კვანტური კომპიუტერი', 'kn': 'ಕ್ವಾಂಟಮ್ ಗಣಕಯಂತ್ರ', 'ko': '양자 컴퓨터', 'lt': 'Kvantinis kompiuteris', 'lv': 'Kvantu dators', 'mk': 'квантно сметање', 'ml': 'ക്വാണ്ടം കമ്പ്യൂട്ടിങ്', 'ms': 'komputer kuantum', 'mt': 'kompjuter kwantistiku', 'nb': 'kvantedatamaskin', 'nl': 'Kwantumcomputer', 'or': 'କ୍ୱାଣ୍ଟମ କମ୍ପ୍ୟୁଟର', 'pa': 'ਕੁਆਂਟਮ ਕੰਪਿਊਟਿੰਗ', 'pl': 'Komputer kwantowy', 'pt': 'computador quântico', 'ro': 'Calculator cuantic', 'ru': 'Квантовый компьютер', 'sh': 'Kvantni računar', 'sk': 'Kvantový počítač', 'sl': 'Kvantni računalnik', 'sq': 'Kompjuteri kuantik', 'sr': 'квантни рачунар', 'sv': 'kvantdator', 'ta': 'குவாண்டம் கணினி', 'te': 'క్వాంటమ్ కంప్యూటర్', 'tg': 'Компютери квантӣ', 'tr': 'Kuantum bilgisayarı', 'uk': \"квантовий комп'ютер\", 'ur': 'مقداریہ شمارندہ', 'uz': 'Kvant kompyuterlari', 'vi': 'Máy tính lượng tử', 'wuu': '量子计算机', 'yue': '量子電腦', 'zh': '量子计算机', 'zh-hans': '量子计算机'}, 'description': {'ca': 'Dispositiu computacional basat en les propietats quàntiques de la matèria', 'de': 'Computer, dessen Funktionsweise auf den Gesetzmäßigkeiten der Quantenmechanik beruht', 'en': 'theoretical computation device relying on quantum mechanics', 'es': 'un paradigma de computación distinto al de la computación clásica. Se basa en el uso de qubits en lugar de bits, y da lugar a nuevas puertas lógicas que hacen posibles nuevos algoritmos', 'eu': 'Oinarrizko informazio-unitate gisa bit kuantikoa darabilen ordenagailua', 'fa': 'علمی که برای رایانش از مکانیک کوانتومی استفاده می\\u200cکند', 'fi': 'kehitteillä oleva erittäin tehokas tietokone', 'fr': 'ordinateur utilisant les propriétés quantiques de la matière', 'he': 'מכונה המעבדת נתונים במכניקת הקוונטים', 'hu': 'kvantummechanikai jelenségeket használó számítógép', 'id': 'perangkat komputasi teoretis yang mengandalkan mekanika kuantum', 'ja': '量子力学的な重ね合わせを用いて並列性を実現するとされるコンピュータ', 'ko': '이론적으로 존재하는, 양자역학을 기반으로 한 계산 장치', 'nl': 'computer\\xa0waarbij de\\xa0processor\\xa0gebruik maakt van de principes van de\\xa0kwantummechanica', 'or': 'ଉଦୀୟମାନ ପ୍ରଯୁକ୍ତି ବିଦ୍ୟା', 'pl': 'Qubit', 'ru': 'вычислительное устройство', 'sv': 'dator som använder kvantmekanik', 'te': 'డివైస్ రెల్లీయింగ్ ఆన్ క్వాంటమ్ మెకానిక్స్', 'uk': 'теоретичний обчислювальний пристрій, що базується на квантовій механіці', 'zh': '运用量子计算的计算机', 'zh-hans': '运用量子计算的计算机'}}, 'ancestors': [{'id': 'https://openalex.org/C84114770', 'wikidata': 'https://www.wikidata.org/wiki/Q46344', 'display_name': 'Quantum', 'level': 2}, {'id': 'https://openalex.org/C62520636', 'wikidata': 'https://www.wikidata.org/wiki/Q944', 'display_name': 'Quantum mechanics', 'level': 1}, {'id': 'https://openalex.org/C121332964', 'wikidata': 'https://www.wikidata.org/wiki/Q413', 'display_name': 'Physics', 'level': 0}], 'related_concepts': [{'id': 'https://openalex.org/C203087015', 'wikidata': None, 'display_name': 'Qubit', 'level': 3, 'score': 30.245028}, {'id': 'https://openalex.org/C62520636', 'wikidata': None, 'display_name': 'Quantum mechanics', 'level': 1, 'score': 28.724188}, {'id': 'https://openalex.org/C169699857', 'wikidata': None, 'display_name': 'Quantum information', 'level': 3, 'score': 22.1685}, {'id': 'https://openalex.org/C121040770', 'wikidata': None, 'display_name': 'Quantum entanglement', 'level': 3, 'score': 18.537472}, {'id': 'https://openalex.org/C137019171', 'wikidata': None, 'display_name': 'Quantum algorithm', 'level': 3, 'score': 16.794514}, {'id': 'https://openalex.org/C179799912', 'wikidata': None, 'display_name': 'Computational complexity theory', 'level': 2, 'score': 14.517024}, {'id': 'https://openalex.org/C122527463', 'wikidata': None, 'display_name': 'Quantum decoherence', 'level': 3, 'score': 13.283094}, {'id': 'https://openalex.org/C58849907', 'wikidata': None, 'display_name': 'Quantum gate', 'level': 4, 'score': 11.922033}, {'id': 'https://openalex.org/C144901912', 'wikidata': None, 'display_name': 'Quantum cryptography', 'level': 4, 'score': 11.884861}, {'id': 'https://openalex.org/C119677069', 'wikidata': None, 'display_name': 'Integer factorization', 'level': 4, 'score': 11.613979}, {'id': 'https://openalex.org/C55615164', 'wikidata': None, 'display_name': 'Quantum superposition', 'level': 3, 'score': 11.534849}, {'id': 'https://openalex.org/C121332964', 'wikidata': None, 'display_name': 'Physics', 'level': 0, 'score': 10.829316}, {'id': 'https://openalex.org/C15706264', 'wikidata': None, 'display_name': 'Quantum state', 'level': 3, 'score': 10.728822}, {'id': 'https://openalex.org/C178489894', 'wikidata': None, 'display_name': 'Cryptography', 'level': 2, 'score': 10.612293}, {'id': 'https://openalex.org/C41008148', 'wikidata': None, 'display_name': 'Computer science', 'level': 0, 'score': 9.372998}, {'id': 'https://openalex.org/C51003876', 'wikidata': None, 'display_name': 'Quantum error correction', 'level': 4, 'score': 9.239752}, {'id': 'https://openalex.org/C311688', 'wikidata': None, 'display_name': 'Time complexity', 'level': 2, 'score': 8.93736}, {'id': 'https://openalex.org/C80444323', 'wikidata': None, 'display_name': 'Theoretical computer science', 'level': 1, 'score': 8.828963}, {'id': 'https://openalex.org/C5320026', 'wikidata': None, 'display_name': 'Quantum information science', 'level': 4, 'score': 7.210312}, {'id': 'https://openalex.org/C173259116', 'wikidata': None, 'display_name': 'Discrete logarithm', 'level': 4, 'score': 6.517574}, {'id': 'https://openalex.org/C68717125', 'wikidata': None, 'display_name': 'Quantum optics', 'level': 2, 'score': 6.390977}, {'id': 'https://openalex.org/C118704821', 'wikidata': None, 'display_name': 'Bell state', 'level': 4, 'score': 6.0892954}, {'id': 'https://openalex.org/C47750902', 'wikidata': None, 'display_name': 'Key size', 'level': 4, 'score': 5.510726}, {'id': 'https://openalex.org/C190463098', 'wikidata': None, 'display_name': 'Quantum technology', 'level': 4, 'score': 5.413192}, {'id': 'https://openalex.org/C90408235', 'wikidata': None, 'display_name': 'Quantum annealing', 'level': 4, 'score': 5.322004}, {'id': 'https://openalex.org/C161166931', 'wikidata': None, 'display_name': 'Quantum simulator', 'level': 4, 'score': 5.0798936}, {'id': 'https://openalex.org/C108277079', 'wikidata': None, 'display_name': 'Post-quantum cryptography', 'level': 4, 'score': 4.880802}, {'id': 'https://openalex.org/C186468114', 'wikidata': None, 'display_name': 'Quantum network', 'level': 4, 'score': 4.8576183}, {'id': 'https://openalex.org/C20274610', 'wikidata': None, 'display_name': 'Reversible computing', 'level': 4, 'score': 4.6383333}, {'id': 'https://openalex.org/C192353077', 'wikidata': None, 'display_name': 'Adiabatic quantum computation', 'level': 4, 'score': 4.5148873}, {'id': 'https://openalex.org/C92043244', 'wikidata': None, 'display_name': 'Quantum complexity theory', 'level': 4, 'score': 4.5024557}, {'id': 'https://openalex.org/C95466800', 'wikidata': None, 'display_name': 'Quantum key distribution', 'level': 3, 'score': 4.4564414}, {'id': 'https://openalex.org/C192979234', 'wikidata': None, 'display_name': 'Natural computing', 'level': 2, 'score': 4.4348984}, {'id': 'https://openalex.org/C187483380', 'wikidata': None, 'display_name': 'Topological quantum computer', 'level': 3, 'score': 4.270928}, {'id': 'https://openalex.org/C128669082', 'wikidata': None, 'display_name': 'Randomized algorithm', 'level': 2, 'score': 4.0527096}, {'id': 'https://openalex.org/C174327141', 'wikidata': None, 'display_name': 'Quantum finite automata', 'level': 4, 'score': 3.827998}, {'id': 'https://openalex.org/C187486625', 'wikidata': None, 'display_name': 'Quantum channel', 'level': 4, 'score': 3.7065136}, {'id': 'https://openalex.org/C56085360', 'wikidata': None, 'display_name': 'Qutrit', 'level': 4, 'score': 3.6130345}, {'id': 'https://openalex.org/C82047324', 'wikidata': None, 'display_name': 'DNA computing', 'level': 3, 'score': 3.241979}, {'id': 'https://openalex.org/C60292330', 'wikidata': None, 'display_name': 'Hadamard transform', 'level': 2, 'score': 3.1287699}, {'id': 'https://openalex.org/C140058369', 'wikidata': None, 'display_name': 'Quantum walk', 'level': 4, 'score': 3.0348516}, {'id': 'https://openalex.org/C136277988', 'wikidata': None, 'display_name': 'Bloch sphere', 'level': 4, 'score': 3.0216682}, {'id': 'https://openalex.org/C45374587', 'wikidata': None, 'display_name': 'Computation', 'level': 2, 'score': 2.9705145}, {'id': 'https://openalex.org/C40025392', 'wikidata': None, 'display_name': 'Rabi cycle', 'level': 3, 'score': 2.9514716}, {'id': 'https://openalex.org/C158456648', 'wikidata': None, 'display_name': 'Cluster state', 'level': 4, 'score': 2.870347}, {'id': 'https://openalex.org/C152763109', 'wikidata': None, 'display_name': 'Modular exponentiation', 'level': 4, 'score': 2.7528646}, {'id': 'https://openalex.org/C2779094486', 'wikidata': None, 'display_name': 'Quantum machine learning', 'level': 4, 'score': 2.6139288}, {'id': 'https://openalex.org/C74939445', 'wikidata': None, 'display_name': 'Cavity quantum electrodynamics', 'level': 4, 'score': 2.583358}, {'id': 'https://openalex.org/C148204187', 'wikidata': None, 'display_name': 'Optical computing', 'level': 2, 'score': 2.495685}, {'id': 'https://openalex.org/C116696211', 'wikidata': None, 'display_name': 'Nitrogen-vacancy center', 'level': 3, 'score': 2.4887102}, {'id': 'https://openalex.org/C84883863', 'wikidata': None, 'display_name': 'Toric code', 'level': 4, 'score': 2.4272885}, {'id': 'https://openalex.org/C106289968', 'wikidata': None, 'display_name': 'Ion trap', 'level': 3, 'score': 2.4140291}, {'id': 'https://openalex.org/C24604422', 'wikidata': None, 'display_name': 'Average-case complexity', 'level': 3, 'score': 2.4099536}, {'id': 'https://openalex.org/C168482242', 'wikidata': None, 'display_name': 'Lattice problem', 'level': 3, 'score': 2.3596876}, {'id': 'https://openalex.org/C194867977', 'wikidata': None, 'display_name': 'Quantum Zeno effect', 'level': 4, 'score': 2.211676}, {'id': 'https://openalex.org/C179145077', 'wikidata': None, 'display_name': 'Communication complexity', 'level': 2, 'score': 2.1662014}, {'id': 'https://openalex.org/C44274781', 'wikidata': None, 'display_name': 'Lattice reduction', 'level': 4, 'score': 1.9354295}, {'id': 'https://openalex.org/C20593774', 'wikidata': None, 'display_name': 'W state', 'level': 4, 'score': 1.8880696}, {'id': 'https://openalex.org/C119382340', 'wikidata': None, 'display_name': 'Superconducting quantum computing', 'level': 4, 'score': 1.8256426}, {'id': 'https://openalex.org/C2781190263', 'wikidata': None, 'display_name': 'Circuit quantum electrodynamics', 'level': 4, 'score': 1.7938055}, {'id': 'https://openalex.org/C122368425', 'wikidata': None, 'display_name': 'NTRU', 'level': 4, 'score': 1.7825739}, {'id': 'https://openalex.org/C139356082', 'wikidata': None, 'display_name': 'Quantum discord', 'level': 4, 'score': 1.7255336}, {'id': 'https://openalex.org/C174784677', 'wikidata': None, 'display_name': 'Probabilistic automaton', 'level': 3, 'score': 1.7039485}, {'id': 'https://openalex.org/C56289965', 'wikidata': None, 'display_name': 'Decision tree model', 'level': 3, 'score': 1.6135215}, {'id': 'https://openalex.org/C93751859', 'wikidata': None, 'display_name': 'Optical lattice', 'level': 3, 'score': 1.5493859}, {'id': 'https://openalex.org/C2776222033', 'wikidata': None, 'display_name': 'Transmon', 'level': 4, 'score': 1.3860577}, {'id': 'https://openalex.org/C194975256', 'wikidata': None, 'display_name': 'Quantum dissipation', 'level': 3, 'score': 1.370221}, {'id': 'https://openalex.org/C23375383', 'wikidata': None, 'display_name': 'Unconventional computing', 'level': 2, 'score': 1.353883}, {'id': 'https://openalex.org/C151927369', 'wikidata': None, 'display_name': 'Neuromorphic engineering', 'level': 3, 'score': 1.284179}, {'id': 'https://openalex.org/C109546105', 'wikidata': None, 'display_name': 'Flux qubit', 'level': 4, 'score': 1.2830168}, {'id': 'https://openalex.org/C68576872', 'wikidata': None, 'display_name': 'Quantum cellular automaton', 'level': 3, 'score': 1.2738585}, {'id': 'https://openalex.org/C15482360', 'wikidata': None, 'display_name': 'Monte Carlo algorithm', 'level': 3, 'score': 1.2442223}, {'id': 'https://openalex.org/C150206757', 'wikidata': None, 'display_name': 'Rapid single flux quantum', 'level': 4, 'score': 1.129251}, {'id': 'https://openalex.org/C2778476455', 'wikidata': None, 'display_name': 'Dynamical decoupling', 'level': 4, 'score': 1.127318}, {'id': 'https://openalex.org/C73214911', 'wikidata': None, 'display_name': 'Phase qubit', 'level': 4, 'score': 1.1255666}, {'id': 'https://openalex.org/C2779014939', 'wikidata': None, 'display_name': 'Learning with errors', 'level': 3, 'score': 1.0978988}, {'id': 'https://openalex.org/C2780376250', 'wikidata': None, 'display_name': 'Valleytronics', 'level': 4, 'score': 1.0689104}, {'id': 'https://openalex.org/C111776688', 'wikidata': None, 'display_name': 'Ultracold atom', 'level': 3, 'score': 1.0297865}, {'id': 'https://openalex.org/C53076038', 'wikidata': None, 'display_name': 'Oblivious transfer', 'level': 3, 'score': 1.0161295}, {'id': 'https://openalex.org/C78594624', 'wikidata': None, 'display_name': 'Coherent control', 'level': 3, 'score': 0.91743636}, {'id': 'https://openalex.org/C2777843375', 'wikidata': None, 'display_name': 'Concurrence', 'level': 4, 'score': 0.8522914}, {'id': 'https://openalex.org/C58102789', 'wikidata': None, 'display_name': 'Optical transistor', 'level': 4, 'score': 0.82226497}, {'id': 'https://openalex.org/C177179195', 'wikidata': None, 'display_name': 'Quadratic unconstrained binary optimization', 'level': 4, 'score': 0.7604212}], 'counts_by_year': [{'year': 2023, 'works_count': 5461, 'cited_by_count': 103209}, {'year': 2022, 'works_count': 6524, 'cited_by_count': 128487}, {'year': 2021, 'works_count': 6177, 'cited_by_count': 132889}, {'year': 2020, 'works_count': 4480, 'cited_by_count': 100346}, {'year': 2019, 'works_count': 3577, 'cited_by_count': 79153}, {'year': 2018, 'works_count': 2849, 'cited_by_count': 61975}, {'year': 2017, 'works_count': 2376, 'cited_by_count': 54075}, {'year': 2016, 'works_count': 2155, 'cited_by_count': 51798}, {'year': 2015, 'works_count': 2033, 'cited_by_count': 45574}, {'year': 2014, 'works_count': 1950, 'cited_by_count': 42867}, {'year': 2013, 'works_count': 1830, 'cited_by_count': 38433}, {'year': 2012, 'works_count': 1701, 'cited_by_count': 34242}], 'works_api_url': 'https://api.openalex.org/works?filter=concepts.id:C58053490', 'updated_date': '2023-10-01T07:34:32.529087', 'created_date': '2016-06-24'}\n",
      "-------------\n",
      "{'id': 'https://openalex.org/C144901912', 'wikidata': 'https://www.wikidata.org/wiki/Q471906', 'display_name': 'Quantum cryptography', 'relevance_score': 20594.525, 'level': 4, 'description': 'computer', 'works_count': 10687, 'cited_by_count': 241276, 'summary_stats': {'2yr_mean_citedness': 2.2092866756393, 'h_index': 208, 'i10_index': 2369}, 'ids': {'openalex': 'https://openalex.org/C144901912', 'wikidata': 'https://www.wikidata.org/wiki/Q471906', 'mag': '144901912', 'wikipedia': 'https://en.wikipedia.org/wiki/Quantum%20cryptography'}, 'image_url': None, 'image_thumbnail_url': None, 'international': {'display_name': {'ar': 'تشفير كمومي', 'bn': 'কোয়ান্টাম তথ্যগুপ্তিবিদ্যা', 'ca': 'criptografia quàntica', 'cs': 'Kvantová kryptografie', 'de': 'Quantenschlüsselaustausch', 'en': 'Qantum Crytography', 'eo': 'kvantuma kriptologio', 'es': 'criptografía cuántica', 'et': 'Kvantkrüptograafia', 'eu': 'Kriptografia kuantiko', 'fa': 'رمزنگاری کوانتومی', 'fi': 'Kvanttisalaus', 'fr': 'cryptographie quantique', 'he': 'הצפנה קוונטית', 'hr': 'Kvantna kriptografija', 'hu': 'Kvantumkriptográfia', 'it': 'crittografia quantistica', 'ja': '量子暗号', 'ko': '양자 암호', 'lmo': 'Crittografia quantistega', 'lt': 'Kvantinė kriptografija', 'nb': 'Kvantekryptografi', 'nl': 'Kwantumcryptografie', 'pa': 'ਕੁਆਂਟਮ ਕ੍ਰਿਪਟੋਗ੍ਰਾਫੀ', 'pl': 'Kryptologia kwantowa', 'pt': 'criptografia quântica', 'ro': 'Criptare cuantică', 'ru': 'Квантовая криптография', 'sr': 'Kvantna kriptografija', 'sr-ec': 'Квантна криптографија', 'sr-el': 'Kvantna kriptografija', 'sv': 'kvantkryptering', 'ta': 'துளிம மறைப்பியல்', 'tr': 'Kuantum kriptografi', 'uk': 'Квантова криптографія', 'vi': 'Mật mã lượng tử', 'yue': '量子密碼學', 'zh': '量子密碼學', 'zh-cn': '量子密码学', 'zh-hans': '量子密码学', 'zh-hant': '量子密碼學', 'zh-hk': '量子密碼學', 'zh-sg': '量子密码学', 'zh-tw': '量子密碼學'}, 'description': {'de': 'Verwendung quantenmechanischer Effekte als Bestandteil kryptographischer Verfahren oder zur Kryptoanalyse', 'en': 'computer', 'es': 'criptografía que utiliza principios de la mecánica cuántica', 'fi': 'kvanttimekaniikkaan perustuva salausjärjestelmä', 'ja': '量子力学の性質を活用した暗号技術'}}, 'ancestors': [{'id': 'https://openalex.org/C169699857', 'wikidata': 'https://www.wikidata.org/wiki/Q2122243', 'display_name': 'Quantum information', 'level': 3}, {'id': 'https://openalex.org/C84114770', 'wikidata': 'https://www.wikidata.org/wiki/Q46344', 'display_name': 'Quantum', 'level': 2}, {'id': 'https://openalex.org/C62520636', 'wikidata': 'https://www.wikidata.org/wiki/Q944', 'display_name': 'Quantum mechanics', 'level': 1}, {'id': 'https://openalex.org/C121332964', 'wikidata': 'https://www.wikidata.org/wiki/Q413', 'display_name': 'Physics', 'level': 0}], 'related_concepts': [{'id': 'https://openalex.org/C95466800', 'wikidata': None, 'display_name': 'Quantum key distribution', 'level': 3, 'score': 12.577116}, {'id': 'https://openalex.org/C58053490', 'wikidata': None, 'display_name': 'Quantum computer', 'level': 3, 'score': 11.884861}, {'id': 'https://openalex.org/C178489894', 'wikidata': None, 'display_name': 'Cryptography', 'level': 2, 'score': 7.6631465}, {'id': 'https://openalex.org/C121040770', 'wikidata': None, 'display_name': 'Quantum entanglement', 'level': 3, 'score': 7.318348}, {'id': 'https://openalex.org/C62520636', 'wikidata': None, 'display_name': 'Quantum mechanics', 'level': 1, 'score': 5.9930735}, {'id': 'https://openalex.org/C91717678', 'wikidata': None, 'display_name': 'Quantum teleportation', 'level': 5, 'score': 5.795374}, {'id': 'https://openalex.org/C78203541', 'wikidata': None, 'display_name': 'BB84', 'level': 5, 'score': 5.458036}, {'id': 'https://openalex.org/C203087015', 'wikidata': None, 'display_name': 'Qubit', 'level': 3, 'score': 4.5683455}, {'id': 'https://openalex.org/C169699857', 'wikidata': None, 'display_name': 'Quantum information', 'level': 3, 'score': 4.450685}, {'id': 'https://openalex.org/C186468114', 'wikidata': None, 'display_name': 'Quantum network', 'level': 4, 'score': 4.338759}, {'id': 'https://openalex.org/C203062551', 'wikidata': None, 'display_name': 'Public-key cryptography', 'level': 3, 'score': 4.194831}, {'id': 'https://openalex.org/C29524669', 'wikidata': None, 'display_name': 'Diffie–Hellman key exchange', 'level': 5, 'score': 3.9283519}, {'id': 'https://openalex.org/C91399829', 'wikidata': None, 'display_name': 'Commitment scheme', 'level': 3, 'score': 3.7901638}, {'id': 'https://openalex.org/C108277079', 'wikidata': None, 'display_name': 'Post-quantum cryptography', 'level': 4, 'score': 3.520645}, {'id': 'https://openalex.org/C53076038', 'wikidata': None, 'display_name': 'Oblivious transfer', 'level': 3, 'score': 3.2432222}, {'id': 'https://openalex.org/C5320026', 'wikidata': None, 'display_name': 'Quantum information science', 'level': 4, 'score': 3.1990316}, {'id': 'https://openalex.org/C16935551', 'wikidata': None, 'display_name': 'McEliece cryptosystem', 'level': 4, 'score': 2.4614944}, {'id': 'https://openalex.org/C122368425', 'wikidata': None, 'display_name': 'NTRU', 'level': 4, 'score': 2.2877994}, {'id': 'https://openalex.org/C127964579', 'wikidata': None, 'display_name': 'Alice and Bob', 'level': 3, 'score': 2.284185}, {'id': 'https://openalex.org/C190463098', 'wikidata': None, 'display_name': 'Quantum technology', 'level': 4, 'score': 1.7679292}, {'id': 'https://openalex.org/C18396474', 'wikidata': None, 'display_name': 'Secure multi-party computation', 'level': 3, 'score': 1.7564373}, {'id': 'https://openalex.org/C3087436', 'wikidata': None, 'display_name': 'Secret sharing', 'level': 3, 'score': 1.4798071}, {'id': 'https://openalex.org/C155527597', 'wikidata': None, 'display_name': 'Signcryption', 'level': 4, 'score': 1.2847635}, {'id': 'https://openalex.org/C67405866', 'wikidata': None, 'display_name': 'Implicit certificate', 'level': 5, 'score': 1.2394729}, {'id': 'https://openalex.org/C99221444', 'wikidata': None, 'display_name': 'Private information retrieval', 'level': 2, 'score': 1.223642}, {'id': 'https://openalex.org/C165751822', 'wikidata': None, 'display_name': 'Universal composability', 'level': 4, 'score': 1.1067606}, {'id': 'https://openalex.org/C2776887110', 'wikidata': None, 'display_name': 'Quantum cloning', 'level': 5, 'score': 0.8044419}], 'counts_by_year': [{'year': 2023, 'works_count': 615, 'cited_by_count': 16884}, {'year': 2022, 'works_count': 771, 'cited_by_count': 23270}, {'year': 2021, 'works_count': 832, 'cited_by_count': 24543}, {'year': 2020, 'works_count': 659, 'cited_by_count': 21757}, {'year': 2019, 'works_count': 608, 'cited_by_count': 19700}, {'year': 2018, 'works_count': 543, 'cited_by_count': 15750}, {'year': 2017, 'works_count': 483, 'cited_by_count': 13591}, {'year': 2016, 'works_count': 454, 'cited_by_count': 12755}, {'year': 2015, 'works_count': 483, 'cited_by_count': 12455}, {'year': 2014, 'works_count': 495, 'cited_by_count': 10972}, {'year': 2013, 'works_count': 403, 'cited_by_count': 9189}, {'year': 2012, 'works_count': 391, 'cited_by_count': 8424}], 'works_api_url': 'https://api.openalex.org/works?filter=concepts.id:C144901912', 'updated_date': '2023-10-01T07:59:54.407020', 'created_date': '2016-06-24'}\n",
      "-------------\n",
      "{'id': 'https://openalex.org/C89143813', 'wikidata': 'https://www.wikidata.org/wiki/Q17105423', 'display_name': 'Quantum sensor', 'relevance_score': 18866.844, 'level': 5, 'description': 'measurement device using quantum mechanical effects such as entanglement', 'works_count': 7810, 'cited_by_count': 233776, 'summary_stats': {'2yr_mean_citedness': 4.555155010814708, 'h_index': 221, 'i10_index': 2056}, 'ids': {'openalex': 'https://openalex.org/C89143813', 'wikidata': 'https://www.wikidata.org/wiki/Q17105423', 'mag': '89143813', 'wikipedia': 'https://en.wikipedia.org/wiki/Quantum%20sensor'}, 'image_url': None, 'image_thumbnail_url': None, 'international': {'display_name': {'en': 'Quantum sensor', 'ja': '量子センシング', 'pa': 'ਕੁਆਂਟਮ ਸੈਂਸਰ', 'pt': 'sensor quântico'}, 'description': {'en': 'measurement device using quantum mechanical effects such as entanglement', 'pt': 'dispositivo que utiliza correlações quânticas'}}, 'ancestors': [{'id': 'https://openalex.org/C186468114', 'wikidata': 'https://www.wikidata.org/wiki/Q836478', 'display_name': 'Quantum network', 'level': 4}, {'id': 'https://openalex.org/C161166931', 'wikidata': 'https://www.wikidata.org/wiki/Q7269096', 'display_name': 'Quantum simulator', 'level': 4}, {'id': 'https://openalex.org/C190463098', 'wikidata': 'https://www.wikidata.org/wiki/Q2081419', 'display_name': 'Quantum technology', 'level': 4}, {'id': 'https://openalex.org/C190474826', 'wikidata': 'https://www.wikidata.org/wiki/Q2495111', 'display_name': 'Open quantum system', 'level': 3}, {'id': 'https://openalex.org/C58053490', 'wikidata': 'https://www.wikidata.org/wiki/Q176555', 'display_name': 'Quantum computer', 'level': 3}, {'id': 'https://openalex.org/C121040770', 'wikidata': 'https://www.wikidata.org/wiki/Q215675', 'display_name': 'Quantum entanglement', 'level': 3}, {'id': 'https://openalex.org/C169699857', 'wikidata': 'https://www.wikidata.org/wiki/Q2122243', 'display_name': 'Quantum information', 'level': 3}, {'id': 'https://openalex.org/C84114770', 'wikidata': 'https://www.wikidata.org/wiki/Q46344', 'display_name': 'Quantum', 'level': 2}, {'id': 'https://openalex.org/C62520636', 'wikidata': 'https://www.wikidata.org/wiki/Q944', 'display_name': 'Quantum mechanics', 'level': 1}, {'id': 'https://openalex.org/C121332964', 'wikidata': 'https://www.wikidata.org/wiki/Q413', 'display_name': 'Physics', 'level': 0}], 'related_concepts': [{'id': 'https://openalex.org/C22984246', 'wikidata': None, 'display_name': 'Quantum imaging', 'level': 5, 'score': 2.5802677}, {'id': 'https://openalex.org/C95013731', 'wikidata': None, 'display_name': 'Quantum metrology', 'level': 5, 'score': 2.5555367}, {'id': 'https://openalex.org/C190463098', 'wikidata': None, 'display_name': 'Quantum technology', 'level': 4, 'score': 2.2667952}, {'id': 'https://openalex.org/C121040770', 'wikidata': None, 'display_name': 'Quantum entanglement', 'level': 3, 'score': 1.8306594}, {'id': 'https://openalex.org/C68717125', 'wikidata': None, 'display_name': 'Quantum optics', 'level': 2, 'score': 1.0315906}, {'id': 'https://openalex.org/C58053490', 'wikidata': None, 'display_name': 'Quantum computer', 'level': 3, 'score': 1.0159596}, {'id': 'https://openalex.org/C95466800', 'wikidata': None, 'display_name': 'Quantum key distribution', 'level': 3, 'score': 0.8998693}, {'id': 'https://openalex.org/C2776646148', 'wikidata': None, 'display_name': 'Ghost imaging', 'level': 2, 'score': 0.81175107}], 'counts_by_year': [{'year': 2023, 'works_count': 728, 'cited_by_count': 22766}, {'year': 2022, 'works_count': 869, 'cited_by_count': 27962}, {'year': 2021, 'works_count': 761, 'cited_by_count': 28446}, {'year': 2020, 'works_count': 609, 'cited_by_count': 23407}, {'year': 2019, 'works_count': 562, 'cited_by_count': 18979}, {'year': 2018, 'works_count': 440, 'cited_by_count': 16062}, {'year': 2017, 'works_count': 482, 'cited_by_count': 14603}, {'year': 2016, 'works_count': 390, 'cited_by_count': 13566}, {'year': 2015, 'works_count': 359, 'cited_by_count': 11423}, {'year': 2014, 'works_count': 328, 'cited_by_count': 10356}, {'year': 2013, 'works_count': 292, 'cited_by_count': 9296}, {'year': 2012, 'works_count': 262, 'cited_by_count': 7339}], 'works_api_url': 'https://api.openalex.org/works?filter=concepts.id:C89143813', 'updated_date': '2023-10-01T07:41:22.410174', 'created_date': '2016-06-24'}\n",
      "-------------\n",
      "{'id': 'https://openalex.org/C187483380', 'wikidata': 'https://www.wikidata.org/wiki/Q7825042', 'display_name': 'Topological quantum computer', 'relevance_score': 8518.117, 'level': 3, 'description': 'hypothetical fault-tolerant quantum computer based on topological condensed matter', 'works_count': 3295, 'cited_by_count': 83942, 'summary_stats': {'2yr_mean_citedness': 2.703601108033241, 'h_index': 104, 'i10_index': 950}, 'ids': {'openalex': 'https://openalex.org/C187483380', 'wikidata': 'https://www.wikidata.org/wiki/Q7825042', 'mag': '187483380', 'wikipedia': 'https://en.wikipedia.org/wiki/Topological%20quantum%20computer'}, 'image_url': None, 'image_thumbnail_url': None, 'international': {'display_name': {'ar': 'حاسوب كمومي طوبولوجي', 'en': 'topological quantum computer', 'eo': 'topologia kvantuma komputilo', 'es': 'computadora cuántica topológica', 'fa': 'رایانه کوانتومی توپولوژیکی', 'it': 'computer quantistico topologico', 'ja': 'トポロジカル量子コンピュータ', 'vi': 'Máy tính tôpô lượng tử', 'zh': '拓樸量子電腦', 'zh-hans': '拓扑量子计算机', 'zh-hant': '拓撲量子計算機'}, 'description': {'en': 'hypothetical fault-tolerant quantum computer based on topological condensed matter', 'it': 'tipo ipotetico di computer quantistico basato sulla materia condensata topologica'}}, 'ancestors': [{'id': 'https://openalex.org/C84114770', 'wikidata': 'https://www.wikidata.org/wiki/Q46344', 'display_name': 'Quantum', 'level': 2}, {'id': 'https://openalex.org/C62520636', 'wikidata': 'https://www.wikidata.org/wiki/Q944', 'display_name': 'Quantum mechanics', 'level': 1}, {'id': 'https://openalex.org/C121332964', 'wikidata': 'https://www.wikidata.org/wiki/Q413', 'display_name': 'Physics', 'level': 0}], 'related_concepts': [{'id': 'https://openalex.org/C2777446375', 'wikidata': None, 'display_name': 'Anyon', 'level': 4, 'score': 5.31476}, {'id': 'https://openalex.org/C58053490', 'wikidata': None, 'display_name': 'Quantum computer', 'level': 3, 'score': 4.270928}, {'id': 'https://openalex.org/C84883863', 'wikidata': None, 'display_name': 'Toric code', 'level': 4, 'score': 3.8325217}, {'id': 'https://openalex.org/C136479403', 'wikidata': None, 'display_name': 'Quasiparticle', 'level': 3, 'score': 2.1807702}, {'id': 'https://openalex.org/C45646460', 'wikidata': None, 'display_name': 'Topological order', 'level': 3, 'score': 2.1554368}, {'id': 'https://openalex.org/C71735400', 'wikidata': None, 'display_name': 'Fractionalization', 'level': 3, 'score': 1.8856611}, {'id': 'https://openalex.org/C51003876', 'wikidata': None, 'display_name': 'Quantum error correction', 'level': 4, 'score': 1.6394823}, {'id': 'https://openalex.org/C26873012', 'wikidata': None, 'display_name': 'Condensed matter physics', 'level': 1, 'score': 1.6326777}, {'id': 'https://openalex.org/C121332964', 'wikidata': None, 'display_name': 'Physics', 'level': 0, 'score': 1.5937611}, {'id': 'https://openalex.org/C30080830', 'wikidata': None, 'display_name': 'Graphene', 'level': 2, 'score': 1.5490388}, {'id': 'https://openalex.org/C121040770', 'wikidata': None, 'display_name': 'Quantum entanglement', 'level': 3, 'score': 1.4201221}, {'id': 'https://openalex.org/C2779101571', 'wikidata': None, 'display_name': 'Majorana fermion', 'level': 4, 'score': 1.4073533}, {'id': 'https://openalex.org/C79118098', 'wikidata': None, 'display_name': 'Boson', 'level': 2, 'score': 1.3897349}, {'id': 'https://openalex.org/C58849907', 'wikidata': None, 'display_name': 'Quantum gate', 'level': 4, 'score': 1.3788999}, {'id': 'https://openalex.org/C122527463', 'wikidata': None, 'display_name': 'Quantum decoherence', 'level': 3, 'score': 1.3176813}, {'id': 'https://openalex.org/C2778476455', 'wikidata': None, 'display_name': 'Dynamical decoupling', 'level': 4, 'score': 0.81746846}, {'id': 'https://openalex.org/C92542899', 'wikidata': None, 'display_name': 'Symmetry protected topological order', 'level': 4, 'score': 0.7890958}], 'counts_by_year': [{'year': 2023, 'works_count': 160, 'cited_by_count': 5716}, {'year': 2022, 'works_count': 218, 'cited_by_count': 7177}, {'year': 2021, 'works_count': 190, 'cited_by_count': 7898}, {'year': 2020, 'works_count': 161, 'cited_by_count': 7588}, {'year': 2019, 'works_count': 143, 'cited_by_count': 6317}, {'year': 2018, 'works_count': 131, 'cited_by_count': 5677}, {'year': 2017, 'works_count': 137, 'cited_by_count': 5446}, {'year': 2016, 'works_count': 124, 'cited_by_count': 5078}, {'year': 2015, 'works_count': 145, 'cited_by_count': 4482}, {'year': 2014, 'works_count': 113, 'cited_by_count': 3842}, {'year': 2013, 'works_count': 111, 'cited_by_count': 3316}, {'year': 2012, 'works_count': 91, 'cited_by_count': 2810}], 'works_api_url': 'https://api.openalex.org/works?filter=concepts.id:C187483380', 'updated_date': '2023-10-01T08:28:36.572298', 'created_date': '2016-06-24'}\n",
      "-------------\n",
      "{'id': 'https://openalex.org/C192353077', 'wikidata': 'https://www.wikidata.org/wiki/Q4682635', 'display_name': 'Adiabatic quantum computation', 'relevance_score': 6042.1084, 'level': 4, 'description': 'type of quantum information processing', 'works_count': 1997, 'cited_by_count': 36114, 'summary_stats': {'2yr_mean_citedness': 1.7777777777777777, 'h_index': 90, 'i10_index': 576}, 'ids': {'openalex': 'https://openalex.org/C192353077', 'wikidata': 'https://www.wikidata.org/wiki/Q4682635', 'mag': '192353077', 'wikipedia': 'https://en.wikipedia.org/wiki/Adiabatic%20quantum%20computation'}, 'image_url': None, 'image_thumbnail_url': None, 'international': {'display_name': {'en': 'adiabatic quantum computation', 'eo': 'adiabata kvantuma komputado', 'es': 'Computación adiabática cuántica', 'fr': 'calcul quantique adiabatique', 'ja': '断熱量子計算', 'ro': 'calcul cuantic adiabatic', 'ru': 'Адиабатические квантовые вычисления', 'zh': '绝热量子计算机'}, 'description': {'en': 'type of quantum information processing', 'es': 'modelo de computación cuántica', 'ru': 'Адиабатические квантовые вычисления'}}, 'ancestors': [{'id': 'https://openalex.org/C58053490', 'wikidata': 'https://www.wikidata.org/wiki/Q176555', 'display_name': 'Quantum computer', 'level': 3}, {'id': 'https://openalex.org/C84114770', 'wikidata': 'https://www.wikidata.org/wiki/Q46344', 'display_name': 'Quantum', 'level': 2}, {'id': 'https://openalex.org/C62520636', 'wikidata': 'https://www.wikidata.org/wiki/Q944', 'display_name': 'Quantum mechanics', 'level': 1}, {'id': 'https://openalex.org/C121332964', 'wikidata': 'https://www.wikidata.org/wiki/Q413', 'display_name': 'Physics', 'level': 0}], 'related_concepts': [{'id': 'https://openalex.org/C58053490', 'wikidata': None, 'display_name': 'Quantum computer', 'level': 3, 'score': 4.5148873}, {'id': 'https://openalex.org/C90408235', 'wikidata': None, 'display_name': 'Quantum annealing', 'level': 4, 'score': 3.1560936}, {'id': 'https://openalex.org/C203087015', 'wikidata': None, 'display_name': 'Qubit', 'level': 3, 'score': 2.6362708}, {'id': 'https://openalex.org/C58849907', 'wikidata': None, 'display_name': 'Quantum gate', 'level': 4, 'score': 1.2305106}, {'id': 'https://openalex.org/C59500034', 'wikidata': None, 'display_name': 'Quantum Fourier transform', 'level': 5, 'score': 1.106866}, {'id': 'https://openalex.org/C51003876', 'wikidata': None, 'display_name': 'Quantum error correction', 'level': 4, 'score': 1.0778261}, {'id': 'https://openalex.org/C121040770', 'wikidata': None, 'display_name': 'Quantum entanglement', 'level': 3, 'score': 1.0257784}, {'id': 'https://openalex.org/C179799912', 'wikidata': None, 'display_name': 'Computational complexity theory', 'level': 2, 'score': 1.0155728}, {'id': 'https://openalex.org/C194975256', 'wikidata': None, 'display_name': 'Quantum dissipation', 'level': 3, 'score': 0.99819964}, {'id': 'https://openalex.org/C206040425', 'wikidata': None, 'display_name': 'Amplitude damping channel', 'level': 5, 'score': 0.9779139}, {'id': 'https://openalex.org/C174256460', 'wikidata': None, 'display_name': 'Perturbation theory (quantum mechanics)', 'level': 2, 'score': 0.96856713}, {'id': 'https://openalex.org/C55615164', 'wikidata': None, 'display_name': 'Quantum superposition', 'level': 3, 'score': 0.96591276}, {'id': 'https://openalex.org/C43066278', 'wikidata': None, 'display_name': 'Born–Huang approximation', 'level': 3, 'score': 0.9483899}, {'id': 'https://openalex.org/C22448393', 'wikidata': None, 'display_name': 'Berry connection and curvature', 'level': 3, 'score': 0.9412589}], 'counts_by_year': [{'year': 2023, 'works_count': 69, 'cited_by_count': 2044}, {'year': 2022, 'works_count': 129, 'cited_by_count': 3366}, {'year': 2021, 'works_count': 119, 'cited_by_count': 3659}, {'year': 2020, 'works_count': 96, 'cited_by_count': 3065}, {'year': 2019, 'works_count': 93, 'cited_by_count': 2719}, {'year': 2018, 'works_count': 76, 'cited_by_count': 2229}, {'year': 2017, 'works_count': 71, 'cited_by_count': 1865}, {'year': 2016, 'works_count': 72, 'cited_by_count': 1696}, {'year': 2015, 'works_count': 86, 'cited_by_count': 1542}, {'year': 2014, 'works_count': 95, 'cited_by_count': 1619}, {'year': 2013, 'works_count': 85, 'cited_by_count': 1149}, {'year': 2012, 'works_count': 85, 'cited_by_count': 1202}], 'works_api_url': 'https://api.openalex.org/works?filter=concepts.id:C192353077', 'updated_date': '2023-10-01T08:40:23.826672', 'created_date': '2016-06-24'}\n",
      "-------------\n",
      "{'id': 'https://openalex.org/C183968085', 'wikidata': 'https://www.wikidata.org/wiki/Q7835639', 'display_name': 'Trapped ion quantum computer', 'relevance_score': 5995.796, 'level': 5, 'description': 'proposed quantum computer implementation', 'works_count': 1175, 'cited_by_count': 57098, 'summary_stats': {'2yr_mean_citedness': 5.340136054421769, 'h_index': 111, 'i10_index': 405}, 'ids': {'openalex': 'https://openalex.org/C183968085', 'wikidata': 'https://www.wikidata.org/wiki/Q7835639', 'mag': '183968085', 'wikipedia': 'https://en.wikipedia.org/wiki/Trapped%20ion%20quantum%20computer'}, 'image_url': 'https://upload.wikimedia.org/wikipedia/commons/1/1c/Quantum_Computing%3B_Ion_Trapping_%285941055642%29.jpg', 'image_thumbnail_url': 'https://upload.wikimedia.org/wikipedia/commons/thumb/1/1c/Quantum_Computing%3B_Ion_Trapping_%285941055642%29.jpg/100px-Quantum_Computing%3B_Ion_Trapping_%285941055642%29.jpg', 'international': {'display_name': {'en': 'Trapped ion quantum computer', 'ja': 'トラップドイオン量子コンピュータ', 'ko': '포획 이온 양자컴퓨터', 'vi': 'Máy tính lượng tử bẫy ion', 'zh': '俘获离子量子计算机', 'zh-cn': '囚禁离子量子计算机', 'zh-hans': '囚禁离子量子计算机', 'zh-hant': '囚禁離子量子計算機'}, 'description': {'en': 'proposed quantum computer implementation'}}, 'ancestors': [{'id': 'https://openalex.org/C74939445', 'wikidata': 'https://www.wikidata.org/wiki/Q5055185', 'display_name': 'Cavity quantum electrodynamics', 'level': 4}, {'id': 'https://openalex.org/C51003876', 'wikidata': 'https://www.wikidata.org/wiki/Q1536431', 'display_name': 'Quantum error correction', 'level': 4}, {'id': 'https://openalex.org/C186468114', 'wikidata': 'https://www.wikidata.org/wiki/Q836478', 'display_name': 'Quantum network', 'level': 4}, {'id': 'https://openalex.org/C161166931', 'wikidata': 'https://www.wikidata.org/wiki/Q7269096', 'display_name': 'Quantum simulator', 'level': 4}, {'id': 'https://openalex.org/C190463098', 'wikidata': 'https://www.wikidata.org/wiki/Q2081419', 'display_name': 'Quantum technology', 'level': 4}, {'id': 'https://openalex.org/C190474826', 'wikidata': 'https://www.wikidata.org/wiki/Q2495111', 'display_name': 'Open quantum system', 'level': 3}, {'id': 'https://openalex.org/C137019171', 'wikidata': 'https://www.wikidata.org/wiki/Q2623817', 'display_name': 'Quantum algorithm', 'level': 3}, {'id': 'https://openalex.org/C58053490', 'wikidata': 'https://www.wikidata.org/wiki/Q176555', 'display_name': 'Quantum computer', 'level': 3}, {'id': 'https://openalex.org/C121040770', 'wikidata': 'https://www.wikidata.org/wiki/Q215675', 'display_name': 'Quantum entanglement', 'level': 3}, {'id': 'https://openalex.org/C169699857', 'wikidata': 'https://www.wikidata.org/wiki/Q2122243', 'display_name': 'Quantum information', 'level': 3}, {'id': 'https://openalex.org/C203087015', 'wikidata': 'https://www.wikidata.org/wiki/Q378201', 'display_name': 'Qubit', 'level': 3}, {'id': 'https://openalex.org/C84114770', 'wikidata': 'https://www.wikidata.org/wiki/Q46344', 'display_name': 'Quantum', 'level': 2}, {'id': 'https://openalex.org/C62520636', 'wikidata': 'https://www.wikidata.org/wiki/Q944', 'display_name': 'Quantum mechanics', 'level': 1}, {'id': 'https://openalex.org/C121332964', 'wikidata': 'https://www.wikidata.org/wiki/Q413', 'display_name': 'Physics', 'level': 0}], 'related_concepts': [{'id': 'https://openalex.org/C58053490', 'wikidata': None, 'display_name': 'Quantum computer', 'level': 3, 'score': 4.3681545}, {'id': 'https://openalex.org/C106289968', 'wikidata': None, 'display_name': 'Ion trap', 'level': 3, 'score': 4.1815324}, {'id': 'https://openalex.org/C91717678', 'wikidata': None, 'display_name': 'Quantum teleportation', 'level': 5, 'score': 2.9661632}, {'id': 'https://openalex.org/C124148022', 'wikidata': None, 'display_name': 'Quantum circuit', 'level': 5, 'score': 2.8642535}, {'id': 'https://openalex.org/C58849907', 'wikidata': None, 'display_name': 'Quantum gate', 'level': 4, 'score': 2.7076118}, {'id': 'https://openalex.org/C51003876', 'wikidata': None, 'display_name': 'Quantum error correction', 'level': 4, 'score': 2.5877454}, {'id': 'https://openalex.org/C19271316', 'wikidata': None, 'display_name': 'One-way quantum computer', 'level': 5, 'score': 2.2986386}, {'id': 'https://openalex.org/C169699857', 'wikidata': None, 'display_name': 'Quantum information', 'level': 3, 'score': 2.2877698}, {'id': 'https://openalex.org/C158456648', 'wikidata': None, 'display_name': 'Cluster state', 'level': 4, 'score': 2.227232}, {'id': 'https://openalex.org/C203087015', 'wikidata': None, 'display_name': 'Qubit', 'level': 3, 'score': 2.0079634}, {'id': 'https://openalex.org/C182953411', 'wikidata': None, 'display_name': 'Controlled NOT gate', 'level': 5, 'score': 1.9865949}, {'id': 'https://openalex.org/C74939445', 'wikidata': None, 'display_name': 'Cavity quantum electrodynamics', 'level': 4, 'score': 1.811666}, {'id': 'https://openalex.org/C143873397', 'wikidata': None, 'display_name': 'Penning trap', 'level': 3, 'score': 1.7290418}, {'id': 'https://openalex.org/C161166931', 'wikidata': None, 'display_name': 'Quantum simulator', 'level': 4, 'score': 1.7240299}, {'id': 'https://openalex.org/C187678412', 'wikidata': None, 'display_name': 'Superdense coding', 'level': 5, 'score': 1.7189761}, {'id': 'https://openalex.org/C119382340', 'wikidata': None, 'display_name': 'Superconducting quantum computing', 'level': 4, 'score': 1.6667058}, {'id': 'https://openalex.org/C203187862', 'wikidata': None, 'display_name': 'Electric dipole transition', 'level': 4, 'score': 1.4183356}, {'id': 'https://openalex.org/C85608146', 'wikidata': None, 'display_name': 'Charge qubit', 'level': 5, 'score': 1.1193929}, {'id': 'https://openalex.org/C2776222033', 'wikidata': None, 'display_name': 'Transmon', 'level': 4, 'score': 0.8570631}, {'id': 'https://openalex.org/C2778476455', 'wikidata': None, 'display_name': 'Dynamical decoupling', 'level': 4, 'score': 0.76908153}], 'counts_by_year': [{'year': 2023, 'works_count': 57, 'cited_by_count': 3269}, {'year': 2022, 'works_count': 71, 'cited_by_count': 4382}, {'year': 2021, 'works_count': 90, 'cited_by_count': 4918}, {'year': 2020, 'works_count': 54, 'cited_by_count': 4170}, {'year': 2019, 'works_count': 45, 'cited_by_count': 3533}, {'year': 2018, 'works_count': 50, 'cited_by_count': 2894}, {'year': 2017, 'works_count': 40, 'cited_by_count': 2805}, {'year': 2016, 'works_count': 48, 'cited_by_count': 2960}, {'year': 2015, 'works_count': 40, 'cited_by_count': 2707}, {'year': 2014, 'works_count': 50, 'cited_by_count': 2633}, {'year': 2013, 'works_count': 39, 'cited_by_count': 2763}, {'year': 2012, 'works_count': 37, 'cited_by_count': 2395}], 'works_api_url': 'https://api.openalex.org/works?filter=concepts.id:C183968085', 'updated_date': '2023-10-01T07:45:37.360747', 'created_date': '2016-06-24'}\n",
      "-------------\n",
      "{'id': 'https://openalex.org/C108277079', 'wikidata': 'https://www.wikidata.org/wiki/Q7233576', 'display_name': 'Post-quantum cryptography', 'relevance_score': 5375.6787, 'level': 4, 'description': 'cryptography that is secure against quantum computers', 'works_count': 1252, 'cited_by_count': 23961, 'summary_stats': {'2yr_mean_citedness': 1.8652173913043477, 'h_index': 41, 'i10_index': 171}, 'ids': {'openalex': 'https://openalex.org/C108277079', 'wikidata': 'https://www.wikidata.org/wiki/Q7233576', 'mag': '108277079', 'wikipedia': 'https://en.wikipedia.org/wiki/Post-quantum%20cryptography'}, 'image_url': None, 'image_thumbnail_url': None, 'international': {'display_name': {'cs': 'postkvantová kryptografie', 'de': 'Post-Quanten-Kryptographie', 'en': 'post-quantum cryptography', 'es': 'Criptografía Post Cuántica', 'et': 'Postkvantkrüptograafia', 'fa': 'رمزنگاری پساکوانتوم', 'fr': 'cryptographie post-quantique', 'he': 'הצפנה פוסט-קוונטית', 'ja': 'ポスト量子暗号', 'ko': '양자 후 암호', 'pl': 'kryptografia postkwantowa', 'pt': 'criptografia pós-quântica', 'ru': 'постквантовая криптография', 'zh': '后量子密码学'}, 'description': {'de': 'Quantencomputer-resistente Kryptographie', 'en': 'cryptography that is secure against quantum computers', 'ko': '양자 컴퓨터에 대항하는 암호', 'pt': 'algoritmos criptográficos considerados seguros contra um ataque de um computador quântico', 'ru': 'часть криптографии, которая остаётся актуальной и при появлении квантовых компьютеров и квантовых атак'}}, 'ancestors': [{'id': 'https://openalex.org/C203062551', 'wikidata': 'https://www.wikidata.org/wiki/Q201339', 'display_name': 'Public-key cryptography', 'level': 3}, {'id': 'https://openalex.org/C58053490', 'wikidata': 'https://www.wikidata.org/wiki/Q176555', 'display_name': 'Quantum computer', 'level': 3}, {'id': 'https://openalex.org/C148730421', 'wikidata': 'https://www.wikidata.org/wiki/Q141090', 'display_name': 'Encryption', 'level': 2}, {'id': 'https://openalex.org/C84114770', 'wikidata': 'https://www.wikidata.org/wiki/Q46344', 'display_name': 'Quantum', 'level': 2}, {'id': 'https://openalex.org/C31258907', 'wikidata': 'https://www.wikidata.org/wiki/Q1301371', 'display_name': 'Computer network', 'level': 1}, {'id': 'https://openalex.org/C38652104', 'wikidata': 'https://www.wikidata.org/wiki/Q3510521', 'display_name': 'Computer security', 'level': 1}, {'id': 'https://openalex.org/C111919701', 'wikidata': 'https://www.wikidata.org/wiki/Q9135', 'display_name': 'Operating system', 'level': 1}, {'id': 'https://openalex.org/C62520636', 'wikidata': 'https://www.wikidata.org/wiki/Q944', 'display_name': 'Quantum mechanics', 'level': 1}, {'id': 'https://openalex.org/C41008148', 'wikidata': 'https://www.wikidata.org/wiki/Q21198', 'display_name': 'Computer science', 'level': 0}, {'id': 'https://openalex.org/C121332964', 'wikidata': 'https://www.wikidata.org/wiki/Q413', 'display_name': 'Physics', 'level': 0}], 'related_concepts': [{'id': 'https://openalex.org/C16935551', 'wikidata': None, 'display_name': 'McEliece cryptosystem', 'level': 4, 'score': 4.987563}, {'id': 'https://openalex.org/C178489894', 'wikidata': None, 'display_name': 'Cryptography', 'level': 2, 'score': 4.920188}, {'id': 'https://openalex.org/C58053490', 'wikidata': None, 'display_name': 'Quantum computer', 'level': 3, 'score': 4.880802}, {'id': 'https://openalex.org/C137660015', 'wikidata': None, 'display_name': 'Lattice-based cryptography', 'level': 5, 'score': 4.594075}, {'id': 'https://openalex.org/C203062551', 'wikidata': None, 'display_name': 'Public-key cryptography', 'level': 3, 'score': 4.0035896}, {'id': 'https://openalex.org/C144901912', 'wikidata': None, 'display_name': 'Quantum cryptography', 'level': 4, 'score': 3.520645}, {'id': 'https://openalex.org/C167615521', 'wikidata': None, 'display_name': 'Elliptic curve cryptography', 'level': 4, 'score': 3.4397461}, {'id': 'https://openalex.org/C122368425', 'wikidata': None, 'display_name': 'NTRU', 'level': 4, 'score': 2.8278115}, {'id': 'https://openalex.org/C181149355', 'wikidata': None, 'display_name': 'Cryptanalysis', 'level': 3, 'score': 2.8107252}, {'id': 'https://openalex.org/C29524669', 'wikidata': None, 'display_name': 'Diffie–Hellman key exchange', 'level': 5, 'score': 2.80238}, {'id': 'https://openalex.org/C118463975', 'wikidata': None, 'display_name': 'Digital signature', 'level': 3, 'score': 2.7883453}, {'id': 'https://openalex.org/C47750902', 'wikidata': None, 'display_name': 'Key size', 'level': 4, 'score': 2.749684}, {'id': 'https://openalex.org/C137019171', 'wikidata': None, 'display_name': 'Quantum algorithm', 'level': 3, 'score': 2.2284818}, {'id': 'https://openalex.org/C59500034', 'wikidata': None, 'display_name': 'Quantum Fourier transform', 'level': 5, 'score': 2.1239905}, {'id': 'https://openalex.org/C2779014939', 'wikidata': None, 'display_name': 'Learning with errors', 'level': 3, 'score': 1.8514199}, {'id': 'https://openalex.org/C158338273', 'wikidata': None, 'display_name': 'Homomorphic encryption', 'level': 3, 'score': 1.6857867}, {'id': 'https://openalex.org/C40404285', 'wikidata': None, 'display_name': 'Merkle signature scheme', 'level': 5, 'score': 1.5927566}, {'id': 'https://openalex.org/C132860680', 'wikidata': None, 'display_name': 'ElGamal signature scheme', 'level': 5, 'score': 1.2461404}, {'id': 'https://openalex.org/C198690329', 'wikidata': None, 'display_name': 'Curve25519', 'level': 5, 'score': 1.1112443}], 'counts_by_year': [{'year': 2023, 'works_count': 103, 'cited_by_count': 2030}, {'year': 2022, 'works_count': 135, 'cited_by_count': 2757}, {'year': 2021, 'works_count': 123, 'cited_by_count': 2698}, {'year': 2020, 'works_count': 108, 'cited_by_count': 2340}, {'year': 2019, 'works_count': 93, 'cited_by_count': 1773}, {'year': 2018, 'works_count': 82, 'cited_by_count': 1322}, {'year': 2017, 'works_count': 68, 'cited_by_count': 1211}, {'year': 2016, 'works_count': 47, 'cited_by_count': 1027}, {'year': 2015, 'works_count': 42, 'cited_by_count': 1076}, {'year': 2014, 'works_count': 37, 'cited_by_count': 937}, {'year': 2013, 'works_count': 33, 'cited_by_count': 753}, {'year': 2012, 'works_count': 43, 'cited_by_count': 726}], 'works_api_url': 'https://api.openalex.org/works?filter=concepts.id:C108277079', 'updated_date': '2023-10-01T08:18:43.793882', 'created_date': '2016-06-24'}\n",
      "-------------\n",
      "{'id': 'https://openalex.org/C19271316', 'wikidata': 'https://www.wikidata.org/wiki/Q7092353', 'display_name': 'One-way quantum computer', 'relevance_score': 5137.7495, 'level': 5, 'description': 'quantum computer that first prepares an entangled resource state and then performs single qubit measurements on it', 'works_count': 1531, 'cited_by_count': 41925, 'summary_stats': {'2yr_mean_citedness': 2.2433862433862433, 'h_index': 84, 'i10_index': 438}, 'ids': {'openalex': 'https://openalex.org/C19271316', 'wikidata': 'https://www.wikidata.org/wiki/Q7092353', 'mag': '19271316', 'wikipedia': 'https://en.wikipedia.org/wiki/One-way%20quantum%20computer'}, 'image_url': None, 'image_thumbnail_url': None, 'international': {'display_name': {'en': 'one-way quantum computer', 'eo': 'unudirekta kvantuma komputilo', 'ka': 'გაზომვებზე დამყარებული კვანტური გამოთვლები', 'uk': \"Однобічний квантовий комп'ютер\"}, 'description': {'en': 'quantum computer that first prepares an entangled resource state and then performs single qubit measurements on it'}}, 'ancestors': [{'id': 'https://openalex.org/C187486625', 'wikidata': 'https://www.wikidata.org/wiki/Q2122176', 'display_name': 'Quantum channel', 'level': 4}, {'id': 'https://openalex.org/C51003876', 'wikidata': 'https://www.wikidata.org/wiki/Q1536431', 'display_name': 'Quantum error correction', 'level': 4}, {'id': 'https://openalex.org/C186468114', 'wikidata': 'https://www.wikidata.org/wiki/Q836478', 'display_name': 'Quantum network', 'level': 4}, {'id': 'https://openalex.org/C43682372', 'wikidata': 'https://www.wikidata.org/wiki/Q7269080', 'display_name': 'Quantum operation', 'level': 4}, {'id': 'https://openalex.org/C11255438', 'wikidata': 'https://www.wikidata.org/wiki/Q7269085', 'display_name': 'Quantum process', 'level': 4}, {'id': 'https://openalex.org/C161166931', 'wikidata': 'https://www.wikidata.org/wiki/Q7269096', 'display_name': 'Quantum simulator', 'level': 4}, {'id': 'https://openalex.org/C190463098', 'wikidata': 'https://www.wikidata.org/wiki/Q2081419', 'display_name': 'Quantum technology', 'level': 4}, {'id': 'https://openalex.org/C190474826', 'wikidata': 'https://www.wikidata.org/wiki/Q2495111', 'display_name': 'Open quantum system', 'level': 3}, {'id': 'https://openalex.org/C137019171', 'wikidata': 'https://www.wikidata.org/wiki/Q2623817', 'display_name': 'Quantum algorithm', 'level': 3}, {'id': 'https://openalex.org/C58053490', 'wikidata': 'https://www.wikidata.org/wiki/Q176555', 'display_name': 'Quantum computer', 'level': 3}, {'id': 'https://openalex.org/C15184713', 'wikidata': 'https://www.wikidata.org/wiki/Q7269042', 'display_name': 'Quantum dynamics', 'level': 3}, {'id': 'https://openalex.org/C121040770', 'wikidata': 'https://www.wikidata.org/wiki/Q215675', 'display_name': 'Quantum entanglement', 'level': 3}, {'id': 'https://openalex.org/C169699857', 'wikidata': 'https://www.wikidata.org/wiki/Q2122243', 'display_name': 'Quantum information', 'level': 3}, {'id': 'https://openalex.org/C203087015', 'wikidata': 'https://www.wikidata.org/wiki/Q378201', 'display_name': 'Qubit', 'level': 3}, {'id': 'https://openalex.org/C84114770', 'wikidata': 'https://www.wikidata.org/wiki/Q46344', 'display_name': 'Quantum', 'level': 2}, {'id': 'https://openalex.org/C62520636', 'wikidata': 'https://www.wikidata.org/wiki/Q944', 'display_name': 'Quantum mechanics', 'level': 1}, {'id': 'https://openalex.org/C121332964', 'wikidata': 'https://www.wikidata.org/wiki/Q413', 'display_name': 'Physics', 'level': 0}], 'related_concepts': [{'id': 'https://openalex.org/C158456648', 'wikidata': None, 'display_name': 'Cluster state', 'level': 4, 'score': 4.403355}, {'id': 'https://openalex.org/C58053490', 'wikidata': None, 'display_name': 'Quantum computer', 'level': 3, 'score': 4.3989415}, {'id': 'https://openalex.org/C91717678', 'wikidata': None, 'display_name': 'Quantum teleportation', 'level': 5, 'score': 2.7353828}, {'id': 'https://openalex.org/C137019171', 'wikidata': None, 'display_name': 'Quantum algorithm', 'level': 3, 'score': 2.63332}, {'id': 'https://openalex.org/C121040770', 'wikidata': None, 'display_name': 'Quantum entanglement', 'level': 3, 'score': 2.5303297}, {'id': 'https://openalex.org/C58849907', 'wikidata': None, 'display_name': 'Quantum gate', 'level': 4, 'score': 2.5181086}, {'id': 'https://openalex.org/C124148022', 'wikidata': None, 'display_name': 'Quantum circuit', 'level': 5, 'score': 2.3490725}, {'id': 'https://openalex.org/C118704821', 'wikidata': None, 'display_name': 'Bell state', 'level': 4, 'score': 2.3144357}, {'id': 'https://openalex.org/C183968085', 'wikidata': None, 'display_name': 'Trapped ion quantum computer', 'level': 5, 'score': 2.2986386}, {'id': 'https://openalex.org/C182953411', 'wikidata': None, 'display_name': 'Controlled NOT gate', 'level': 5, 'score': 2.2145061}, {'id': 'https://openalex.org/C51003876', 'wikidata': None, 'display_name': 'Quantum error correction', 'level': 4, 'score': 2.122968}, {'id': 'https://openalex.org/C203087015', 'wikidata': None, 'display_name': 'Qubit', 'level': 3, 'score': 1.9349514}, {'id': 'https://openalex.org/C59500034', 'wikidata': None, 'display_name': 'Quantum Fourier transform', 'level': 5, 'score': 1.8117795}, {'id': 'https://openalex.org/C187678412', 'wikidata': None, 'display_name': 'Superdense coding', 'level': 5, 'score': 1.7509019}, {'id': 'https://openalex.org/C20593774', 'wikidata': None, 'display_name': 'W state', 'level': 4, 'score': 1.7186421}, {'id': 'https://openalex.org/C148908050', 'wikidata': None, 'display_name': 'Topological entropy in physics', 'level': 3, 'score': 0.75333333}], 'counts_by_year': [{'year': 2023, 'works_count': 65, 'cited_by_count': 2739}, {'year': 2022, 'works_count': 107, 'cited_by_count': 3634}, {'year': 2021, 'works_count': 103, 'cited_by_count': 3771}, {'year': 2020, 'works_count': 84, 'cited_by_count': 3374}, {'year': 2019, 'works_count': 74, 'cited_by_count': 2903}, {'year': 2018, 'works_count': 72, 'cited_by_count': 2343}, {'year': 2017, 'works_count': 65, 'cited_by_count': 2251}, {'year': 2016, 'works_count': 59, 'cited_by_count': 2182}, {'year': 2015, 'works_count': 65, 'cited_by_count': 2160}, {'year': 2014, 'works_count': 87, 'cited_by_count': 2042}, {'year': 2013, 'works_count': 63, 'cited_by_count': 1950}, {'year': 2012, 'works_count': 66, 'cited_by_count': 1777}], 'works_api_url': 'https://api.openalex.org/works?filter=concepts.id:C19271316', 'updated_date': '2023-10-01T07:58:48.187472', 'created_date': '2016-06-24'}\n",
      "-------------\n"
     ]
    }
   ],
   "source": [
    "for qc in quantum_concepts:\n",
    "    print(qc)\n",
    "    print(\"-------------\")"
   ]
  },
  {
   "cell_type": "code",
   "execution_count": null,
   "id": "48e9f44a-c41b-44ac-b742-68403465f713",
   "metadata": {},
   "outputs": [],
   "source": []
  }
 ],
 "metadata": {
  "kernelspec": {
   "display_name": "Python 3 (ipykernel)",
   "language": "python",
   "name": "python3"
  },
  "language_info": {
   "codemirror_mode": {
    "name": "ipython",
    "version": 3
   },
   "file_extension": ".py",
   "mimetype": "text/x-python",
   "name": "python",
   "nbconvert_exporter": "python",
   "pygments_lexer": "ipython3",
   "version": "3.10.6"
  }
 },
 "nbformat": 4,
 "nbformat_minor": 5
}
